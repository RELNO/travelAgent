{
 "cells": [
  {
   "cell_type": "code",
   "execution_count": 3,
   "metadata": {},
   "outputs": [],
   "source": [
    "import json\n",
    "from openai import OpenAI\n",
    "import plotly.graph_objects as go\n",
    "import kaleido as kaleido\n",
    "from nltk.corpus import stopwords\n",
    "from collections import Counter\n",
    "import nltk\n",
    "import random\n",
    "import os\n",
    "import pandas as pd\n",
    "\n",
    "# set the resolution of the plots\n",
    "resolution_x = 3000\n",
    "resolution_y = 1000"
   ]
  },
  {
   "cell_type": "code",
   "execution_count": 4,
   "metadata": {},
   "outputs": [
    {
     "name": "stdout",
     "output_type": "stream",
     "text": [
      "100\n"
     ]
    }
   ],
   "source": [
    "'''extract the data from the json files in each experiment folder and store it in a pandas dataframe'''\n",
    "\n",
    "\n",
    "# get the experiment folders\n",
    "experiments_folder = 'logs'\n",
    "experiment_folders = [f for f in os.listdir(\n",
    "    experiments_folder) if os.path.isdir(os.path.join(experiments_folder, f))]\n",
    "\n",
    "# experiment folders is called `exp`\n",
    "experiment_folders = [os.path.join(experiments_folder, exp)\n",
    "                      for exp in experiment_folders]\n",
    "\n",
    "print(len(experiment_folders))\n",
    "data = []\n",
    "for folder in experiment_folders:\n",
    "    # get the log file for each experiment\n",
    "    log_file = os.path.join(folder, \"logs.json\")\n",
    "    # clean the folder name\n",
    "    folder = folder.split(\"/\")[-1]\n",
    "    # get the scenario name from the folder name. remove the `exp_` prefix and the -15-02-11 suffix\n",
    "    scenario = folder.split(\"_\")[1]\n",
    "    scenario = scenario[:-9]\n",
    "    if os.path.exists(log_file):\n",
    "        with open(log_file, \"r\") as f:\n",
    "            logs = json.load(f)\n",
    "            for step, step_data in logs.items():\n",
    "                entry = {\n",
    "                    #    keep only the folder name\n",
    "                    \"exp_name\": folder,\n",
    "                    \"scenario\": scenario,\n",
    "                    \"step\": step,\n",
    "                    \"action\": step_data[\"logs\"][\"action\"][\"message\"] if \"action\" in step_data[\"logs\"] else None,\n",
    "                    \"plan\": step_data[\"logs\"][\"plan\"][\"message\"] if \"plan\" in step_data[\"logs\"] else None,\n",
    "                    \"memory\": step_data[\"logs\"][\"memory\"][\"message\"] if \"memory\" in step_data[\"logs\"] else None,\n",
    "                    \"observation\": step_data[\"logs\"][\"observation\"][\"message\"] if \"observation\" in step_data[\"logs\"] else None,\n",
    "                    \"task\": step_data[\"logs\"][\"task\"][\"message\"] if \"task\" in step_data[\"logs\"] else None,\n",
    "\n",
    "                }\n",
    "                data.append(entry)\n",
    "\n",
    "df = pd.DataFrame(data)\n",
    "\n",
    "# add a column for the action type and a column for the action value\n",
    "df[\"action_type\"] = df[\"action\"].apply(\n",
    "    lambda x: json.loads(x)[\"action\"] if x else None)\n",
    "df[\"action_value\"] = df[\"action\"].apply(\n",
    "    lambda x: json.loads(x)[\"value\"] if x else None)"
   ]
  },
  {
   "cell_type": "code",
   "execution_count": 5,
   "metadata": {},
   "outputs": [
    {
     "name": "stderr",
     "output_type": "stream",
     "text": [
      "[nltk_data] Downloading package stopwords to /Users/kai/nltk_data...\n",
      "[nltk_data]   Unzipping corpora/stopwords.zip.\n"
     ]
    },
    {
     "data": {
      "application/vnd.plotly.v1+json": {
       "config": {
        "plotlyServerURL": "https://plot.ly"
       },
       "data": [
        {
         "marker": {
          "color": "rgba(135, 197, 95, 0.75)",
          "line": {
           "color": "grey",
           "width": 1.5
          },
          "opacity": 0.75,
          "size": 20
         },
         "mode": "markers",
         "name": "winter",
         "type": "scatter",
         "x": [
          "building",
          "glass",
          "modern",
          "meters",
          "road",
          "compass",
          "subway",
          "directly",
          "area",
          "buildings",
          "clear",
          "urban",
          "appears",
          "approximately",
          "indicating",
          "station",
          "tall",
          "front",
          "target",
          "leading",
          "towards",
          "trees",
          "large",
          "due",
          "indicates",
          "brick",
          "pathway",
          "path",
          "visible",
          "wide",
          "street",
          "making",
          "slightly",
          "snow",
          "providing",
          "green",
          "reflective",
          "benches",
          "left",
          "sleek",
          "sidewalk",
          "obstacles",
          "creating",
          "features",
          "navigation",
          "ahead",
          "reflecting",
          "visibility",
          "toward",
          "suggesting",
          "covered",
          "ground",
          "several",
          "immediate",
          "featuring",
          "shows",
          "sign",
          "light",
          "central",
          "view",
          "straight",
          "right",
          "snowy",
          "office",
          "contributing",
          "small",
          "architectural",
          "pedestrian",
          "along",
          "adding",
          "also",
          "angle",
          "may",
          "direction",
          "greenery",
          "side",
          "leads",
          "design",
          "significant",
          "decorative",
          "surrounded",
          "slippery",
          "enhancing",
          "surrounding",
          "around",
          "minimal",
          "retail",
          "stories",
          "stands",
          "asphalt",
          "good",
          "allowing",
          "despite",
          "marked",
          "shorter",
          "lined",
          "traffic",
          "wall",
          "easy",
          "signs",
          "windows",
          "contemporary",
          "pointing",
          "potential",
          "structure",
          "located",
          "adds",
          "currently",
          "blue",
          "though",
          "patches",
          "flat",
          "vibrant",
          "surface",
          "movement",
          "showing",
          "winter",
          "structures",
          "lining",
          "somewhat",
          "residential",
          "mostly",
          "seems",
          "partially",
          "safe",
          "broad",
          "notable",
          "similar",
          "clean",
          "see",
          "although",
          "tree",
          "likely",
          "traditional",
          "prominent",
          "smaller",
          "could",
          "reflects",
          "clearly",
          "blocking",
          "cozy",
          "one",
          "present",
          "park",
          "line",
          "furniture",
          "touch",
          "atmosphere",
          "inviting",
          "degrees",
          "unobstructed",
          "color",
          "landmark",
          "commercial",
          "less",
          "aesthetic",
          "taller",
          "space",
          "contrast",
          "obstruct",
          "markings",
          "characterized",
          "smooth",
          "recent",
          "another",
          "provide",
          "meaning",
          "obscured",
          "entrance",
          "direct",
          "forward",
          "amidst",
          "shrubs",
          "obstructing",
          "paved",
          "indicator",
          "like",
          "displaying",
          "open",
          "suitable",
          "additional",
          "points",
          "lightly",
          "shops",
          "center",
          "stretches",
          "overcast",
          "text",
          "warm",
          "moderately",
          "add",
          "cafes",
          "lines",
          "layer",
          "storefronts",
          "showcasing",
          "remains",
          "low",
          "beyond",
          "environment"
         ],
         "y": [
          472,
          450,
          373,
          361,
          317,
          310,
          294,
          292,
          286,
          283,
          280,
          254,
          226,
          223,
          222,
          204,
          193,
          184,
          182,
          182,
          167,
          166,
          161,
          157,
          156,
          149,
          148,
          144,
          142,
          140,
          132,
          122,
          119,
          118,
          117,
          115,
          114,
          112,
          111,
          106,
          105,
          105,
          104,
          100,
          99,
          98,
          97,
          97,
          97,
          96,
          96,
          93,
          91,
          87,
          86,
          85,
          84,
          83,
          83,
          83,
          82,
          82,
          81,
          80,
          80,
          77,
          77,
          76,
          76,
          75,
          74,
          73,
          71,
          71,
          70,
          70,
          69,
          64,
          64,
          62,
          61,
          61,
          60,
          60,
          60,
          59,
          58,
          57,
          57,
          55,
          54,
          53,
          53,
          52,
          52,
          51,
          51,
          51,
          50,
          49,
          49,
          49,
          48,
          47,
          47,
          46,
          44,
          43,
          43,
          43,
          43,
          43,
          43,
          42,
          42,
          40,
          40,
          40,
          39,
          39,
          39,
          38,
          38,
          38,
          38,
          38,
          37,
          37,
          36,
          36,
          36,
          36,
          36,
          36,
          35,
          35,
          34,
          34,
          34,
          34,
          34,
          33,
          33,
          33,
          33,
          33,
          32,
          32,
          31,
          31,
          31,
          31,
          31,
          31,
          31,
          30,
          30,
          30,
          30,
          30,
          29,
          29,
          29,
          29,
          28,
          28,
          28,
          28,
          28,
          28,
          28,
          27,
          27,
          27,
          27,
          26,
          26,
          26,
          26,
          25,
          25,
          25,
          25,
          25,
          24,
          24,
          24,
          24,
          24,
          24,
          24,
          24,
          23,
          23,
          23,
          23,
          23,
          23,
          23,
          22
         ]
        },
        {
         "marker": {
          "color": "rgba(102, 197, 204, 0.75)",
          "line": {
           "color": "grey",
           "width": 1.5
          },
          "opacity": 0.75,
          "size": 20
         },
         "mode": "markers",
         "name": "base",
         "type": "scatter",
         "x": [
          "subway",
          "glass",
          "building",
          "area",
          "modern",
          "buildings",
          "compass",
          "directly",
          "urban",
          "station",
          "indicating",
          "clear",
          "towards",
          "brick",
          "trees",
          "tall",
          "front",
          "meters",
          "appears",
          "target",
          "green",
          "leading",
          "road",
          "pathway",
          "providing",
          "indicates",
          "approximately",
          "small",
          "large",
          "benches",
          "path",
          "pedestrian",
          "reflective",
          "wide",
          "featuring",
          "vibrant",
          "creating",
          "left",
          "visible",
          "features",
          "suggesting",
          "street",
          "sleek",
          "greenery",
          "navigation",
          "sign",
          "making",
          "several",
          "lively",
          "contributing",
          "outdoor",
          "easy",
          "pleasant",
          "obstacles",
          "inviting",
          "surrounded",
          "along",
          "shows",
          "ahead",
          "decorative",
          "architectural",
          "right",
          "central",
          "enhancing",
          "seating",
          "angle",
          "toward",
          "paved",
          "direction",
          "commercial",
          "office",
          "reflecting",
          "view",
          "adding",
          "stories",
          "leads",
          "wall",
          "immediate",
          "storefronts",
          "straight",
          "signs",
          "smooth",
          "landscaped",
          "direct",
          "open",
          "planters",
          "stands",
          "likely",
          "pointing",
          "various",
          "retail",
          "flat",
          "slightly",
          "prominent",
          "good",
          "marked",
          "side",
          "pathways",
          "sidewalk",
          "traffic",
          "ground",
          "allowing",
          "may",
          "plaza",
          "blue",
          "red",
          "center",
          "shops",
          "seems",
          "color",
          "characterized",
          "design",
          "also",
          "see",
          "around",
          "shorter",
          "traditional",
          "lining",
          "movement",
          "structures",
          "degrees",
          "showing",
          "located",
          "shrubs",
          "busy",
          "structure",
          "windows",
          "space",
          "park",
          "furniture",
          "minimal",
          "café",
          "clean",
          "significant",
          "provide",
          "residential",
          "access",
          "markings",
          "sunlight",
          "could",
          "potential",
          "architecture",
          "line",
          "spaces",
          "spacious",
          "areas",
          "lined",
          "contemporary",
          "adds",
          "route",
          "add",
          "create",
          "atmosphere",
          "due",
          "landscaping",
          "suitable",
          "bright",
          "surface",
          "welcoming",
          "made",
          "including",
          "notable",
          "neatly",
          "concrete",
          "environment",
          "surrounding",
          "contribute",
          "points",
          "meaning",
          "facilitating",
          "community",
          "blocking",
          "cafes",
          "contrast",
          "taller",
          "sidewalks",
          "includes",
          "prominently",
          "less",
          "mix",
          "forward",
          "like",
          "trimmed",
          "clearly",
          "away",
          "entrance",
          "lower",
          "bustling",
          "alongside",
          "visibility",
          "height",
          "housing",
          "foot",
          "interspersed",
          "obstructing",
          "colorful",
          "young",
          "adjacent",
          "signage",
          "walkway"
         ],
         "y": [
          410,
          396,
          390,
          358,
          350,
          338,
          313,
          297,
          288,
          271,
          252,
          213,
          212,
          209,
          192,
          190,
          189,
          187,
          187,
          183,
          179,
          175,
          168,
          166,
          159,
          153,
          150,
          149,
          144,
          141,
          137,
          136,
          131,
          128,
          128,
          122,
          114,
          113,
          113,
          105,
          101,
          99,
          94,
          94,
          93,
          93,
          89,
          86,
          86,
          86,
          84,
          83,
          82,
          82,
          80,
          80,
          79,
          79,
          78,
          76,
          76,
          76,
          75,
          75,
          75,
          75,
          74,
          73,
          73,
          73,
          73,
          72,
          70,
          70,
          70,
          69,
          69,
          68,
          62,
          61,
          61,
          61,
          59,
          59,
          54,
          54,
          53,
          51,
          50,
          50,
          50,
          49,
          49,
          49,
          48,
          48,
          48,
          48,
          47,
          47,
          46,
          46,
          46,
          46,
          45,
          45,
          45,
          45,
          43,
          43,
          42,
          42,
          41,
          41,
          41,
          41,
          41,
          40,
          40,
          40,
          39,
          38,
          38,
          38,
          38,
          37,
          37,
          37,
          37,
          37,
          37,
          36,
          36,
          36,
          36,
          36,
          36,
          34,
          34,
          34,
          34,
          34,
          33,
          33,
          33,
          33,
          32,
          31,
          31,
          31,
          30,
          30,
          30,
          30,
          30,
          30,
          29,
          28,
          28,
          28,
          27,
          27,
          27,
          27,
          27,
          27,
          26,
          26,
          25,
          25,
          25,
          25,
          25,
          25,
          25,
          25,
          25,
          25,
          25,
          25,
          24,
          24,
          24,
          24,
          23,
          23,
          23,
          23,
          22,
          22,
          22,
          22,
          22,
          22,
          22,
          22,
          22,
          21,
          21,
          21
         ]
        },
        {
         "marker": {
          "color": "rgba(246, 207, 113, 0.75)",
          "line": {
           "color": "grey",
           "width": 1.5
          },
          "opacity": 0.75,
          "size": 20
         },
         "mode": "markers",
         "name": "male",
         "type": "scatter",
         "x": [
          "building",
          "glass",
          "subway",
          "area",
          "modern",
          "compass",
          "urban",
          "directly",
          "station",
          "meters",
          "tall",
          "buildings",
          "front",
          "indicating",
          "trees",
          "clear",
          "approximately",
          "appears",
          "target",
          "leading",
          "towards",
          "green",
          "indicates",
          "path",
          "road",
          "brick",
          "providing",
          "benches",
          "visible",
          "large",
          "stories",
          "small",
          "wide",
          "pathway",
          "pedestrian",
          "left",
          "features",
          "featuring",
          "surrounded",
          "making",
          "reflecting",
          "paved",
          "right",
          "street",
          "plaza",
          "toward",
          "vibrant",
          "pleasant",
          "greenery",
          "immediate",
          "creating",
          "shows",
          "slightly",
          "architectural",
          "contributing",
          "ahead",
          "suggesting",
          "navigation",
          "central",
          "reflective",
          "obstacles",
          "sign",
          "enhancing",
          "landscaped",
          "several",
          "sleek",
          "direction",
          "outdoor",
          "side",
          "leads",
          "storefronts",
          "lively",
          "along",
          "around",
          "inviting",
          "open",
          "decorative",
          "angle",
          "commercial",
          "easy",
          "also",
          "ground",
          "good",
          "smooth",
          "stands",
          "shrubs",
          "likely",
          "office",
          "seems",
          "may",
          "color",
          "various",
          "clean",
          "due",
          "provide",
          "seating",
          "another",
          "direct",
          "straight",
          "sidewalk",
          "spacious",
          "space",
          "lined",
          "pathways",
          "design",
          "walkway",
          "pointing",
          "significant",
          "furniture",
          "movement",
          "adding",
          "shade",
          "neatly",
          "traffic",
          "view",
          "windows",
          "sunlight",
          "unobstructed",
          "blue",
          "bright",
          "traditional",
          "surrounding",
          "contemporary",
          "bustling",
          "blocking",
          "like",
          "see",
          "wall",
          "allowing",
          "including",
          "potential",
          "located",
          "structures",
          "areas",
          "landscaping",
          "minimal",
          "flat",
          "meaning",
          "signs",
          "visibility",
          "foot",
          "center",
          "route",
          "suitable",
          "reflects",
          "includes",
          "structure",
          "showing",
          "appear",
          "retail",
          "adds",
          "environment",
          "aesthetic",
          "access",
          "prominent",
          "lining",
          "less",
          "tree",
          "architecture",
          "currently",
          "narrow",
          "notable",
          "taller",
          "create",
          "marked",
          "characterized",
          "facade",
          "degrees",
          "atmosphere",
          "showcasing",
          "nearby",
          "clearly",
          "similar",
          "forward",
          "trimmed",
          "shops",
          "contrast",
          "surface",
          "enhances",
          "could",
          "surfaces",
          "offering",
          "away",
          "series",
          "might",
          "stone",
          "obstructing",
          "serve",
          "looks",
          "enhance",
          "feature",
          "busy",
          "ample",
          "beyond",
          "light",
          "panels",
          "mix",
          "displaying",
          "indicator",
          "without"
         ],
         "y": [
          477,
          402,
          374,
          354,
          337,
          301,
          283,
          272,
          251,
          249,
          239,
          239,
          216,
          204,
          197,
          195,
          190,
          188,
          182,
          176,
          173,
          169,
          160,
          159,
          150,
          150,
          146,
          146,
          145,
          142,
          139,
          132,
          127,
          126,
          126,
          125,
          114,
          111,
          108,
          102,
          99,
          98,
          97,
          96,
          96,
          93,
          92,
          90,
          89,
          89,
          88,
          87,
          86,
          85,
          84,
          83,
          83,
          81,
          80,
          79,
          79,
          78,
          76,
          72,
          72,
          71,
          69,
          68,
          67,
          64,
          63,
          63,
          62,
          60,
          59,
          59,
          59,
          57,
          57,
          55,
          54,
          54,
          54,
          54,
          53,
          52,
          52,
          52,
          51,
          51,
          50,
          49,
          49,
          49,
          49,
          49,
          48,
          47,
          47,
          47,
          47,
          46,
          46,
          45,
          45,
          45,
          44,
          44,
          44,
          43,
          43,
          42,
          42,
          41,
          41,
          41,
          39,
          39,
          39,
          38,
          38,
          37,
          37,
          37,
          37,
          37,
          37,
          37,
          36,
          36,
          36,
          34,
          34,
          34,
          33,
          33,
          33,
          33,
          32,
          31,
          31,
          31,
          30,
          30,
          30,
          30,
          29,
          29,
          29,
          29,
          28,
          28,
          28,
          28,
          28,
          28,
          28,
          27,
          27,
          27,
          27,
          26,
          26,
          25,
          25,
          25,
          25,
          24,
          24,
          24,
          24,
          24,
          24,
          24,
          24,
          24,
          23,
          23,
          23,
          23,
          23,
          23,
          23,
          23,
          23,
          23,
          22,
          22,
          22,
          22,
          22,
          22,
          22,
          21,
          21,
          21,
          21,
          21,
          20,
          20
         ]
        },
        {
         "marker": {
          "color": "rgba(248, 156, 116, 0.75)",
          "line": {
           "color": "grey",
           "width": 1.5
          },
          "opacity": 0.75,
          "size": 20
         },
         "mode": "markers",
         "name": "night",
         "type": "scatter",
         "x": [
          "building",
          "glass",
          "subway",
          "modern",
          "meters",
          "area",
          "urban",
          "compass",
          "directly",
          "road",
          "indicating",
          "station",
          "front",
          "approximately",
          "buildings",
          "tall",
          "target",
          "clear",
          "green",
          "appears",
          "indicates",
          "trees",
          "street",
          "towards",
          "leading",
          "providing",
          "path",
          "pedestrian",
          "benches",
          "office",
          "large",
          "pathway",
          "featuring",
          "features",
          "sleek",
          "visible",
          "wide",
          "making",
          "small",
          "reflective",
          "enhancing",
          "greenery",
          "navigation",
          "creating",
          "evening",
          "surrounded",
          "commercial",
          "contributing",
          "architectural",
          "sign",
          "right",
          "ahead",
          "left",
          "reflecting",
          "obstacles",
          "shows",
          "suggesting",
          "toward",
          "vibrant",
          "around",
          "brick",
          "shorter",
          "pleasant",
          "direction",
          "illuminated",
          "immediate",
          "slightly",
          "stands",
          "easy",
          "decorative",
          "several",
          "stories",
          "along",
          "safe",
          "good",
          "lighting",
          "angle",
          "bright",
          "adding",
          "view",
          "significant",
          "located",
          "leads",
          "visibility",
          "color",
          "inviting",
          "furniture",
          "like",
          "central",
          "design",
          "wall",
          "surrounding",
          "flat",
          "see",
          "side",
          "marked",
          "sidewalk",
          "lively",
          "tree",
          "clearly",
          "contemporary",
          "movement",
          "red",
          "straight",
          "also",
          "ground",
          "direct",
          "paved",
          "showing",
          "prominent",
          "signs",
          "may",
          "open",
          "pathways",
          "clean",
          "landscaped",
          "storefronts",
          "taller",
          "structure",
          "due",
          "likely",
          "adds",
          "smooth",
          "light",
          "meaning",
          "including",
          "broad",
          "markings",
          "space",
          "create",
          "provide",
          "architecture",
          "welcoming",
          "lined",
          "windows",
          "potential",
          "landmark",
          "minimal",
          "facilitating",
          "bustling",
          "seems",
          "notable",
          "serves",
          "atmosphere",
          "enhance",
          "could",
          "allowing",
          "landscaping",
          "shrubs",
          "entrance",
          "plaza",
          "standing",
          "plants",
          "another",
          "retail",
          "signage",
          "various",
          "suitable",
          "pointing",
          "beyond",
          "seating",
          "gently",
          "factory",
          "reflects",
          "environment",
          "contrast",
          "route",
          "away",
          "possibly",
          "outdoor",
          "neatly",
          "blocking",
          "lamps",
          "shops",
          "add",
          "blue",
          "surface",
          "touch",
          "obstructing",
          "indicator",
          "overgrown",
          "ensuring",
          "lining",
          "showcasing",
          "traffic",
          "rusted",
          "residential",
          "provides",
          "structures",
          "alongside",
          "illuminating",
          "center",
          "adorned",
          "offering",
          "low",
          "characterized",
          "serve",
          "brightly",
          "forward",
          "obstruct"
         ],
         "y": [
          574,
          389,
          350,
          333,
          329,
          316,
          315,
          300,
          289,
          245,
          231,
          220,
          215,
          208,
          207,
          195,
          191,
          189,
          176,
          173,
          165,
          161,
          160,
          153,
          148,
          135,
          128,
          125,
          123,
          121,
          120,
          113,
          108,
          107,
          106,
          106,
          103,
          103,
          102,
          100,
          98,
          98,
          97,
          97,
          96,
          96,
          95,
          93,
          90,
          87,
          84,
          83,
          82,
          82,
          80,
          80,
          78,
          74,
          74,
          74,
          73,
          72,
          71,
          70,
          69,
          69,
          68,
          67,
          67,
          66,
          63,
          61,
          60,
          60,
          60,
          57,
          56,
          55,
          55,
          55,
          55,
          53,
          53,
          53,
          53,
          52,
          52,
          51,
          50,
          50,
          49,
          47,
          47,
          46,
          45,
          45,
          44,
          44,
          43,
          43,
          42,
          42,
          42,
          41,
          41,
          40,
          40,
          40,
          39,
          39,
          39,
          39,
          39,
          38,
          38,
          38,
          38,
          37,
          36,
          36,
          35,
          35,
          34,
          34,
          34,
          34,
          34,
          34,
          33,
          33,
          33,
          32,
          32,
          31,
          31,
          31,
          31,
          30,
          30,
          30,
          30,
          30,
          30,
          30,
          30,
          29,
          28,
          28,
          28,
          28,
          28,
          27,
          27,
          27,
          27,
          27,
          27,
          26,
          26,
          26,
          26,
          26,
          26,
          25,
          25,
          25,
          25,
          25,
          25,
          25,
          25,
          24,
          24,
          24,
          24,
          24,
          23,
          23,
          23,
          23,
          23,
          22,
          22,
          22,
          22,
          22,
          22,
          21,
          21,
          21,
          21,
          21,
          21,
          21,
          21,
          21,
          21,
          21,
          20,
          20
         ]
        },
        {
         "marker": {
          "color": "rgba(220, 176, 242, 0.75)",
          "line": {
           "color": "grey",
           "width": 1.5
          },
          "opacity": 0.75,
          "size": 20
         },
         "mode": "markers",
         "name": "tokyo",
         "type": "scatter",
         "x": [
          "building",
          "road",
          "subway",
          "modern",
          "compass",
          "glass",
          "buildings",
          "urban",
          "meters",
          "directly",
          "area",
          "station",
          "clear",
          "indicating",
          "towards",
          "target",
          "appears",
          "front",
          "wooden",
          "indicates",
          "approximately",
          "large",
          "green",
          "leading",
          "providing",
          "wide",
          "small",
          "street",
          "vibrant",
          "tall",
          "visible",
          "path",
          "left",
          "featuring",
          "benches",
          "traditional",
          "right",
          "trees",
          "greenery",
          "pedestrian",
          "features",
          "suggesting",
          "contributing",
          "sign",
          "making",
          "creating",
          "immediate",
          "toward",
          "obstacles",
          "angle",
          "tree",
          "shows",
          "reflective",
          "surrounded",
          "ahead",
          "pleasant",
          "enhancing",
          "windows",
          "direction",
          "side",
          "good",
          "decorative",
          "view",
          "taller",
          "leads",
          "sleek",
          "straight",
          "architectural",
          "easy",
          "navigation",
          "pathway",
          "central",
          "lively",
          "slightly",
          "adds",
          "stands",
          "stories",
          "adding",
          "likely",
          "smooth",
          "commercial",
          "prominent",
          "inviting",
          "marked",
          "markings",
          "park",
          "pointing",
          "color",
          "around",
          "visibility",
          "storefronts",
          "may",
          "significant",
          "along",
          "allowing",
          "blue",
          "provide",
          "traffic",
          "contemporary",
          "facade",
          "wall",
          "shops",
          "flat",
          "adorned",
          "direct",
          "design",
          "furniture",
          "sidewalk",
          "several",
          "light",
          "unobstructed",
          "architecture",
          "structures",
          "space",
          "also",
          "obstructing",
          "office",
          "seems",
          "contrast",
          "showing",
          "various",
          "structure",
          "stretches",
          "due",
          "concrete",
          "atmosphere",
          "blocking",
          "lining",
          "like",
          "colorful",
          "open",
          "clearly",
          "lined",
          "residential",
          "located",
          "characterized",
          "neatly",
          "charming",
          "clean",
          "degrees",
          "trimmed",
          "paved",
          "add",
          "signage",
          "center",
          "offering",
          "brick",
          "showcasing",
          "shrubs",
          "low",
          "landscaped",
          "facilitating",
          "away",
          "notable",
          "garden",
          "including",
          "see",
          "touch",
          "landmark",
          "shorter",
          "meaning",
          "without",
          "surrounding",
          "bustling",
          "sidewalks",
          "create",
          "enhance",
          "potential",
          "ground",
          "continues",
          "aesthetic",
          "might",
          "welcoming",
          "narrow",
          "environment",
          "movement",
          "serves",
          "provides",
          "could",
          "indicator",
          "minimal",
          "lighting",
          "safe",
          "adjacent",
          "visual",
          "pathways",
          "access",
          "obstruct",
          "current",
          "suitable",
          "intricate",
          "dark",
          "signs",
          "ideal",
          "artistic",
          "complex",
          "skyscraper",
          "mix",
          "retail",
          "bright"
         ],
         "y": [
          470,
          462,
          394,
          369,
          319,
          313,
          296,
          294,
          273,
          265,
          248,
          244,
          242,
          222,
          217,
          211,
          195,
          195,
          180,
          175,
          168,
          166,
          162,
          157,
          151,
          150,
          145,
          139,
          138,
          133,
          132,
          130,
          130,
          129,
          127,
          127,
          125,
          124,
          121,
          117,
          107,
          99,
          99,
          96,
          95,
          95,
          93,
          91,
          91,
          87,
          87,
          85,
          85,
          85,
          81,
          81,
          80,
          80,
          77,
          75,
          75,
          75,
          74,
          73,
          72,
          71,
          71,
          70,
          70,
          70,
          66,
          63,
          62,
          61,
          61,
          61,
          56,
          56,
          55,
          55,
          54,
          54,
          53,
          51,
          51,
          50,
          50,
          49,
          49,
          49,
          48,
          47,
          47,
          46,
          46,
          46,
          45,
          44,
          44,
          44,
          44,
          43,
          43,
          43,
          41,
          41,
          41,
          40,
          40,
          39,
          39,
          39,
          38,
          37,
          37,
          37,
          37,
          36,
          36,
          36,
          35,
          35,
          35,
          35,
          35,
          34,
          34,
          34,
          34,
          34,
          33,
          33,
          33,
          32,
          32,
          32,
          31,
          31,
          30,
          30,
          30,
          29,
          29,
          29,
          29,
          29,
          29,
          28,
          28,
          28,
          28,
          28,
          27,
          27,
          27,
          27,
          27,
          27,
          27,
          27,
          26,
          26,
          26,
          26,
          26,
          26,
          26,
          26,
          25,
          25,
          25,
          25,
          24,
          24,
          24,
          24,
          24,
          24,
          23,
          23,
          23,
          23,
          23,
          22,
          22,
          22,
          22,
          22,
          22,
          22,
          22,
          22,
          21,
          21,
          21,
          21,
          21,
          20,
          20,
          20
         ]
        }
       ],
       "layout": {
        "annotations": [
         {
          "arrowwidth": 0.2,
          "ax": -109,
          "ay": -109,
          "font": {
           "color": "gray",
           "size": 16
          },
          "showarrow": true,
          "text": "building (472)",
          "x": "building",
          "y": 472
         },
         {
          "arrowwidth": 0.2,
          "ax": -107,
          "ay": -107,
          "font": {
           "color": "gray",
           "size": 16
          },
          "showarrow": true,
          "text": "brick (149)",
          "x": "brick",
          "y": 149
         },
         {
          "arrowwidth": 0.2,
          "ax": -116,
          "ay": -116,
          "font": {
           "color": "gray",
           "size": 16
          },
          "showarrow": true,
          "text": "covered (96)",
          "x": "covered",
          "y": 96
         },
         {
          "arrowwidth": 0.2,
          "ax": -103,
          "ay": -103,
          "font": {
           "color": "gray",
           "size": 16
          },
          "showarrow": true,
          "text": "side (70)",
          "x": "side",
          "y": 70
         },
         {
          "arrowwidth": 0.2,
          "ax": -120,
          "ay": -120,
          "font": {
           "color": "gray",
           "size": 16
          },
          "showarrow": true,
          "text": "windows (49)",
          "x": "windows",
          "y": 49
         },
         {
          "arrowwidth": 0.2,
          "ax": -110,
          "ay": -110,
          "font": {
           "color": "gray",
           "size": 16
          },
          "showarrow": true,
          "text": "broad (38)",
          "x": "broad",
          "y": 38
         },
         {
          "arrowwidth": 0.2,
          "ax": -174,
          "ay": -174,
          "font": {
           "color": "gray",
           "size": 16
          },
          "showarrow": true,
          "text": "unobstructed (31)",
          "x": "unobstructed",
          "y": 31
         },
         {
          "arrowwidth": 0.2,
          "ax": -143,
          "ay": -143,
          "font": {
           "color": "gray",
           "size": 16
          },
          "showarrow": true,
          "text": "indicator (26)",
          "x": "indicator",
          "y": 26
         },
         {
          "arrowwidth": 0.2,
          "ax": -237,
          "ay": -237,
          "font": {
           "color": "gray",
           "size": 16
          },
          "showarrow": true,
          "text": "subway (410)",
          "x": "subway",
          "y": 410
         },
         {
          "arrowwidth": 0.2,
          "ax": -186,
          "ay": -186,
          "font": {
           "color": "gray",
           "size": 16
          },
          "showarrow": true,
          "text": "indicates (153)",
          "x": "indicates",
          "y": 153
         },
         {
          "arrowwidth": 0.2,
          "ax": -224,
          "ay": -224,
          "font": {
           "color": "gray",
           "size": 16
          },
          "showarrow": true,
          "text": "outdoor (84)",
          "x": "outdoor",
          "y": 84
         },
         {
          "arrowwidth": 0.2,
          "ax": -148,
          "ay": -148,
          "font": {
           "color": "gray",
           "size": 16
          },
          "showarrow": true,
          "text": "leads (69)",
          "x": "leads",
          "y": 69
         },
         {
          "arrowwidth": 0.2,
          "ax": -138,
          "ay": -138,
          "font": {
           "color": "gray",
           "size": 16
          },
          "showarrow": true,
          "text": "ground (46)",
          "x": "ground",
          "y": 46
         },
         {
          "arrowwidth": 0.2,
          "ax": -176,
          "ay": -176,
          "font": {
           "color": "gray",
           "size": 16
          },
          "showarrow": true,
          "text": "structure (37)",
          "x": "structure",
          "y": 37
         },
         {
          "arrowwidth": 0.2,
          "ax": -215,
          "ay": -215,
          "font": {
           "color": "gray",
           "size": 16
          },
          "showarrow": true,
          "text": "add (30)",
          "x": "add",
          "y": 30
         },
         {
          "arrowwidth": 0.2,
          "ax": -135,
          "ay": -135,
          "font": {
           "color": "gray",
           "size": 16
          },
          "showarrow": true,
          "text": "sidewalks (25)",
          "x": "sidewalks",
          "y": 25
         },
         {
          "arrowwidth": 0.2,
          "ax": -186,
          "ay": -186,
          "font": {
           "color": "gray",
           "size": 16
          },
          "showarrow": true,
          "text": "building (477)",
          "x": "building",
          "y": 477
         },
         {
          "arrowwidth": 0.2,
          "ax": -165,
          "ay": -165,
          "font": {
           "color": "gray",
           "size": 16
          },
          "showarrow": true,
          "text": "brick (150)",
          "x": "brick",
          "y": 150
         },
         {
          "arrowwidth": 0.2,
          "ax": -123,
          "ay": -123,
          "font": {
           "color": "gray",
           "size": 16
          },
          "showarrow": true,
          "text": "creating (88)",
          "x": "creating",
          "y": 88
         },
         {
          "arrowwidth": 0.2,
          "ax": -113,
          "ay": -113,
          "font": {
           "color": "gray",
           "size": 16
          },
          "showarrow": true,
          "text": "open (59)",
          "x": "open",
          "y": 59
         },
         {
          "arrowwidth": 0.2,
          "ax": -131,
          "ay": -131,
          "font": {
           "color": "gray",
           "size": 16
          },
          "showarrow": true,
          "text": "spacious (47)",
          "x": "spacious",
          "y": 47
         },
         {
          "arrowwidth": 0.2,
          "ax": -235,
          "ay": -235,
          "font": {
           "color": "gray",
           "size": 16
          },
          "showarrow": true,
          "text": "like (37)",
          "x": "like",
          "y": 37
         },
         {
          "arrowwidth": 0.2,
          "ax": -120,
          "ay": -120,
          "font": {
           "color": "gray",
           "size": 16
          },
          "showarrow": true,
          "text": "adds (28)",
          "x": "adds",
          "y": 28
         },
         {
          "arrowwidth": 0.2,
          "ax": -153,
          "ay": -153,
          "font": {
           "color": "gray",
           "size": 16
          },
          "showarrow": true,
          "text": "shops (24)",
          "x": "shops",
          "y": 24
         },
         {
          "arrowwidth": 0.2,
          "ax": -165,
          "ay": -165,
          "font": {
           "color": "gray",
           "size": 16
          },
          "showarrow": true,
          "text": "building (574)",
          "x": "building",
          "y": 574
         },
         {
          "arrowwidth": 0.2,
          "ax": -181,
          "ay": -181,
          "font": {
           "color": "gray",
           "size": 16
          },
          "showarrow": true,
          "text": "providing (135)",
          "x": "providing",
          "y": 135
         },
         {
          "arrowwidth": 0.2,
          "ax": -238,
          "ay": -238,
          "font": {
           "color": "gray",
           "size": 16
          },
          "showarrow": true,
          "text": "right (84)",
          "x": "right",
          "y": 84
         },
         {
          "arrowwidth": 0.2,
          "ax": -119,
          "ay": -119,
          "font": {
           "color": "gray",
           "size": 16
          },
          "showarrow": true,
          "text": "lighting (57)",
          "x": "lighting",
          "y": 57
         },
         {
          "arrowwidth": 0.2,
          "ax": -187,
          "ay": -187,
          "font": {
           "color": "gray",
           "size": 16
          },
          "showarrow": true,
          "text": "contemporary (42)",
          "x": "contemporary",
          "y": 42
         },
         {
          "arrowwidth": 0.2,
          "ax": -156,
          "ay": -156,
          "font": {
           "color": "gray",
           "size": 16
          },
          "showarrow": true,
          "text": "including (34)",
          "x": "including",
          "y": 34
         },
         {
          "arrowwidth": 0.2,
          "ax": -132,
          "ay": -132,
          "font": {
           "color": "gray",
           "size": 16
          },
          "showarrow": true,
          "text": "plaza (28)",
          "x": "plaza",
          "y": 28
         },
         {
          "arrowwidth": 0.2,
          "ax": -106,
          "ay": -106,
          "font": {
           "color": "gray",
           "size": 16
          },
          "showarrow": true,
          "text": "blue (24)",
          "x": "blue",
          "y": 24
         },
         {
          "arrowwidth": 0.2,
          "ax": -152,
          "ay": -152,
          "font": {
           "color": "gray",
           "size": 16
          },
          "showarrow": true,
          "text": "building (470)",
          "x": "building",
          "y": 470
         },
         {
          "arrowwidth": 0.2,
          "ax": -149,
          "ay": -149,
          "font": {
           "color": "gray",
           "size": 16
          },
          "showarrow": true,
          "text": "wide (150)",
          "x": "wide",
          "y": 150
         },
         {
          "arrowwidth": 0.2,
          "ax": -166,
          "ay": -166,
          "font": {
           "color": "gray",
           "size": 16
          },
          "showarrow": true,
          "text": "tree (87)",
          "x": "tree",
          "y": 87
         },
         {
          "arrowwidth": 0.2,
          "ax": -211,
          "ay": -211,
          "font": {
           "color": "gray",
           "size": 16
          },
          "showarrow": true,
          "text": "stands (61)",
          "x": "stands",
          "y": 61
         },
         {
          "arrowwidth": 0.2,
          "ax": -158,
          "ay": -158,
          "font": {
           "color": "gray",
           "size": 16
          },
          "showarrow": true,
          "text": "wall (44)",
          "x": "wall",
          "y": 44
         },
         {
          "arrowwidth": 0.2,
          "ax": -103,
          "ay": -103,
          "font": {
           "color": "gray",
           "size": 16
          },
          "showarrow": true,
          "text": "atmosphere (34)",
          "x": "atmosphere",
          "y": 34
         },
         {
          "arrowwidth": 0.2,
          "ax": -116,
          "ay": -116,
          "font": {
           "color": "gray",
           "size": 16
          },
          "showarrow": true,
          "text": "landscaped (28)",
          "x": "landscaped",
          "y": 28
         },
         {
          "arrowwidth": 0.2,
          "ax": -163,
          "ay": -163,
          "font": {
           "color": "gray",
           "size": 16
          },
          "showarrow": true,
          "text": "movement (24)",
          "x": "movement",
          "y": 24
         }
        ],
        "height": 1500,
        "hovermode": "closest",
        "legend": {
         "bordercolor": "grey",
         "font": {
          "size": 32
         },
         "title": {
          "text": "Scenarios"
         },
         "x": 0.05,
         "xanchor": "left",
         "y": 0.99,
         "yanchor": "top"
        },
        "plot_bgcolor": "white",
        "template": {
         "data": {
          "bar": [
           {
            "error_x": {
             "color": "#2a3f5f"
            },
            "error_y": {
             "color": "#2a3f5f"
            },
            "marker": {
             "line": {
              "color": "#E5ECF6",
              "width": 0.5
             },
             "pattern": {
              "fillmode": "overlay",
              "size": 10,
              "solidity": 0.2
             }
            },
            "type": "bar"
           }
          ],
          "barpolar": [
           {
            "marker": {
             "line": {
              "color": "#E5ECF6",
              "width": 0.5
             },
             "pattern": {
              "fillmode": "overlay",
              "size": 10,
              "solidity": 0.2
             }
            },
            "type": "barpolar"
           }
          ],
          "carpet": [
           {
            "aaxis": {
             "endlinecolor": "#2a3f5f",
             "gridcolor": "white",
             "linecolor": "white",
             "minorgridcolor": "white",
             "startlinecolor": "#2a3f5f"
            },
            "baxis": {
             "endlinecolor": "#2a3f5f",
             "gridcolor": "white",
             "linecolor": "white",
             "minorgridcolor": "white",
             "startlinecolor": "#2a3f5f"
            },
            "type": "carpet"
           }
          ],
          "choropleth": [
           {
            "colorbar": {
             "outlinewidth": 0,
             "ticks": ""
            },
            "type": "choropleth"
           }
          ],
          "contour": [
           {
            "colorbar": {
             "outlinewidth": 0,
             "ticks": ""
            },
            "colorscale": [
             [
              0,
              "#0d0887"
             ],
             [
              0.1111111111111111,
              "#46039f"
             ],
             [
              0.2222222222222222,
              "#7201a8"
             ],
             [
              0.3333333333333333,
              "#9c179e"
             ],
             [
              0.4444444444444444,
              "#bd3786"
             ],
             [
              0.5555555555555556,
              "#d8576b"
             ],
             [
              0.6666666666666666,
              "#ed7953"
             ],
             [
              0.7777777777777778,
              "#fb9f3a"
             ],
             [
              0.8888888888888888,
              "#fdca26"
             ],
             [
              1,
              "#f0f921"
             ]
            ],
            "type": "contour"
           }
          ],
          "contourcarpet": [
           {
            "colorbar": {
             "outlinewidth": 0,
             "ticks": ""
            },
            "type": "contourcarpet"
           }
          ],
          "heatmap": [
           {
            "colorbar": {
             "outlinewidth": 0,
             "ticks": ""
            },
            "colorscale": [
             [
              0,
              "#0d0887"
             ],
             [
              0.1111111111111111,
              "#46039f"
             ],
             [
              0.2222222222222222,
              "#7201a8"
             ],
             [
              0.3333333333333333,
              "#9c179e"
             ],
             [
              0.4444444444444444,
              "#bd3786"
             ],
             [
              0.5555555555555556,
              "#d8576b"
             ],
             [
              0.6666666666666666,
              "#ed7953"
             ],
             [
              0.7777777777777778,
              "#fb9f3a"
             ],
             [
              0.8888888888888888,
              "#fdca26"
             ],
             [
              1,
              "#f0f921"
             ]
            ],
            "type": "heatmap"
           }
          ],
          "heatmapgl": [
           {
            "colorbar": {
             "outlinewidth": 0,
             "ticks": ""
            },
            "colorscale": [
             [
              0,
              "#0d0887"
             ],
             [
              0.1111111111111111,
              "#46039f"
             ],
             [
              0.2222222222222222,
              "#7201a8"
             ],
             [
              0.3333333333333333,
              "#9c179e"
             ],
             [
              0.4444444444444444,
              "#bd3786"
             ],
             [
              0.5555555555555556,
              "#d8576b"
             ],
             [
              0.6666666666666666,
              "#ed7953"
             ],
             [
              0.7777777777777778,
              "#fb9f3a"
             ],
             [
              0.8888888888888888,
              "#fdca26"
             ],
             [
              1,
              "#f0f921"
             ]
            ],
            "type": "heatmapgl"
           }
          ],
          "histogram": [
           {
            "marker": {
             "pattern": {
              "fillmode": "overlay",
              "size": 10,
              "solidity": 0.2
             }
            },
            "type": "histogram"
           }
          ],
          "histogram2d": [
           {
            "colorbar": {
             "outlinewidth": 0,
             "ticks": ""
            },
            "colorscale": [
             [
              0,
              "#0d0887"
             ],
             [
              0.1111111111111111,
              "#46039f"
             ],
             [
              0.2222222222222222,
              "#7201a8"
             ],
             [
              0.3333333333333333,
              "#9c179e"
             ],
             [
              0.4444444444444444,
              "#bd3786"
             ],
             [
              0.5555555555555556,
              "#d8576b"
             ],
             [
              0.6666666666666666,
              "#ed7953"
             ],
             [
              0.7777777777777778,
              "#fb9f3a"
             ],
             [
              0.8888888888888888,
              "#fdca26"
             ],
             [
              1,
              "#f0f921"
             ]
            ],
            "type": "histogram2d"
           }
          ],
          "histogram2dcontour": [
           {
            "colorbar": {
             "outlinewidth": 0,
             "ticks": ""
            },
            "colorscale": [
             [
              0,
              "#0d0887"
             ],
             [
              0.1111111111111111,
              "#46039f"
             ],
             [
              0.2222222222222222,
              "#7201a8"
             ],
             [
              0.3333333333333333,
              "#9c179e"
             ],
             [
              0.4444444444444444,
              "#bd3786"
             ],
             [
              0.5555555555555556,
              "#d8576b"
             ],
             [
              0.6666666666666666,
              "#ed7953"
             ],
             [
              0.7777777777777778,
              "#fb9f3a"
             ],
             [
              0.8888888888888888,
              "#fdca26"
             ],
             [
              1,
              "#f0f921"
             ]
            ],
            "type": "histogram2dcontour"
           }
          ],
          "mesh3d": [
           {
            "colorbar": {
             "outlinewidth": 0,
             "ticks": ""
            },
            "type": "mesh3d"
           }
          ],
          "parcoords": [
           {
            "line": {
             "colorbar": {
              "outlinewidth": 0,
              "ticks": ""
             }
            },
            "type": "parcoords"
           }
          ],
          "pie": [
           {
            "automargin": true,
            "type": "pie"
           }
          ],
          "scatter": [
           {
            "fillpattern": {
             "fillmode": "overlay",
             "size": 10,
             "solidity": 0.2
            },
            "type": "scatter"
           }
          ],
          "scatter3d": [
           {
            "line": {
             "colorbar": {
              "outlinewidth": 0,
              "ticks": ""
             }
            },
            "marker": {
             "colorbar": {
              "outlinewidth": 0,
              "ticks": ""
             }
            },
            "type": "scatter3d"
           }
          ],
          "scattercarpet": [
           {
            "marker": {
             "colorbar": {
              "outlinewidth": 0,
              "ticks": ""
             }
            },
            "type": "scattercarpet"
           }
          ],
          "scattergeo": [
           {
            "marker": {
             "colorbar": {
              "outlinewidth": 0,
              "ticks": ""
             }
            },
            "type": "scattergeo"
           }
          ],
          "scattergl": [
           {
            "marker": {
             "colorbar": {
              "outlinewidth": 0,
              "ticks": ""
             }
            },
            "type": "scattergl"
           }
          ],
          "scattermapbox": [
           {
            "marker": {
             "colorbar": {
              "outlinewidth": 0,
              "ticks": ""
             }
            },
            "type": "scattermapbox"
           }
          ],
          "scatterpolar": [
           {
            "marker": {
             "colorbar": {
              "outlinewidth": 0,
              "ticks": ""
             }
            },
            "type": "scatterpolar"
           }
          ],
          "scatterpolargl": [
           {
            "marker": {
             "colorbar": {
              "outlinewidth": 0,
              "ticks": ""
             }
            },
            "type": "scatterpolargl"
           }
          ],
          "scatterternary": [
           {
            "marker": {
             "colorbar": {
              "outlinewidth": 0,
              "ticks": ""
             }
            },
            "type": "scatterternary"
           }
          ],
          "surface": [
           {
            "colorbar": {
             "outlinewidth": 0,
             "ticks": ""
            },
            "colorscale": [
             [
              0,
              "#0d0887"
             ],
             [
              0.1111111111111111,
              "#46039f"
             ],
             [
              0.2222222222222222,
              "#7201a8"
             ],
             [
              0.3333333333333333,
              "#9c179e"
             ],
             [
              0.4444444444444444,
              "#bd3786"
             ],
             [
              0.5555555555555556,
              "#d8576b"
             ],
             [
              0.6666666666666666,
              "#ed7953"
             ],
             [
              0.7777777777777778,
              "#fb9f3a"
             ],
             [
              0.8888888888888888,
              "#fdca26"
             ],
             [
              1,
              "#f0f921"
             ]
            ],
            "type": "surface"
           }
          ],
          "table": [
           {
            "cells": {
             "fill": {
              "color": "#EBF0F8"
             },
             "line": {
              "color": "white"
             }
            },
            "header": {
             "fill": {
              "color": "#C8D4E3"
             },
             "line": {
              "color": "white"
             }
            },
            "type": "table"
           }
          ]
         },
         "layout": {
          "annotationdefaults": {
           "arrowcolor": "#2a3f5f",
           "arrowhead": 0,
           "arrowwidth": 1
          },
          "autotypenumbers": "strict",
          "coloraxis": {
           "colorbar": {
            "outlinewidth": 0,
            "ticks": ""
           }
          },
          "colorscale": {
           "diverging": [
            [
             0,
             "#8e0152"
            ],
            [
             0.1,
             "#c51b7d"
            ],
            [
             0.2,
             "#de77ae"
            ],
            [
             0.3,
             "#f1b6da"
            ],
            [
             0.4,
             "#fde0ef"
            ],
            [
             0.5,
             "#f7f7f7"
            ],
            [
             0.6,
             "#e6f5d0"
            ],
            [
             0.7,
             "#b8e186"
            ],
            [
             0.8,
             "#7fbc41"
            ],
            [
             0.9,
             "#4d9221"
            ],
            [
             1,
             "#276419"
            ]
           ],
           "sequential": [
            [
             0,
             "#0d0887"
            ],
            [
             0.1111111111111111,
             "#46039f"
            ],
            [
             0.2222222222222222,
             "#7201a8"
            ],
            [
             0.3333333333333333,
             "#9c179e"
            ],
            [
             0.4444444444444444,
             "#bd3786"
            ],
            [
             0.5555555555555556,
             "#d8576b"
            ],
            [
             0.6666666666666666,
             "#ed7953"
            ],
            [
             0.7777777777777778,
             "#fb9f3a"
            ],
            [
             0.8888888888888888,
             "#fdca26"
            ],
            [
             1,
             "#f0f921"
            ]
           ],
           "sequentialminus": [
            [
             0,
             "#0d0887"
            ],
            [
             0.1111111111111111,
             "#46039f"
            ],
            [
             0.2222222222222222,
             "#7201a8"
            ],
            [
             0.3333333333333333,
             "#9c179e"
            ],
            [
             0.4444444444444444,
             "#bd3786"
            ],
            [
             0.5555555555555556,
             "#d8576b"
            ],
            [
             0.6666666666666666,
             "#ed7953"
            ],
            [
             0.7777777777777778,
             "#fb9f3a"
            ],
            [
             0.8888888888888888,
             "#fdca26"
            ],
            [
             1,
             "#f0f921"
            ]
           ]
          },
          "colorway": [
           "#636efa",
           "#EF553B",
           "#00cc96",
           "#ab63fa",
           "#FFA15A",
           "#19d3f3",
           "#FF6692",
           "#B6E880",
           "#FF97FF",
           "#FECB52"
          ],
          "font": {
           "color": "#2a3f5f"
          },
          "geo": {
           "bgcolor": "white",
           "lakecolor": "white",
           "landcolor": "#E5ECF6",
           "showlakes": true,
           "showland": true,
           "subunitcolor": "white"
          },
          "hoverlabel": {
           "align": "left"
          },
          "hovermode": "closest",
          "mapbox": {
           "style": "light"
          },
          "paper_bgcolor": "white",
          "plot_bgcolor": "#E5ECF6",
          "polar": {
           "angularaxis": {
            "gridcolor": "white",
            "linecolor": "white",
            "ticks": ""
           },
           "bgcolor": "#E5ECF6",
           "radialaxis": {
            "gridcolor": "white",
            "linecolor": "white",
            "ticks": ""
           }
          },
          "scene": {
           "xaxis": {
            "backgroundcolor": "#E5ECF6",
            "gridcolor": "white",
            "gridwidth": 2,
            "linecolor": "white",
            "showbackground": true,
            "ticks": "",
            "zerolinecolor": "white"
           },
           "yaxis": {
            "backgroundcolor": "#E5ECF6",
            "gridcolor": "white",
            "gridwidth": 2,
            "linecolor": "white",
            "showbackground": true,
            "ticks": "",
            "zerolinecolor": "white"
           },
           "zaxis": {
            "backgroundcolor": "#E5ECF6",
            "gridcolor": "white",
            "gridwidth": 2,
            "linecolor": "white",
            "showbackground": true,
            "ticks": "",
            "zerolinecolor": "white"
           }
          },
          "shapedefaults": {
           "line": {
            "color": "#2a3f5f"
           }
          },
          "ternary": {
           "aaxis": {
            "gridcolor": "white",
            "linecolor": "white",
            "ticks": ""
           },
           "baxis": {
            "gridcolor": "white",
            "linecolor": "white",
            "ticks": ""
           },
           "bgcolor": "#E5ECF6",
           "caxis": {
            "gridcolor": "white",
            "linecolor": "white",
            "ticks": ""
           }
          },
          "title": {
           "x": 0.05
          },
          "xaxis": {
           "automargin": true,
           "gridcolor": "white",
           "linecolor": "white",
           "ticks": "",
           "title": {
            "standoff": 15
           },
           "zerolinecolor": "white",
           "zerolinewidth": 2
          },
          "yaxis": {
           "automargin": true,
           "gridcolor": "white",
           "linecolor": "white",
           "ticks": "",
           "title": {
            "standoff": 15
           },
           "zerolinecolor": "white",
           "zerolinewidth": 2
          }
         }
        },
        "title": {
         "font": {
          "size": 40
         },
         "text": "Top 200 terms in 'observation' by scenario"
        },
        "width": 2000,
        "xaxis": {
         "categoryorder": "total ascending",
         "tickangle": -45,
         "tickfont": {
          "size": 20
         }
        },
        "yaxis": {
         "side": "right",
         "tickfont": {
          "size": 20
         }
        }
       }
      }
     },
     "metadata": {},
     "output_type": "display_data"
    }
   ],
   "source": [
    "import nltk\n",
    "from nltk.corpus import stopwords\n",
    "from collections import Counter\n",
    "import plotly.graph_objects as go\n",
    "import random\n",
    "\n",
    "# Set parameters\n",
    "num_of_words = 200\n",
    "message_type = \"observation\"\n",
    "resolution_x, resolution_y = 2000, 1500  # Assuming these are defined elsewhere\n",
    "\n",
    "# Download stopwords and create custom list\n",
    "nltk.download('stopwords')\n",
    "custom_stopwords = set(stopwords.words('english'))\n",
    "\n",
    "# Define scenarios and colors\n",
    "scenarios = df[\"scenario\"].unique()\n",
    "start_colors = {\n",
    "    \"base\": \"#66c5cc\", \"male\": \"#f6cf71\", \"night\": \"#f89c74\",\n",
    "    \"tokyo\": \"#dcb0f2\", \"winter\": \"#87c55f\"\n",
    "}\n",
    "\n",
    "\n",
    "def get_top_words(text, num_of_words):\n",
    "    words = [word for word in text.lower().split()\n",
    "             if word.isalpha() and word not in custom_stopwords]\n",
    "    return dict(Counter(words).most_common(num_of_words))\n",
    "\n",
    "\n",
    "# Create figure\n",
    "fig = go.Figure()\n",
    "\n",
    "for scenario in scenarios:\n",
    "    text = \" \".join(df[df[\"scenario\"] == scenario][message_type].dropna())\n",
    "    top_words = get_top_words(text, num_of_words)\n",
    "    color = start_colors[scenario]\n",
    "\n",
    "    fig.add_trace(go.Scatter(\n",
    "        x=list(top_words.keys()),\n",
    "        y=list(top_words.values()),\n",
    "        mode='markers',\n",
    "        marker=dict(\n",
    "            size=20,\n",
    "            opacity=0.75,\n",
    "            line=dict(width=1.5, color='grey'),\n",
    "            color=f'rgba({int(color[1:3], 16)}, {int(color[3:5], 16)}, {int(color[5:], 16)}, 0.75)'\n",
    "        ),\n",
    "        name=scenario\n",
    "    ))\n",
    "\n",
    "    # Add annotations\n",
    "    for i, (word, count) in enumerate(top_words.items()):\n",
    "        if i % 25 == 0 or count == max(top_words.values()):\n",
    "            rnd = random.randint(100, 240)\n",
    "            fig.add_annotation(\n",
    "                x=word, y=count,\n",
    "                text=f\"{word} ({count})\",\n",
    "                showarrow=True,\n",
    "                font=dict(size=16, color='gray'),\n",
    "                ax=- rnd,\n",
    "                ay=- rnd,\n",
    "                arrowwidth=0.2\n",
    "            )\n",
    "\n",
    "# Update layout\n",
    "fig.update_layout(\n",
    "    title=f\"Top {num_of_words} terms in '{message_type}' by scenario\",\n",
    "    title_font=dict(size=40),\n",
    "    xaxis_categoryorder='total ascending',\n",
    "    legend_title=\"Scenarios\",\n",
    "    yaxis=dict(side='right'),\n",
    "    yaxis_tickfont=dict(size=20),\n",
    "    xaxis=dict(tickangle=-45, tickfont=dict(size=20)),\n",
    "    hovermode=\"closest\",\n",
    "    plot_bgcolor=\"white\",\n",
    "    width=resolution_x,\n",
    "    height=resolution_y,\n",
    "    legend=dict(\n",
    "        font=dict(size=32),\n",
    "        x=0.05, y=0.99,\n",
    "        xanchor='left', yanchor='top',\n",
    "        bordercolor='grey'\n",
    "    )\n",
    ")\n",
    "\n",
    "# Save and show figure\n",
    "fig.write_image(\"ta-top-words.png\",\n",
    "                width=resolution_x, height=resolution_y, engine=\"kaleido\")\n",
    "fig.show()"
   ]
  },
  {
   "cell_type": "markdown",
   "metadata": {},
   "source": [
    "# FIND THE MAIN TOPICS FOR THE WORDS IN THE PLANS\n",
    " df['plan'][0] is: '{\"thought\":\"The subway station sign is directly in front of me, and with the compass indicating a clear path, I should move forward without any immediate distractions or obstacles in my way.\"}'\n",
    "\n",
    "- create an object with all 'plan' messages, after removing the '{\"thought\":\"...\"}' part\n",
    "\n",
    "\n",
    "\n",
    "# The main topics provided words can be clustered into the following themes:\n",
    "\n",
    "'1. **Navigation and Direction**: This topic encompasses words related to guiding oneself through an environment, including \"navigate,\" \"direction,\" \"path,\" \"route,\" \"forward,\" \"turn,\" \"move,\" and \"navigate.\"\n",
    "\n",
    "'2. **Urban Environment**: This category focuses on words related to the city landscape and surroundings, such as \"subway,\" \"station,\" \"building,\" \"area,\" \"environment,\" \"urban,\" and \"surroundings.\"\n",
    "\n",
    "'3. **Movement and Progression**: This topic includes words that pertain to moving from one place to another, including \"proceed,\" \"reach,\" \"moving,\" \"steps,\" \"continue,\" and \"advancing.\"\n",
    "\n",
    "'4. **Clarity and Visibility**: This theme encompasses words that pertain to seeing and understanding routes or markers, including \"clear,\" \"visible,\" \"sign,\" \"indicates,\" \"appears,\" and \"reference.\"\n",
    "\n",
    "'5. **Obstacles and Challenges**: This category consists of terms that describe barriers or difficulties encountered in navigation, such as \"obstacles,\" \"blocking,\" \"safe,\" \"significant,\" and \"efficient.\" \n",
    "\n",
    "'These clusters reflect the main themes present in the words associated with navigating an urban environment, focusing on direction, movement, visibility, and potential challenges.'\n",
    "\n",
    "\n",
    "{\n",
    "    \"predicated_topic\": {\n",
    "        \"subway\": \"Urban Environment\",\n",
    "        \"station\": \"Urban Environment\",\n",
    "        \"left\": \"Direction\",\n",
    "        \"towards\": \"Navigation and Direction\",\n",
    "        \"sign\": \"Clarity and Visibility\",\n",
    "        \"forward\": \"Movement and Progression\",\n",
    "        \"directly\": \"Clarity and Visibility\",\n",
    "        \"path\": \"Navigation and Direction\",\n",
    "        \"right\": \"Direction\",\n",
    "        \"clear\": \"Clarity and Visibility\",\n",
    "\n",
    "\n",
    "    },\n",
    "    \"top_words\": {\n",
    "        \"subway\": 376,\n",
    "        \"station\": 307,\n",
    "        \"left\": 263,\n",
    "        \"towards\": 208,\n",
    "        \"sign\": 200,\n",
    "        \"forward\": 188,\n",
    "        \"directly\": 187,\n",
    "        \"path\": 164,\n",
    "        \"right\": 157,\n",
    "        \"clear\": 136,\n",
    "    }\n",
    "}"
   ]
  },
  {
   "cell_type": "code",
   "execution_count": null,
   "metadata": {},
   "outputs": [],
   "source": [
    "api_key = # your openai api key\n",
    "\n",
    "def analyze_plans(df, api_key, num_of_words=500):\n",
    "    # get the plans\n",
    "    plans_df = df['plan'].apply(lambda x: json.loads(x)[\n",
    "                                \"thought\"] if x else None)\n",
    "    # remove the None values\n",
    "    plans_df.dropna(inplace=True)\n",
    "\n",
    "    # join all the plans into a single string\n",
    "    all_plans_text = \" \".join(plans_df)\n",
    "\n",
    "    # get the top words in the plans\n",
    "    top_words_plans = get_top_words(all_plans_text, num_of_words=num_of_words)\n",
    "\n",
    "    # Create a client\n",
    "    client = OpenAI(api_key=api_key)\n",
    "    # Create a completion\n",
    "    response = client.chat.completions.create(\n",
    "        model=\"gpt-4o-mini\",\n",
    "        messages=[\n",
    "            {\"role\": \"system\", \"content\":\n",
    "             '''\n",
    "                    - You are an expert NLP researcher.\n",
    "                    - You are given a list of words.\n",
    "                    - Your task is to cluster these words into no more than 5 topics that capture the main themes of the plans.\n",
    "                    - Respond with the topics you identified. \n",
    "                \n",
    "                    '''\n",
    "             },\n",
    "            {\"role\": \"user\", \"content\": \"find the main topics for these words: \" +\n",
    "             \", \".join(list(top_words_plans.keys()))}\n",
    "        ],\n",
    "    )\n",
    "\n",
    "    # Parse the response\n",
    "    topics = response.choices[0].message.content\n",
    "    return topics\n",
    "\n",
    "\n",
    "# topics = analyze_plans(df, api_key)\n",
    "# print(topics)\n",
    "\n",
    "#  topics for the plans inferred by the model\n",
    "plan_topics = [\n",
    "    \"Navigation and Direction\",\n",
    "    \"Urban Environment\",\n",
    "    \"Movement and Progression\",\n",
    "    \"Clarity and Visibility\",\n",
    "    \"Obstacles and Challenges\",\n",
    "]\n",
    "\n",
    "client = OpenAI(api_key=api_key)\n",
    "\n",
    "# Define the message type and number of words to cluster\n",
    "message_type = \"plan\"\n",
    "\n",
    "# Number of words to cluster\n",
    "num_of_words = 100\n",
    "\n",
    "# save topic in this folder\n",
    "folder = \"topics\"\n",
    "\n",
    "# Get unique scenarios\n",
    "scenarios = df[\"scenario\"].unique()\n",
    "\n",
    "\n",
    "def match_topic_to_top_words(words):\n",
    "    # Create a request to OpenAI\n",
    "    response = client.chat.completions.create(\n",
    "        model=\"gpt-4o-mini\",\n",
    "        messages=[\n",
    "            {\"role\": \"system\", \"content\":\n",
    "                '''\n",
    "                - You are an expert in Natural Language Processing (NLP) with a PhD in Linguistics. Your approach is meticulous and detail-oriented.\n",
    "                - You will receive a list of words and a corresponding list of topics. Your task is to accurately match each word to one specific topic that best represents its meaning.\n",
    "\n",
    "                Instructions:\n",
    "                - For each word provided, identify the single most appropriate topic from the list.\n",
    "                - Respond with a JSON object where each key is a word and its corresponding value is the matched topic. The format should be: {\"word1\": \"topic1\", \"word2\": \"topic2\", ...}.\n",
    "                \n",
    "                Important Notes:\n",
    "                - Each word must be matched to exactly one topic only.\n",
    "                - Maintain the original wording of both the words and the topics; do not use synonyms or variations.\n",
    "                '''\n",
    "             },\n",
    "            {\"role\": \"user\", \"content\":  \"match the words to the topics: \" +\n",
    "                \", \".join(words) + \" to \" + \", \".join(plan_topics)}\n",
    "        ],\n",
    "        response_format={\"type\": \"json_object\"}\n",
    "    )\n",
    "\n",
    "    # Parse the JSON response\n",
    "    topics = json.loads(response.choices[0].message.content)\n",
    "\n",
    "    return topics\n",
    "\n",
    "\n",
    "# Iterate through scenarios and plot scatter points\n",
    "for scenario in scenarios:\n",
    "\n",
    "    # Get all observation messages for the scenario\n",
    "    type_messages = df[df[\"scenario\"] == scenario][message_type].dropna()\n",
    "\n",
    "    # Join all messages into a single text\n",
    "    text = \" \".join(type_messages)\n",
    "\n",
    "    # Get the top words\n",
    "    top_words = get_top_words(text, num_of_words=num_of_words)\n",
    "\n",
    "    # Get the topics from OpenAI\n",
    "    predicated_topic = match_topic_to_top_words(list(top_words.keys()))\n",
    "\n",
    "    # create a new object that simply adds the topic to the top words\n",
    "    top_words_with_topic = {\n",
    "        \"predicated_topic\": predicated_topic, \"top_words\": top_words}\n",
    "\n",
    "    # create  folder if it doesn't exist\n",
    "    if not os.path.exists(folder):\n",
    "        os.makedirs(folder)\n",
    "\n",
    "    # save the top words to a file\n",
    "    with open(f\"{folder}/{scenario}_top_words_with_topic.json\", \"w\") as f:\n",
    "        json.dump(top_words_with_topic, f, indent=4)"
   ]
  },
  {
   "cell_type": "code",
   "execution_count": 123,
   "metadata": {},
   "outputs": [
    {
     "data": {
      "application/vnd.plotly.v1+json": {
       "config": {
        "plotlyServerURL": "https://plot.ly"
       },
       "data": [
        {
         "marker": {
          "color": "#66c5cc",
          "line": {
           "color": "grey",
           "width": 1
          },
          "opacity": 0.75,
          "size": 20
         },
         "mode": "markers",
         "name": "Urban Environment",
         "type": "scatter",
         "x": [
          "subway",
          "station",
          "building",
          "area",
          "environment",
          "located",
          "buildings",
          "coffee",
          "wide",
          "tall",
          "green",
          "glass",
          "serve",
          "modern",
          "open",
          "surroundings",
          "commercial",
          "office",
          "offers",
          "nearby",
          "subway",
          "station",
          "road",
          "building",
          "environment",
          "buildings",
          "area",
          "located",
          "glass",
          "tall",
          "green",
          "street",
          "modern",
          "brick",
          "subway",
          "station",
          "building",
          "area",
          "environment",
          "buildings",
          "wide",
          "glass",
          "tall",
          "open",
          "surroundings",
          "green",
          "plaza",
          "coffee",
          "urban",
          "features",
          "nearby",
          "subway",
          "station",
          "road",
          "building",
          "buildings",
          "area",
          "environment",
          "modern",
          "coffee",
          "green",
          "surroundings",
          "urban",
          "surrounding",
          "features",
          "proximity",
          "nearby",
          "subway",
          "station",
          "building",
          "area",
          "environment",
          "buildings",
          "coffee",
          "wide",
          "located",
          "open",
          "green",
          "glass",
          "surroundings",
          "conducive",
          "plaza",
          "center",
          "pedestrian",
          "tall",
          "urban",
          "street"
         ],
         "y": [
          346,
          267,
          105,
          63,
          48,
          35,
          35,
          32,
          30,
          29,
          28,
          26,
          19,
          19,
          18,
          17,
          16,
          16,
          15,
          15,
          333,
          282,
          87,
          56,
          52,
          44,
          41,
          26,
          25,
          23,
          20,
          19,
          17,
          16,
          388,
          292,
          95,
          52,
          50,
          49,
          34,
          34,
          32,
          29,
          28,
          25,
          25,
          25,
          20,
          16,
          16,
          376,
          307,
          110,
          85,
          52,
          41,
          37,
          29,
          27,
          25,
          24,
          19,
          17,
          16,
          16,
          16,
          379,
          283,
          67,
          66,
          61,
          46,
          40,
          36,
          33,
          23,
          21,
          21,
          19,
          19,
          18,
          18,
          17,
          16,
          16,
          15
         ]
        },
        {
         "marker": {
          "color": "#f6cf71",
          "line": {
           "color": "grey",
           "width": 1
          },
          "opacity": 0.75,
          "size": 20
         },
         "mode": "markers",
         "name": "Navigation and Direction",
         "type": "scatter",
         "x": [
          "left",
          "towards",
          "path",
          "right",
          "ahead",
          "front",
          "target",
          "compass",
          "navigate",
          "turn",
          "toward",
          "straight",
          "direction",
          "road",
          "side",
          "navigation",
          "pathway",
          "route",
          "direct",
          "closer",
          "leading",
          "close",
          "next",
          "find",
          "pathways",
          "navigating",
          "way",
          "towards",
          "left",
          "forward",
          "path",
          "target",
          "right",
          "ahead",
          "front",
          "compass",
          "navigate",
          "turn",
          "straight",
          "toward",
          "side",
          "direction",
          "pathway",
          "navigation",
          "around",
          "route",
          "navigating",
          "across",
          "angle",
          "direct",
          "next",
          "current",
          "leading",
          "degrees",
          "leads",
          "along",
          "turning",
          "align",
          "meters",
          "left",
          "towards",
          "path",
          "right",
          "target",
          "ahead",
          "compass",
          "navigate",
          "toward",
          "turn",
          "direction",
          "straight",
          "side",
          "pathway",
          "route",
          "navigation",
          "distance",
          "direct",
          "pathways",
          "closer",
          "road",
          "angle",
          "next",
          "way",
          "meters",
          "left",
          "towards",
          "path",
          "right",
          "ahead",
          "target",
          "compass",
          "front",
          "turn",
          "navigate",
          "toward",
          "straight",
          "direction",
          "side",
          "route",
          "navigation",
          "located",
          "around",
          "direct",
          "angle",
          "pathway",
          "along",
          "leading",
          "find",
          "degrees",
          "leads",
          "turning",
          "next",
          "navigating",
          "left",
          "towards",
          "path",
          "right",
          "front",
          "compass",
          "ahead",
          "navigate",
          "toward",
          "turn",
          "pathway",
          "straight",
          "side",
          "direction",
          "navigation",
          "route",
          "around",
          "along",
          "road",
          "direct",
          "angle",
          "leads",
          "lead",
          "leading",
          "pathways",
          "distance",
          "navigating"
         ],
         "y": [
          220,
          193,
          179,
          149,
          127,
          121,
          118,
          104,
          102,
          76,
          70,
          68,
          65,
          64,
          56,
          51,
          40,
          35,
          25,
          24,
          20,
          19,
          19,
          18,
          16,
          15,
          15,
          217,
          211,
          176,
          165,
          126,
          126,
          125,
          117,
          117,
          98,
          86,
          81,
          80,
          70,
          64,
          54,
          52,
          35,
          30,
          28,
          27,
          24,
          22,
          21,
          21,
          20,
          19,
          17,
          17,
          17,
          16,
          16,
          232,
          188,
          151,
          133,
          118,
          116,
          111,
          107,
          82,
          76,
          74,
          62,
          59,
          53,
          41,
          37,
          29,
          26,
          25,
          23,
          23,
          23,
          22,
          19,
          18,
          263,
          208,
          164,
          157,
          127,
          119,
          104,
          101,
          93,
          92,
          82,
          80,
          69,
          61,
          55,
          48,
          40,
          39,
          36,
          27,
          26,
          25,
          23,
          21,
          21,
          18,
          18,
          15,
          15,
          207,
          192,
          160,
          153,
          124,
          111,
          98,
          95,
          83,
          76,
          75,
          69,
          65,
          58,
          56,
          43,
          36,
          33,
          33,
          28,
          24,
          24,
          21,
          20,
          20,
          18,
          17
         ]
        },
        {
         "marker": {
          "color": "#f89c74",
          "line": {
           "color": "grey",
           "width": 1
          },
          "opacity": 0.75,
          "size": 20
         },
         "mode": "markers",
         "name": "Clarity and Visibility",
         "type": "scatter",
         "x": [
          "directly",
          "sign",
          "clear",
          "given",
          "since",
          "immediate",
          "visible",
          "indicates",
          "indicated",
          "appears",
          "slightly",
          "current",
          "best",
          "may",
          "distance",
          "straightforward",
          "seems",
          "clearly",
          "shows",
          "reference",
          "directly",
          "sign",
          "clear",
          "given",
          "immediate",
          "indicated",
          "since",
          "indicates",
          "appears",
          "wide",
          "may",
          "straightforward",
          "visible",
          "seems",
          "significant",
          "best",
          "friend",
          "potential",
          "visibility",
          "slightly",
          "allowing",
          "shows",
          "reference",
          "clearly",
          "focus",
          "could",
          "eye",
          "directly",
          "sign",
          "clear",
          "front",
          "given",
          "indicated",
          "immediate",
          "since",
          "appears",
          "visible",
          "slightly",
          "indicates",
          "current",
          "safe",
          "may",
          "located",
          "indicating",
          "seems",
          "likely",
          "focus",
          "allowing",
          "sign",
          "directly",
          "clear",
          "immediate",
          "indicated",
          "given",
          "since",
          "indicates",
          "wide",
          "visible",
          "appears",
          "straightforward",
          "seems",
          "may",
          "due",
          "slightly",
          "significant",
          "distance",
          "also",
          "reference",
          "indicating",
          "based",
          "might",
          "clearly",
          "focus",
          "good",
          "directly",
          "sign",
          "clear",
          "immediate",
          "indicated",
          "given",
          "visible",
          "indicates",
          "appears",
          "seems",
          "straightforward",
          "significant",
          "focus",
          "slightly",
          "clearly",
          "indicating"
         ],
         "y": [
          217,
          186,
          138,
          65,
          61,
          58,
          49,
          46,
          46,
          43,
          43,
          40,
          34,
          30,
          27,
          25,
          21,
          20,
          18,
          16,
          208,
          187,
          148,
          80,
          64,
          55,
          51,
          49,
          46,
          37,
          35,
          31,
          30,
          29,
          27,
          26,
          23,
          23,
          23,
          23,
          21,
          20,
          19,
          18,
          18,
          17,
          16,
          197,
          184,
          132,
          117,
          61,
          59,
          59,
          56,
          51,
          48,
          46,
          42,
          36,
          35,
          34,
          28,
          21,
          21,
          17,
          17,
          16,
          200,
          187,
          136,
          81,
          66,
          60,
          55,
          45,
          42,
          39,
          39,
          32,
          29,
          28,
          26,
          25,
          25,
          24,
          22,
          21,
          20,
          20,
          19,
          19,
          18,
          16,
          211,
          198,
          152,
          61,
          59,
          58,
          53,
          50,
          41,
          28,
          26,
          26,
          21,
          19,
          17,
          15
         ]
        },
        {
         "marker": {
          "color": "#dcb0f2",
          "line": {
           "color": "grey",
           "width": 1
          },
          "opacity": 0.75,
          "size": 20
         },
         "mode": "markers",
         "name": "Movement and Progression",
         "type": "scatter",
         "x": [
          "forward",
          "move",
          "proceed",
          "reach",
          "moving",
          "making",
          "around",
          "approach",
          "continue",
          "movement",
          "along",
          "efficient",
          "action",
          "proceed",
          "need",
          "move",
          "reach",
          "making",
          "moving",
          "approach",
          "efficient",
          "optimal",
          "continue",
          "movement",
          "ensuring",
          "maintain",
          "provide",
          "action",
          "forward",
          "move",
          "proceed",
          "reach",
          "moving",
          "around",
          "approach",
          "movement",
          "leads",
          "lead",
          "along",
          "turning",
          "explore",
          "keeping",
          "continue",
          "action",
          "leading",
          "forward",
          "need",
          "move",
          "proceed",
          "reach",
          "moving",
          "making",
          "approach",
          "efficient",
          "potential",
          "current",
          "optimal",
          "could",
          "provide",
          "closer",
          "allowing",
          "movement",
          "maintain",
          "explore",
          "continue",
          "adjust",
          "best",
          "steps",
          "forward",
          "move",
          "proceed",
          "reach",
          "making",
          "moving",
          "approach",
          "closer",
          "efficient",
          "optimal",
          "movement",
          "find",
          "continue"
         ],
         "y": [
          189,
          153,
          99,
          78,
          61,
          53,
          51,
          39,
          31,
          31,
          22,
          17,
          16,
          130,
          130,
          129,
          84,
          71,
          49,
          35,
          33,
          32,
          30,
          28,
          18,
          18,
          17,
          17,
          174,
          117,
          96,
          75,
          72,
          67,
          40,
          31,
          25,
          22,
          21,
          20,
          19,
          18,
          18,
          18,
          16,
          188,
          123,
          118,
          115,
          71,
          71,
          62,
          40,
          37,
          35,
          35,
          24,
          24,
          23,
          23,
          21,
          21,
          20,
          20,
          20,
          18,
          18,
          16,
          176,
          123,
          97,
          87,
          71,
          71,
          45,
          28,
          25,
          25,
          23,
          23,
          22
         ]
        },
        {
         "marker": {
          "color": "#87c55f",
          "line": {
           "color": "grey",
           "width": 1
          },
          "opacity": 0.75,
          "size": 20
         },
         "mode": "markers",
         "name": "Obstacles and Challenges",
         "type": "scatter",
         "x": [
          "need",
          "obstacles",
          "without",
          "safe",
          "due",
          "potential",
          "adjust",
          "ensuring",
          "might",
          "significant",
          "blocking",
          "optimal",
          "cannot",
          "could",
          "option",
          "maintain",
          "obstruction",
          "likely",
          "easy",
          "allowing",
          "obstacles",
          "without",
          "safe",
          "due",
          "conditions",
          "slippery",
          "cautious",
          "snowy",
          "blocking",
          "snow",
          "hinder",
          "cannot",
          "need",
          "obstacles",
          "without",
          "making",
          "due",
          "find",
          "potential",
          "optimal",
          "based",
          "alternative",
          "best",
          "adjust",
          "efficient",
          "blocking",
          "could",
          "cannot",
          "provide",
          "might",
          "offers",
          "ensure",
          "obstacles",
          "without",
          "safe",
          "blocking",
          "ensure",
          "alternative",
          "need",
          "obstacles",
          "target",
          "without",
          "since",
          "safe",
          "due",
          "potential",
          "current",
          "best",
          "may",
          "provide",
          "cannot",
          "allowing",
          "good",
          "offers",
          "could",
          "might",
          "based",
          "action",
          "reassess",
          "likely",
          "friend",
          "keeping"
         ],
         "y": [
          128,
          113,
          74,
          62,
          32,
          28,
          26,
          24,
          23,
          22,
          21,
          20,
          19,
          19,
          17,
          17,
          16,
          16,
          16,
          15,
          130,
          72,
          50,
          45,
          36,
          30,
          28,
          22,
          22,
          20,
          19,
          16,
          126,
          95,
          71,
          53,
          33,
          30,
          27,
          25,
          24,
          23,
          22,
          21,
          21,
          20,
          20,
          20,
          17,
          17,
          17,
          16,
          132,
          86,
          47,
          28,
          17,
          17,
          138,
          126,
          116,
          85,
          45,
          34,
          33,
          33,
          32,
          32,
          32,
          26,
          22,
          19,
          18,
          18,
          17,
          17,
          17,
          17,
          16,
          16,
          15,
          15
         ]
        }
       ],
       "layout": {
        "annotations": [
         {
          "arrowwidth": 0.5,
          "ax": -100,
          "ay": -100,
          "font": {
           "color": "gray",
           "size": 24
          },
          "showarrow": true,
          "text": "wide",
          "x": "wide",
          "y": 30
         },
         {
          "arrowwidth": 0.5,
          "ax": -100,
          "ay": -100,
          "font": {
           "color": "gray",
           "size": 24
          },
          "showarrow": true,
          "text": "subway",
          "x": "subway",
          "y": 388
         },
         {
          "arrowwidth": 0.5,
          "ax": -100,
          "ay": -100,
          "font": {
           "color": "gray",
           "size": 24
          },
          "showarrow": true,
          "text": "environment",
          "x": "environment",
          "y": 50
         },
         {
          "arrowwidth": 0.5,
          "ax": -100,
          "ay": -100,
          "font": {
           "color": "gray",
           "size": 24
          },
          "showarrow": true,
          "text": "road",
          "x": "road",
          "y": 110
         },
         {
          "arrowwidth": 0.5,
          "ax": -100,
          "ay": -100,
          "font": {
           "color": "gray",
           "size": 24
          },
          "showarrow": true,
          "text": "toward",
          "x": "toward",
          "y": 70
         },
         {
          "arrowwidth": 0.5,
          "ax": -100,
          "ay": -100,
          "font": {
           "color": "gray",
           "size": 24
          },
          "showarrow": true,
          "text": "side",
          "x": "side",
          "y": 70
         },
         {
          "arrowwidth": 0.5,
          "ax": -100,
          "ay": -100,
          "font": {
           "color": "gray",
           "size": 24
          },
          "showarrow": true,
          "text": "route",
          "x": "route",
          "y": 30
         },
         {
          "arrowwidth": 0.5,
          "ax": -100,
          "ay": -100,
          "font": {
           "color": "gray",
           "size": 24
          },
          "showarrow": true,
          "text": "left",
          "x": "left",
          "y": 263
         },
         {
          "arrowwidth": 0.5,
          "ax": -100,
          "ay": -100,
          "font": {
           "color": "gray",
           "size": 24
          },
          "showarrow": true,
          "text": "directly",
          "x": "directly",
          "y": 217
         },
         {
          "arrowwidth": 0.5,
          "ax": -100,
          "ay": -100,
          "font": {
           "color": "gray",
           "size": 24
          },
          "showarrow": true,
          "text": "may",
          "x": "may",
          "y": 30
         },
         {
          "arrowwidth": 0.5,
          "ax": -100,
          "ay": -100,
          "font": {
           "color": "gray",
           "size": 24
          },
          "showarrow": true,
          "text": "visible",
          "x": "visible",
          "y": 30
         },
         {
          "arrowwidth": 0.5,
          "ax": -100,
          "ay": -100,
          "font": {
           "color": "gray",
           "size": 24
          },
          "showarrow": true,
          "text": "indicates",
          "x": "indicates",
          "y": 50
         },
         {
          "arrowwidth": 0.5,
          "ax": -100,
          "ay": -100,
          "font": {
           "color": "gray",
           "size": 24
          },
          "showarrow": true,
          "text": "forward",
          "x": "forward",
          "y": 189
         },
         {
          "arrowwidth": 0.5,
          "ax": -100,
          "ay": -100,
          "font": {
           "color": "gray",
           "size": 24
          },
          "showarrow": true,
          "text": "proceed",
          "x": "proceed",
          "y": 130
         },
         {
          "arrowwidth": 0.5,
          "ax": -100,
          "ay": -100,
          "font": {
           "color": "gray",
           "size": 24
          },
          "showarrow": true,
          "text": "need",
          "x": "need",
          "y": 130
         },
         {
          "arrowwidth": 0.5,
          "ax": -100,
          "ay": -100,
          "font": {
           "color": "gray",
           "size": 24
          },
          "showarrow": true,
          "text": "continue",
          "x": "continue",
          "y": 30
         },
         {
          "arrowwidth": 0.5,
          "ax": -100,
          "ay": -100,
          "font": {
           "color": "gray",
           "size": 24
          },
          "showarrow": true,
          "text": "obstacles",
          "x": "obstacles",
          "y": 130
         },
         {
          "arrowwidth": 0.5,
          "ax": -100,
          "ay": -100,
          "font": {
           "color": "gray",
           "size": 24
          },
          "showarrow": true,
          "text": "safe",
          "x": "safe",
          "y": 50
         },
         {
          "arrowwidth": 0.5,
          "ax": -100,
          "ay": -100,
          "font": {
           "color": "gray",
           "size": 24
          },
          "showarrow": true,
          "text": "slippery",
          "x": "slippery",
          "y": 30
         },
         {
          "arrowwidth": 0.5,
          "ax": -100,
          "ay": -100,
          "font": {
           "color": "gray",
           "size": 24
          },
          "showarrow": true,
          "text": "find",
          "x": "find",
          "y": 30
         },
         {
          "arrowwidth": 0.5,
          "ax": -100,
          "ay": -100,
          "font": {
           "color": "gray",
           "size": 24
          },
          "showarrow": true,
          "text": "need",
          "x": "need",
          "y": 138
         }
        ],
        "height": 1000,
        "legend": {
         "bgcolor": "rgba(255,255,255,1)",
         "bordercolor": "rgba(0,0,0,.1)",
         "borderwidth": 2,
         "font": {
          "size": 24
         },
         "x": 0.05,
         "xanchor": "left",
         "y": 1,
         "yanchor": "top"
        },
        "plot_bgcolor": "white",
        "template": {
         "data": {
          "bar": [
           {
            "error_x": {
             "color": "#2a3f5f"
            },
            "error_y": {
             "color": "#2a3f5f"
            },
            "marker": {
             "line": {
              "color": "#E5ECF6",
              "width": 0.5
             },
             "pattern": {
              "fillmode": "overlay",
              "size": 10,
              "solidity": 0.2
             }
            },
            "type": "bar"
           }
          ],
          "barpolar": [
           {
            "marker": {
             "line": {
              "color": "#E5ECF6",
              "width": 0.5
             },
             "pattern": {
              "fillmode": "overlay",
              "size": 10,
              "solidity": 0.2
             }
            },
            "type": "barpolar"
           }
          ],
          "carpet": [
           {
            "aaxis": {
             "endlinecolor": "#2a3f5f",
             "gridcolor": "white",
             "linecolor": "white",
             "minorgridcolor": "white",
             "startlinecolor": "#2a3f5f"
            },
            "baxis": {
             "endlinecolor": "#2a3f5f",
             "gridcolor": "white",
             "linecolor": "white",
             "minorgridcolor": "white",
             "startlinecolor": "#2a3f5f"
            },
            "type": "carpet"
           }
          ],
          "choropleth": [
           {
            "colorbar": {
             "outlinewidth": 0,
             "ticks": ""
            },
            "type": "choropleth"
           }
          ],
          "contour": [
           {
            "colorbar": {
             "outlinewidth": 0,
             "ticks": ""
            },
            "colorscale": [
             [
              0,
              "#0d0887"
             ],
             [
              0.1111111111111111,
              "#46039f"
             ],
             [
              0.2222222222222222,
              "#7201a8"
             ],
             [
              0.3333333333333333,
              "#9c179e"
             ],
             [
              0.4444444444444444,
              "#bd3786"
             ],
             [
              0.5555555555555556,
              "#d8576b"
             ],
             [
              0.6666666666666666,
              "#ed7953"
             ],
             [
              0.7777777777777778,
              "#fb9f3a"
             ],
             [
              0.8888888888888888,
              "#fdca26"
             ],
             [
              1,
              "#f0f921"
             ]
            ],
            "type": "contour"
           }
          ],
          "contourcarpet": [
           {
            "colorbar": {
             "outlinewidth": 0,
             "ticks": ""
            },
            "type": "contourcarpet"
           }
          ],
          "heatmap": [
           {
            "colorbar": {
             "outlinewidth": 0,
             "ticks": ""
            },
            "colorscale": [
             [
              0,
              "#0d0887"
             ],
             [
              0.1111111111111111,
              "#46039f"
             ],
             [
              0.2222222222222222,
              "#7201a8"
             ],
             [
              0.3333333333333333,
              "#9c179e"
             ],
             [
              0.4444444444444444,
              "#bd3786"
             ],
             [
              0.5555555555555556,
              "#d8576b"
             ],
             [
              0.6666666666666666,
              "#ed7953"
             ],
             [
              0.7777777777777778,
              "#fb9f3a"
             ],
             [
              0.8888888888888888,
              "#fdca26"
             ],
             [
              1,
              "#f0f921"
             ]
            ],
            "type": "heatmap"
           }
          ],
          "heatmapgl": [
           {
            "colorbar": {
             "outlinewidth": 0,
             "ticks": ""
            },
            "colorscale": [
             [
              0,
              "#0d0887"
             ],
             [
              0.1111111111111111,
              "#46039f"
             ],
             [
              0.2222222222222222,
              "#7201a8"
             ],
             [
              0.3333333333333333,
              "#9c179e"
             ],
             [
              0.4444444444444444,
              "#bd3786"
             ],
             [
              0.5555555555555556,
              "#d8576b"
             ],
             [
              0.6666666666666666,
              "#ed7953"
             ],
             [
              0.7777777777777778,
              "#fb9f3a"
             ],
             [
              0.8888888888888888,
              "#fdca26"
             ],
             [
              1,
              "#f0f921"
             ]
            ],
            "type": "heatmapgl"
           }
          ],
          "histogram": [
           {
            "marker": {
             "pattern": {
              "fillmode": "overlay",
              "size": 10,
              "solidity": 0.2
             }
            },
            "type": "histogram"
           }
          ],
          "histogram2d": [
           {
            "colorbar": {
             "outlinewidth": 0,
             "ticks": ""
            },
            "colorscale": [
             [
              0,
              "#0d0887"
             ],
             [
              0.1111111111111111,
              "#46039f"
             ],
             [
              0.2222222222222222,
              "#7201a8"
             ],
             [
              0.3333333333333333,
              "#9c179e"
             ],
             [
              0.4444444444444444,
              "#bd3786"
             ],
             [
              0.5555555555555556,
              "#d8576b"
             ],
             [
              0.6666666666666666,
              "#ed7953"
             ],
             [
              0.7777777777777778,
              "#fb9f3a"
             ],
             [
              0.8888888888888888,
              "#fdca26"
             ],
             [
              1,
              "#f0f921"
             ]
            ],
            "type": "histogram2d"
           }
          ],
          "histogram2dcontour": [
           {
            "colorbar": {
             "outlinewidth": 0,
             "ticks": ""
            },
            "colorscale": [
             [
              0,
              "#0d0887"
             ],
             [
              0.1111111111111111,
              "#46039f"
             ],
             [
              0.2222222222222222,
              "#7201a8"
             ],
             [
              0.3333333333333333,
              "#9c179e"
             ],
             [
              0.4444444444444444,
              "#bd3786"
             ],
             [
              0.5555555555555556,
              "#d8576b"
             ],
             [
              0.6666666666666666,
              "#ed7953"
             ],
             [
              0.7777777777777778,
              "#fb9f3a"
             ],
             [
              0.8888888888888888,
              "#fdca26"
             ],
             [
              1,
              "#f0f921"
             ]
            ],
            "type": "histogram2dcontour"
           }
          ],
          "mesh3d": [
           {
            "colorbar": {
             "outlinewidth": 0,
             "ticks": ""
            },
            "type": "mesh3d"
           }
          ],
          "parcoords": [
           {
            "line": {
             "colorbar": {
              "outlinewidth": 0,
              "ticks": ""
             }
            },
            "type": "parcoords"
           }
          ],
          "pie": [
           {
            "automargin": true,
            "type": "pie"
           }
          ],
          "scatter": [
           {
            "fillpattern": {
             "fillmode": "overlay",
             "size": 10,
             "solidity": 0.2
            },
            "type": "scatter"
           }
          ],
          "scatter3d": [
           {
            "line": {
             "colorbar": {
              "outlinewidth": 0,
              "ticks": ""
             }
            },
            "marker": {
             "colorbar": {
              "outlinewidth": 0,
              "ticks": ""
             }
            },
            "type": "scatter3d"
           }
          ],
          "scattercarpet": [
           {
            "marker": {
             "colorbar": {
              "outlinewidth": 0,
              "ticks": ""
             }
            },
            "type": "scattercarpet"
           }
          ],
          "scattergeo": [
           {
            "marker": {
             "colorbar": {
              "outlinewidth": 0,
              "ticks": ""
             }
            },
            "type": "scattergeo"
           }
          ],
          "scattergl": [
           {
            "marker": {
             "colorbar": {
              "outlinewidth": 0,
              "ticks": ""
             }
            },
            "type": "scattergl"
           }
          ],
          "scattermapbox": [
           {
            "marker": {
             "colorbar": {
              "outlinewidth": 0,
              "ticks": ""
             }
            },
            "type": "scattermapbox"
           }
          ],
          "scatterpolar": [
           {
            "marker": {
             "colorbar": {
              "outlinewidth": 0,
              "ticks": ""
             }
            },
            "type": "scatterpolar"
           }
          ],
          "scatterpolargl": [
           {
            "marker": {
             "colorbar": {
              "outlinewidth": 0,
              "ticks": ""
             }
            },
            "type": "scatterpolargl"
           }
          ],
          "scatterternary": [
           {
            "marker": {
             "colorbar": {
              "outlinewidth": 0,
              "ticks": ""
             }
            },
            "type": "scatterternary"
           }
          ],
          "surface": [
           {
            "colorbar": {
             "outlinewidth": 0,
             "ticks": ""
            },
            "colorscale": [
             [
              0,
              "#0d0887"
             ],
             [
              0.1111111111111111,
              "#46039f"
             ],
             [
              0.2222222222222222,
              "#7201a8"
             ],
             [
              0.3333333333333333,
              "#9c179e"
             ],
             [
              0.4444444444444444,
              "#bd3786"
             ],
             [
              0.5555555555555556,
              "#d8576b"
             ],
             [
              0.6666666666666666,
              "#ed7953"
             ],
             [
              0.7777777777777778,
              "#fb9f3a"
             ],
             [
              0.8888888888888888,
              "#fdca26"
             ],
             [
              1,
              "#f0f921"
             ]
            ],
            "type": "surface"
           }
          ],
          "table": [
           {
            "cells": {
             "fill": {
              "color": "#EBF0F8"
             },
             "line": {
              "color": "white"
             }
            },
            "header": {
             "fill": {
              "color": "#C8D4E3"
             },
             "line": {
              "color": "white"
             }
            },
            "type": "table"
           }
          ]
         },
         "layout": {
          "annotationdefaults": {
           "arrowcolor": "#2a3f5f",
           "arrowhead": 0,
           "arrowwidth": 1
          },
          "autotypenumbers": "strict",
          "coloraxis": {
           "colorbar": {
            "outlinewidth": 0,
            "ticks": ""
           }
          },
          "colorscale": {
           "diverging": [
            [
             0,
             "#8e0152"
            ],
            [
             0.1,
             "#c51b7d"
            ],
            [
             0.2,
             "#de77ae"
            ],
            [
             0.3,
             "#f1b6da"
            ],
            [
             0.4,
             "#fde0ef"
            ],
            [
             0.5,
             "#f7f7f7"
            ],
            [
             0.6,
             "#e6f5d0"
            ],
            [
             0.7,
             "#b8e186"
            ],
            [
             0.8,
             "#7fbc41"
            ],
            [
             0.9,
             "#4d9221"
            ],
            [
             1,
             "#276419"
            ]
           ],
           "sequential": [
            [
             0,
             "#0d0887"
            ],
            [
             0.1111111111111111,
             "#46039f"
            ],
            [
             0.2222222222222222,
             "#7201a8"
            ],
            [
             0.3333333333333333,
             "#9c179e"
            ],
            [
             0.4444444444444444,
             "#bd3786"
            ],
            [
             0.5555555555555556,
             "#d8576b"
            ],
            [
             0.6666666666666666,
             "#ed7953"
            ],
            [
             0.7777777777777778,
             "#fb9f3a"
            ],
            [
             0.8888888888888888,
             "#fdca26"
            ],
            [
             1,
             "#f0f921"
            ]
           ],
           "sequentialminus": [
            [
             0,
             "#0d0887"
            ],
            [
             0.1111111111111111,
             "#46039f"
            ],
            [
             0.2222222222222222,
             "#7201a8"
            ],
            [
             0.3333333333333333,
             "#9c179e"
            ],
            [
             0.4444444444444444,
             "#bd3786"
            ],
            [
             0.5555555555555556,
             "#d8576b"
            ],
            [
             0.6666666666666666,
             "#ed7953"
            ],
            [
             0.7777777777777778,
             "#fb9f3a"
            ],
            [
             0.8888888888888888,
             "#fdca26"
            ],
            [
             1,
             "#f0f921"
            ]
           ]
          },
          "colorway": [
           "#636efa",
           "#EF553B",
           "#00cc96",
           "#ab63fa",
           "#FFA15A",
           "#19d3f3",
           "#FF6692",
           "#B6E880",
           "#FF97FF",
           "#FECB52"
          ],
          "font": {
           "color": "#2a3f5f"
          },
          "geo": {
           "bgcolor": "white",
           "lakecolor": "white",
           "landcolor": "#E5ECF6",
           "showlakes": true,
           "showland": true,
           "subunitcolor": "white"
          },
          "hoverlabel": {
           "align": "left"
          },
          "hovermode": "closest",
          "mapbox": {
           "style": "light"
          },
          "paper_bgcolor": "white",
          "plot_bgcolor": "#E5ECF6",
          "polar": {
           "angularaxis": {
            "gridcolor": "white",
            "linecolor": "white",
            "ticks": ""
           },
           "bgcolor": "#E5ECF6",
           "radialaxis": {
            "gridcolor": "white",
            "linecolor": "white",
            "ticks": ""
           }
          },
          "scene": {
           "xaxis": {
            "backgroundcolor": "#E5ECF6",
            "gridcolor": "white",
            "gridwidth": 2,
            "linecolor": "white",
            "showbackground": true,
            "ticks": "",
            "zerolinecolor": "white"
           },
           "yaxis": {
            "backgroundcolor": "#E5ECF6",
            "gridcolor": "white",
            "gridwidth": 2,
            "linecolor": "white",
            "showbackground": true,
            "ticks": "",
            "zerolinecolor": "white"
           },
           "zaxis": {
            "backgroundcolor": "#E5ECF6",
            "gridcolor": "white",
            "gridwidth": 2,
            "linecolor": "white",
            "showbackground": true,
            "ticks": "",
            "zerolinecolor": "white"
           }
          },
          "shapedefaults": {
           "line": {
            "color": "#2a3f5f"
           }
          },
          "ternary": {
           "aaxis": {
            "gridcolor": "white",
            "linecolor": "white",
            "ticks": ""
           },
           "baxis": {
            "gridcolor": "white",
            "linecolor": "white",
            "ticks": ""
           },
           "bgcolor": "#E5ECF6",
           "caxis": {
            "gridcolor": "white",
            "linecolor": "white",
            "ticks": ""
           }
          },
          "title": {
           "x": 0.05
          },
          "xaxis": {
           "automargin": true,
           "gridcolor": "white",
           "linecolor": "white",
           "ticks": "",
           "title": {
            "standoff": 15
           },
           "zerolinecolor": "white",
           "zerolinewidth": 2
          },
          "yaxis": {
           "automargin": true,
           "gridcolor": "white",
           "linecolor": "white",
           "ticks": "",
           "title": {
            "standoff": 15
           },
           "zerolinecolor": "white",
           "zerolinewidth": 2
          }
         }
        },
        "title": {
         "font": {
          "size": 40
         },
         "text": "Topical Distribution of Key Terms Across Scenarios"
        },
        "width": 3000,
        "xaxis": {
         "autorange": "reversed",
         "gridcolor": "rgba(0,0,0,.1)",
         "side": "right",
         "tickangle": -45,
         "tickfont": {
          "size": 20
         }
        },
        "yaxis": {
         "tickfont": {
          "size": 16
         }
        }
       }
      }
     },
     "metadata": {},
     "output_type": "display_data"
    }
   ],
   "source": [
    "import os\n",
    "import json\n",
    "import plotly.graph_objects as go\n",
    "\n",
    "# Load all the JSON files\n",
    "scenarios = []\n",
    "all_topics = set()\n",
    "all_data = []\n",
    "\n",
    "start_colors = {\n",
    "    \"topic_1\": \"#66c5cc\", \"topic_2\": \"#f6cf71\", \"topic_3\": \"#f89c74\",\n",
    "    \"topic_4\": \"#dcb0f2\", \"topic_5\": \"#87c55f\"\n",
    "}\n",
    "\n",
    "# Assuming the JSON files are in a directory named \"topics\"\n",
    "json_files = [f for f in os.listdir(\"topics\") if f.endswith(\".json\")]\n",
    "\n",
    "for file in json_files:\n",
    "    scenario = file.replace(\"predicated_topic_for_\", \"\").replace(\".json\", \"\")\n",
    "    scenarios.append(scenario)\n",
    "\n",
    "    with open(os.path.join(\"topics\", file), \"r\") as f:\n",
    "        data = json.load(f)\n",
    "\n",
    "    predicated_topic = data[\"predicated_topic\"]\n",
    "    top_words = data[\"top_words\"]\n",
    "\n",
    "    for word, topic in predicated_topic.items():\n",
    "        all_data.append({\n",
    "            \"scenario\": scenario,\n",
    "            \"word\": word,\n",
    "            \"topic\": topic,\n",
    "            \"count\": top_words[word]\n",
    "        })\n",
    "        all_topics.add(topic)\n",
    "\n",
    "# Ensure we have exactly 5 topics\n",
    "assert len(all_topics) == 5, f\"Expected 5 topics, but found {len(all_topics)}\"\n",
    "\n",
    "# Create a fixed color mapping for the 5 topics\n",
    "topic_colors = {topic: start_colors[f\"topic_{i+1}\"] for i, topic in enumerate(all_topics)}\n",
    "\n",
    "# Create the scatter plot\n",
    "fig = go.Figure()\n",
    "\n",
    "for topic in all_topics:\n",
    "    topic_data = [item for item in all_data if item[\"topic\"] == topic]\n",
    "    fig.add_trace(go.Scatter(\n",
    "        x=[item[\"word\"] for item in topic_data],\n",
    "        y=[item[\"count\"] for item in topic_data],\n",
    "        mode='markers',\n",
    "        name=topic,\n",
    "        marker=dict(size=20, opacity=0.75, line=dict(width=1, color='grey'), color=topic_colors[topic]),\n",
    "    ))\n",
    "\n",
    "    # Add text to each point for each topic if the count is max or in specific range\n",
    "    max_count = max(item[\"count\"] for item in topic_data)\n",
    "    for item in topic_data:\n",
    "        if item[\"count\"] == max_count or item[\"count\"] in range(10, max_count, 20):\n",
    "            fig.add_annotation(\n",
    "                x=item[\"word\"],\n",
    "                y=item[\"count\"],\n",
    "                text=item[\"word\"],\n",
    "                showarrow=True,\n",
    "                font=dict(size=24, color='gray'),\n",
    "                ax=-100,\n",
    "                ay=-100,\n",
    "                arrowwidth=0.5,\n",
    "            )\n",
    "\n",
    "# Update layout\n",
    "fig.update_layout(\n",
    "    plot_bgcolor='white',\n",
    "    title=\"Topical Distribution of Key Terms Across Scenarios\",\n",
    "    title_font=dict(size=40),\n",
    "    width=resolution_x,\n",
    "    height=resolution_y,\n",
    "    yaxis=dict(tickfont=dict(size=16)),\n",
    "    xaxis=dict(\n",
    "        gridcolor='rgba(0,0,0,.1)',\n",
    "        autorange='reversed',\n",
    "        tickangle=-45,\n",
    "        tickfont=dict(size=20),\n",
    "        side='right',\n",
    "    ),\n",
    "    legend=dict(\n",
    "        x=0.05,\n",
    "        y=1,\n",
    "        xanchor='left',\n",
    "        yanchor='top',\n",
    "        bgcolor='rgba(255,255,255,1)',\n",
    "        bordercolor='rgba(0,0,0,.1)',\n",
    "        borderwidth=2,\n",
    "        font=dict(size=24)\n",
    "    ),\n",
    ")\n",
    "\n",
    "# Show the figure\n",
    "fig.show()\n",
    "\n",
    "# Save the figure as an image\n",
    "fig.write_image(\"ta-topical.png\",\n",
    "                width=resolution_x, height=resolution_y, engine=\"kaleido\")\n"
   ]
  },
  {
   "cell_type": "code",
   "execution_count": null,
   "metadata": {},
   "outputs": [],
   "source": []
  }
 ],
 "metadata": {
  "kernelspec": {
   "display_name": "travelagent",
   "language": "python",
   "name": "python3"
  },
  "language_info": {
   "codemirror_mode": {
    "name": "ipython",
    "version": 3
   },
   "file_extension": ".py",
   "mimetype": "text/x-python",
   "name": "python",
   "nbconvert_exporter": "python",
   "pygments_lexer": "ipython3",
   "version": "3.10.16"
  }
 },
 "nbformat": 4,
 "nbformat_minor": 2
}
