{
 "cells": [
  {
   "cell_type": "code",
   "execution_count": 1,
   "metadata": {},
   "outputs": [
    {
     "name": "stderr",
     "output_type": "stream",
     "text": [
      "[nltk_data] Downloading package vader_lexicon to\n",
      "[nltk_data]     /Users/kai/nltk_data...\n",
      "[nltk_data]   Package vader_lexicon is already up-to-date!\n",
      "[nltk_data] Downloading package punkt to /Users/kai/nltk_data...\n",
      "[nltk_data]   Package punkt is already up-to-date!\n"
     ]
    }
   ],
   "source": [
    "import os\n",
    "import json\n",
    "import pandas as pd\n",
    "import json\n",
    "\n",
    "import plotly.graph_objects as go\n",
    "from plotly.subplots import make_subplots\n",
    "\n",
    "\n",
    "import json\n",
    "import nltk\n",
    "from nltk.sentiment import SentimentIntensityAnalyzer\n",
    "import re\n",
    "\n",
    "# Download necessary NLTK data (run this once)\n",
    "nltk.download('vader_lexicon')\n",
    "nltk.download('punkt')\n",
    "\n",
    "\n",
    "# set the resolution of the plots\n",
    "resolution_x = 3000\n",
    "resolution_y = 2000"
   ]
  },
  {
   "cell_type": "code",
   "execution_count": 2,
   "metadata": {},
   "outputs": [
    {
     "name": "stdout",
     "output_type": "stream",
     "text": [
      "Found 100 experiments\n"
     ]
    }
   ],
   "source": [
    "'''extract the data from the json files in each experiment folder and store it in a pandas dataframe'''\n",
    "\n",
    "# get the experiment folders\n",
    "experiments_folder = 'logs'\n",
    "experiment_folders = [f for f in os.listdir(\n",
    "    experiments_folder) if os.path.isdir(os.path.join(experiments_folder, f))]\n",
    "\n",
    "# experiment folders is called `exp`\n",
    "experiment_folders = [os.path.join(experiments_folder, exp)\n",
    "                      for exp in experiment_folders]\n",
    "\n",
    "\n",
    "# how many experiments are there?\n",
    "print(f\"Found {len(experiment_folders)} experiments\")\n",
    "\n",
    "\n",
    "data = []\n",
    "for folder in experiment_folders:\n",
    "    exp_family = folder.split(\"_\")[1]  # Extract family from folder name\n",
    "    log_file = os.path.join(folder, \"logs.json\")\n",
    "    if os.path.exists(log_file):\n",
    "        with open(log_file, \"r\") as f:\n",
    "            logs = json.load(f)\n",
    "            for step, step_data in logs.items():\n",
    "                entry = {\n",
    "                    \"exp_name\": folder,\n",
    "                    # remove the \"-\" and everything after it\n",
    "                    \"scenario\": exp_family.split(\"-\")[0],\n",
    "                    \"step\": step,\n",
    "                    \"action\": step_data[\"logs\"][\"action\"][\"message\"] if \"action\" in step_data[\"logs\"] else None,\n",
    "                    \"plan\": step_data[\"logs\"][\"plan\"][\"message\"] if \"plan\" in step_data[\"logs\"] else None,\n",
    "                    \"memory\": step_data[\"logs\"][\"memory\"][\"message\"] if \"memory\" in step_data[\"logs\"] else None,\n",
    "                    \"observation\": step_data[\"logs\"][\"observation\"][\"message\"] if \"observation\" in step_data[\"logs\"] else None,\n",
    "                    \"task\": step_data[\"logs\"][\"task\"][\"message\"] if \"task\" in step_data[\"logs\"] else None,\n",
    "\n",
    "                }\n",
    "                data.append(entry)\n",
    "\n",
    "df = pd.DataFrame(data)\n",
    "\n",
    "# add a column for the action type and a column for the action value\n",
    "df[\"action_type\"] = df[\"action\"].apply(\n",
    "    lambda x: json.loads(x)[\"action\"] if x else None)\n",
    "df[\"action_value\"] = df[\"action\"].apply(\n",
    "    lambda x: json.loads(x)[\"value\"] if x else None)\n",
    "\n",
    "# each observation is a dictionary with keys left, front, right, compass.\n",
    "# we will extract these into separate columns if exists\n",
    "df[\"observation_left\"] = df[\"observation\"].apply(\n",
    "    lambda x: json.loads(x)[\"observation\"][\"left\"] if x else None)\n",
    "df[\"observation_front\"] = df[\"observation\"].apply(\n",
    "    lambda x: json.loads(x)[\"observation\"][\"front\"] if x else None)\n",
    "df[\"observation_right\"] = df[\"observation\"].apply(\n",
    "    lambda x: json.loads(x)[\"observation\"][\"right\"] if x else None)\n",
    "df[\"observation_compass\"] = df[\"observation\"].apply(\n",
    "    lambda x: json.loads(x)[\"observation\"][\"compass\"] if x else None)\n",
    "\n",
    "# find all actions that are \"finish\"\n",
    "df_finish = df[df[\"action_type\"] == \"finish\"]\n",
    "\n",
    "# split df into two dataframes: one for the successful experiments and one for the failed experiments\n",
    "# successful experiments are all exp_name that are in df_finish\n",
    "df_successful_exp = df[df[\"exp_name\"].isin(df_finish[\"exp_name\"])]\n",
    "# failed experiments are all exp_name that are not in df_finish\n",
    "df_failed_exp = df[~df[\"exp_name\"].isin(df_finish[\"exp_name\"])]\n",
    "\n",
    "# remove rows  that have more than one None values in a raw\n",
    "df_successful_exp = df_successful_exp.dropna(thresh=5)\n",
    "df_failed_exp = df_failed_exp.dropna(thresh=5)"
   ]
  },
  {
   "cell_type": "markdown",
   "metadata": {},
   "source": [
    "This script does the following:\n",
    "\n",
    "- It uses NLTK's VADER sentiment analyzer to classify the overall sentiment of the agent's thoughts and observations.\n",
    "- It implements a simple rule-based approach to identify specific emotions based on keywords.\n",
    "- The process_row function takes a data row, extracts the relevant fields, cleans the text, and then applies both sentiment classification and emotion identification.\n",
    "- The script provides an example usage with a sample data row.\n",
    "\n",
    "To use this with your full dataset, you would typically load your data into a pandas DataFrame and apply the process_row function to each row:\n",
    "\n"
   ]
  },
  {
   "cell_type": "code",
   "execution_count": 3,
   "metadata": {},
   "outputs": [],
   "source": [
    "# Initialize the NLTK sentiment analyzer\n",
    "sia = SentimentIntensityAnalyzer()\n",
    "\n",
    "# Function to clean text\n",
    "\n",
    "\n",
    "def clean_text(text):\n",
    "    # Remove special characters and digits\n",
    "    text = re.sub(r'[^a-zA-Z\\s]', '', str(text))\n",
    "    return text.lower()\n",
    "\n",
    "# Function to classify sentiment\n",
    "\n",
    "\n",
    "def classify_sentiment(text):\n",
    "    sentiment_scores = sia.polarity_scores(text)\n",
    "    if sentiment_scores['compound'] > 0.05:\n",
    "        return 'positive'\n",
    "    elif sentiment_scores['compound'] < -0.05:\n",
    "        return 'negative'\n",
    "    else:\n",
    "        return 'neutral'\n",
    "\n",
    "# Main function to process a data row\n",
    "\n",
    "\n",
    "def process_row(row):\n",
    "    try:\n",
    "        # Extract relevant fields\n",
    "        plan = json.loads(row['plan'])['thought'] if row['plan'] else ''\n",
    "        observations = [\n",
    "            str(row['observation_left']),\n",
    "            str(row['observation_front']),\n",
    "            str(row['observation_right']),\n",
    "            str(row['observation_compass'])\n",
    "        ]\n",
    "\n",
    "        # Clean and combine text\n",
    "        all_text = clean_text(plan + ' ' + ' '.join(observations))\n",
    "\n",
    "        # Classify sentiment\n",
    "        sentiment = classify_sentiment(all_text)\n",
    "\n",
    "        return sentiment\n",
    "    except (json.JSONDecodeError, TypeError, KeyError):\n",
    "        # Return 'unknown' if there's an error processing the row\n",
    "        return 'unknown'\n",
    "\n",
    "\n",
    "# Assuming df_successful_exp is your DataFrame\n",
    "# Apply the process_row function to each row\n",
    "df_successful_exp['sentiment'] = df_successful_exp.apply(process_row, axis=1)\n",
    "# do the same for the failed experiments\n",
    "df_failed_exp['sentiment'] = df_failed_exp.apply(process_row, axis=1)\n",
    "\n",
    "# Convert 'step' to numeric type first, then sort\n",
    "df_successful_exp['step'] = pd.to_numeric(\n",
    "    df_successful_exp['step'], errors='coerce')\n",
    "df_failed_exp['step'] = pd.to_numeric(df_failed_exp['step'], errors='coerce')\n",
    "\n",
    "# Now sort the dataframes\n",
    "df_successful_exp = df_successful_exp.sort_values(['exp_name', 'step'])\n",
    "df_failed_exp = df_failed_exp.sort_values(['exp_name', 'step'])\n",
    "\n",
    "# reset the index\n",
    "df_successful_exp = df_successful_exp.reset_index(drop=True)\n",
    "df_failed_exp = df_failed_exp.reset_index(drop=True)"
   ]
  },
  {
   "cell_type": "code",
   "execution_count": 4,
   "metadata": {},
   "outputs": [
    {
     "data": {
      "application/vnd.plotly.v1+json": {
       "config": {
        "plotlyServerURL": "https://plot.ly"
       },
       "data": [
        {
         "legendgroup": "start",
         "marker": {
          "color": "rgba(255,255,255,.8)",
          "line": {
           "color": "#66c5cc",
           "width": 4
          },
          "size": 40,
          "symbol": "circle"
         },
         "mode": "markers",
         "name": "Base",
         "showlegend": false,
         "type": "scatter",
         "x": [
          0
         ],
         "xaxis": "x",
         "y": [
          "logs/exp_base-15-17-39"
         ],
         "yaxis": "y"
        },
        {
         "line": {
          "color": "black",
          "dash": "dot",
          "width": 0.5
         },
         "marker": {
          "color": [
           "rgb(126, 197, 236)",
           "pink",
           "rgb(126, 197, 236)",
           "rgb(126, 197, 236)",
           "rgb(126, 197, 236)",
           "rgb(126, 197, 236)",
           "rgb(126, 197, 236)",
           "rgb(126, 197, 236)",
           "rgb(126, 197, 236)",
           "rgb(126, 197, 236)",
           "rgb(126, 197, 236)",
           "rgb(126, 197, 236)",
           "rgb(126, 197, 236)",
           "rgb(126, 197, 236)",
           "rgb(126, 197, 236)",
           "rgb(126, 197, 236)",
           "rgb(255, 49, 152)",
           "rgb(126, 197, 236)",
           "rgb(126, 197, 236)",
           "rgb(126, 197, 236)",
           "rgb(126, 197, 236)"
          ],
          "line": {
           "color": "grey",
           "width": 1.5
          },
          "opacity": 0.85,
          "size": [
           20,
           20,
           20,
           20,
           20,
           20,
           20,
           20,
           20,
           20,
           20,
           20,
           20,
           20,
           20,
           20,
           30,
           20,
           20,
           20,
           20
          ]
         },
         "mode": "lines+markers",
         "showlegend": false,
         "type": "scatter",
         "x": [
          0,
          20,
          30,
          50,
          60,
          80,
          82,
          102,
          122,
          142,
          144,
          179,
          181,
          183,
          189,
          209,
          211,
          217,
          225,
          227,
          235
         ],
         "xaxis": "x",
         "y": [
          "logs/exp_base-15-17-39",
          "logs/exp_base-15-17-39",
          "logs/exp_base-15-17-39",
          "logs/exp_base-15-17-39",
          "logs/exp_base-15-17-39",
          "logs/exp_base-15-17-39",
          "logs/exp_base-15-17-39",
          "logs/exp_base-15-17-39",
          "logs/exp_base-15-17-39",
          "logs/exp_base-15-17-39",
          "logs/exp_base-15-17-39",
          "logs/exp_base-15-17-39",
          "logs/exp_base-15-17-39",
          "logs/exp_base-15-17-39",
          "logs/exp_base-15-17-39",
          "logs/exp_base-15-17-39",
          "logs/exp_base-15-17-39",
          "logs/exp_base-15-17-39",
          "logs/exp_base-15-17-39",
          "logs/exp_base-15-17-39",
          "logs/exp_base-15-17-39"
         ],
         "yaxis": "y"
        },
        {
         "legendgroup": "start",
         "marker": {
          "color": "rgba(255,255,255,.8)",
          "line": {
           "color": "#66c5cc",
           "width": 4
          },
          "size": 40,
          "symbol": "circle"
         },
         "mode": "markers",
         "name": "Base",
         "showlegend": false,
         "type": "scatter",
         "x": [
          0
         ],
         "xaxis": "x",
         "y": [
          "logs/exp_base-15-30-25"
         ],
         "yaxis": "y"
        },
        {
         "line": {
          "color": "black",
          "dash": "dot",
          "width": 0.5
         },
         "marker": {
          "color": [
           "rgb(126, 197, 236)",
           "rgb(126, 197, 236)",
           "rgb(126, 197, 236)",
           "rgb(126, 197, 236)",
           "rgb(126, 197, 236)",
           "rgb(126, 197, 236)",
           "rgb(126, 197, 236)",
           "rgb(126, 197, 236)",
           "rgb(126, 197, 236)",
           "rgb(126, 197, 236)",
           "rgb(126, 197, 236)",
           "rgb(126, 197, 236)",
           "rgb(255, 49, 152)",
           "rgb(126, 197, 236)",
           "pink",
           "rgb(126, 197, 236)",
           "rgb(126, 197, 236)"
          ],
          "line": {
           "color": "grey",
           "width": 1.5
          },
          "opacity": 0.85,
          "size": [
           20,
           20,
           20,
           20,
           20,
           20,
           20,
           20,
           20,
           20,
           20,
           20,
           30,
           20,
           20,
           20,
           20
          ]
         },
         "mode": "lines+markers",
         "showlegend": false,
         "type": "scatter",
         "x": [
          0,
          2,
          22,
          24,
          44,
          84,
          86,
          126,
          128,
          148,
          168,
          188,
          190,
          200,
          220,
          222,
          262
         ],
         "xaxis": "x",
         "y": [
          "logs/exp_base-15-30-25",
          "logs/exp_base-15-30-25",
          "logs/exp_base-15-30-25",
          "logs/exp_base-15-30-25",
          "logs/exp_base-15-30-25",
          "logs/exp_base-15-30-25",
          "logs/exp_base-15-30-25",
          "logs/exp_base-15-30-25",
          "logs/exp_base-15-30-25",
          "logs/exp_base-15-30-25",
          "logs/exp_base-15-30-25",
          "logs/exp_base-15-30-25",
          "logs/exp_base-15-30-25",
          "logs/exp_base-15-30-25",
          "logs/exp_base-15-30-25",
          "logs/exp_base-15-30-25",
          "logs/exp_base-15-30-25"
         ],
         "yaxis": "y"
        },
        {
         "legendgroup": "start",
         "marker": {
          "color": "rgba(255,255,255,.8)",
          "line": {
           "color": "#66c5cc",
           "width": 4
          },
          "size": 40,
          "symbol": "circle"
         },
         "mode": "markers",
         "name": "Base",
         "showlegend": false,
         "type": "scatter",
         "x": [
          0
         ],
         "xaxis": "x",
         "y": [
          "logs/exp_base-15-34-57"
         ],
         "yaxis": "y"
        },
        {
         "line": {
          "color": "black",
          "dash": "dot",
          "width": 0.5
         },
         "marker": {
          "color": [
           "rgb(126, 197, 236)",
           "rgb(126, 197, 236)",
           "rgb(126, 197, 236)",
           "rgb(126, 197, 236)",
           "rgb(126, 197, 236)",
           "rgb(126, 197, 236)",
           "rgb(126, 197, 236)",
           "rgb(126, 197, 236)",
           "rgb(126, 197, 236)",
           "rgb(126, 197, 236)",
           "rgb(126, 197, 236)",
           "rgb(126, 197, 236)",
           "rgb(126, 197, 236)",
           "pink",
           "rgb(126, 197, 236)",
           "rgb(126, 197, 236)",
           "rgb(255, 49, 152)",
           "pink",
           "rgb(126, 197, 236)",
           "rgb(126, 197, 236)",
           "rgb(126, 197, 236)"
          ],
          "line": {
           "color": "grey",
           "width": 1.5
          },
          "opacity": 0.85,
          "size": [
           20,
           20,
           20,
           20,
           20,
           20,
           20,
           20,
           20,
           20,
           20,
           20,
           20,
           20,
           20,
           20,
           30,
           20,
           20,
           20,
           20
          ]
         },
         "mode": "lines+markers",
         "showlegend": false,
         "type": "scatter",
         "x": [
          0,
          6,
          18,
          42,
          44,
          46,
          50,
          58,
          70,
          72,
          74,
          76,
          96,
          100,
          146,
          163,
          165,
          167,
          175,
          195,
          215
         ],
         "xaxis": "x",
         "y": [
          "logs/exp_base-15-34-57",
          "logs/exp_base-15-34-57",
          "logs/exp_base-15-34-57",
          "logs/exp_base-15-34-57",
          "logs/exp_base-15-34-57",
          "logs/exp_base-15-34-57",
          "logs/exp_base-15-34-57",
          "logs/exp_base-15-34-57",
          "logs/exp_base-15-34-57",
          "logs/exp_base-15-34-57",
          "logs/exp_base-15-34-57",
          "logs/exp_base-15-34-57",
          "logs/exp_base-15-34-57",
          "logs/exp_base-15-34-57",
          "logs/exp_base-15-34-57",
          "logs/exp_base-15-34-57",
          "logs/exp_base-15-34-57",
          "logs/exp_base-15-34-57",
          "logs/exp_base-15-34-57",
          "logs/exp_base-15-34-57",
          "logs/exp_base-15-34-57"
         ],
         "yaxis": "y"
        },
        {
         "legendgroup": "start",
         "marker": {
          "color": "rgba(255,255,255,.8)",
          "line": {
           "color": "#66c5cc",
           "width": 4
          },
          "size": 40,
          "symbol": "circle"
         },
         "mode": "markers",
         "name": "Base",
         "showlegend": false,
         "type": "scatter",
         "x": [
          0
         ],
         "xaxis": "x",
         "y": [
          "logs/exp_base-15-40-41"
         ],
         "yaxis": "y"
        },
        {
         "line": {
          "color": "black",
          "dash": "dot",
          "width": 0.5
         },
         "marker": {
          "color": [
           "rgb(126, 197, 236)",
           "rgb(126, 197, 236)",
           "rgb(126, 197, 236)",
           "rgb(126, 197, 236)",
           "rgb(126, 197, 236)",
           "rgb(126, 197, 236)",
           "rgb(126, 197, 236)",
           "rgb(126, 197, 236)",
           "rgb(126, 197, 236)",
           "pink",
           "rgb(126, 197, 236)",
           "rgb(126, 197, 236)",
           "rgb(126, 197, 236)",
           "rgb(255, 49, 152)",
           "rgb(126, 197, 236)",
           "rgb(126, 197, 236)",
           "rgb(126, 197, 236)",
           "rgb(126, 197, 236)"
          ],
          "line": {
           "color": "grey",
           "width": 1.5
          },
          "opacity": 0.85,
          "size": [
           20,
           20,
           20,
           20,
           20,
           20,
           20,
           20,
           20,
           20,
           20,
           20,
           20,
           30,
           20,
           20,
           20,
           20
          ]
         },
         "mode": "lines+markers",
         "showlegend": false,
         "type": "scatter",
         "x": [
          0,
          20,
          40,
          60,
          80,
          82,
          122,
          124,
          129,
          139,
          149,
          159,
          179,
          181,
          183,
          193,
          213,
          215
         ],
         "xaxis": "x",
         "y": [
          "logs/exp_base-15-40-41",
          "logs/exp_base-15-40-41",
          "logs/exp_base-15-40-41",
          "logs/exp_base-15-40-41",
          "logs/exp_base-15-40-41",
          "logs/exp_base-15-40-41",
          "logs/exp_base-15-40-41",
          "logs/exp_base-15-40-41",
          "logs/exp_base-15-40-41",
          "logs/exp_base-15-40-41",
          "logs/exp_base-15-40-41",
          "logs/exp_base-15-40-41",
          "logs/exp_base-15-40-41",
          "logs/exp_base-15-40-41",
          "logs/exp_base-15-40-41",
          "logs/exp_base-15-40-41",
          "logs/exp_base-15-40-41",
          "logs/exp_base-15-40-41"
         ],
         "yaxis": "y"
        },
        {
         "legendgroup": "start",
         "marker": {
          "color": "rgba(255,255,255,.8)",
          "line": {
           "color": "#66c5cc",
           "width": 4
          },
          "size": 40,
          "symbol": "circle"
         },
         "mode": "markers",
         "name": "Base",
         "showlegend": false,
         "type": "scatter",
         "x": [
          0
         ],
         "xaxis": "x",
         "y": [
          "logs/exp_base-15-45-45"
         ],
         "yaxis": "y"
        },
        {
         "line": {
          "color": "black",
          "dash": "dot",
          "width": 0.5
         },
         "marker": {
          "color": [
           "rgb(126, 197, 236)",
           "pink",
           "rgb(126, 197, 236)",
           "rgb(126, 197, 236)",
           "rgb(126, 197, 236)",
           "rgb(126, 197, 236)",
           "rgb(126, 197, 236)",
           "rgb(126, 197, 236)",
           "rgb(126, 197, 236)",
           "rgb(126, 197, 236)",
           "rgb(126, 197, 236)",
           "rgb(126, 197, 236)",
           "rgb(255, 49, 152)",
           "rgb(126, 197, 236)",
           "rgb(126, 197, 236)",
           "rgb(126, 197, 236)",
           "rgb(126, 197, 236)"
          ],
          "line": {
           "color": "grey",
           "width": 1.5
          },
          "opacity": 0.85,
          "size": [
           20,
           20,
           20,
           20,
           20,
           20,
           20,
           20,
           20,
           20,
           20,
           20,
           30,
           20,
           20,
           20,
           20
          ]
         },
         "mode": "lines+markers",
         "showlegend": false,
         "type": "scatter",
         "x": [
          0,
          14,
          16,
          32,
          42,
          62,
          82,
          84,
          124,
          130,
          136,
          176,
          178,
          184,
          190,
          202,
          204
         ],
         "xaxis": "x",
         "y": [
          "logs/exp_base-15-45-45",
          "logs/exp_base-15-45-45",
          "logs/exp_base-15-45-45",
          "logs/exp_base-15-45-45",
          "logs/exp_base-15-45-45",
          "logs/exp_base-15-45-45",
          "logs/exp_base-15-45-45",
          "logs/exp_base-15-45-45",
          "logs/exp_base-15-45-45",
          "logs/exp_base-15-45-45",
          "logs/exp_base-15-45-45",
          "logs/exp_base-15-45-45",
          "logs/exp_base-15-45-45",
          "logs/exp_base-15-45-45",
          "logs/exp_base-15-45-45",
          "logs/exp_base-15-45-45",
          "logs/exp_base-15-45-45"
         ],
         "yaxis": "y"
        },
        {
         "legendgroup": "start",
         "marker": {
          "color": "rgba(255,255,255,.8)",
          "line": {
           "color": "#66c5cc",
           "width": 4
          },
          "size": 40,
          "symbol": "circle"
         },
         "mode": "markers",
         "name": "Base",
         "showlegend": false,
         "type": "scatter",
         "x": [
          0
         ],
         "xaxis": "x",
         "y": [
          "logs/exp_base-15-50-27"
         ],
         "yaxis": "y"
        },
        {
         "line": {
          "color": "black",
          "dash": "dot",
          "width": 0.5
         },
         "marker": {
          "color": [
           "rgb(126, 197, 236)",
           "rgb(126, 197, 236)",
           "rgb(126, 197, 236)",
           "rgb(126, 197, 236)",
           "rgb(126, 197, 236)",
           "rgb(126, 197, 236)",
           "rgb(126, 197, 236)",
           "rgb(126, 197, 236)",
           "rgb(126, 197, 236)",
           "rgb(126, 197, 236)",
           "rgb(126, 197, 236)",
           "rgb(126, 197, 236)",
           "rgb(126, 197, 236)",
           "rgb(126, 197, 236)",
           "rgb(126, 197, 236)",
           "rgb(126, 197, 236)",
           "rgb(126, 197, 236)",
           "rgb(126, 197, 236)",
           "rgb(255, 49, 152)",
           "rgb(126, 197, 236)",
           "rgb(126, 197, 236)",
           "rgb(255, 49, 152)",
           "rgb(126, 197, 236)",
           "rgb(126, 197, 236)",
           "rgb(126, 197, 236)",
           "rgb(126, 197, 236)"
          ],
          "line": {
           "color": "grey",
           "width": 1.5
          },
          "opacity": 0.85,
          "size": [
           20,
           20,
           20,
           20,
           20,
           20,
           20,
           20,
           20,
           20,
           20,
           20,
           20,
           20,
           20,
           20,
           20,
           20,
           30,
           20,
           20,
           30,
           20,
           20,
           20,
           20
          ]
         },
         "mode": "lines+markers",
         "showlegend": false,
         "type": "scatter",
         "x": [
          0,
          2,
          22,
          24,
          44,
          46,
          76,
          116,
          118,
          120,
          130,
          132,
          134,
          144,
          154,
          194,
          196,
          216,
          218,
          228,
          232,
          234,
          236,
          238,
          244,
          256
         ],
         "xaxis": "x",
         "y": [
          "logs/exp_base-15-50-27",
          "logs/exp_base-15-50-27",
          "logs/exp_base-15-50-27",
          "logs/exp_base-15-50-27",
          "logs/exp_base-15-50-27",
          "logs/exp_base-15-50-27",
          "logs/exp_base-15-50-27",
          "logs/exp_base-15-50-27",
          "logs/exp_base-15-50-27",
          "logs/exp_base-15-50-27",
          "logs/exp_base-15-50-27",
          "logs/exp_base-15-50-27",
          "logs/exp_base-15-50-27",
          "logs/exp_base-15-50-27",
          "logs/exp_base-15-50-27",
          "logs/exp_base-15-50-27",
          "logs/exp_base-15-50-27",
          "logs/exp_base-15-50-27",
          "logs/exp_base-15-50-27",
          "logs/exp_base-15-50-27",
          "logs/exp_base-15-50-27",
          "logs/exp_base-15-50-27",
          "logs/exp_base-15-50-27",
          "logs/exp_base-15-50-27",
          "logs/exp_base-15-50-27",
          "logs/exp_base-15-50-27"
         ],
         "yaxis": "y"
        },
        {
         "legendgroup": "start",
         "marker": {
          "color": "rgba(255,255,255,.8)",
          "line": {
           "color": "#66c5cc",
           "width": 4
          },
          "size": 40,
          "symbol": "circle"
         },
         "mode": "markers",
         "name": "Base",
         "showlegend": false,
         "type": "scatter",
         "x": [
          0
         ],
         "xaxis": "x",
         "y": [
          "logs/exp_base-16-07-10"
         ],
         "yaxis": "y"
        },
        {
         "line": {
          "color": "black",
          "dash": "dot",
          "width": 0.5
         },
         "marker": {
          "color": [
           "rgb(126, 197, 236)",
           "pink",
           "rgb(126, 197, 236)",
           "rgb(126, 197, 236)",
           "rgb(126, 197, 236)",
           "rgb(126, 197, 236)",
           "rgb(126, 197, 236)",
           "rgb(126, 197, 236)",
           "rgb(126, 197, 236)",
           "rgb(126, 197, 236)",
           "rgb(126, 197, 236)",
           "rgb(255, 49, 152)",
           "rgb(126, 197, 236)",
           "rgb(126, 197, 236)",
           "rgb(126, 197, 236)",
           "rgb(126, 197, 236)"
          ],
          "line": {
           "color": "grey",
           "width": 1.5
          },
          "opacity": 0.85,
          "size": [
           20,
           20,
           20,
           20,
           20,
           20,
           20,
           20,
           20,
           20,
           20,
           30,
           20,
           20,
           20,
           20
          ]
         },
         "mode": "lines+markers",
         "showlegend": false,
         "type": "scatter",
         "x": [
          0,
          20,
          40,
          60,
          80,
          82,
          102,
          122,
          162,
          164,
          184,
          186,
          188,
          218,
          231,
          233
         ],
         "xaxis": "x",
         "y": [
          "logs/exp_base-16-07-10",
          "logs/exp_base-16-07-10",
          "logs/exp_base-16-07-10",
          "logs/exp_base-16-07-10",
          "logs/exp_base-16-07-10",
          "logs/exp_base-16-07-10",
          "logs/exp_base-16-07-10",
          "logs/exp_base-16-07-10",
          "logs/exp_base-16-07-10",
          "logs/exp_base-16-07-10",
          "logs/exp_base-16-07-10",
          "logs/exp_base-16-07-10",
          "logs/exp_base-16-07-10",
          "logs/exp_base-16-07-10",
          "logs/exp_base-16-07-10",
          "logs/exp_base-16-07-10"
         ],
         "yaxis": "y"
        },
        {
         "legendgroup": "start",
         "marker": {
          "color": "rgba(255,255,255,.8)",
          "line": {
           "color": "#66c5cc",
           "width": 4
          },
          "size": 40,
          "symbol": "circle"
         },
         "mode": "markers",
         "name": "Base",
         "showlegend": false,
         "type": "scatter",
         "x": [
          0
         ],
         "xaxis": "x",
         "y": [
          "logs/exp_base-16-12-30"
         ],
         "yaxis": "y"
        },
        {
         "line": {
          "color": "black",
          "dash": "dot",
          "width": 0.5
         },
         "marker": {
          "color": [
           "rgb(126, 197, 236)",
           "rgb(126, 197, 236)",
           "rgb(126, 197, 236)",
           "rgb(126, 197, 236)",
           "rgb(126, 197, 236)",
           "rgb(126, 197, 236)",
           "rgb(126, 197, 236)",
           "rgb(126, 197, 236)",
           "rgb(126, 197, 236)",
           "rgb(126, 197, 236)",
           "rgb(126, 197, 236)",
           "rgb(126, 197, 236)",
           "rgb(126, 197, 236)",
           "rgb(126, 197, 236)",
           "rgb(126, 197, 236)",
           "rgb(255, 49, 152)",
           "rgb(126, 197, 236)",
           "rgb(126, 197, 236)",
           "rgb(126, 197, 236)",
           "rgb(126, 197, 236)"
          ],
          "line": {
           "color": "grey",
           "width": 1.5
          },
          "opacity": 0.85,
          "size": [
           20,
           20,
           20,
           20,
           20,
           20,
           20,
           20,
           20,
           20,
           20,
           20,
           20,
           20,
           20,
           30,
           20,
           20,
           20,
           20
          ]
         },
         "mode": "lines+markers",
         "showlegend": false,
         "type": "scatter",
         "x": [
          0,
          2,
          12,
          14,
          16,
          36,
          46,
          106,
          108,
          128,
          158,
          188,
          190,
          200,
          220,
          222,
          224,
          226,
          246,
          248
         ],
         "xaxis": "x",
         "y": [
          "logs/exp_base-16-12-30",
          "logs/exp_base-16-12-30",
          "logs/exp_base-16-12-30",
          "logs/exp_base-16-12-30",
          "logs/exp_base-16-12-30",
          "logs/exp_base-16-12-30",
          "logs/exp_base-16-12-30",
          "logs/exp_base-16-12-30",
          "logs/exp_base-16-12-30",
          "logs/exp_base-16-12-30",
          "logs/exp_base-16-12-30",
          "logs/exp_base-16-12-30",
          "logs/exp_base-16-12-30",
          "logs/exp_base-16-12-30",
          "logs/exp_base-16-12-30",
          "logs/exp_base-16-12-30",
          "logs/exp_base-16-12-30",
          "logs/exp_base-16-12-30",
          "logs/exp_base-16-12-30",
          "logs/exp_base-16-12-30"
         ],
         "yaxis": "y"
        },
        {
         "legendgroup": "start",
         "marker": {
          "color": "rgba(255,255,255,.8)",
          "line": {
           "color": "#66c5cc",
           "width": 4
          },
          "size": 40,
          "symbol": "circle"
         },
         "mode": "markers",
         "name": "Base",
         "showlegend": false,
         "type": "scatter",
         "x": [
          0
         ],
         "xaxis": "x",
         "y": [
          "logs/exp_base-16-17-39"
         ],
         "yaxis": "y"
        },
        {
         "line": {
          "color": "black",
          "dash": "dot",
          "width": 0.5
         },
         "marker": {
          "color": [
           "rgb(126, 197, 236)",
           "rgb(126, 197, 236)",
           "rgb(126, 197, 236)",
           "pink",
           "rgb(126, 197, 236)",
           "rgb(126, 197, 236)",
           "rgb(126, 197, 236)",
           "rgb(126, 197, 236)",
           "rgb(126, 197, 236)",
           "rgb(126, 197, 236)",
           "rgb(126, 197, 236)",
           "rgb(126, 197, 236)",
           "rgb(126, 197, 236)",
           "rgb(126, 197, 236)",
           "rgb(126, 197, 236)",
           "rgb(126, 197, 236)",
           "rgb(126, 197, 236)",
           "rgb(255, 49, 152)",
           "rgb(126, 197, 236)",
           "rgb(126, 197, 236)",
           "rgb(126, 197, 236)",
           "rgb(126, 197, 236)"
          ],
          "line": {
           "color": "grey",
           "width": 1.5
          },
          "opacity": 0.85,
          "size": [
           20,
           20,
           20,
           20,
           20,
           20,
           20,
           20,
           20,
           20,
           20,
           20,
           20,
           20,
           20,
           20,
           20,
           30,
           20,
           20,
           20,
           20
          ]
         },
         "mode": "lines+markers",
         "showlegend": false,
         "type": "scatter",
         "x": [
          0,
          2,
          4,
          14,
          44,
          46,
          66,
          106,
          108,
          110,
          130,
          150,
          190,
          192,
          194,
          196,
          216,
          218,
          238,
          240,
          242,
          244
         ],
         "xaxis": "x",
         "y": [
          "logs/exp_base-16-17-39",
          "logs/exp_base-16-17-39",
          "logs/exp_base-16-17-39",
          "logs/exp_base-16-17-39",
          "logs/exp_base-16-17-39",
          "logs/exp_base-16-17-39",
          "logs/exp_base-16-17-39",
          "logs/exp_base-16-17-39",
          "logs/exp_base-16-17-39",
          "logs/exp_base-16-17-39",
          "logs/exp_base-16-17-39",
          "logs/exp_base-16-17-39",
          "logs/exp_base-16-17-39",
          "logs/exp_base-16-17-39",
          "logs/exp_base-16-17-39",
          "logs/exp_base-16-17-39",
          "logs/exp_base-16-17-39",
          "logs/exp_base-16-17-39",
          "logs/exp_base-16-17-39",
          "logs/exp_base-16-17-39",
          "logs/exp_base-16-17-39",
          "logs/exp_base-16-17-39"
         ],
         "yaxis": "y"
        },
        {
         "legendgroup": "start",
         "marker": {
          "color": "rgba(255,255,255,.8)",
          "line": {
           "color": "#66c5cc",
           "width": 4
          },
          "size": 40,
          "symbol": "circle"
         },
         "mode": "markers",
         "name": "Base",
         "showlegend": false,
         "type": "scatter",
         "x": [
          0
         ],
         "xaxis": "x",
         "y": [
          "logs/exp_base-16-25-40"
         ],
         "yaxis": "y"
        },
        {
         "line": {
          "color": "black",
          "dash": "dot",
          "width": 0.5
         },
         "marker": {
          "color": [
           "rgb(126, 197, 236)",
           "rgb(126, 197, 236)",
           "rgb(126, 197, 236)",
           "rgb(126, 197, 236)",
           "rgb(126, 197, 236)",
           "rgb(126, 197, 236)",
           "rgb(126, 197, 236)",
           "rgb(126, 197, 236)",
           "rgb(126, 197, 236)",
           "rgb(126, 197, 236)",
           "rgb(126, 197, 236)",
           "rgb(255, 49, 152)",
           "rgb(126, 197, 236)",
           "rgb(126, 197, 236)",
           "pink",
           "pink"
          ],
          "line": {
           "color": "grey",
           "width": 1.5
          },
          "opacity": 0.85,
          "size": [
           20,
           20,
           20,
           20,
           20,
           20,
           20,
           20,
           20,
           20,
           20,
           30,
           20,
           20,
           20,
           20
          ]
         },
         "mode": "lines+markers",
         "showlegend": false,
         "type": "scatter",
         "x": [
          0,
          10,
          30,
          70,
          72,
          74,
          76,
          86,
          106,
          146,
          166,
          168,
          170,
          172,
          174,
          176
         ],
         "xaxis": "x",
         "y": [
          "logs/exp_base-16-25-40",
          "logs/exp_base-16-25-40",
          "logs/exp_base-16-25-40",
          "logs/exp_base-16-25-40",
          "logs/exp_base-16-25-40",
          "logs/exp_base-16-25-40",
          "logs/exp_base-16-25-40",
          "logs/exp_base-16-25-40",
          "logs/exp_base-16-25-40",
          "logs/exp_base-16-25-40",
          "logs/exp_base-16-25-40",
          "logs/exp_base-16-25-40",
          "logs/exp_base-16-25-40",
          "logs/exp_base-16-25-40",
          "logs/exp_base-16-25-40",
          "logs/exp_base-16-25-40"
         ],
         "yaxis": "y"
        },
        {
         "legendgroup": "start",
         "marker": {
          "color": "rgba(255,255,255,.8)",
          "line": {
           "color": "#66c5cc",
           "width": 4
          },
          "size": 40,
          "symbol": "circle"
         },
         "mode": "markers",
         "name": "Base",
         "showlegend": false,
         "type": "scatter",
         "x": [
          0
         ],
         "xaxis": "x",
         "y": [
          "logs/exp_base-16-34-05"
         ],
         "yaxis": "y"
        },
        {
         "line": {
          "color": "black",
          "dash": "dot",
          "width": 0.5
         },
         "marker": {
          "color": [
           "rgb(126, 197, 236)",
           "rgb(126, 197, 236)",
           "rgb(126, 197, 236)",
           "rgb(126, 197, 236)",
           "rgb(126, 197, 236)",
           "rgb(126, 197, 236)",
           "rgb(126, 197, 236)",
           "rgb(126, 197, 236)",
           "rgb(126, 197, 236)",
           "rgb(126, 197, 236)",
           "rgb(126, 197, 236)",
           "rgb(255, 49, 152)",
           "rgb(126, 197, 236)",
           "rgb(126, 197, 236)",
           "rgb(126, 197, 236)",
           "rgb(126, 197, 236)"
          ],
          "line": {
           "color": "grey",
           "width": 1.5
          },
          "opacity": 0.85,
          "size": [
           20,
           20,
           20,
           20,
           20,
           20,
           20,
           20,
           20,
           20,
           20,
           30,
           20,
           20,
           20,
           20
          ]
         },
         "mode": "lines+markers",
         "showlegend": false,
         "type": "scatter",
         "x": [
          0,
          10,
          40,
          70,
          72,
          102,
          132,
          162,
          164,
          186,
          188,
          190,
          200,
          220,
          259,
          261
         ],
         "xaxis": "x",
         "y": [
          "logs/exp_base-16-34-05",
          "logs/exp_base-16-34-05",
          "logs/exp_base-16-34-05",
          "logs/exp_base-16-34-05",
          "logs/exp_base-16-34-05",
          "logs/exp_base-16-34-05",
          "logs/exp_base-16-34-05",
          "logs/exp_base-16-34-05",
          "logs/exp_base-16-34-05",
          "logs/exp_base-16-34-05",
          "logs/exp_base-16-34-05",
          "logs/exp_base-16-34-05",
          "logs/exp_base-16-34-05",
          "logs/exp_base-16-34-05",
          "logs/exp_base-16-34-05",
          "logs/exp_base-16-34-05"
         ],
         "yaxis": "y"
        },
        {
         "legendgroup": "start",
         "marker": {
          "color": "rgba(255,255,255,.8)",
          "line": {
           "color": "#66c5cc",
           "width": 4
          },
          "size": 40,
          "symbol": "circle"
         },
         "mode": "markers",
         "name": "Base",
         "showlegend": false,
         "type": "scatter",
         "x": [
          0
         ],
         "xaxis": "x",
         "y": [
          "logs/exp_base-16-39-16"
         ],
         "yaxis": "y"
        },
        {
         "line": {
          "color": "black",
          "dash": "dot",
          "width": 0.5
         },
         "marker": {
          "color": [
           "rgb(126, 197, 236)",
           "rgb(126, 197, 236)",
           "rgb(126, 197, 236)",
           "rgb(126, 197, 236)",
           "rgb(126, 197, 236)",
           "rgb(126, 197, 236)",
           "rgb(126, 197, 236)",
           "rgb(255, 49, 152)",
           "rgb(126, 197, 236)",
           "rgb(126, 197, 236)",
           "rgb(126, 197, 236)",
           "rgb(126, 197, 236)"
          ],
          "line": {
           "color": "grey",
           "width": 1.5
          },
          "opacity": 0.85,
          "size": [
           20,
           20,
           20,
           20,
           20,
           20,
           20,
           30,
           20,
           20,
           20,
           20
          ]
         },
         "mode": "lines+markers",
         "showlegend": false,
         "type": "scatter",
         "x": [
          0,
          40,
          60,
          62,
          102,
          122,
          152,
          154,
          156,
          158,
          160,
          162
         ],
         "xaxis": "x",
         "y": [
          "logs/exp_base-16-39-16",
          "logs/exp_base-16-39-16",
          "logs/exp_base-16-39-16",
          "logs/exp_base-16-39-16",
          "logs/exp_base-16-39-16",
          "logs/exp_base-16-39-16",
          "logs/exp_base-16-39-16",
          "logs/exp_base-16-39-16",
          "logs/exp_base-16-39-16",
          "logs/exp_base-16-39-16",
          "logs/exp_base-16-39-16",
          "logs/exp_base-16-39-16"
         ],
         "yaxis": "y"
        },
        {
         "legendgroup": "start",
         "marker": {
          "color": "rgba(255,255,255,.8)",
          "line": {
           "color": "#66c5cc",
           "width": 4
          },
          "size": 40,
          "symbol": "circle"
         },
         "mode": "markers",
         "name": "Base",
         "showlegend": false,
         "type": "scatter",
         "x": [
          0
         ],
         "xaxis": "x",
         "y": [
          "logs/exp_base-16-53-25"
         ],
         "yaxis": "y"
        },
        {
         "line": {
          "color": "black",
          "dash": "dot",
          "width": 0.5
         },
         "marker": {
          "color": [
           "rgb(126, 197, 236)",
           "pink",
           "rgb(126, 197, 236)",
           "pink",
           "rgb(126, 197, 236)",
           "rgb(126, 197, 236)",
           "rgb(126, 197, 236)",
           "rgb(126, 197, 236)",
           "rgb(126, 197, 236)",
           "pink",
           "rgb(126, 197, 236)",
           "rgb(255, 49, 152)",
           "rgb(126, 197, 236)",
           "rgb(126, 197, 236)",
           "rgb(126, 197, 236)",
           "rgb(126, 197, 236)"
          ],
          "line": {
           "color": "grey",
           "width": 1.5
          },
          "opacity": 0.85,
          "size": [
           20,
           20,
           20,
           20,
           20,
           20,
           20,
           20,
           20,
           20,
           20,
           30,
           20,
           20,
           20,
           20
          ]
         },
         "mode": "lines+markers",
         "showlegend": false,
         "type": "scatter",
         "x": [
          0,
          20,
          40,
          60,
          62,
          82,
          84,
          86,
          106,
          136,
          140,
          142,
          147,
          149,
          164,
          166
         ],
         "xaxis": "x",
         "y": [
          "logs/exp_base-16-53-25",
          "logs/exp_base-16-53-25",
          "logs/exp_base-16-53-25",
          "logs/exp_base-16-53-25",
          "logs/exp_base-16-53-25",
          "logs/exp_base-16-53-25",
          "logs/exp_base-16-53-25",
          "logs/exp_base-16-53-25",
          "logs/exp_base-16-53-25",
          "logs/exp_base-16-53-25",
          "logs/exp_base-16-53-25",
          "logs/exp_base-16-53-25",
          "logs/exp_base-16-53-25",
          "logs/exp_base-16-53-25",
          "logs/exp_base-16-53-25",
          "logs/exp_base-16-53-25"
         ],
         "yaxis": "y"
        },
        {
         "legendgroup": "start",
         "marker": {
          "color": "rgba(255,255,255,.8)",
          "line": {
           "color": "#66c5cc",
           "width": 4
          },
          "size": 40,
          "symbol": "circle"
         },
         "mode": "markers",
         "name": "Base",
         "showlegend": false,
         "type": "scatter",
         "x": [
          0
         ],
         "xaxis": "x",
         "y": [
          "logs/exp_base-16-57-34"
         ],
         "yaxis": "y"
        },
        {
         "line": {
          "color": "black",
          "dash": "dot",
          "width": 0.5
         },
         "marker": {
          "color": [
           "rgb(126, 197, 236)",
           "rgb(126, 197, 236)",
           "rgb(126, 197, 236)",
           "rgb(126, 197, 236)",
           "rgb(126, 197, 236)",
           "pink",
           "rgb(126, 197, 236)",
           "rgb(126, 197, 236)",
           "rgb(126, 197, 236)",
           "rgb(126, 197, 236)",
           "rgb(126, 197, 236)",
           "rgb(126, 197, 236)",
           "rgb(126, 197, 236)",
           "rgb(126, 197, 236)",
           "rgb(126, 197, 236)",
           "rgb(126, 197, 236)",
           "rgb(255, 49, 152)",
           "rgb(126, 197, 236)",
           "rgb(126, 197, 236)"
          ],
          "line": {
           "color": "grey",
           "width": 1.5
          },
          "opacity": 0.85,
          "size": [
           20,
           20,
           20,
           20,
           20,
           20,
           20,
           20,
           20,
           20,
           20,
           20,
           20,
           20,
           20,
           20,
           30,
           20,
           20
          ]
         },
         "mode": "lines+markers",
         "showlegend": false,
         "type": "scatter",
         "x": [
          0,
          10,
          20,
          40,
          50,
          70,
          72,
          92,
          112,
          132,
          134,
          154,
          174,
          204,
          206,
          216,
          218,
          238,
          258
         ],
         "xaxis": "x",
         "y": [
          "logs/exp_base-16-57-34",
          "logs/exp_base-16-57-34",
          "logs/exp_base-16-57-34",
          "logs/exp_base-16-57-34",
          "logs/exp_base-16-57-34",
          "logs/exp_base-16-57-34",
          "logs/exp_base-16-57-34",
          "logs/exp_base-16-57-34",
          "logs/exp_base-16-57-34",
          "logs/exp_base-16-57-34",
          "logs/exp_base-16-57-34",
          "logs/exp_base-16-57-34",
          "logs/exp_base-16-57-34",
          "logs/exp_base-16-57-34",
          "logs/exp_base-16-57-34",
          "logs/exp_base-16-57-34",
          "logs/exp_base-16-57-34",
          "logs/exp_base-16-57-34",
          "logs/exp_base-16-57-34"
         ],
         "yaxis": "y"
        },
        {
         "legendgroup": "start",
         "marker": {
          "color": "rgba(255,255,255,.8)",
          "line": {
           "color": "#66c5cc",
           "width": 4
          },
          "size": 40,
          "symbol": "circle"
         },
         "mode": "markers",
         "name": "Base",
         "showlegend": false,
         "type": "scatter",
         "x": [
          0
         ],
         "xaxis": "x",
         "y": [
          "logs/exp_base-17-20-26"
         ],
         "yaxis": "y"
        },
        {
         "line": {
          "color": "black",
          "dash": "dot",
          "width": 0.5
         },
         "marker": {
          "color": [
           "rgb(126, 197, 236)",
           "rgb(126, 197, 236)",
           "rgb(126, 197, 236)",
           "rgb(126, 197, 236)",
           "rgb(126, 197, 236)",
           "rgb(126, 197, 236)",
           "rgb(126, 197, 236)",
           "rgb(126, 197, 236)",
           "rgb(126, 197, 236)",
           "rgb(126, 197, 236)",
           "rgb(126, 197, 236)",
           "rgb(126, 197, 236)",
           "rgb(126, 197, 236)",
           "rgb(126, 197, 236)",
           "rgb(255, 49, 152)",
           "rgb(126, 197, 236)",
           "rgb(126, 197, 236)",
           "rgb(126, 197, 236)",
           "rgb(126, 197, 236)"
          ],
          "line": {
           "color": "grey",
           "width": 1.5
          },
          "opacity": 0.85,
          "size": [
           20,
           20,
           20,
           20,
           20,
           20,
           20,
           20,
           20,
           20,
           20,
           20,
           20,
           20,
           30,
           20,
           20,
           20,
           20
          ]
         },
         "mode": "lines+markers",
         "showlegend": false,
         "type": "scatter",
         "x": [
          0,
          8,
          24,
          44,
          46,
          48,
          68,
          88,
          90,
          110,
          130,
          150,
          160,
          170,
          172,
          174,
          176,
          184,
          194
         ],
         "xaxis": "x",
         "y": [
          "logs/exp_base-17-20-26",
          "logs/exp_base-17-20-26",
          "logs/exp_base-17-20-26",
          "logs/exp_base-17-20-26",
          "logs/exp_base-17-20-26",
          "logs/exp_base-17-20-26",
          "logs/exp_base-17-20-26",
          "logs/exp_base-17-20-26",
          "logs/exp_base-17-20-26",
          "logs/exp_base-17-20-26",
          "logs/exp_base-17-20-26",
          "logs/exp_base-17-20-26",
          "logs/exp_base-17-20-26",
          "logs/exp_base-17-20-26",
          "logs/exp_base-17-20-26",
          "logs/exp_base-17-20-26",
          "logs/exp_base-17-20-26",
          "logs/exp_base-17-20-26",
          "logs/exp_base-17-20-26"
         ],
         "yaxis": "y"
        },
        {
         "legendgroup": "start",
         "marker": {
          "color": "rgba(255,255,255,.8)",
          "line": {
           "color": "#f6cf71",
           "width": 4
          },
          "size": 40,
          "symbol": "circle"
         },
         "mode": "markers",
         "name": "Male",
         "showlegend": false,
         "type": "scatter",
         "x": [
          0
         ],
         "xaxis": "x",
         "y": [
          "logs/exp_male-10-05-45"
         ],
         "yaxis": "y"
        },
        {
         "line": {
          "color": "black",
          "dash": "dot",
          "width": 0.5
         },
         "marker": {
          "color": [
           "rgb(126, 197, 236)",
           "rgb(126, 197, 236)",
           "rgb(126, 197, 236)",
           "rgb(126, 197, 236)",
           "rgb(126, 197, 236)",
           "rgb(126, 197, 236)",
           "rgb(126, 197, 236)",
           "rgb(255, 49, 152)",
           "rgb(126, 197, 236)",
           "rgb(126, 197, 236)",
           "pink",
           "rgb(126, 197, 236)"
          ],
          "line": {
           "color": "grey",
           "width": 1.5
          },
          "opacity": 0.85,
          "size": [
           20,
           20,
           20,
           20,
           20,
           20,
           20,
           30,
           20,
           20,
           20,
           20
          ]
         },
         "mode": "lines+markers",
         "showlegend": false,
         "type": "scatter",
         "x": [
          0,
          10,
          50,
          52,
          82,
          102,
          132,
          134,
          136,
          138,
          144,
          146
         ],
         "xaxis": "x",
         "y": [
          "logs/exp_male-10-05-45",
          "logs/exp_male-10-05-45",
          "logs/exp_male-10-05-45",
          "logs/exp_male-10-05-45",
          "logs/exp_male-10-05-45",
          "logs/exp_male-10-05-45",
          "logs/exp_male-10-05-45",
          "logs/exp_male-10-05-45",
          "logs/exp_male-10-05-45",
          "logs/exp_male-10-05-45",
          "logs/exp_male-10-05-45",
          "logs/exp_male-10-05-45"
         ],
         "yaxis": "y"
        },
        {
         "legendgroup": "start",
         "marker": {
          "color": "rgba(255,255,255,.8)",
          "line": {
           "color": "#f6cf71",
           "width": 4
          },
          "size": 40,
          "symbol": "circle"
         },
         "mode": "markers",
         "name": "Male",
         "showlegend": false,
         "type": "scatter",
         "x": [
          0
         ],
         "xaxis": "x",
         "y": [
          "logs/exp_male-10-08-56"
         ],
         "yaxis": "y"
        },
        {
         "line": {
          "color": "black",
          "dash": "dot",
          "width": 0.5
         },
         "marker": {
          "color": [
           "rgb(126, 197, 236)",
           "rgb(126, 197, 236)",
           "rgb(126, 197, 236)",
           "rgb(126, 197, 236)",
           "rgb(126, 197, 236)",
           "rgb(126, 197, 236)",
           "rgb(126, 197, 236)",
           "rgb(126, 197, 236)",
           "rgb(126, 197, 236)",
           "rgb(255, 49, 152)",
           "rgb(126, 197, 236)",
           "rgb(126, 197, 236)",
           "rgb(126, 197, 236)",
           "rgb(126, 197, 236)"
          ],
          "line": {
           "color": "grey",
           "width": 1.5
          },
          "opacity": 0.85,
          "size": [
           20,
           20,
           20,
           20,
           20,
           20,
           20,
           20,
           20,
           30,
           20,
           20,
           20,
           20
          ]
         },
         "mode": "lines+markers",
         "showlegend": false,
         "type": "scatter",
         "x": [
          0,
          20,
          40,
          50,
          52,
          72,
          92,
          112,
          132,
          134,
          154,
          156,
          176,
          180
         ],
         "xaxis": "x",
         "y": [
          "logs/exp_male-10-08-56",
          "logs/exp_male-10-08-56",
          "logs/exp_male-10-08-56",
          "logs/exp_male-10-08-56",
          "logs/exp_male-10-08-56",
          "logs/exp_male-10-08-56",
          "logs/exp_male-10-08-56",
          "logs/exp_male-10-08-56",
          "logs/exp_male-10-08-56",
          "logs/exp_male-10-08-56",
          "logs/exp_male-10-08-56",
          "logs/exp_male-10-08-56",
          "logs/exp_male-10-08-56",
          "logs/exp_male-10-08-56"
         ],
         "yaxis": "y"
        },
        {
         "legendgroup": "start",
         "marker": {
          "color": "rgba(255,255,255,.8)",
          "line": {
           "color": "#f6cf71",
           "width": 4
          },
          "size": 40,
          "symbol": "circle"
         },
         "mode": "markers",
         "name": "Male",
         "showlegend": false,
         "type": "scatter",
         "x": [
          0
         ],
         "xaxis": "x",
         "y": [
          "logs/exp_male-10-12-05"
         ],
         "yaxis": "y"
        },
        {
         "line": {
          "color": "black",
          "dash": "dot",
          "width": 0.5
         },
         "marker": {
          "color": [
           "rgb(126, 197, 236)",
           "rgb(126, 197, 236)",
           "rgb(126, 197, 236)",
           "rgb(126, 197, 236)",
           "rgb(126, 197, 236)",
           "rgb(126, 197, 236)",
           "rgb(126, 197, 236)",
           "rgb(126, 197, 236)",
           "rgb(126, 197, 236)",
           "rgb(126, 197, 236)",
           "pink",
           "rgb(126, 197, 236)",
           "rgb(255, 49, 152)",
           "rgb(255, 49, 152)",
           "rgb(200,200,200)",
           "rgb(126, 197, 236)",
           "rgb(126, 197, 236)",
           "pink"
          ],
          "line": {
           "color": "grey",
           "width": 1.5
          },
          "opacity": 0.85,
          "size": [
           20,
           20,
           20,
           20,
           20,
           20,
           20,
           20,
           20,
           20,
           20,
           20,
           30,
           30,
           20,
           20,
           20,
           20
          ]
         },
         "mode": "lines+markers",
         "showlegend": false,
         "type": "scatter",
         "x": [
          0,
          16,
          18,
          38,
          58,
          98,
          100,
          120,
          140,
          142,
          152,
          172,
          174,
          176,
          178,
          180,
          182,
          184
         ],
         "xaxis": "x",
         "y": [
          "logs/exp_male-10-12-05",
          "logs/exp_male-10-12-05",
          "logs/exp_male-10-12-05",
          "logs/exp_male-10-12-05",
          "logs/exp_male-10-12-05",
          "logs/exp_male-10-12-05",
          "logs/exp_male-10-12-05",
          "logs/exp_male-10-12-05",
          "logs/exp_male-10-12-05",
          "logs/exp_male-10-12-05",
          "logs/exp_male-10-12-05",
          "logs/exp_male-10-12-05",
          "logs/exp_male-10-12-05",
          "logs/exp_male-10-12-05",
          "logs/exp_male-10-12-05",
          "logs/exp_male-10-12-05",
          "logs/exp_male-10-12-05",
          "logs/exp_male-10-12-05"
         ],
         "yaxis": "y"
        },
        {
         "legendgroup": "start",
         "marker": {
          "color": "rgba(255,255,255,.8)",
          "line": {
           "color": "#f6cf71",
           "width": 4
          },
          "size": 40,
          "symbol": "circle"
         },
         "mode": "markers",
         "name": "Male",
         "showlegend": false,
         "type": "scatter",
         "x": [
          0
         ],
         "xaxis": "x",
         "y": [
          "logs/exp_male-10-24-49"
         ],
         "yaxis": "y"
        },
        {
         "line": {
          "color": "black",
          "dash": "dot",
          "width": 0.5
         },
         "marker": {
          "color": [
           "rgb(200,200,200)",
           "rgb(126, 197, 236)",
           "rgb(126, 197, 236)",
           "rgb(126, 197, 236)",
           "rgb(126, 197, 236)",
           "rgb(126, 197, 236)",
           "rgb(126, 197, 236)",
           "rgb(126, 197, 236)",
           "rgb(126, 197, 236)",
           "rgb(126, 197, 236)",
           "rgb(255, 49, 152)",
           "pink",
           "rgb(200,200,200)",
           "rgb(126, 197, 236)",
           "pink"
          ],
          "line": {
           "color": "grey",
           "width": 1.5
          },
          "opacity": 0.85,
          "size": [
           20,
           20,
           20,
           20,
           20,
           20,
           20,
           20,
           20,
           20,
           30,
           20,
           20,
           20,
           20
          ]
         },
         "mode": "lines+markers",
         "showlegend": false,
         "type": "scatter",
         "x": [
          0,
          20,
          50,
          70,
          72,
          112,
          132,
          134,
          136,
          161,
          163,
          165,
          167,
          169,
          171
         ],
         "xaxis": "x",
         "y": [
          "logs/exp_male-10-24-49",
          "logs/exp_male-10-24-49",
          "logs/exp_male-10-24-49",
          "logs/exp_male-10-24-49",
          "logs/exp_male-10-24-49",
          "logs/exp_male-10-24-49",
          "logs/exp_male-10-24-49",
          "logs/exp_male-10-24-49",
          "logs/exp_male-10-24-49",
          "logs/exp_male-10-24-49",
          "logs/exp_male-10-24-49",
          "logs/exp_male-10-24-49",
          "logs/exp_male-10-24-49",
          "logs/exp_male-10-24-49",
          "logs/exp_male-10-24-49"
         ],
         "yaxis": "y"
        },
        {
         "legendgroup": "start",
         "marker": {
          "color": "rgba(255,255,255,.8)",
          "line": {
           "color": "#f6cf71",
           "width": 4
          },
          "size": 40,
          "symbol": "circle"
         },
         "mode": "markers",
         "name": "Male",
         "showlegend": false,
         "type": "scatter",
         "x": [
          0
         ],
         "xaxis": "x",
         "y": [
          "logs/exp_male-10-29-15"
         ],
         "yaxis": "y"
        },
        {
         "line": {
          "color": "black",
          "dash": "dot",
          "width": 0.5
         },
         "marker": {
          "color": [
           "rgb(126, 197, 236)",
           "rgb(126, 197, 236)",
           "pink",
           "rgb(126, 197, 236)",
           "rgb(126, 197, 236)",
           "rgb(126, 197, 236)",
           "pink",
           "rgb(126, 197, 236)",
           "rgb(126, 197, 236)",
           "rgb(255, 49, 152)",
           "rgb(126, 197, 236)",
           "rgb(126, 197, 236)",
           "rgb(126, 197, 236)",
           "rgb(126, 197, 236)"
          ],
          "line": {
           "color": "grey",
           "width": 1.5
          },
          "opacity": 0.85,
          "size": [
           20,
           20,
           20,
           20,
           20,
           20,
           20,
           20,
           20,
           30,
           20,
           20,
           20,
           20
          ]
         },
         "mode": "lines+markers",
         "showlegend": false,
         "type": "scatter",
         "x": [
          0,
          40,
          80,
          82,
          122,
          124,
          144,
          184,
          186,
          188,
          190,
          200,
          220,
          240
         ],
         "xaxis": "x",
         "y": [
          "logs/exp_male-10-29-15",
          "logs/exp_male-10-29-15",
          "logs/exp_male-10-29-15",
          "logs/exp_male-10-29-15",
          "logs/exp_male-10-29-15",
          "logs/exp_male-10-29-15",
          "logs/exp_male-10-29-15",
          "logs/exp_male-10-29-15",
          "logs/exp_male-10-29-15",
          "logs/exp_male-10-29-15",
          "logs/exp_male-10-29-15",
          "logs/exp_male-10-29-15",
          "logs/exp_male-10-29-15",
          "logs/exp_male-10-29-15"
         ],
         "yaxis": "y"
        },
        {
         "legendgroup": "start",
         "marker": {
          "color": "rgba(255,255,255,.8)",
          "line": {
           "color": "#f6cf71",
           "width": 4
          },
          "size": 40,
          "symbol": "circle"
         },
         "mode": "markers",
         "name": "Male",
         "showlegend": false,
         "type": "scatter",
         "x": [
          0
         ],
         "xaxis": "x",
         "y": [
          "logs/exp_male-10-45-39"
         ],
         "yaxis": "y"
        },
        {
         "line": {
          "color": "black",
          "dash": "dot",
          "width": 0.5
         },
         "marker": {
          "color": [
           "rgb(126, 197, 236)",
           "rgb(126, 197, 236)",
           "rgb(126, 197, 236)",
           "rgb(126, 197, 236)",
           "rgb(126, 197, 236)",
           "rgb(126, 197, 236)",
           "rgb(126, 197, 236)",
           "rgb(255, 49, 152)",
           "rgb(126, 197, 236)",
           "rgb(126, 197, 236)",
           "rgb(126, 197, 236)",
           "rgb(126, 197, 236)"
          ],
          "line": {
           "color": "grey",
           "width": 1.5
          },
          "opacity": 0.85,
          "size": [
           20,
           20,
           20,
           20,
           20,
           20,
           20,
           30,
           20,
           20,
           20,
           20
          ]
         },
         "mode": "lines+markers",
         "showlegend": false,
         "type": "scatter",
         "x": [
          0,
          20,
          60,
          62,
          82,
          122,
          142,
          144,
          164,
          166,
          168,
          170
         ],
         "xaxis": "x",
         "y": [
          "logs/exp_male-10-45-39",
          "logs/exp_male-10-45-39",
          "logs/exp_male-10-45-39",
          "logs/exp_male-10-45-39",
          "logs/exp_male-10-45-39",
          "logs/exp_male-10-45-39",
          "logs/exp_male-10-45-39",
          "logs/exp_male-10-45-39",
          "logs/exp_male-10-45-39",
          "logs/exp_male-10-45-39",
          "logs/exp_male-10-45-39",
          "logs/exp_male-10-45-39"
         ],
         "yaxis": "y"
        },
        {
         "legendgroup": "start",
         "marker": {
          "color": "rgba(255,255,255,.8)",
          "line": {
           "color": "#f6cf71",
           "width": 4
          },
          "size": 40,
          "symbol": "circle"
         },
         "mode": "markers",
         "name": "Male",
         "showlegend": false,
         "type": "scatter",
         "x": [
          0
         ],
         "xaxis": "x",
         "y": [
          "logs/exp_male-12-26-52"
         ],
         "yaxis": "y"
        },
        {
         "line": {
          "color": "black",
          "dash": "dot",
          "width": 0.5
         },
         "marker": {
          "color": [
           "rgb(126, 197, 236)",
           "rgb(126, 197, 236)",
           "rgb(126, 197, 236)",
           "rgb(126, 197, 236)",
           "rgb(126, 197, 236)",
           "rgb(126, 197, 236)",
           "rgb(126, 197, 236)",
           "rgb(126, 197, 236)",
           "rgb(126, 197, 236)",
           "rgb(126, 197, 236)",
           "rgb(126, 197, 236)",
           "rgb(126, 197, 236)",
           "rgb(126, 197, 236)",
           "rgb(255, 49, 152)",
           "rgb(126, 197, 236)",
           "rgb(126, 197, 236)",
           "rgb(126, 197, 236)",
           "rgb(126, 197, 236)"
          ],
          "line": {
           "color": "grey",
           "width": 1.5
          },
          "opacity": 0.85,
          "size": [
           20,
           20,
           20,
           20,
           20,
           20,
           20,
           20,
           20,
           20,
           20,
           20,
           20,
           30,
           20,
           20,
           20,
           20
          ]
         },
         "mode": "lines+markers",
         "showlegend": false,
         "type": "scatter",
         "x": [
          0,
          6,
          18,
          28,
          30,
          50,
          60,
          70,
          72,
          92,
          96,
          136,
          160,
          162,
          164,
          184,
          204,
          244
         ],
         "xaxis": "x",
         "y": [
          "logs/exp_male-12-26-52",
          "logs/exp_male-12-26-52",
          "logs/exp_male-12-26-52",
          "logs/exp_male-12-26-52",
          "logs/exp_male-12-26-52",
          "logs/exp_male-12-26-52",
          "logs/exp_male-12-26-52",
          "logs/exp_male-12-26-52",
          "logs/exp_male-12-26-52",
          "logs/exp_male-12-26-52",
          "logs/exp_male-12-26-52",
          "logs/exp_male-12-26-52",
          "logs/exp_male-12-26-52",
          "logs/exp_male-12-26-52",
          "logs/exp_male-12-26-52",
          "logs/exp_male-12-26-52",
          "logs/exp_male-12-26-52",
          "logs/exp_male-12-26-52"
         ],
         "yaxis": "y"
        },
        {
         "legendgroup": "start",
         "marker": {
          "color": "rgba(255,255,255,.8)",
          "line": {
           "color": "#f6cf71",
           "width": 4
          },
          "size": 40,
          "symbol": "circle"
         },
         "mode": "markers",
         "name": "Male",
         "showlegend": false,
         "type": "scatter",
         "x": [
          0
         ],
         "xaxis": "x",
         "y": [
          "logs/exp_male-12-32-23"
         ],
         "yaxis": "y"
        },
        {
         "line": {
          "color": "black",
          "dash": "dot",
          "width": 0.5
         },
         "marker": {
          "color": [
           "pink",
           "rgb(126, 197, 236)",
           "rgb(126, 197, 236)",
           "rgb(126, 197, 236)",
           "rgb(126, 197, 236)",
           "rgb(126, 197, 236)",
           "rgb(126, 197, 236)",
           "rgb(126, 197, 236)",
           "pink",
           "rgb(126, 197, 236)",
           "rgb(126, 197, 236)",
           "rgb(126, 197, 236)",
           "rgb(126, 197, 236)",
           "rgb(126, 197, 236)",
           "rgb(126, 197, 236)",
           "rgb(126, 197, 236)",
           "rgb(126, 197, 236)",
           "rgb(126, 197, 236)",
           "rgb(255, 49, 152)",
           "rgb(126, 197, 236)",
           "rgb(126, 197, 236)",
           "rgb(126, 197, 236)",
           "rgb(126, 197, 236)"
          ],
          "line": {
           "color": "grey",
           "width": 1.5
          },
          "opacity": 0.85,
          "size": [
           20,
           20,
           20,
           20,
           20,
           20,
           20,
           20,
           20,
           20,
           20,
           20,
           20,
           20,
           20,
           20,
           20,
           20,
           30,
           20,
           20,
           20,
           20
          ]
         },
         "mode": "lines+markers",
         "showlegend": false,
         "type": "scatter",
         "x": [
          0,
          10,
          20,
          30,
          32,
          52,
          54,
          66,
          68,
          80,
          82,
          84,
          86,
          94,
          96,
          116,
          132,
          160,
          162,
          182,
          202,
          236,
          238
         ],
         "xaxis": "x",
         "y": [
          "logs/exp_male-12-32-23",
          "logs/exp_male-12-32-23",
          "logs/exp_male-12-32-23",
          "logs/exp_male-12-32-23",
          "logs/exp_male-12-32-23",
          "logs/exp_male-12-32-23",
          "logs/exp_male-12-32-23",
          "logs/exp_male-12-32-23",
          "logs/exp_male-12-32-23",
          "logs/exp_male-12-32-23",
          "logs/exp_male-12-32-23",
          "logs/exp_male-12-32-23",
          "logs/exp_male-12-32-23",
          "logs/exp_male-12-32-23",
          "logs/exp_male-12-32-23",
          "logs/exp_male-12-32-23",
          "logs/exp_male-12-32-23",
          "logs/exp_male-12-32-23",
          "logs/exp_male-12-32-23",
          "logs/exp_male-12-32-23",
          "logs/exp_male-12-32-23",
          "logs/exp_male-12-32-23",
          "logs/exp_male-12-32-23"
         ],
         "yaxis": "y"
        },
        {
         "legendgroup": "start",
         "marker": {
          "color": "rgba(255,255,255,.8)",
          "line": {
           "color": "#f6cf71",
           "width": 4
          },
          "size": 40,
          "symbol": "circle"
         },
         "mode": "markers",
         "name": "Male",
         "showlegend": false,
         "type": "scatter",
         "x": [
          0
         ],
         "xaxis": "x",
         "y": [
          "logs/exp_male-12-38-43"
         ],
         "yaxis": "y"
        },
        {
         "line": {
          "color": "black",
          "dash": "dot",
          "width": 0.5
         },
         "marker": {
          "color": [
           "pink",
           "pink",
           "rgb(126, 197, 236)",
           "pink",
           "rgb(200,200,200)",
           "rgb(126, 197, 236)",
           "rgb(126, 197, 236)",
           "rgb(126, 197, 236)",
           "rgb(126, 197, 236)",
           "rgb(126, 197, 236)",
           "rgb(255, 49, 152)",
           "rgb(126, 197, 236)",
           "rgb(126, 197, 236)",
           "rgb(126, 197, 236)",
           "rgb(126, 197, 236)"
          ],
          "line": {
           "color": "grey",
           "width": 1.5
          },
          "opacity": 0.85,
          "size": [
           20,
           20,
           20,
           20,
           20,
           20,
           20,
           20,
           20,
           20,
           30,
           20,
           20,
           20,
           20
          ]
         },
         "mode": "lines+markers",
         "showlegend": false,
         "type": "scatter",
         "x": [
          0,
          20,
          40,
          90,
          92,
          112,
          152,
          154,
          174,
          194,
          196,
          198,
          208,
          228,
          238
         ],
         "xaxis": "x",
         "y": [
          "logs/exp_male-12-38-43",
          "logs/exp_male-12-38-43",
          "logs/exp_male-12-38-43",
          "logs/exp_male-12-38-43",
          "logs/exp_male-12-38-43",
          "logs/exp_male-12-38-43",
          "logs/exp_male-12-38-43",
          "logs/exp_male-12-38-43",
          "logs/exp_male-12-38-43",
          "logs/exp_male-12-38-43",
          "logs/exp_male-12-38-43",
          "logs/exp_male-12-38-43",
          "logs/exp_male-12-38-43",
          "logs/exp_male-12-38-43",
          "logs/exp_male-12-38-43"
         ],
         "yaxis": "y"
        },
        {
         "legendgroup": "start",
         "marker": {
          "color": "rgba(255,255,255,.8)",
          "line": {
           "color": "#f6cf71",
           "width": 4
          },
          "size": 40,
          "symbol": "circle"
         },
         "mode": "markers",
         "name": "Male",
         "showlegend": false,
         "type": "scatter",
         "x": [
          0
         ],
         "xaxis": "x",
         "y": [
          "logs/exp_male-12-43-43"
         ],
         "yaxis": "y"
        },
        {
         "line": {
          "color": "black",
          "dash": "dot",
          "width": 0.5
         },
         "marker": {
          "color": [
           "rgb(126, 197, 236)",
           "rgb(126, 197, 236)",
           "rgb(126, 197, 236)",
           "rgb(126, 197, 236)",
           "rgb(126, 197, 236)",
           "rgb(126, 197, 236)",
           "pink",
           "rgb(126, 197, 236)",
           "rgb(126, 197, 236)",
           "rgb(126, 197, 236)",
           "rgb(126, 197, 236)",
           "pink",
           "rgb(255, 49, 152)",
           "rgb(126, 197, 236)",
           "rgb(126, 197, 236)",
           "rgb(126, 197, 236)",
           "rgb(126, 197, 236)"
          ],
          "line": {
           "color": "grey",
           "width": 1.5
          },
          "opacity": 0.85,
          "size": [
           20,
           20,
           20,
           20,
           20,
           20,
           20,
           20,
           20,
           20,
           20,
           20,
           30,
           20,
           20,
           20,
           20
          ]
         },
         "mode": "lines+markers",
         "showlegend": false,
         "type": "scatter",
         "x": [
          0,
          10,
          30,
          50,
          70,
          72,
          74,
          84,
          94,
          114,
          134,
          167,
          169,
          171,
          173,
          184,
          186
         ],
         "xaxis": "x",
         "y": [
          "logs/exp_male-12-43-43",
          "logs/exp_male-12-43-43",
          "logs/exp_male-12-43-43",
          "logs/exp_male-12-43-43",
          "logs/exp_male-12-43-43",
          "logs/exp_male-12-43-43",
          "logs/exp_male-12-43-43",
          "logs/exp_male-12-43-43",
          "logs/exp_male-12-43-43",
          "logs/exp_male-12-43-43",
          "logs/exp_male-12-43-43",
          "logs/exp_male-12-43-43",
          "logs/exp_male-12-43-43",
          "logs/exp_male-12-43-43",
          "logs/exp_male-12-43-43",
          "logs/exp_male-12-43-43",
          "logs/exp_male-12-43-43"
         ],
         "yaxis": "y"
        },
        {
         "legendgroup": "start",
         "marker": {
          "color": "rgba(255,255,255,.8)",
          "line": {
           "color": "#f6cf71",
           "width": 4
          },
          "size": 40,
          "symbol": "circle"
         },
         "mode": "markers",
         "name": "Male",
         "showlegend": false,
         "type": "scatter",
         "x": [
          0
         ],
         "xaxis": "x",
         "y": [
          "logs/exp_male-12-50-03"
         ],
         "yaxis": "y"
        },
        {
         "line": {
          "color": "black",
          "dash": "dot",
          "width": 0.5
         },
         "marker": {
          "color": [
           "rgb(126, 197, 236)",
           "rgb(126, 197, 236)",
           "rgb(126, 197, 236)",
           "rgb(126, 197, 236)",
           "rgb(126, 197, 236)",
           "rgb(126, 197, 236)",
           "rgb(126, 197, 236)",
           "rgb(126, 197, 236)",
           "rgb(126, 197, 236)",
           "rgb(126, 197, 236)",
           "rgb(126, 197, 236)",
           "rgb(126, 197, 236)",
           "rgb(126, 197, 236)",
           "rgb(126, 197, 236)",
           "rgb(126, 197, 236)",
           "rgb(126, 197, 236)",
           "rgb(126, 197, 236)",
           "rgb(255, 49, 152)",
           "rgb(126, 197, 236)",
           "rgb(126, 197, 236)",
           "rgb(126, 197, 236)",
           "rgb(126, 197, 236)"
          ],
          "line": {
           "color": "grey",
           "width": 1.5
          },
          "opacity": 0.85,
          "size": [
           20,
           20,
           20,
           20,
           20,
           20,
           20,
           20,
           20,
           20,
           20,
           20,
           20,
           20,
           20,
           20,
           20,
           30,
           20,
           20,
           20,
           20
          ]
         },
         "mode": "lines+markers",
         "showlegend": false,
         "type": "scatter",
         "x": [
          0,
          2,
          22,
          24,
          26,
          46,
          48,
          68,
          108,
          110,
          112,
          132,
          152,
          154,
          164,
          184,
          204,
          206,
          208,
          210,
          212,
          222
         ],
         "xaxis": "x",
         "y": [
          "logs/exp_male-12-50-03",
          "logs/exp_male-12-50-03",
          "logs/exp_male-12-50-03",
          "logs/exp_male-12-50-03",
          "logs/exp_male-12-50-03",
          "logs/exp_male-12-50-03",
          "logs/exp_male-12-50-03",
          "logs/exp_male-12-50-03",
          "logs/exp_male-12-50-03",
          "logs/exp_male-12-50-03",
          "logs/exp_male-12-50-03",
          "logs/exp_male-12-50-03",
          "logs/exp_male-12-50-03",
          "logs/exp_male-12-50-03",
          "logs/exp_male-12-50-03",
          "logs/exp_male-12-50-03",
          "logs/exp_male-12-50-03",
          "logs/exp_male-12-50-03",
          "logs/exp_male-12-50-03",
          "logs/exp_male-12-50-03",
          "logs/exp_male-12-50-03",
          "logs/exp_male-12-50-03"
         ],
         "yaxis": "y"
        },
        {
         "legendgroup": "start",
         "marker": {
          "color": "rgba(255,255,255,.8)",
          "line": {
           "color": "#f6cf71",
           "width": 4
          },
          "size": 40,
          "symbol": "circle"
         },
         "mode": "markers",
         "name": "Male",
         "showlegend": false,
         "type": "scatter",
         "x": [
          0
         ],
         "xaxis": "x",
         "y": [
          "logs/exp_male-12-56-39"
         ],
         "yaxis": "y"
        },
        {
         "line": {
          "color": "black",
          "dash": "dot",
          "width": 0.5
         },
         "marker": {
          "color": [
           "rgb(126, 197, 236)",
           "rgb(126, 197, 236)",
           "rgb(126, 197, 236)",
           "rgb(126, 197, 236)",
           "rgb(126, 197, 236)",
           "rgb(126, 197, 236)",
           "rgb(126, 197, 236)",
           "rgb(126, 197, 236)",
           "rgb(255, 49, 152)",
           "pink",
           "rgb(126, 197, 236)",
           "rgb(126, 197, 236)",
           "rgb(126, 197, 236)"
          ],
          "line": {
           "color": "grey",
           "width": 1.5
          },
          "opacity": 0.85,
          "size": [
           20,
           20,
           20,
           20,
           20,
           20,
           20,
           20,
           30,
           20,
           20,
           20,
           20
          ]
         },
         "mode": "lines+markers",
         "showlegend": false,
         "type": "scatter",
         "x": [
          0,
          20,
          40,
          60,
          62,
          102,
          108,
          148,
          150,
          152,
          154,
          191,
          193
         ],
         "xaxis": "x",
         "y": [
          "logs/exp_male-12-56-39",
          "logs/exp_male-12-56-39",
          "logs/exp_male-12-56-39",
          "logs/exp_male-12-56-39",
          "logs/exp_male-12-56-39",
          "logs/exp_male-12-56-39",
          "logs/exp_male-12-56-39",
          "logs/exp_male-12-56-39",
          "logs/exp_male-12-56-39",
          "logs/exp_male-12-56-39",
          "logs/exp_male-12-56-39",
          "logs/exp_male-12-56-39",
          "logs/exp_male-12-56-39"
         ],
         "yaxis": "y"
        },
        {
         "legendgroup": "start",
         "marker": {
          "color": "rgba(255,255,255,.8)",
          "line": {
           "color": "#f6cf71",
           "width": 4
          },
          "size": 40,
          "symbol": "circle"
         },
         "mode": "markers",
         "name": "Male",
         "showlegend": false,
         "type": "scatter",
         "x": [
          0
         ],
         "xaxis": "x",
         "y": [
          "logs/exp_male-12-59-49"
         ],
         "yaxis": "y"
        },
        {
         "line": {
          "color": "black",
          "dash": "dot",
          "width": 0.5
         },
         "marker": {
          "color": [
           "rgb(126, 197, 236)",
           "rgb(126, 197, 236)",
           "rgb(126, 197, 236)",
           "rgb(126, 197, 236)",
           "rgb(126, 197, 236)",
           "rgb(126, 197, 236)",
           "rgb(126, 197, 236)",
           "rgb(126, 197, 236)",
           "pink",
           "rgb(126, 197, 236)",
           "rgb(126, 197, 236)",
           "rgb(255, 49, 152)",
           "rgb(200,200,200)",
           "rgb(126, 197, 236)",
           "rgb(126, 197, 236)",
           "rgb(126, 197, 236)"
          ],
          "line": {
           "color": "grey",
           "width": 1.5
          },
          "opacity": 0.85,
          "size": [
           20,
           20,
           20,
           20,
           20,
           20,
           20,
           20,
           20,
           20,
           20,
           30,
           20,
           20,
           20,
           20
          ]
         },
         "mode": "lines+markers",
         "showlegend": false,
         "type": "scatter",
         "x": [
          0,
          20,
          40,
          65,
          67,
          69,
          77,
          93,
          109,
          119,
          152,
          154,
          156,
          158,
          162,
          164
         ],
         "xaxis": "x",
         "y": [
          "logs/exp_male-12-59-49",
          "logs/exp_male-12-59-49",
          "logs/exp_male-12-59-49",
          "logs/exp_male-12-59-49",
          "logs/exp_male-12-59-49",
          "logs/exp_male-12-59-49",
          "logs/exp_male-12-59-49",
          "logs/exp_male-12-59-49",
          "logs/exp_male-12-59-49",
          "logs/exp_male-12-59-49",
          "logs/exp_male-12-59-49",
          "logs/exp_male-12-59-49",
          "logs/exp_male-12-59-49",
          "logs/exp_male-12-59-49",
          "logs/exp_male-12-59-49",
          "logs/exp_male-12-59-49"
         ],
         "yaxis": "y"
        },
        {
         "legendgroup": "start",
         "marker": {
          "color": "rgba(255,255,255,.8)",
          "line": {
           "color": "#f6cf71",
           "width": 4
          },
          "size": 40,
          "symbol": "circle"
         },
         "mode": "markers",
         "name": "Male",
         "showlegend": false,
         "type": "scatter",
         "x": [
          0
         ],
         "xaxis": "x",
         "y": [
          "logs/exp_male-13-03-47"
         ],
         "yaxis": "y"
        },
        {
         "line": {
          "color": "black",
          "dash": "dot",
          "width": 0.5
         },
         "marker": {
          "color": [
           "rgb(126, 197, 236)",
           "rgb(126, 197, 236)",
           "rgb(126, 197, 236)",
           "rgb(126, 197, 236)",
           "rgb(126, 197, 236)",
           "rgb(126, 197, 236)",
           "rgb(126, 197, 236)",
           "rgb(126, 197, 236)",
           "rgb(126, 197, 236)",
           "rgb(126, 197, 236)",
           "rgb(126, 197, 236)",
           "rgb(255, 49, 152)",
           "rgb(126, 197, 236)",
           "rgb(126, 197, 236)",
           "rgb(126, 197, 236)",
           "rgb(126, 197, 236)"
          ],
          "line": {
           "color": "grey",
           "width": 1.5
          },
          "opacity": 0.85,
          "size": [
           20,
           20,
           20,
           20,
           20,
           20,
           20,
           20,
           20,
           20,
           20,
           30,
           20,
           20,
           20,
           20
          ]
         },
         "mode": "lines+markers",
         "showlegend": false,
         "type": "scatter",
         "x": [
          0,
          20,
          40,
          60,
          62,
          72,
          74,
          76,
          96,
          116,
          156,
          158,
          178,
          198,
          218,
          228
         ],
         "xaxis": "x",
         "y": [
          "logs/exp_male-13-03-47",
          "logs/exp_male-13-03-47",
          "logs/exp_male-13-03-47",
          "logs/exp_male-13-03-47",
          "logs/exp_male-13-03-47",
          "logs/exp_male-13-03-47",
          "logs/exp_male-13-03-47",
          "logs/exp_male-13-03-47",
          "logs/exp_male-13-03-47",
          "logs/exp_male-13-03-47",
          "logs/exp_male-13-03-47",
          "logs/exp_male-13-03-47",
          "logs/exp_male-13-03-47",
          "logs/exp_male-13-03-47",
          "logs/exp_male-13-03-47",
          "logs/exp_male-13-03-47"
         ],
         "yaxis": "y"
        },
        {
         "legendgroup": "start",
         "marker": {
          "color": "rgba(255,255,255,.8)",
          "line": {
           "color": "#f89c74",
           "width": 4
          },
          "size": 40,
          "symbol": "circle"
         },
         "mode": "markers",
         "name": "Night",
         "showlegend": false,
         "type": "scatter",
         "x": [
          0
         ],
         "xaxis": "x",
         "y": [
          "logs/exp_night-16-15-06"
         ],
         "yaxis": "y"
        },
        {
         "line": {
          "color": "black",
          "dash": "dot",
          "width": 0.5
         },
         "marker": {
          "color": [
           "rgb(126, 197, 236)",
           "rgb(126, 197, 236)",
           "pink",
           "rgb(126, 197, 236)",
           "rgb(126, 197, 236)",
           "rgb(126, 197, 236)",
           "rgb(200,200,200)",
           "rgb(126, 197, 236)",
           "rgb(126, 197, 236)",
           "rgb(255, 49, 152)",
           "pink",
           "rgb(126, 197, 236)",
           "rgb(126, 197, 236)",
           "rgb(126, 197, 236)"
          ],
          "line": {
           "color": "grey",
           "width": 1.5
          },
          "opacity": 0.85,
          "size": [
           20,
           20,
           20,
           20,
           20,
           20,
           20,
           20,
           20,
           30,
           20,
           20,
           20,
           20
          ]
         },
         "mode": "lines+markers",
         "showlegend": false,
         "type": "scatter",
         "x": [
          0,
          10,
          30,
          40,
          60,
          62,
          82,
          122,
          162,
          164,
          166,
          171,
          176,
          178
         ],
         "xaxis": "x",
         "y": [
          "logs/exp_night-16-15-06",
          "logs/exp_night-16-15-06",
          "logs/exp_night-16-15-06",
          "logs/exp_night-16-15-06",
          "logs/exp_night-16-15-06",
          "logs/exp_night-16-15-06",
          "logs/exp_night-16-15-06",
          "logs/exp_night-16-15-06",
          "logs/exp_night-16-15-06",
          "logs/exp_night-16-15-06",
          "logs/exp_night-16-15-06",
          "logs/exp_night-16-15-06",
          "logs/exp_night-16-15-06",
          "logs/exp_night-16-15-06"
         ],
         "yaxis": "y"
        },
        {
         "legendgroup": "start",
         "marker": {
          "color": "rgba(255,255,255,.8)",
          "line": {
           "color": "#f89c74",
           "width": 4
          },
          "size": 40,
          "symbol": "circle"
         },
         "mode": "markers",
         "name": "Night",
         "showlegend": false,
         "type": "scatter",
         "x": [
          0
         ],
         "xaxis": "x",
         "y": [
          "logs/exp_night-16-34-21"
         ],
         "yaxis": "y"
        },
        {
         "line": {
          "color": "black",
          "dash": "dot",
          "width": 0.5
         },
         "marker": {
          "color": [
           "rgb(126, 197, 236)",
           "rgb(126, 197, 236)",
           "rgb(126, 197, 236)",
           "rgb(126, 197, 236)",
           "pink",
           "rgb(126, 197, 236)",
           "rgb(126, 197, 236)",
           "rgb(126, 197, 236)",
           "rgb(126, 197, 236)",
           "rgb(126, 197, 236)",
           "pink",
           "rgb(126, 197, 236)",
           "rgb(126, 197, 236)",
           "rgb(126, 197, 236)",
           "rgb(255, 49, 152)",
           "rgb(126, 197, 236)",
           "rgb(126, 197, 236)",
           "rgb(126, 197, 236)",
           "rgb(126, 197, 236)"
          ],
          "line": {
           "color": "grey",
           "width": 1.5
          },
          "opacity": 0.85,
          "size": [
           20,
           20,
           20,
           20,
           20,
           20,
           20,
           20,
           20,
           20,
           20,
           20,
           20,
           20,
           30,
           20,
           20,
           20,
           20
          ]
         },
         "mode": "lines+markers",
         "showlegend": false,
         "type": "scatter",
         "x": [
          0,
          10,
          30,
          50,
          52,
          72,
          74,
          94,
          96,
          98,
          108,
          128,
          148,
          168,
          170,
          210,
          240,
          242,
          272
         ],
         "xaxis": "x",
         "y": [
          "logs/exp_night-16-34-21",
          "logs/exp_night-16-34-21",
          "logs/exp_night-16-34-21",
          "logs/exp_night-16-34-21",
          "logs/exp_night-16-34-21",
          "logs/exp_night-16-34-21",
          "logs/exp_night-16-34-21",
          "logs/exp_night-16-34-21",
          "logs/exp_night-16-34-21",
          "logs/exp_night-16-34-21",
          "logs/exp_night-16-34-21",
          "logs/exp_night-16-34-21",
          "logs/exp_night-16-34-21",
          "logs/exp_night-16-34-21",
          "logs/exp_night-16-34-21",
          "logs/exp_night-16-34-21",
          "logs/exp_night-16-34-21",
          "logs/exp_night-16-34-21",
          "logs/exp_night-16-34-21"
         ],
         "yaxis": "y"
        },
        {
         "legendgroup": "start",
         "marker": {
          "color": "rgba(255,255,255,.8)",
          "line": {
           "color": "#f89c74",
           "width": 4
          },
          "size": 40,
          "symbol": "circle"
         },
         "mode": "markers",
         "name": "Night",
         "showlegend": false,
         "type": "scatter",
         "x": [
          0
         ],
         "xaxis": "x",
         "y": [
          "logs/exp_night-16-40-15"
         ],
         "yaxis": "y"
        },
        {
         "line": {
          "color": "black",
          "dash": "dot",
          "width": 0.5
         },
         "marker": {
          "color": [
           "rgb(126, 197, 236)",
           "rgb(126, 197, 236)",
           "rgb(126, 197, 236)",
           "rgb(126, 197, 236)",
           "rgb(126, 197, 236)",
           "rgb(126, 197, 236)",
           "rgb(126, 197, 236)",
           "rgb(126, 197, 236)",
           "rgb(126, 197, 236)",
           "rgb(126, 197, 236)",
           "rgb(255, 49, 152)",
           "rgb(126, 197, 236)",
           "rgb(126, 197, 236)",
           "rgb(126, 197, 236)",
           "rgb(126, 197, 236)"
          ],
          "line": {
           "color": "grey",
           "width": 1.5
          },
          "opacity": 0.85,
          "size": [
           20,
           20,
           20,
           20,
           20,
           20,
           20,
           20,
           20,
           20,
           30,
           20,
           20,
           20,
           20
          ]
         },
         "mode": "lines+markers",
         "showlegend": false,
         "type": "scatter",
         "x": [
          0,
          20,
          40,
          50,
          70,
          72,
          92,
          112,
          132,
          172,
          174,
          176,
          178,
          180,
          182
         ],
         "xaxis": "x",
         "y": [
          "logs/exp_night-16-40-15",
          "logs/exp_night-16-40-15",
          "logs/exp_night-16-40-15",
          "logs/exp_night-16-40-15",
          "logs/exp_night-16-40-15",
          "logs/exp_night-16-40-15",
          "logs/exp_night-16-40-15",
          "logs/exp_night-16-40-15",
          "logs/exp_night-16-40-15",
          "logs/exp_night-16-40-15",
          "logs/exp_night-16-40-15",
          "logs/exp_night-16-40-15",
          "logs/exp_night-16-40-15",
          "logs/exp_night-16-40-15",
          "logs/exp_night-16-40-15"
         ],
         "yaxis": "y"
        },
        {
         "legendgroup": "start",
         "marker": {
          "color": "rgba(255,255,255,.8)",
          "line": {
           "color": "#f89c74",
           "width": 4
          },
          "size": 40,
          "symbol": "circle"
         },
         "mode": "markers",
         "name": "Night",
         "showlegend": false,
         "type": "scatter",
         "x": [
          0
         ],
         "xaxis": "x",
         "y": [
          "logs/exp_night-16-49-17"
         ],
         "yaxis": "y"
        },
        {
         "line": {
          "color": "black",
          "dash": "dot",
          "width": 0.5
         },
         "marker": {
          "color": [
           "rgb(126, 197, 236)",
           "pink",
           "rgb(126, 197, 236)",
           "rgb(126, 197, 236)",
           "rgb(126, 197, 236)",
           "rgb(126, 197, 236)",
           "rgb(126, 197, 236)",
           "rgb(126, 197, 236)",
           "rgb(126, 197, 236)",
           "rgb(126, 197, 236)",
           "rgb(126, 197, 236)",
           "rgb(126, 197, 236)",
           "rgb(126, 197, 236)",
           "rgb(126, 197, 236)",
           "rgb(126, 197, 236)",
           "rgb(126, 197, 236)",
           "pink",
           "rgb(126, 197, 236)",
           "rgb(255, 49, 152)",
           "rgb(126, 197, 236)",
           "rgb(126, 197, 236)",
           "rgb(126, 197, 236)",
           "rgb(126, 197, 236)"
          ],
          "line": {
           "color": "grey",
           "width": 1.5
          },
          "opacity": 0.85,
          "size": [
           20,
           20,
           20,
           20,
           20,
           20,
           20,
           20,
           20,
           20,
           20,
           20,
           20,
           20,
           20,
           20,
           20,
           20,
           30,
           20,
           20,
           20,
           20
          ]
         },
         "mode": "lines+markers",
         "showlegend": false,
         "type": "scatter",
         "x": [
          0,
          10,
          12,
          14,
          54,
          56,
          66,
          68,
          106,
          108,
          110,
          120,
          122,
          142,
          178,
          198,
          200,
          212,
          214,
          216,
          221,
          223,
          225
         ],
         "xaxis": "x",
         "y": [
          "logs/exp_night-16-49-17",
          "logs/exp_night-16-49-17",
          "logs/exp_night-16-49-17",
          "logs/exp_night-16-49-17",
          "logs/exp_night-16-49-17",
          "logs/exp_night-16-49-17",
          "logs/exp_night-16-49-17",
          "logs/exp_night-16-49-17",
          "logs/exp_night-16-49-17",
          "logs/exp_night-16-49-17",
          "logs/exp_night-16-49-17",
          "logs/exp_night-16-49-17",
          "logs/exp_night-16-49-17",
          "logs/exp_night-16-49-17",
          "logs/exp_night-16-49-17",
          "logs/exp_night-16-49-17",
          "logs/exp_night-16-49-17",
          "logs/exp_night-16-49-17",
          "logs/exp_night-16-49-17",
          "logs/exp_night-16-49-17",
          "logs/exp_night-16-49-17",
          "logs/exp_night-16-49-17",
          "logs/exp_night-16-49-17"
         ],
         "yaxis": "y"
        },
        {
         "legendgroup": "start",
         "marker": {
          "color": "rgba(255,255,255,.8)",
          "line": {
           "color": "#f89c74",
           "width": 4
          },
          "size": 40,
          "symbol": "circle"
         },
         "mode": "markers",
         "name": "Night",
         "showlegend": false,
         "type": "scatter",
         "x": [
          0
         ],
         "xaxis": "x",
         "y": [
          "logs/exp_night-17-06-19"
         ],
         "yaxis": "y"
        },
        {
         "line": {
          "color": "black",
          "dash": "dot",
          "width": 0.5
         },
         "marker": {
          "color": [
           "rgb(126, 197, 236)",
           "rgb(126, 197, 236)",
           "rgb(126, 197, 236)",
           "rgb(126, 197, 236)",
           "rgb(126, 197, 236)",
           "rgb(126, 197, 236)",
           "rgb(126, 197, 236)",
           "rgb(126, 197, 236)",
           "rgb(126, 197, 236)",
           "rgb(126, 197, 236)",
           "rgb(126, 197, 236)",
           "rgb(126, 197, 236)",
           "rgb(255, 49, 152)",
           "rgb(126, 197, 236)",
           "rgb(126, 197, 236)",
           "rgb(126, 197, 236)",
           "rgb(126, 197, 236)"
          ],
          "line": {
           "color": "grey",
           "width": 1.5
          },
          "opacity": 0.85,
          "size": [
           20,
           20,
           20,
           20,
           20,
           20,
           20,
           20,
           20,
           20,
           20,
           20,
           30,
           20,
           20,
           20,
           20
          ]
         },
         "mode": "lines+markers",
         "showlegend": false,
         "type": "scatter",
         "x": [
          0,
          20,
          30,
          32,
          52,
          54,
          74,
          94,
          114,
          118,
          122,
          172,
          174,
          184,
          186,
          196,
          216
         ],
         "xaxis": "x",
         "y": [
          "logs/exp_night-17-06-19",
          "logs/exp_night-17-06-19",
          "logs/exp_night-17-06-19",
          "logs/exp_night-17-06-19",
          "logs/exp_night-17-06-19",
          "logs/exp_night-17-06-19",
          "logs/exp_night-17-06-19",
          "logs/exp_night-17-06-19",
          "logs/exp_night-17-06-19",
          "logs/exp_night-17-06-19",
          "logs/exp_night-17-06-19",
          "logs/exp_night-17-06-19",
          "logs/exp_night-17-06-19",
          "logs/exp_night-17-06-19",
          "logs/exp_night-17-06-19",
          "logs/exp_night-17-06-19",
          "logs/exp_night-17-06-19"
         ],
         "yaxis": "y"
        },
        {
         "legendgroup": "start",
         "marker": {
          "color": "rgba(255,255,255,.8)",
          "line": {
           "color": "#f89c74",
           "width": 4
          },
          "size": 40,
          "symbol": "circle"
         },
         "mode": "markers",
         "name": "Night",
         "showlegend": false,
         "type": "scatter",
         "x": [
          0
         ],
         "xaxis": "x",
         "y": [
          "logs/exp_night-17-48-11"
         ],
         "yaxis": "y"
        },
        {
         "line": {
          "color": "black",
          "dash": "dot",
          "width": 0.5
         },
         "marker": {
          "color": [
           "rgb(126, 197, 236)",
           "rgb(126, 197, 236)",
           "rgb(126, 197, 236)",
           "rgb(126, 197, 236)",
           "rgb(126, 197, 236)",
           "rgb(126, 197, 236)",
           "rgb(126, 197, 236)",
           "rgb(126, 197, 236)",
           "rgb(126, 197, 236)",
           "rgb(126, 197, 236)",
           "rgb(126, 197, 236)",
           "rgb(255, 49, 152)",
           "rgb(126, 197, 236)",
           "rgb(126, 197, 236)",
           "rgb(126, 197, 236)",
           "rgb(126, 197, 236)"
          ],
          "line": {
           "color": "grey",
           "width": 1.5
          },
          "opacity": 0.85,
          "size": [
           20,
           20,
           20,
           20,
           20,
           20,
           20,
           20,
           20,
           20,
           20,
           30,
           20,
           20,
           20,
           20
          ]
         },
         "mode": "lines+markers",
         "showlegend": false,
         "type": "scatter",
         "x": [
          0,
          2,
          4,
          14,
          34,
          54,
          74,
          76,
          96,
          136,
          176,
          178,
          218,
          248,
          250,
          280
         ],
         "xaxis": "x",
         "y": [
          "logs/exp_night-17-48-11",
          "logs/exp_night-17-48-11",
          "logs/exp_night-17-48-11",
          "logs/exp_night-17-48-11",
          "logs/exp_night-17-48-11",
          "logs/exp_night-17-48-11",
          "logs/exp_night-17-48-11",
          "logs/exp_night-17-48-11",
          "logs/exp_night-17-48-11",
          "logs/exp_night-17-48-11",
          "logs/exp_night-17-48-11",
          "logs/exp_night-17-48-11",
          "logs/exp_night-17-48-11",
          "logs/exp_night-17-48-11",
          "logs/exp_night-17-48-11",
          "logs/exp_night-17-48-11"
         ],
         "yaxis": "y"
        },
        {
         "legendgroup": "start",
         "marker": {
          "color": "rgba(255,255,255,.8)",
          "line": {
           "color": "#f89c74",
           "width": 4
          },
          "size": 40,
          "symbol": "circle"
         },
         "mode": "markers",
         "name": "Night",
         "showlegend": false,
         "type": "scatter",
         "x": [
          0
         ],
         "xaxis": "x",
         "y": [
          "logs/exp_night-18-42-27"
         ],
         "yaxis": "y"
        },
        {
         "line": {
          "color": "black",
          "dash": "dot",
          "width": 0.5
         },
         "marker": {
          "color": [
           "pink",
           "rgb(126, 197, 236)",
           "rgb(126, 197, 236)",
           "rgb(126, 197, 236)",
           "rgb(200,200,200)",
           "rgb(126, 197, 236)",
           "rgb(126, 197, 236)",
           "rgb(126, 197, 236)",
           "rgb(126, 197, 236)",
           "rgb(126, 197, 236)",
           "rgb(126, 197, 236)",
           "rgb(126, 197, 236)",
           "pink",
           "rgb(126, 197, 236)",
           "rgb(126, 197, 236)",
           "rgb(126, 197, 236)",
           "rgb(126, 197, 236)",
           "rgb(126, 197, 236)",
           "rgb(126, 197, 236)",
           "pink",
           "rgb(126, 197, 236)",
           "pink",
           "rgb(255, 49, 152)",
           "pink",
           "rgb(126, 197, 236)",
           "rgb(126, 197, 236)",
           "rgb(126, 197, 236)"
          ],
          "line": {
           "color": "grey",
           "width": 1.5
          },
          "opacity": 0.85,
          "size": [
           20,
           20,
           20,
           20,
           20,
           20,
           20,
           20,
           20,
           20,
           20,
           20,
           20,
           20,
           20,
           20,
           20,
           20,
           20,
           20,
           20,
           20,
           30,
           20,
           20,
           20,
           20
          ]
         },
         "mode": "lines+markers",
         "showlegend": false,
         "type": "scatter",
         "x": [
          0,
          4,
          44,
          46,
          54,
          56,
          66,
          68,
          78,
          98,
          106,
          108,
          110,
          126,
          128,
          130,
          144,
          146,
          160,
          176,
          208,
          210,
          212,
          214,
          216,
          218,
          220
         ],
         "xaxis": "x",
         "y": [
          "logs/exp_night-18-42-27",
          "logs/exp_night-18-42-27",
          "logs/exp_night-18-42-27",
          "logs/exp_night-18-42-27",
          "logs/exp_night-18-42-27",
          "logs/exp_night-18-42-27",
          "logs/exp_night-18-42-27",
          "logs/exp_night-18-42-27",
          "logs/exp_night-18-42-27",
          "logs/exp_night-18-42-27",
          "logs/exp_night-18-42-27",
          "logs/exp_night-18-42-27",
          "logs/exp_night-18-42-27",
          "logs/exp_night-18-42-27",
          "logs/exp_night-18-42-27",
          "logs/exp_night-18-42-27",
          "logs/exp_night-18-42-27",
          "logs/exp_night-18-42-27",
          "logs/exp_night-18-42-27",
          "logs/exp_night-18-42-27",
          "logs/exp_night-18-42-27",
          "logs/exp_night-18-42-27",
          "logs/exp_night-18-42-27",
          "logs/exp_night-18-42-27",
          "logs/exp_night-18-42-27",
          "logs/exp_night-18-42-27",
          "logs/exp_night-18-42-27"
         ],
         "yaxis": "y"
        },
        {
         "legendgroup": "start",
         "marker": {
          "color": "rgba(255,255,255,.8)",
          "line": {
           "color": "#f89c74",
           "width": 4
          },
          "size": 40,
          "symbol": "circle"
         },
         "mode": "markers",
         "name": "Night",
         "showlegend": false,
         "type": "scatter",
         "x": [
          0
         ],
         "xaxis": "x",
         "y": [
          "logs/exp_night-19-03-59"
         ],
         "yaxis": "y"
        },
        {
         "line": {
          "color": "black",
          "dash": "dot",
          "width": 0.5
         },
         "marker": {
          "color": [
           "rgb(126, 197, 236)",
           "rgb(126, 197, 236)",
           "rgb(126, 197, 236)",
           "rgb(126, 197, 236)",
           "rgb(126, 197, 236)",
           "pink",
           "rgb(126, 197, 236)",
           "rgb(126, 197, 236)",
           "rgb(126, 197, 236)",
           "pink",
           "pink",
           "rgb(255, 49, 152)",
           "pink",
           "rgb(126, 197, 236)",
           "rgb(126, 197, 236)",
           "rgb(126, 197, 236)"
          ],
          "line": {
           "color": "grey",
           "width": 1.5
          },
          "opacity": 0.85,
          "size": [
           20,
           20,
           20,
           20,
           20,
           20,
           20,
           20,
           20,
           20,
           20,
           30,
           20,
           20,
           20,
           20
          ]
         },
         "mode": "lines+markers",
         "showlegend": false,
         "type": "scatter",
         "x": [
          0,
          20,
          30,
          50,
          52,
          72,
          74,
          114,
          124,
          144,
          164,
          166,
          206,
          233,
          235,
          275
         ],
         "xaxis": "x",
         "y": [
          "logs/exp_night-19-03-59",
          "logs/exp_night-19-03-59",
          "logs/exp_night-19-03-59",
          "logs/exp_night-19-03-59",
          "logs/exp_night-19-03-59",
          "logs/exp_night-19-03-59",
          "logs/exp_night-19-03-59",
          "logs/exp_night-19-03-59",
          "logs/exp_night-19-03-59",
          "logs/exp_night-19-03-59",
          "logs/exp_night-19-03-59",
          "logs/exp_night-19-03-59",
          "logs/exp_night-19-03-59",
          "logs/exp_night-19-03-59",
          "logs/exp_night-19-03-59",
          "logs/exp_night-19-03-59"
         ],
         "yaxis": "y"
        },
        {
         "legendgroup": "start",
         "marker": {
          "color": "rgba(255,255,255,.8)",
          "line": {
           "color": "#f89c74",
           "width": 4
          },
          "size": 40,
          "symbol": "circle"
         },
         "mode": "markers",
         "name": "Night",
         "showlegend": false,
         "type": "scatter",
         "x": [
          0
         ],
         "xaxis": "x",
         "y": [
          "logs/exp_night-21-00-56"
         ],
         "yaxis": "y"
        },
        {
         "line": {
          "color": "black",
          "dash": "dot",
          "width": 0.5
         },
         "marker": {
          "color": [
           "rgb(126, 197, 236)",
           "rgb(126, 197, 236)",
           "rgb(126, 197, 236)",
           "rgb(126, 197, 236)",
           "rgb(126, 197, 236)",
           "rgb(126, 197, 236)",
           "rgb(126, 197, 236)",
           "rgb(126, 197, 236)",
           "rgb(126, 197, 236)",
           "rgb(126, 197, 236)",
           "rgb(126, 197, 236)",
           "rgb(255, 49, 152)",
           "rgb(126, 197, 236)",
           "rgb(126, 197, 236)",
           "rgb(126, 197, 236)",
           "rgb(126, 197, 236)"
          ],
          "line": {
           "color": "grey",
           "width": 1.5
          },
          "opacity": 0.85,
          "size": [
           20,
           20,
           20,
           20,
           20,
           20,
           20,
           20,
           20,
           20,
           20,
           30,
           20,
           20,
           20,
           20
          ]
         },
         "mode": "lines+markers",
         "showlegend": false,
         "type": "scatter",
         "x": [
          0,
          10,
          30,
          50,
          70,
          72,
          74,
          94,
          118,
          138,
          164,
          166,
          168,
          170,
          174,
          182
         ],
         "xaxis": "x",
         "y": [
          "logs/exp_night-21-00-56",
          "logs/exp_night-21-00-56",
          "logs/exp_night-21-00-56",
          "logs/exp_night-21-00-56",
          "logs/exp_night-21-00-56",
          "logs/exp_night-21-00-56",
          "logs/exp_night-21-00-56",
          "logs/exp_night-21-00-56",
          "logs/exp_night-21-00-56",
          "logs/exp_night-21-00-56",
          "logs/exp_night-21-00-56",
          "logs/exp_night-21-00-56",
          "logs/exp_night-21-00-56",
          "logs/exp_night-21-00-56",
          "logs/exp_night-21-00-56",
          "logs/exp_night-21-00-56"
         ],
         "yaxis": "y"
        },
        {
         "legendgroup": "start",
         "marker": {
          "color": "rgba(255,255,255,.8)",
          "line": {
           "color": "#f89c74",
           "width": 4
          },
          "size": 40,
          "symbol": "circle"
         },
         "mode": "markers",
         "name": "Night",
         "showlegend": false,
         "type": "scatter",
         "x": [
          0
         ],
         "xaxis": "x",
         "y": [
          "logs/exp_night-21-11-20"
         ],
         "yaxis": "y"
        },
        {
         "line": {
          "color": "black",
          "dash": "dot",
          "width": 0.5
         },
         "marker": {
          "color": [
           "rgb(126, 197, 236)",
           "rgb(126, 197, 236)",
           "rgb(126, 197, 236)",
           "rgb(126, 197, 236)",
           "rgb(126, 197, 236)",
           "rgb(126, 197, 236)",
           "rgb(126, 197, 236)",
           "rgb(126, 197, 236)",
           "rgb(126, 197, 236)",
           "rgb(126, 197, 236)",
           "rgb(126, 197, 236)",
           "rgb(126, 197, 236)",
           "rgb(126, 197, 236)",
           "rgb(126, 197, 236)",
           "rgb(126, 197, 236)",
           "rgb(126, 197, 236)",
           "rgb(126, 197, 236)",
           "rgb(255, 49, 152)",
           "rgb(126, 197, 236)",
           "rgb(126, 197, 236)",
           "rgb(126, 197, 236)",
           "rgb(126, 197, 236)"
          ],
          "line": {
           "color": "grey",
           "width": 1.5
          },
          "opacity": 0.85,
          "size": [
           20,
           20,
           20,
           20,
           20,
           20,
           20,
           20,
           20,
           20,
           20,
           20,
           20,
           20,
           20,
           20,
           20,
           30,
           20,
           20,
           20,
           20
          ]
         },
         "mode": "lines+markers",
         "showlegend": false,
         "type": "scatter",
         "x": [
          0,
          20,
          40,
          60,
          80,
          120,
          122,
          162,
          164,
          204,
          206,
          210,
          214,
          222,
          230,
          240,
          260,
          262,
          266,
          268,
          272,
          280
         ],
         "xaxis": "x",
         "y": [
          "logs/exp_night-21-11-20",
          "logs/exp_night-21-11-20",
          "logs/exp_night-21-11-20",
          "logs/exp_night-21-11-20",
          "logs/exp_night-21-11-20",
          "logs/exp_night-21-11-20",
          "logs/exp_night-21-11-20",
          "logs/exp_night-21-11-20",
          "logs/exp_night-21-11-20",
          "logs/exp_night-21-11-20",
          "logs/exp_night-21-11-20",
          "logs/exp_night-21-11-20",
          "logs/exp_night-21-11-20",
          "logs/exp_night-21-11-20",
          "logs/exp_night-21-11-20",
          "logs/exp_night-21-11-20",
          "logs/exp_night-21-11-20",
          "logs/exp_night-21-11-20",
          "logs/exp_night-21-11-20",
          "logs/exp_night-21-11-20",
          "logs/exp_night-21-11-20",
          "logs/exp_night-21-11-20"
         ],
         "yaxis": "y"
        },
        {
         "legendgroup": "start",
         "marker": {
          "color": "rgba(255,255,255,.8)",
          "line": {
           "color": "#f89c74",
           "width": 4
          },
          "size": 40,
          "symbol": "circle"
         },
         "mode": "markers",
         "name": "Night",
         "showlegend": false,
         "type": "scatter",
         "x": [
          0
         ],
         "xaxis": "x",
         "y": [
          "logs/exp_night-21-17-14"
         ],
         "yaxis": "y"
        },
        {
         "line": {
          "color": "black",
          "dash": "dot",
          "width": 0.5
         },
         "marker": {
          "color": [
           "rgb(126, 197, 236)",
           "rgb(126, 197, 236)",
           "rgb(126, 197, 236)",
           "rgb(126, 197, 236)",
           "rgb(126, 197, 236)",
           "rgb(126, 197, 236)",
           "rgb(126, 197, 236)",
           "rgb(126, 197, 236)",
           "rgb(126, 197, 236)",
           "rgb(200,200,200)",
           "rgb(126, 197, 236)",
           "rgb(126, 197, 236)",
           "rgb(255, 49, 152)",
           "rgb(126, 197, 236)",
           "rgb(126, 197, 236)",
           "rgb(126, 197, 236)",
           "rgb(126, 197, 236)"
          ],
          "line": {
           "color": "grey",
           "width": 1.5
          },
          "opacity": 0.85,
          "size": [
           20,
           20,
           20,
           20,
           20,
           20,
           20,
           20,
           20,
           20,
           20,
           20,
           30,
           20,
           20,
           20,
           20
          ]
         },
         "mode": "lines+markers",
         "showlegend": false,
         "type": "scatter",
         "x": [
          0,
          10,
          30,
          50,
          70,
          72,
          92,
          112,
          114,
          118,
          126,
          160,
          162,
          164,
          166,
          168,
          178
         ],
         "xaxis": "x",
         "y": [
          "logs/exp_night-21-17-14",
          "logs/exp_night-21-17-14",
          "logs/exp_night-21-17-14",
          "logs/exp_night-21-17-14",
          "logs/exp_night-21-17-14",
          "logs/exp_night-21-17-14",
          "logs/exp_night-21-17-14",
          "logs/exp_night-21-17-14",
          "logs/exp_night-21-17-14",
          "logs/exp_night-21-17-14",
          "logs/exp_night-21-17-14",
          "logs/exp_night-21-17-14",
          "logs/exp_night-21-17-14",
          "logs/exp_night-21-17-14",
          "logs/exp_night-21-17-14",
          "logs/exp_night-21-17-14",
          "logs/exp_night-21-17-14"
         ],
         "yaxis": "y"
        },
        {
         "legendgroup": "start",
         "marker": {
          "color": "rgba(255,255,255,.8)",
          "line": {
           "color": "#f89c74",
           "width": 4
          },
          "size": 40,
          "symbol": "circle"
         },
         "mode": "markers",
         "name": "Night",
         "showlegend": false,
         "type": "scatter",
         "x": [
          0
         ],
         "xaxis": "x",
         "y": [
          "logs/exp_night-21-50-57"
         ],
         "yaxis": "y"
        },
        {
         "line": {
          "color": "black",
          "dash": "dot",
          "width": 0.5
         },
         "marker": {
          "color": [
           "pink",
           "rgb(126, 197, 236)",
           "rgb(126, 197, 236)",
           "rgb(126, 197, 236)",
           "rgb(126, 197, 236)",
           "rgb(126, 197, 236)",
           "rgb(126, 197, 236)",
           "rgb(126, 197, 236)",
           "rgb(126, 197, 236)",
           "rgb(126, 197, 236)",
           "rgb(255, 49, 152)",
           "rgb(126, 197, 236)",
           "rgb(126, 197, 236)",
           "rgb(126, 197, 236)",
           "rgb(126, 197, 236)"
          ],
          "line": {
           "color": "grey",
           "width": 1.5
          },
          "opacity": 0.85,
          "size": [
           20,
           20,
           20,
           20,
           20,
           20,
           20,
           20,
           20,
           20,
           30,
           20,
           20,
           20,
           20
          ]
         },
         "mode": "lines+markers",
         "showlegend": false,
         "type": "scatter",
         "x": [
          0,
          20,
          40,
          50,
          52,
          62,
          72,
          92,
          102,
          138,
          140,
          180,
          212,
          214,
          224
         ],
         "xaxis": "x",
         "y": [
          "logs/exp_night-21-50-57",
          "logs/exp_night-21-50-57",
          "logs/exp_night-21-50-57",
          "logs/exp_night-21-50-57",
          "logs/exp_night-21-50-57",
          "logs/exp_night-21-50-57",
          "logs/exp_night-21-50-57",
          "logs/exp_night-21-50-57",
          "logs/exp_night-21-50-57",
          "logs/exp_night-21-50-57",
          "logs/exp_night-21-50-57",
          "logs/exp_night-21-50-57",
          "logs/exp_night-21-50-57",
          "logs/exp_night-21-50-57",
          "logs/exp_night-21-50-57"
         ],
         "yaxis": "y"
        },
        {
         "legendgroup": "start",
         "marker": {
          "color": "rgba(255,255,255,.8)",
          "line": {
           "color": "#f89c74",
           "width": 4
          },
          "size": 40,
          "symbol": "circle"
         },
         "mode": "markers",
         "name": "Night",
         "showlegend": false,
         "type": "scatter",
         "x": [
          0
         ],
         "xaxis": "x",
         "y": [
          "logs/exp_night-21-54-33"
         ],
         "yaxis": "y"
        },
        {
         "line": {
          "color": "black",
          "dash": "dot",
          "width": 0.5
         },
         "marker": {
          "color": [
           "rgb(126, 197, 236)",
           "rgb(126, 197, 236)",
           "rgb(126, 197, 236)",
           "rgb(126, 197, 236)",
           "rgb(126, 197, 236)",
           "rgb(126, 197, 236)",
           "rgb(126, 197, 236)",
           "rgb(126, 197, 236)",
           "rgb(126, 197, 236)",
           "rgb(126, 197, 236)",
           "rgb(126, 197, 236)",
           "rgb(126, 197, 236)",
           "rgb(255, 49, 152)",
           "rgb(126, 197, 236)",
           "rgb(126, 197, 236)",
           "rgb(126, 197, 236)",
           "rgb(126, 197, 236)"
          ],
          "line": {
           "color": "grey",
           "width": 1.5
          },
          "opacity": 0.85,
          "size": [
           20,
           20,
           20,
           20,
           20,
           20,
           20,
           20,
           20,
           20,
           20,
           20,
           30,
           20,
           20,
           20,
           20
          ]
         },
         "mode": "lines+markers",
         "showlegend": false,
         "type": "scatter",
         "x": [
          0,
          2,
          28,
          30,
          50,
          90,
          92,
          94,
          118,
          144,
          170,
          222,
          224,
          229,
          231,
          233,
          235
         ],
         "xaxis": "x",
         "y": [
          "logs/exp_night-21-54-33",
          "logs/exp_night-21-54-33",
          "logs/exp_night-21-54-33",
          "logs/exp_night-21-54-33",
          "logs/exp_night-21-54-33",
          "logs/exp_night-21-54-33",
          "logs/exp_night-21-54-33",
          "logs/exp_night-21-54-33",
          "logs/exp_night-21-54-33",
          "logs/exp_night-21-54-33",
          "logs/exp_night-21-54-33",
          "logs/exp_night-21-54-33",
          "logs/exp_night-21-54-33",
          "logs/exp_night-21-54-33",
          "logs/exp_night-21-54-33",
          "logs/exp_night-21-54-33",
          "logs/exp_night-21-54-33"
         ],
         "yaxis": "y"
        },
        {
         "legendgroup": "start",
         "marker": {
          "color": "rgba(255,255,255,.8)",
          "line": {
           "color": "#f89c74",
           "width": 4
          },
          "size": 40,
          "symbol": "circle"
         },
         "mode": "markers",
         "name": "Night",
         "showlegend": false,
         "type": "scatter",
         "x": [
          0
         ],
         "xaxis": "x",
         "y": [
          "logs/exp_night-21-58-28"
         ],
         "yaxis": "y"
        },
        {
         "line": {
          "color": "black",
          "dash": "dot",
          "width": 0.5
         },
         "marker": {
          "color": [
           "rgb(126, 197, 236)",
           "rgb(126, 197, 236)",
           "rgb(126, 197, 236)",
           "rgb(126, 197, 236)",
           "rgb(126, 197, 236)",
           "rgb(126, 197, 236)",
           "rgb(126, 197, 236)",
           "rgb(126, 197, 236)",
           "rgb(126, 197, 236)",
           "rgb(255, 49, 152)",
           "rgb(126, 197, 236)",
           "rgb(126, 197, 236)",
           "rgb(126, 197, 236)",
           "rgb(126, 197, 236)"
          ],
          "line": {
           "color": "grey",
           "width": 1.5
          },
          "opacity": 0.85,
          "size": [
           20,
           20,
           20,
           20,
           20,
           20,
           20,
           20,
           20,
           30,
           20,
           20,
           20,
           20
          ]
         },
         "mode": "lines+markers",
         "showlegend": false,
         "type": "scatter",
         "x": [
          0,
          40,
          42,
          62,
          64,
          84,
          114,
          129,
          146,
          148,
          150,
          160,
          162,
          164
         ],
         "xaxis": "x",
         "y": [
          "logs/exp_night-21-58-28",
          "logs/exp_night-21-58-28",
          "logs/exp_night-21-58-28",
          "logs/exp_night-21-58-28",
          "logs/exp_night-21-58-28",
          "logs/exp_night-21-58-28",
          "logs/exp_night-21-58-28",
          "logs/exp_night-21-58-28",
          "logs/exp_night-21-58-28",
          "logs/exp_night-21-58-28",
          "logs/exp_night-21-58-28",
          "logs/exp_night-21-58-28",
          "logs/exp_night-21-58-28",
          "logs/exp_night-21-58-28"
         ],
         "yaxis": "y"
        },
        {
         "legendgroup": "start",
         "marker": {
          "color": "rgba(255,255,255,.8)",
          "line": {
           "color": "#dcb0f2",
           "width": 4
          },
          "size": 40,
          "symbol": "circle"
         },
         "mode": "markers",
         "name": "Tokyo",
         "showlegend": false,
         "type": "scatter",
         "x": [
          0
         ],
         "xaxis": "x",
         "y": [
          "logs/exp_tokyo-07-17-48"
         ],
         "yaxis": "y"
        },
        {
         "line": {
          "color": "black",
          "dash": "dot",
          "width": 0.5
         },
         "marker": {
          "color": [
           "rgb(126, 197, 236)",
           "rgb(126, 197, 236)",
           "rgb(126, 197, 236)",
           "rgb(126, 197, 236)",
           "rgb(126, 197, 236)",
           "rgb(126, 197, 236)",
           "rgb(126, 197, 236)",
           "rgb(126, 197, 236)",
           "rgb(126, 197, 236)",
           "rgb(126, 197, 236)",
           "rgb(126, 197, 236)",
           "rgb(126, 197, 236)",
           "rgb(126, 197, 236)",
           "rgb(126, 197, 236)",
           "rgb(255, 49, 152)",
           "rgb(126, 197, 236)",
           "pink",
           "rgb(126, 197, 236)",
           "rgb(126, 197, 236)"
          ],
          "line": {
           "color": "grey",
           "width": 1.5
          },
          "opacity": 0.85,
          "size": [
           20,
           20,
           20,
           20,
           20,
           20,
           20,
           20,
           20,
           20,
           20,
           20,
           20,
           20,
           30,
           20,
           20,
           20,
           20
          ]
         },
         "mode": "lines+markers",
         "showlegend": false,
         "type": "scatter",
         "x": [
          0,
          20,
          22,
          42,
          44,
          60,
          100,
          102,
          110,
          112,
          114,
          154,
          194,
          204,
          206,
          208,
          210,
          214,
          216
         ],
         "xaxis": "x",
         "y": [
          "logs/exp_tokyo-07-17-48",
          "logs/exp_tokyo-07-17-48",
          "logs/exp_tokyo-07-17-48",
          "logs/exp_tokyo-07-17-48",
          "logs/exp_tokyo-07-17-48",
          "logs/exp_tokyo-07-17-48",
          "logs/exp_tokyo-07-17-48",
          "logs/exp_tokyo-07-17-48",
          "logs/exp_tokyo-07-17-48",
          "logs/exp_tokyo-07-17-48",
          "logs/exp_tokyo-07-17-48",
          "logs/exp_tokyo-07-17-48",
          "logs/exp_tokyo-07-17-48",
          "logs/exp_tokyo-07-17-48",
          "logs/exp_tokyo-07-17-48",
          "logs/exp_tokyo-07-17-48",
          "logs/exp_tokyo-07-17-48",
          "logs/exp_tokyo-07-17-48",
          "logs/exp_tokyo-07-17-48"
         ],
         "yaxis": "y"
        },
        {
         "legendgroup": "start",
         "marker": {
          "color": "rgba(255,255,255,.8)",
          "line": {
           "color": "#dcb0f2",
           "width": 4
          },
          "size": 40,
          "symbol": "circle"
         },
         "mode": "markers",
         "name": "Tokyo",
         "showlegend": false,
         "type": "scatter",
         "x": [
          0
         ],
         "xaxis": "x",
         "y": [
          "logs/exp_tokyo-07-38-43"
         ],
         "yaxis": "y"
        },
        {
         "line": {
          "color": "black",
          "dash": "dot",
          "width": 0.5
         },
         "marker": {
          "color": [
           "rgb(126, 197, 236)",
           "rgb(126, 197, 236)",
           "rgb(126, 197, 236)",
           "rgb(126, 197, 236)",
           "rgb(126, 197, 236)",
           "rgb(126, 197, 236)",
           "rgb(126, 197, 236)",
           "rgb(126, 197, 236)",
           "rgb(126, 197, 236)",
           "rgb(126, 197, 236)",
           "rgb(126, 197, 236)",
           "rgb(126, 197, 236)",
           "rgb(126, 197, 236)",
           "rgb(126, 197, 236)",
           "rgb(255, 49, 152)",
           "rgb(126, 197, 236)",
           "rgb(126, 197, 236)",
           "pink",
           "rgb(126, 197, 236)"
          ],
          "line": {
           "color": "grey",
           "width": 1.5
          },
          "opacity": 0.85,
          "size": [
           20,
           20,
           20,
           20,
           20,
           20,
           20,
           20,
           20,
           20,
           20,
           20,
           20,
           20,
           30,
           20,
           20,
           20,
           20
          ]
         },
         "mode": "lines+markers",
         "showlegend": false,
         "type": "scatter",
         "x": [
          0,
          20,
          30,
          60,
          62,
          64,
          84,
          86,
          106,
          126,
          146,
          148,
          151,
          185,
          187,
          207,
          227,
          247,
          249
         ],
         "xaxis": "x",
         "y": [
          "logs/exp_tokyo-07-38-43",
          "logs/exp_tokyo-07-38-43",
          "logs/exp_tokyo-07-38-43",
          "logs/exp_tokyo-07-38-43",
          "logs/exp_tokyo-07-38-43",
          "logs/exp_tokyo-07-38-43",
          "logs/exp_tokyo-07-38-43",
          "logs/exp_tokyo-07-38-43",
          "logs/exp_tokyo-07-38-43",
          "logs/exp_tokyo-07-38-43",
          "logs/exp_tokyo-07-38-43",
          "logs/exp_tokyo-07-38-43",
          "logs/exp_tokyo-07-38-43",
          "logs/exp_tokyo-07-38-43",
          "logs/exp_tokyo-07-38-43",
          "logs/exp_tokyo-07-38-43",
          "logs/exp_tokyo-07-38-43",
          "logs/exp_tokyo-07-38-43",
          "logs/exp_tokyo-07-38-43"
         ],
         "yaxis": "y"
        },
        {
         "legendgroup": "start",
         "marker": {
          "color": "rgba(255,255,255,.8)",
          "line": {
           "color": "#dcb0f2",
           "width": 4
          },
          "size": 40,
          "symbol": "circle"
         },
         "mode": "markers",
         "name": "Tokyo",
         "showlegend": false,
         "type": "scatter",
         "x": [
          0
         ],
         "xaxis": "x",
         "y": [
          "logs/exp_tokyo-07-51-16"
         ],
         "yaxis": "y"
        },
        {
         "line": {
          "color": "black",
          "dash": "dot",
          "width": 0.5
         },
         "marker": {
          "color": [
           "rgb(126, 197, 236)",
           "rgb(126, 197, 236)",
           "rgb(126, 197, 236)",
           "rgb(126, 197, 236)",
           "rgb(126, 197, 236)",
           "rgb(126, 197, 236)",
           "rgb(126, 197, 236)",
           "rgb(126, 197, 236)",
           "rgb(126, 197, 236)",
           "rgb(126, 197, 236)",
           "rgb(126, 197, 236)",
           "rgb(126, 197, 236)",
           "rgb(126, 197, 236)",
           "rgb(126, 197, 236)",
           "rgb(126, 197, 236)",
           "rgb(255, 49, 152)",
           "rgb(126, 197, 236)",
           "rgb(126, 197, 236)",
           "rgb(126, 197, 236)",
           "rgb(126, 197, 236)"
          ],
          "line": {
           "color": "grey",
           "width": 1.5
          },
          "opacity": 0.85,
          "size": [
           20,
           20,
           20,
           20,
           20,
           20,
           20,
           20,
           20,
           20,
           20,
           20,
           20,
           20,
           20,
           30,
           20,
           20,
           20,
           20
          ]
         },
         "mode": "lines+markers",
         "showlegend": false,
         "type": "scatter",
         "x": [
          0,
          2,
          35,
          37,
          70,
          72,
          105,
          107,
          141,
          143,
          149,
          211,
          213,
          219,
          253,
          255,
          257,
          266,
          268,
          277
         ],
         "xaxis": "x",
         "y": [
          "logs/exp_tokyo-07-51-16",
          "logs/exp_tokyo-07-51-16",
          "logs/exp_tokyo-07-51-16",
          "logs/exp_tokyo-07-51-16",
          "logs/exp_tokyo-07-51-16",
          "logs/exp_tokyo-07-51-16",
          "logs/exp_tokyo-07-51-16",
          "logs/exp_tokyo-07-51-16",
          "logs/exp_tokyo-07-51-16",
          "logs/exp_tokyo-07-51-16",
          "logs/exp_tokyo-07-51-16",
          "logs/exp_tokyo-07-51-16",
          "logs/exp_tokyo-07-51-16",
          "logs/exp_tokyo-07-51-16",
          "logs/exp_tokyo-07-51-16",
          "logs/exp_tokyo-07-51-16",
          "logs/exp_tokyo-07-51-16",
          "logs/exp_tokyo-07-51-16",
          "logs/exp_tokyo-07-51-16",
          "logs/exp_tokyo-07-51-16"
         ],
         "yaxis": "y"
        },
        {
         "legendgroup": "start",
         "marker": {
          "color": "rgba(255,255,255,.8)",
          "line": {
           "color": "#dcb0f2",
           "width": 4
          },
          "size": 40,
          "symbol": "circle"
         },
         "mode": "markers",
         "name": "Tokyo",
         "showlegend": false,
         "type": "scatter",
         "x": [
          0
         ],
         "xaxis": "x",
         "y": [
          "logs/exp_tokyo-07-58-36"
         ],
         "yaxis": "y"
        },
        {
         "line": {
          "color": "black",
          "dash": "dot",
          "width": 0.5
         },
         "marker": {
          "color": [
           "rgb(126, 197, 236)",
           "rgb(126, 197, 236)",
           "rgb(126, 197, 236)",
           "rgb(126, 197, 236)",
           "rgb(126, 197, 236)",
           "rgb(126, 197, 236)",
           "rgb(126, 197, 236)",
           "rgb(126, 197, 236)",
           "rgb(126, 197, 236)",
           "rgb(126, 197, 236)",
           "rgb(126, 197, 236)",
           "rgb(126, 197, 236)",
           "rgb(126, 197, 236)",
           "rgb(126, 197, 236)",
           "rgb(255, 49, 152)",
           "rgb(126, 197, 236)",
           "rgb(126, 197, 236)",
           "rgb(126, 197, 236)",
           "rgb(126, 197, 236)"
          ],
          "line": {
           "color": "grey",
           "width": 1.5
          },
          "opacity": 0.85,
          "size": [
           20,
           20,
           20,
           20,
           20,
           20,
           20,
           20,
           20,
           20,
           20,
           20,
           20,
           20,
           30,
           20,
           20,
           20,
           20
          ]
         },
         "mode": "lines+markers",
         "showlegend": false,
         "type": "scatter",
         "x": [
          0,
          20,
          22,
          24,
          44,
          64,
          104,
          106,
          108,
          110,
          130,
          150,
          190,
          210,
          212,
          215,
          217,
          219,
          221
         ],
         "xaxis": "x",
         "y": [
          "logs/exp_tokyo-07-58-36",
          "logs/exp_tokyo-07-58-36",
          "logs/exp_tokyo-07-58-36",
          "logs/exp_tokyo-07-58-36",
          "logs/exp_tokyo-07-58-36",
          "logs/exp_tokyo-07-58-36",
          "logs/exp_tokyo-07-58-36",
          "logs/exp_tokyo-07-58-36",
          "logs/exp_tokyo-07-58-36",
          "logs/exp_tokyo-07-58-36",
          "logs/exp_tokyo-07-58-36",
          "logs/exp_tokyo-07-58-36",
          "logs/exp_tokyo-07-58-36",
          "logs/exp_tokyo-07-58-36",
          "logs/exp_tokyo-07-58-36",
          "logs/exp_tokyo-07-58-36",
          "logs/exp_tokyo-07-58-36",
          "logs/exp_tokyo-07-58-36",
          "logs/exp_tokyo-07-58-36"
         ],
         "yaxis": "y"
        },
        {
         "legendgroup": "start",
         "marker": {
          "color": "rgba(255,255,255,.8)",
          "line": {
           "color": "#dcb0f2",
           "width": 4
          },
          "size": 40,
          "symbol": "circle"
         },
         "mode": "markers",
         "name": "Tokyo",
         "showlegend": false,
         "type": "scatter",
         "x": [
          0
         ],
         "xaxis": "x",
         "y": [
          "logs/exp_tokyo-08-09-10"
         ],
         "yaxis": "y"
        },
        {
         "line": {
          "color": "black",
          "dash": "dot",
          "width": 0.5
         },
         "marker": {
          "color": [
           "rgb(126, 197, 236)",
           "rgb(126, 197, 236)",
           "rgb(126, 197, 236)",
           "rgb(126, 197, 236)",
           "rgb(126, 197, 236)",
           "rgb(126, 197, 236)",
           "rgb(126, 197, 236)",
           "rgb(126, 197, 236)",
           "rgb(126, 197, 236)",
           "rgb(126, 197, 236)",
           "rgb(126, 197, 236)",
           "rgb(126, 197, 236)",
           "rgb(126, 197, 236)",
           "rgb(126, 197, 236)",
           "rgb(255, 49, 152)",
           "rgb(126, 197, 236)",
           "rgb(126, 197, 236)",
           "rgb(126, 197, 236)",
           "rgb(126, 197, 236)"
          ],
          "line": {
           "color": "grey",
           "width": 1.5
          },
          "opacity": 0.85,
          "size": [
           20,
           20,
           20,
           20,
           20,
           20,
           20,
           20,
           20,
           20,
           20,
           20,
           20,
           20,
           30,
           20,
           20,
           20,
           20
          ]
         },
         "mode": "lines+markers",
         "showlegend": false,
         "type": "scatter",
         "x": [
          0,
          16,
          34,
          78,
          80,
          120,
          122,
          124,
          126,
          146,
          166,
          186,
          206,
          226,
          228,
          231,
          234,
          236,
          242
         ],
         "xaxis": "x",
         "y": [
          "logs/exp_tokyo-08-09-10",
          "logs/exp_tokyo-08-09-10",
          "logs/exp_tokyo-08-09-10",
          "logs/exp_tokyo-08-09-10",
          "logs/exp_tokyo-08-09-10",
          "logs/exp_tokyo-08-09-10",
          "logs/exp_tokyo-08-09-10",
          "logs/exp_tokyo-08-09-10",
          "logs/exp_tokyo-08-09-10",
          "logs/exp_tokyo-08-09-10",
          "logs/exp_tokyo-08-09-10",
          "logs/exp_tokyo-08-09-10",
          "logs/exp_tokyo-08-09-10",
          "logs/exp_tokyo-08-09-10",
          "logs/exp_tokyo-08-09-10",
          "logs/exp_tokyo-08-09-10",
          "logs/exp_tokyo-08-09-10",
          "logs/exp_tokyo-08-09-10",
          "logs/exp_tokyo-08-09-10"
         ],
         "yaxis": "y"
        },
        {
         "legendgroup": "start",
         "marker": {
          "color": "rgba(255,255,255,.8)",
          "line": {
           "color": "#dcb0f2",
           "width": 4
          },
          "size": 40,
          "symbol": "circle"
         },
         "mode": "markers",
         "name": "Tokyo",
         "showlegend": false,
         "type": "scatter",
         "x": [
          0
         ],
         "xaxis": "x",
         "y": [
          "logs/exp_tokyo-08-13-55"
         ],
         "yaxis": "y"
        },
        {
         "line": {
          "color": "black",
          "dash": "dot",
          "width": 0.5
         },
         "marker": {
          "color": [
           "rgb(126, 197, 236)",
           "rgb(126, 197, 236)",
           "rgb(126, 197, 236)",
           "rgb(126, 197, 236)",
           "rgb(126, 197, 236)",
           "rgb(126, 197, 236)",
           "rgb(126, 197, 236)",
           "rgb(126, 197, 236)",
           "rgb(126, 197, 236)",
           "rgb(126, 197, 236)",
           "rgb(126, 197, 236)",
           "rgb(255, 49, 152)",
           "rgb(126, 197, 236)",
           "rgb(126, 197, 236)",
           "rgb(126, 197, 236)",
           "rgb(126, 197, 236)"
          ],
          "line": {
           "color": "grey",
           "width": 1.5
          },
          "opacity": 0.85,
          "size": [
           20,
           20,
           20,
           20,
           20,
           20,
           20,
           20,
           20,
           20,
           20,
           30,
           20,
           20,
           20,
           20
          ]
         },
         "mode": "lines+markers",
         "showlegend": false,
         "type": "scatter",
         "x": [
          0,
          40,
          80,
          82,
          84,
          104,
          110,
          130,
          150,
          152,
          192,
          194,
          196,
          198,
          200,
          202
         ],
         "xaxis": "x",
         "y": [
          "logs/exp_tokyo-08-13-55",
          "logs/exp_tokyo-08-13-55",
          "logs/exp_tokyo-08-13-55",
          "logs/exp_tokyo-08-13-55",
          "logs/exp_tokyo-08-13-55",
          "logs/exp_tokyo-08-13-55",
          "logs/exp_tokyo-08-13-55",
          "logs/exp_tokyo-08-13-55",
          "logs/exp_tokyo-08-13-55",
          "logs/exp_tokyo-08-13-55",
          "logs/exp_tokyo-08-13-55",
          "logs/exp_tokyo-08-13-55",
          "logs/exp_tokyo-08-13-55",
          "logs/exp_tokyo-08-13-55",
          "logs/exp_tokyo-08-13-55",
          "logs/exp_tokyo-08-13-55"
         ],
         "yaxis": "y"
        },
        {
         "legendgroup": "start",
         "marker": {
          "color": "rgba(255,255,255,.8)",
          "line": {
           "color": "#dcb0f2",
           "width": 4
          },
          "size": 40,
          "symbol": "circle"
         },
         "mode": "markers",
         "name": "Tokyo",
         "showlegend": false,
         "type": "scatter",
         "x": [
          0
         ],
         "xaxis": "x",
         "y": [
          "logs/exp_tokyo-10-07-30"
         ],
         "yaxis": "y"
        },
        {
         "line": {
          "color": "black",
          "dash": "dot",
          "width": 0.5
         },
         "marker": {
          "color": [
           "rgb(126, 197, 236)",
           "rgb(126, 197, 236)",
           "rgb(126, 197, 236)",
           "rgb(126, 197, 236)",
           "rgb(126, 197, 236)",
           "rgb(200,200,200)",
           "rgb(126, 197, 236)",
           "rgb(126, 197, 236)",
           "rgb(255, 49, 152)",
           "rgb(126, 197, 236)",
           "rgb(126, 197, 236)",
           "rgb(126, 197, 236)",
           "rgb(126, 197, 236)"
          ],
          "line": {
           "color": "grey",
           "width": 1.5
          },
          "opacity": 0.85,
          "size": [
           20,
           20,
           20,
           20,
           20,
           20,
           20,
           20,
           30,
           20,
           20,
           20,
           20
          ]
         },
         "mode": "lines+markers",
         "showlegend": false,
         "type": "scatter",
         "x": [
          0,
          10,
          30,
          50,
          70,
          72,
          112,
          152,
          154,
          156,
          166,
          176,
          186
         ],
         "xaxis": "x",
         "y": [
          "logs/exp_tokyo-10-07-30",
          "logs/exp_tokyo-10-07-30",
          "logs/exp_tokyo-10-07-30",
          "logs/exp_tokyo-10-07-30",
          "logs/exp_tokyo-10-07-30",
          "logs/exp_tokyo-10-07-30",
          "logs/exp_tokyo-10-07-30",
          "logs/exp_tokyo-10-07-30",
          "logs/exp_tokyo-10-07-30",
          "logs/exp_tokyo-10-07-30",
          "logs/exp_tokyo-10-07-30",
          "logs/exp_tokyo-10-07-30",
          "logs/exp_tokyo-10-07-30"
         ],
         "yaxis": "y"
        },
        {
         "legendgroup": "start",
         "marker": {
          "color": "rgba(255,255,255,.8)",
          "line": {
           "color": "#dcb0f2",
           "width": 4
          },
          "size": 40,
          "symbol": "circle"
         },
         "mode": "markers",
         "name": "Tokyo",
         "showlegend": false,
         "type": "scatter",
         "x": [
          0
         ],
         "xaxis": "x",
         "y": [
          "logs/exp_tokyo-10-30-22"
         ],
         "yaxis": "y"
        },
        {
         "line": {
          "color": "black",
          "dash": "dot",
          "width": 0.5
         },
         "marker": {
          "color": [
           "rgb(126, 197, 236)",
           "rgb(126, 197, 236)",
           "rgb(126, 197, 236)",
           "rgb(126, 197, 236)",
           "rgb(126, 197, 236)",
           "rgb(126, 197, 236)",
           "rgb(126, 197, 236)",
           "rgb(126, 197, 236)",
           "rgb(126, 197, 236)",
           "rgb(126, 197, 236)",
           "rgb(126, 197, 236)",
           "rgb(126, 197, 236)",
           "rgb(255, 49, 152)",
           "rgb(126, 197, 236)",
           "rgb(126, 197, 236)",
           "rgb(126, 197, 236)",
           "rgb(126, 197, 236)"
          ],
          "line": {
           "color": "grey",
           "width": 1.5
          },
          "opacity": 0.85,
          "size": [
           20,
           20,
           20,
           20,
           20,
           20,
           20,
           20,
           20,
           20,
           20,
           20,
           30,
           20,
           20,
           20,
           20
          ]
         },
         "mode": "lines+markers",
         "showlegend": false,
         "type": "scatter",
         "x": [
          0,
          30,
          32,
          52,
          54,
          74,
          94,
          98,
          102,
          112,
          132,
          172,
          174,
          214,
          244,
          246,
          266
         ],
         "xaxis": "x",
         "y": [
          "logs/exp_tokyo-10-30-22",
          "logs/exp_tokyo-10-30-22",
          "logs/exp_tokyo-10-30-22",
          "logs/exp_tokyo-10-30-22",
          "logs/exp_tokyo-10-30-22",
          "logs/exp_tokyo-10-30-22",
          "logs/exp_tokyo-10-30-22",
          "logs/exp_tokyo-10-30-22",
          "logs/exp_tokyo-10-30-22",
          "logs/exp_tokyo-10-30-22",
          "logs/exp_tokyo-10-30-22",
          "logs/exp_tokyo-10-30-22",
          "logs/exp_tokyo-10-30-22",
          "logs/exp_tokyo-10-30-22",
          "logs/exp_tokyo-10-30-22",
          "logs/exp_tokyo-10-30-22",
          "logs/exp_tokyo-10-30-22"
         ],
         "yaxis": "y"
        },
        {
         "legendgroup": "start",
         "marker": {
          "color": "rgba(255,255,255,.8)",
          "line": {
           "color": "#dcb0f2",
           "width": 4
          },
          "size": 40,
          "symbol": "circle"
         },
         "mode": "markers",
         "name": "Tokyo",
         "showlegend": false,
         "type": "scatter",
         "x": [
          0
         ],
         "xaxis": "x",
         "y": [
          "logs/exp_tokyo-10-39-26"
         ],
         "yaxis": "y"
        },
        {
         "line": {
          "color": "black",
          "dash": "dot",
          "width": 0.5
         },
         "marker": {
          "color": [
           "rgb(126, 197, 236)",
           "rgb(126, 197, 236)",
           "pink",
           "rgb(126, 197, 236)",
           "rgb(126, 197, 236)",
           "rgb(126, 197, 236)",
           "rgb(126, 197, 236)",
           "rgb(126, 197, 236)",
           "rgb(126, 197, 236)",
           "rgb(126, 197, 236)",
           "rgb(126, 197, 236)",
           "rgb(126, 197, 236)",
           "rgb(126, 197, 236)",
           "rgb(126, 197, 236)",
           "rgb(255, 49, 152)",
           "rgb(126, 197, 236)",
           "rgb(126, 197, 236)",
           "rgb(126, 197, 236)",
           "rgb(126, 197, 236)"
          ],
          "line": {
           "color": "grey",
           "width": 1.5
          },
          "opacity": 0.85,
          "size": [
           20,
           20,
           20,
           20,
           20,
           20,
           20,
           20,
           20,
           20,
           20,
           20,
           20,
           20,
           30,
           20,
           20,
           20,
           20
          ]
         },
         "mode": "lines+markers",
         "showlegend": false,
         "type": "scatter",
         "x": [
          0,
          6,
          18,
          20,
          22,
          29,
          41,
          79,
          81,
          101,
          121,
          131,
          151,
          161,
          163,
          165,
          167,
          177,
          179
         ],
         "xaxis": "x",
         "y": [
          "logs/exp_tokyo-10-39-26",
          "logs/exp_tokyo-10-39-26",
          "logs/exp_tokyo-10-39-26",
          "logs/exp_tokyo-10-39-26",
          "logs/exp_tokyo-10-39-26",
          "logs/exp_tokyo-10-39-26",
          "logs/exp_tokyo-10-39-26",
          "logs/exp_tokyo-10-39-26",
          "logs/exp_tokyo-10-39-26",
          "logs/exp_tokyo-10-39-26",
          "logs/exp_tokyo-10-39-26",
          "logs/exp_tokyo-10-39-26",
          "logs/exp_tokyo-10-39-26",
          "logs/exp_tokyo-10-39-26",
          "logs/exp_tokyo-10-39-26",
          "logs/exp_tokyo-10-39-26",
          "logs/exp_tokyo-10-39-26",
          "logs/exp_tokyo-10-39-26",
          "logs/exp_tokyo-10-39-26"
         ],
         "yaxis": "y"
        },
        {
         "legendgroup": "start",
         "marker": {
          "color": "rgba(255,255,255,.8)",
          "line": {
           "color": "#dcb0f2",
           "width": 4
          },
          "size": 40,
          "symbol": "circle"
         },
         "mode": "markers",
         "name": "Tokyo",
         "showlegend": false,
         "type": "scatter",
         "x": [
          0
         ],
         "xaxis": "x",
         "y": [
          "logs/exp_tokyo-10-49-46"
         ],
         "yaxis": "y"
        },
        {
         "line": {
          "color": "black",
          "dash": "dot",
          "width": 0.5
         },
         "marker": {
          "color": [
           "rgb(126, 197, 236)",
           "rgb(126, 197, 236)",
           "rgb(126, 197, 236)",
           "rgb(126, 197, 236)",
           "rgb(126, 197, 236)",
           "rgb(126, 197, 236)",
           "rgb(126, 197, 236)",
           "rgb(126, 197, 236)",
           "pink",
           "rgb(126, 197, 236)",
           "rgb(126, 197, 236)",
           "rgb(126, 197, 236)",
           "rgb(126, 197, 236)",
           "rgb(255, 49, 152)",
           "rgb(126, 197, 236)",
           "rgb(126, 197, 236)",
           "rgb(126, 197, 236)",
           "pink"
          ],
          "line": {
           "color": "grey",
           "width": 1.5
          },
          "opacity": 0.85,
          "size": [
           20,
           20,
           20,
           20,
           20,
           20,
           20,
           20,
           20,
           20,
           20,
           20,
           20,
           30,
           20,
           20,
           20,
           20
          ]
         },
         "mode": "lines+markers",
         "showlegend": false,
         "type": "scatter",
         "x": [
          0,
          10,
          12,
          52,
          62,
          64,
          66,
          86,
          98,
          122,
          142,
          144,
          174,
          176,
          196,
          226,
          236,
          238
         ],
         "xaxis": "x",
         "y": [
          "logs/exp_tokyo-10-49-46",
          "logs/exp_tokyo-10-49-46",
          "logs/exp_tokyo-10-49-46",
          "logs/exp_tokyo-10-49-46",
          "logs/exp_tokyo-10-49-46",
          "logs/exp_tokyo-10-49-46",
          "logs/exp_tokyo-10-49-46",
          "logs/exp_tokyo-10-49-46",
          "logs/exp_tokyo-10-49-46",
          "logs/exp_tokyo-10-49-46",
          "logs/exp_tokyo-10-49-46",
          "logs/exp_tokyo-10-49-46",
          "logs/exp_tokyo-10-49-46",
          "logs/exp_tokyo-10-49-46",
          "logs/exp_tokyo-10-49-46",
          "logs/exp_tokyo-10-49-46",
          "logs/exp_tokyo-10-49-46",
          "logs/exp_tokyo-10-49-46"
         ],
         "yaxis": "y"
        },
        {
         "legendgroup": "start",
         "marker": {
          "color": "rgba(255,255,255,.8)",
          "line": {
           "color": "#dcb0f2",
           "width": 4
          },
          "size": 40,
          "symbol": "circle"
         },
         "mode": "markers",
         "name": "Tokyo",
         "showlegend": false,
         "type": "scatter",
         "x": [
          0
         ],
         "xaxis": "x",
         "y": [
          "logs/exp_tokyo-10-55-19"
         ],
         "yaxis": "y"
        },
        {
         "line": {
          "color": "black",
          "dash": "dot",
          "width": 0.5
         },
         "marker": {
          "color": [
           "pink",
           "rgb(126, 197, 236)",
           "rgb(126, 197, 236)",
           "rgb(126, 197, 236)",
           "rgb(126, 197, 236)",
           "rgb(126, 197, 236)",
           "rgb(126, 197, 236)",
           "rgb(126, 197, 236)",
           "rgb(126, 197, 236)",
           "rgb(126, 197, 236)",
           "pink",
           "rgb(255, 49, 152)",
           "rgb(126, 197, 236)",
           "rgb(126, 197, 236)",
           "rgb(126, 197, 236)",
           "rgb(126, 197, 236)"
          ],
          "line": {
           "color": "grey",
           "width": 1.5
          },
          "opacity": 0.85,
          "size": [
           20,
           20,
           20,
           20,
           20,
           20,
           20,
           20,
           20,
           20,
           20,
           30,
           20,
           20,
           20,
           20
          ]
         },
         "mode": "lines+markers",
         "showlegend": false,
         "type": "scatter",
         "x": [
          0,
          20,
          60,
          62,
          102,
          122,
          142,
          144,
          168,
          178,
          180,
          182,
          192,
          212,
          214,
          224
         ],
         "xaxis": "x",
         "y": [
          "logs/exp_tokyo-10-55-19",
          "logs/exp_tokyo-10-55-19",
          "logs/exp_tokyo-10-55-19",
          "logs/exp_tokyo-10-55-19",
          "logs/exp_tokyo-10-55-19",
          "logs/exp_tokyo-10-55-19",
          "logs/exp_tokyo-10-55-19",
          "logs/exp_tokyo-10-55-19",
          "logs/exp_tokyo-10-55-19",
          "logs/exp_tokyo-10-55-19",
          "logs/exp_tokyo-10-55-19",
          "logs/exp_tokyo-10-55-19",
          "logs/exp_tokyo-10-55-19",
          "logs/exp_tokyo-10-55-19",
          "logs/exp_tokyo-10-55-19",
          "logs/exp_tokyo-10-55-19"
         ],
         "yaxis": "y"
        },
        {
         "legendgroup": "start",
         "marker": {
          "color": "rgba(255,255,255,.8)",
          "line": {
           "color": "#dcb0f2",
           "width": 4
          },
          "size": 40,
          "symbol": "circle"
         },
         "mode": "markers",
         "name": "Tokyo",
         "showlegend": false,
         "type": "scatter",
         "x": [
          0
         ],
         "xaxis": "x",
         "y": [
          "logs/exp_tokyo-12-59-22"
         ],
         "yaxis": "y"
        },
        {
         "line": {
          "color": "black",
          "dash": "dot",
          "width": 0.5
         },
         "marker": {
          "color": [
           "pink",
           "pink",
           "rgb(126, 197, 236)",
           "rgb(126, 197, 236)",
           "rgb(126, 197, 236)",
           "pink",
           "rgb(126, 197, 236)",
           "rgb(126, 197, 236)",
           "rgb(126, 197, 236)",
           "rgb(126, 197, 236)",
           "rgb(255, 49, 152)",
           "rgb(126, 197, 236)",
           "rgb(126, 197, 236)",
           "rgb(126, 197, 236)",
           "rgb(126, 197, 236)"
          ],
          "line": {
           "color": "grey",
           "width": 1.5
          },
          "opacity": 0.85,
          "size": [
           20,
           20,
           20,
           20,
           20,
           20,
           20,
           20,
           20,
           20,
           30,
           20,
           20,
           20,
           20
          ]
         },
         "mode": "lines+markers",
         "showlegend": false,
         "type": "scatter",
         "x": [
          0,
          6,
          8,
          20,
          32,
          56,
          80,
          82,
          130,
          165,
          167,
          169,
          171,
          173,
          181
         ],
         "xaxis": "x",
         "y": [
          "logs/exp_tokyo-12-59-22",
          "logs/exp_tokyo-12-59-22",
          "logs/exp_tokyo-12-59-22",
          "logs/exp_tokyo-12-59-22",
          "logs/exp_tokyo-12-59-22",
          "logs/exp_tokyo-12-59-22",
          "logs/exp_tokyo-12-59-22",
          "logs/exp_tokyo-12-59-22",
          "logs/exp_tokyo-12-59-22",
          "logs/exp_tokyo-12-59-22",
          "logs/exp_tokyo-12-59-22",
          "logs/exp_tokyo-12-59-22",
          "logs/exp_tokyo-12-59-22",
          "logs/exp_tokyo-12-59-22",
          "logs/exp_tokyo-12-59-22"
         ],
         "yaxis": "y"
        },
        {
         "legendgroup": "start",
         "marker": {
          "color": "rgba(255,255,255,.8)",
          "line": {
           "color": "#dcb0f2",
           "width": 4
          },
          "size": 40,
          "symbol": "circle"
         },
         "mode": "markers",
         "name": "Tokyo",
         "showlegend": false,
         "type": "scatter",
         "x": [
          0
         ],
         "xaxis": "x",
         "y": [
          "logs/exp_tokyo-13-09-53"
         ],
         "yaxis": "y"
        },
        {
         "line": {
          "color": "black",
          "dash": "dot",
          "width": 0.5
         },
         "marker": {
          "color": [
           "rgb(126, 197, 236)",
           "rgb(126, 197, 236)",
           "rgb(126, 197, 236)",
           "pink",
           "rgb(126, 197, 236)",
           "rgb(126, 197, 236)",
           "rgb(126, 197, 236)",
           "rgb(126, 197, 236)",
           "rgb(126, 197, 236)",
           "rgb(126, 197, 236)",
           "rgb(126, 197, 236)",
           "rgb(126, 197, 236)",
           "rgb(126, 197, 236)",
           "rgb(126, 197, 236)",
           "rgb(126, 197, 236)",
           "rgb(255, 49, 152)",
           "pink",
           "rgb(126, 197, 236)",
           "rgb(126, 197, 236)",
           "rgb(126, 197, 236)"
          ],
          "line": {
           "color": "grey",
           "width": 1.5
          },
          "opacity": 0.85,
          "size": [
           20,
           20,
           20,
           20,
           20,
           20,
           20,
           20,
           20,
           20,
           20,
           20,
           20,
           20,
           20,
           30,
           20,
           20,
           20,
           20
          ]
         },
         "mode": "lines+markers",
         "showlegend": false,
         "type": "scatter",
         "x": [
          0,
          4,
          10,
          16,
          24,
          40,
          56,
          60,
          62,
          78,
          80,
          82,
          98,
          130,
          165,
          167,
          169,
          172,
          174,
          176
         ],
         "xaxis": "x",
         "y": [
          "logs/exp_tokyo-13-09-53",
          "logs/exp_tokyo-13-09-53",
          "logs/exp_tokyo-13-09-53",
          "logs/exp_tokyo-13-09-53",
          "logs/exp_tokyo-13-09-53",
          "logs/exp_tokyo-13-09-53",
          "logs/exp_tokyo-13-09-53",
          "logs/exp_tokyo-13-09-53",
          "logs/exp_tokyo-13-09-53",
          "logs/exp_tokyo-13-09-53",
          "logs/exp_tokyo-13-09-53",
          "logs/exp_tokyo-13-09-53",
          "logs/exp_tokyo-13-09-53",
          "logs/exp_tokyo-13-09-53",
          "logs/exp_tokyo-13-09-53",
          "logs/exp_tokyo-13-09-53",
          "logs/exp_tokyo-13-09-53",
          "logs/exp_tokyo-13-09-53",
          "logs/exp_tokyo-13-09-53",
          "logs/exp_tokyo-13-09-53"
         ],
         "yaxis": "y"
        },
        {
         "legendgroup": "start",
         "marker": {
          "color": "rgba(255,255,255,.8)",
          "line": {
           "color": "#87c55f",
           "width": 4
          },
          "size": 40,
          "symbol": "circle"
         },
         "mode": "markers",
         "name": "Winter",
         "showlegend": false,
         "type": "scatter",
         "x": [
          0
         ],
         "xaxis": "x",
         "y": [
          "logs/exp_winter-18-05-02"
         ],
         "yaxis": "y"
        },
        {
         "line": {
          "color": "black",
          "dash": "dot",
          "width": 0.5
         },
         "marker": {
          "color": [
           "rgb(126, 197, 236)",
           "rgb(126, 197, 236)",
           "rgb(126, 197, 236)",
           "rgb(126, 197, 236)",
           "rgb(126, 197, 236)",
           "rgb(126, 197, 236)",
           "rgb(126, 197, 236)",
           "rgb(126, 197, 236)",
           "rgb(126, 197, 236)",
           "rgb(126, 197, 236)",
           "rgb(126, 197, 236)",
           "rgb(126, 197, 236)",
           "pink",
           "rgb(126, 197, 236)",
           "rgb(126, 197, 236)",
           "rgb(255, 49, 152)",
           "pink",
           "pink"
          ],
          "line": {
           "color": "grey",
           "width": 1.5
          },
          "opacity": 0.85,
          "size": [
           20,
           20,
           20,
           20,
           20,
           20,
           20,
           20,
           20,
           20,
           20,
           20,
           20,
           20,
           20,
           30,
           20,
           20
          ]
         },
         "mode": "lines+markers",
         "showlegend": false,
         "type": "scatter",
         "x": [
          0,
          20,
          40,
          50,
          60,
          80,
          82,
          102,
          122,
          124,
          126,
          146,
          148,
          168,
          188,
          190,
          192,
          194
         ],
         "xaxis": "x",
         "y": [
          "logs/exp_winter-18-05-02",
          "logs/exp_winter-18-05-02",
          "logs/exp_winter-18-05-02",
          "logs/exp_winter-18-05-02",
          "logs/exp_winter-18-05-02",
          "logs/exp_winter-18-05-02",
          "logs/exp_winter-18-05-02",
          "logs/exp_winter-18-05-02",
          "logs/exp_winter-18-05-02",
          "logs/exp_winter-18-05-02",
          "logs/exp_winter-18-05-02",
          "logs/exp_winter-18-05-02",
          "logs/exp_winter-18-05-02",
          "logs/exp_winter-18-05-02",
          "logs/exp_winter-18-05-02",
          "logs/exp_winter-18-05-02",
          "logs/exp_winter-18-05-02",
          "logs/exp_winter-18-05-02"
         ],
         "yaxis": "y"
        },
        {
         "legendgroup": "start",
         "marker": {
          "color": "rgba(255,255,255,.8)",
          "line": {
           "color": "#87c55f",
           "width": 4
          },
          "size": 40,
          "symbol": "circle"
         },
         "mode": "markers",
         "name": "Winter",
         "showlegend": false,
         "type": "scatter",
         "x": [
          0
         ],
         "xaxis": "x",
         "y": [
          "logs/exp_winter-18-15-40"
         ],
         "yaxis": "y"
        },
        {
         "line": {
          "color": "black",
          "dash": "dot",
          "width": 0.5
         },
         "marker": {
          "color": [
           "rgb(126, 197, 236)",
           "rgb(126, 197, 236)",
           "rgb(126, 197, 236)",
           "rgb(126, 197, 236)",
           "pink",
           "rgb(126, 197, 236)",
           "rgb(126, 197, 236)",
           "rgb(126, 197, 236)",
           "rgb(126, 197, 236)",
           "rgb(126, 197, 236)",
           "rgb(126, 197, 236)",
           "rgb(255, 49, 152)",
           "rgb(126, 197, 236)",
           "rgb(126, 197, 236)",
           "rgb(126, 197, 236)",
           "rgb(126, 197, 236)"
          ],
          "line": {
           "color": "grey",
           "width": 1.5
          },
          "opacity": 0.85,
          "size": [
           20,
           20,
           20,
           20,
           20,
           20,
           20,
           20,
           20,
           20,
           20,
           30,
           20,
           20,
           20,
           20
          ]
         },
         "mode": "lines+markers",
         "showlegend": false,
         "type": "scatter",
         "x": [
          0,
          20,
          40,
          80,
          82,
          122,
          172,
          174,
          206,
          208,
          210,
          212,
          214,
          219,
          221,
          229
         ],
         "xaxis": "x",
         "y": [
          "logs/exp_winter-18-15-40",
          "logs/exp_winter-18-15-40",
          "logs/exp_winter-18-15-40",
          "logs/exp_winter-18-15-40",
          "logs/exp_winter-18-15-40",
          "logs/exp_winter-18-15-40",
          "logs/exp_winter-18-15-40",
          "logs/exp_winter-18-15-40",
          "logs/exp_winter-18-15-40",
          "logs/exp_winter-18-15-40",
          "logs/exp_winter-18-15-40",
          "logs/exp_winter-18-15-40",
          "logs/exp_winter-18-15-40",
          "logs/exp_winter-18-15-40",
          "logs/exp_winter-18-15-40",
          "logs/exp_winter-18-15-40"
         ],
         "yaxis": "y"
        },
        {
         "legendgroup": "start",
         "marker": {
          "color": "rgba(255,255,255,.8)",
          "line": {
           "color": "#87c55f",
           "width": 4
          },
          "size": 40,
          "symbol": "circle"
         },
         "mode": "markers",
         "name": "Winter",
         "showlegend": false,
         "type": "scatter",
         "x": [
          0
         ],
         "xaxis": "x",
         "y": [
          "logs/exp_winter-18-20-26"
         ],
         "yaxis": "y"
        },
        {
         "line": {
          "color": "black",
          "dash": "dot",
          "width": 0.5
         },
         "marker": {
          "color": [
           "rgb(126, 197, 236)",
           "rgb(126, 197, 236)",
           "rgb(126, 197, 236)",
           "rgb(126, 197, 236)",
           "rgb(126, 197, 236)",
           "rgb(126, 197, 236)",
           "rgb(126, 197, 236)",
           "rgb(126, 197, 236)",
           "rgb(126, 197, 236)",
           "rgb(126, 197, 236)",
           "rgb(126, 197, 236)",
           "rgb(126, 197, 236)",
           "rgb(126, 197, 236)",
           "rgb(255, 49, 152)",
           "rgb(126, 197, 236)",
           "rgb(126, 197, 236)",
           "rgb(126, 197, 236)",
           "rgb(126, 197, 236)"
          ],
          "line": {
           "color": "grey",
           "width": 1.5
          },
          "opacity": 0.85,
          "size": [
           20,
           20,
           20,
           20,
           20,
           20,
           20,
           20,
           20,
           20,
           20,
           20,
           20,
           30,
           20,
           20,
           20,
           20
          ]
         },
         "mode": "lines+markers",
         "showlegend": false,
         "type": "scatter",
         "x": [
          0,
          10,
          30,
          40,
          60,
          90,
          92,
          94,
          114,
          116,
          126,
          146,
          206,
          208,
          210,
          212,
          216,
          220
         ],
         "xaxis": "x",
         "y": [
          "logs/exp_winter-18-20-26",
          "logs/exp_winter-18-20-26",
          "logs/exp_winter-18-20-26",
          "logs/exp_winter-18-20-26",
          "logs/exp_winter-18-20-26",
          "logs/exp_winter-18-20-26",
          "logs/exp_winter-18-20-26",
          "logs/exp_winter-18-20-26",
          "logs/exp_winter-18-20-26",
          "logs/exp_winter-18-20-26",
          "logs/exp_winter-18-20-26",
          "logs/exp_winter-18-20-26",
          "logs/exp_winter-18-20-26",
          "logs/exp_winter-18-20-26",
          "logs/exp_winter-18-20-26",
          "logs/exp_winter-18-20-26",
          "logs/exp_winter-18-20-26",
          "logs/exp_winter-18-20-26"
         ],
         "yaxis": "y"
        },
        {
         "legendgroup": "start",
         "marker": {
          "color": "rgba(255,255,255,.8)",
          "line": {
           "color": "#87c55f",
           "width": 4
          },
          "size": 40,
          "symbol": "circle"
         },
         "mode": "markers",
         "name": "Winter",
         "showlegend": false,
         "type": "scatter",
         "x": [
          0
         ],
         "xaxis": "x",
         "y": [
          "logs/exp_winter-19-58-29"
         ],
         "yaxis": "y"
        },
        {
         "line": {
          "color": "black",
          "dash": "dot",
          "width": 0.5
         },
         "marker": {
          "color": [
           "rgb(126, 197, 236)",
           "rgb(126, 197, 236)",
           "rgb(126, 197, 236)",
           "rgb(126, 197, 236)",
           "rgb(126, 197, 236)",
           "pink",
           "rgb(126, 197, 236)",
           "rgb(126, 197, 236)",
           "rgb(126, 197, 236)",
           "rgb(126, 197, 236)",
           "rgb(255, 49, 152)",
           "rgb(126, 197, 236)",
           "rgb(126, 197, 236)",
           "rgb(126, 197, 236)",
           "rgb(126, 197, 236)"
          ],
          "line": {
           "color": "grey",
           "width": 1.5
          },
          "opacity": 0.85,
          "size": [
           20,
           20,
           20,
           20,
           20,
           20,
           20,
           20,
           20,
           20,
           30,
           20,
           20,
           20,
           20
          ]
         },
         "mode": "lines+markers",
         "showlegend": false,
         "type": "scatter",
         "x": [
          0,
          40,
          80,
          82,
          122,
          124,
          126,
          156,
          166,
          186,
          188,
          192,
          212,
          232,
          252
         ],
         "xaxis": "x",
         "y": [
          "logs/exp_winter-19-58-29",
          "logs/exp_winter-19-58-29",
          "logs/exp_winter-19-58-29",
          "logs/exp_winter-19-58-29",
          "logs/exp_winter-19-58-29",
          "logs/exp_winter-19-58-29",
          "logs/exp_winter-19-58-29",
          "logs/exp_winter-19-58-29",
          "logs/exp_winter-19-58-29",
          "logs/exp_winter-19-58-29",
          "logs/exp_winter-19-58-29",
          "logs/exp_winter-19-58-29",
          "logs/exp_winter-19-58-29",
          "logs/exp_winter-19-58-29",
          "logs/exp_winter-19-58-29"
         ],
         "yaxis": "y"
        },
        {
         "legendgroup": "start",
         "marker": {
          "color": "rgba(255,255,255,.8)",
          "line": {
           "color": "#87c55f",
           "width": 4
          },
          "size": 40,
          "symbol": "circle"
         },
         "mode": "markers",
         "name": "Winter",
         "showlegend": false,
         "type": "scatter",
         "x": [
          0
         ],
         "xaxis": "x",
         "y": [
          "logs/exp_winter-20-06-45"
         ],
         "yaxis": "y"
        },
        {
         "line": {
          "color": "black",
          "dash": "dot",
          "width": 0.5
         },
         "marker": {
          "color": [
           "rgb(126, 197, 236)",
           "rgb(126, 197, 236)",
           "pink",
           "rgb(126, 197, 236)",
           "rgb(126, 197, 236)",
           "rgb(126, 197, 236)",
           "pink",
           "rgb(126, 197, 236)",
           "rgb(126, 197, 236)",
           "rgb(126, 197, 236)",
           "rgb(126, 197, 236)",
           "rgb(126, 197, 236)",
           "rgb(255, 49, 152)",
           "rgb(126, 197, 236)",
           "pink",
           "rgb(126, 197, 236)",
           "rgb(126, 197, 236)"
          ],
          "line": {
           "color": "grey",
           "width": 1.5
          },
          "opacity": 0.85,
          "size": [
           20,
           20,
           20,
           20,
           20,
           20,
           20,
           20,
           20,
           20,
           20,
           20,
           30,
           20,
           20,
           20,
           20
          ]
         },
         "mode": "lines+markers",
         "showlegend": false,
         "type": "scatter",
         "x": [
          0,
          20,
          40,
          60,
          80,
          82,
          122,
          124,
          126,
          128,
          140,
          176,
          178,
          180,
          184,
          186,
          188
         ],
         "xaxis": "x",
         "y": [
          "logs/exp_winter-20-06-45",
          "logs/exp_winter-20-06-45",
          "logs/exp_winter-20-06-45",
          "logs/exp_winter-20-06-45",
          "logs/exp_winter-20-06-45",
          "logs/exp_winter-20-06-45",
          "logs/exp_winter-20-06-45",
          "logs/exp_winter-20-06-45",
          "logs/exp_winter-20-06-45",
          "logs/exp_winter-20-06-45",
          "logs/exp_winter-20-06-45",
          "logs/exp_winter-20-06-45",
          "logs/exp_winter-20-06-45",
          "logs/exp_winter-20-06-45",
          "logs/exp_winter-20-06-45",
          "logs/exp_winter-20-06-45",
          "logs/exp_winter-20-06-45"
         ],
         "yaxis": "y"
        },
        {
         "legendgroup": "start",
         "marker": {
          "color": "rgba(255,255,255,.8)",
          "line": {
           "color": "#87c55f",
           "width": 4
          },
          "size": 40,
          "symbol": "circle"
         },
         "mode": "markers",
         "name": "Winter",
         "showlegend": false,
         "type": "scatter",
         "x": [
          0
         ],
         "xaxis": "x",
         "y": [
          "logs/exp_winter-20-26-42"
         ],
         "yaxis": "y"
        },
        {
         "line": {
          "color": "black",
          "dash": "dot",
          "width": 0.5
         },
         "marker": {
          "color": [
           "rgb(126, 197, 236)",
           "rgb(126, 197, 236)",
           "rgb(126, 197, 236)",
           "rgb(126, 197, 236)",
           "rgb(126, 197, 236)",
           "rgb(126, 197, 236)",
           "rgb(126, 197, 236)",
           "rgb(126, 197, 236)",
           "rgb(255, 49, 152)",
           "rgb(126, 197, 236)",
           "rgb(126, 197, 236)",
           "rgb(126, 197, 236)",
           "rgb(126, 197, 236)"
          ],
          "line": {
           "color": "grey",
           "width": 1.5
          },
          "opacity": 0.85,
          "size": [
           20,
           20,
           20,
           20,
           20,
           20,
           20,
           20,
           30,
           20,
           20,
           20,
           20
          ]
         },
         "mode": "lines+markers",
         "showlegend": false,
         "type": "scatter",
         "x": [
          0,
          20,
          60,
          62,
          82,
          102,
          122,
          142,
          144,
          146,
          166,
          186,
          216
         ],
         "xaxis": "x",
         "y": [
          "logs/exp_winter-20-26-42",
          "logs/exp_winter-20-26-42",
          "logs/exp_winter-20-26-42",
          "logs/exp_winter-20-26-42",
          "logs/exp_winter-20-26-42",
          "logs/exp_winter-20-26-42",
          "logs/exp_winter-20-26-42",
          "logs/exp_winter-20-26-42",
          "logs/exp_winter-20-26-42",
          "logs/exp_winter-20-26-42",
          "logs/exp_winter-20-26-42",
          "logs/exp_winter-20-26-42",
          "logs/exp_winter-20-26-42"
         ],
         "yaxis": "y"
        },
        {
         "legendgroup": "start",
         "marker": {
          "color": "rgba(255,255,255,.8)",
          "line": {
           "color": "#87c55f",
           "width": 4
          },
          "size": 40,
          "symbol": "circle"
         },
         "mode": "markers",
         "name": "Winter",
         "showlegend": false,
         "type": "scatter",
         "x": [
          0
         ],
         "xaxis": "x",
         "y": [
          "logs/exp_winter-20-53-39"
         ],
         "yaxis": "y"
        },
        {
         "line": {
          "color": "black",
          "dash": "dot",
          "width": 0.5
         },
         "marker": {
          "color": [
           "rgb(126, 197, 236)",
           "rgb(126, 197, 236)",
           "rgb(126, 197, 236)",
           "pink",
           "rgb(126, 197, 236)",
           "rgb(126, 197, 236)",
           "rgb(126, 197, 236)",
           "rgb(126, 197, 236)",
           "rgb(126, 197, 236)",
           "rgb(126, 197, 236)",
           "rgb(255, 49, 152)",
           "rgb(126, 197, 236)",
           "rgb(126, 197, 236)",
           "rgb(126, 197, 236)",
           "rgb(126, 197, 236)"
          ],
          "line": {
           "color": "grey",
           "width": 1.5
          },
          "opacity": 0.85,
          "size": [
           20,
           20,
           20,
           20,
           20,
           20,
           20,
           20,
           20,
           20,
           30,
           20,
           20,
           20,
           20
          ]
         },
         "mode": "lines+markers",
         "showlegend": false,
         "type": "scatter",
         "x": [
          0,
          2,
          18,
          20,
          32,
          52,
          54,
          94,
          114,
          144,
          146,
          154,
          156,
          160,
          162
         ],
         "xaxis": "x",
         "y": [
          "logs/exp_winter-20-53-39",
          "logs/exp_winter-20-53-39",
          "logs/exp_winter-20-53-39",
          "logs/exp_winter-20-53-39",
          "logs/exp_winter-20-53-39",
          "logs/exp_winter-20-53-39",
          "logs/exp_winter-20-53-39",
          "logs/exp_winter-20-53-39",
          "logs/exp_winter-20-53-39",
          "logs/exp_winter-20-53-39",
          "logs/exp_winter-20-53-39",
          "logs/exp_winter-20-53-39",
          "logs/exp_winter-20-53-39",
          "logs/exp_winter-20-53-39",
          "logs/exp_winter-20-53-39"
         ],
         "yaxis": "y"
        },
        {
         "legendgroup": "start",
         "marker": {
          "color": "rgba(255,255,255,.8)",
          "line": {
           "color": "#87c55f",
           "width": 4
          },
          "size": 40,
          "symbol": "circle"
         },
         "mode": "markers",
         "name": "Winter",
         "showlegend": false,
         "type": "scatter",
         "x": [
          0
         ],
         "xaxis": "x",
         "y": [
          "logs/exp_winter-20-58-01"
         ],
         "yaxis": "y"
        },
        {
         "line": {
          "color": "black",
          "dash": "dot",
          "width": 0.5
         },
         "marker": {
          "color": [
           "rgb(126, 197, 236)",
           "rgb(126, 197, 236)",
           "rgb(126, 197, 236)",
           "rgb(126, 197, 236)",
           "rgb(126, 197, 236)",
           "rgb(126, 197, 236)",
           "rgb(126, 197, 236)",
           "rgb(126, 197, 236)",
           "rgb(126, 197, 236)",
           "rgb(126, 197, 236)",
           "rgb(126, 197, 236)",
           "rgb(126, 197, 236)",
           "rgb(126, 197, 236)",
           "rgb(126, 197, 236)",
           "rgb(126, 197, 236)",
           "rgb(255, 49, 152)",
           "rgb(126, 197, 236)",
           "rgb(126, 197, 236)",
           "rgb(126, 197, 236)",
           "rgb(126, 197, 236)"
          ],
          "line": {
           "color": "grey",
           "width": 1.5
          },
          "opacity": 0.85,
          "size": [
           20,
           20,
           20,
           20,
           20,
           20,
           20,
           20,
           20,
           20,
           20,
           20,
           20,
           20,
           20,
           30,
           20,
           20,
           20,
           20
          ]
         },
         "mode": "lines+markers",
         "showlegend": false,
         "type": "scatter",
         "x": [
          0,
          20,
          22,
          24,
          44,
          54,
          104,
          106,
          116,
          126,
          146,
          176,
          178,
          198,
          218,
          220,
          222,
          224,
          226,
          228
         ],
         "xaxis": "x",
         "y": [
          "logs/exp_winter-20-58-01",
          "logs/exp_winter-20-58-01",
          "logs/exp_winter-20-58-01",
          "logs/exp_winter-20-58-01",
          "logs/exp_winter-20-58-01",
          "logs/exp_winter-20-58-01",
          "logs/exp_winter-20-58-01",
          "logs/exp_winter-20-58-01",
          "logs/exp_winter-20-58-01",
          "logs/exp_winter-20-58-01",
          "logs/exp_winter-20-58-01",
          "logs/exp_winter-20-58-01",
          "logs/exp_winter-20-58-01",
          "logs/exp_winter-20-58-01",
          "logs/exp_winter-20-58-01",
          "logs/exp_winter-20-58-01",
          "logs/exp_winter-20-58-01",
          "logs/exp_winter-20-58-01",
          "logs/exp_winter-20-58-01",
          "logs/exp_winter-20-58-01"
         ],
         "yaxis": "y"
        },
        {
         "legendgroup": "start",
         "marker": {
          "color": "rgba(255,255,255,.8)",
          "line": {
           "color": "#87c55f",
           "width": 4
          },
          "size": 40,
          "symbol": "circle"
         },
         "mode": "markers",
         "name": "Winter",
         "showlegend": false,
         "type": "scatter",
         "x": [
          0
         ],
         "xaxis": "x",
         "y": [
          "logs/exp_winter-21-13-47"
         ],
         "yaxis": "y"
        },
        {
         "line": {
          "color": "black",
          "dash": "dot",
          "width": 0.5
         },
         "marker": {
          "color": [
           "rgb(126, 197, 236)",
           "rgb(126, 197, 236)",
           "rgb(126, 197, 236)",
           "rgb(126, 197, 236)",
           "rgb(126, 197, 236)",
           "rgb(126, 197, 236)",
           "pink",
           "rgb(126, 197, 236)",
           "rgb(126, 197, 236)",
           "rgb(126, 197, 236)",
           "rgb(126, 197, 236)",
           "rgb(126, 197, 236)",
           "rgb(126, 197, 236)",
           "rgb(126, 197, 236)",
           "rgb(126, 197, 236)",
           "rgb(126, 197, 236)",
           "rgb(126, 197, 236)",
           "rgb(126, 197, 236)",
           "rgb(255, 49, 152)",
           "rgb(126, 197, 236)",
           "rgb(126, 197, 236)",
           "rgb(126, 197, 236)",
           "rgb(126, 197, 236)"
          ],
          "line": {
           "color": "grey",
           "width": 1.5
          },
          "opacity": 0.85,
          "size": [
           20,
           20,
           20,
           20,
           20,
           20,
           20,
           20,
           20,
           20,
           20,
           20,
           20,
           20,
           20,
           20,
           20,
           20,
           30,
           20,
           20,
           20,
           20
          ]
         },
         "mode": "lines+markers",
         "showlegend": false,
         "type": "scatter",
         "x": [
          0,
          20,
          22,
          42,
          44,
          50,
          74,
          100,
          102,
          104,
          106,
          126,
          136,
          156,
          176,
          196,
          198,
          208,
          210,
          212,
          214,
          218,
          226
         ],
         "xaxis": "x",
         "y": [
          "logs/exp_winter-21-13-47",
          "logs/exp_winter-21-13-47",
          "logs/exp_winter-21-13-47",
          "logs/exp_winter-21-13-47",
          "logs/exp_winter-21-13-47",
          "logs/exp_winter-21-13-47",
          "logs/exp_winter-21-13-47",
          "logs/exp_winter-21-13-47",
          "logs/exp_winter-21-13-47",
          "logs/exp_winter-21-13-47",
          "logs/exp_winter-21-13-47",
          "logs/exp_winter-21-13-47",
          "logs/exp_winter-21-13-47",
          "logs/exp_winter-21-13-47",
          "logs/exp_winter-21-13-47",
          "logs/exp_winter-21-13-47",
          "logs/exp_winter-21-13-47",
          "logs/exp_winter-21-13-47",
          "logs/exp_winter-21-13-47",
          "logs/exp_winter-21-13-47",
          "logs/exp_winter-21-13-47",
          "logs/exp_winter-21-13-47",
          "logs/exp_winter-21-13-47"
         ],
         "yaxis": "y"
        },
        {
         "legendgroup": "start",
         "marker": {
          "color": "rgba(255,255,255,.8)",
          "line": {
           "color": "#87c55f",
           "width": 4
          },
          "size": 40,
          "symbol": "circle"
         },
         "mode": "markers",
         "name": "Winter",
         "showlegend": false,
         "type": "scatter",
         "x": [
          0
         ],
         "xaxis": "x",
         "y": [
          "logs/exp_winter-21-19-01"
         ],
         "yaxis": "y"
        },
        {
         "line": {
          "color": "black",
          "dash": "dot",
          "width": 0.5
         },
         "marker": {
          "color": [
           "rgb(126, 197, 236)",
           "rgb(126, 197, 236)",
           "rgb(126, 197, 236)",
           "rgb(126, 197, 236)",
           "rgb(126, 197, 236)",
           "rgb(126, 197, 236)",
           "rgb(126, 197, 236)",
           "rgb(126, 197, 236)",
           "rgb(126, 197, 236)",
           "rgb(126, 197, 236)",
           "pink",
           "rgb(126, 197, 236)",
           "rgb(126, 197, 236)",
           "rgb(126, 197, 236)",
           "rgb(126, 197, 236)",
           "rgb(126, 197, 236)",
           "rgb(255, 49, 152)",
           "rgb(126, 197, 236)",
           "rgb(126, 197, 236)",
           "rgb(126, 197, 236)",
           "rgb(126, 197, 236)"
          ],
          "line": {
           "color": "grey",
           "width": 1.5
          },
          "opacity": 0.85,
          "size": [
           20,
           20,
           20,
           20,
           20,
           20,
           20,
           20,
           20,
           20,
           20,
           20,
           20,
           20,
           20,
           20,
           30,
           20,
           20,
           20,
           20
          ]
         },
         "mode": "lines+markers",
         "showlegend": false,
         "type": "scatter",
         "x": [
          0,
          20,
          50,
          70,
          90,
          92,
          132,
          152,
          154,
          174,
          194,
          196,
          198,
          218,
          238,
          258,
          260,
          262,
          272,
          282,
          292
         ],
         "xaxis": "x",
         "y": [
          "logs/exp_winter-21-19-01",
          "logs/exp_winter-21-19-01",
          "logs/exp_winter-21-19-01",
          "logs/exp_winter-21-19-01",
          "logs/exp_winter-21-19-01",
          "logs/exp_winter-21-19-01",
          "logs/exp_winter-21-19-01",
          "logs/exp_winter-21-19-01",
          "logs/exp_winter-21-19-01",
          "logs/exp_winter-21-19-01",
          "logs/exp_winter-21-19-01",
          "logs/exp_winter-21-19-01",
          "logs/exp_winter-21-19-01",
          "logs/exp_winter-21-19-01",
          "logs/exp_winter-21-19-01",
          "logs/exp_winter-21-19-01",
          "logs/exp_winter-21-19-01",
          "logs/exp_winter-21-19-01",
          "logs/exp_winter-21-19-01",
          "logs/exp_winter-21-19-01",
          "logs/exp_winter-21-19-01"
         ],
         "yaxis": "y"
        },
        {
         "legendgroup": "start",
         "marker": {
          "color": "rgba(255,255,255,.8)",
          "line": {
           "color": "#87c55f",
           "width": 4
          },
          "size": 40,
          "symbol": "circle"
         },
         "mode": "markers",
         "name": "Winter",
         "showlegend": false,
         "type": "scatter",
         "x": [
          0
         ],
         "xaxis": "x",
         "y": [
          "logs/exp_winter-21-23-41"
         ],
         "yaxis": "y"
        },
        {
         "line": {
          "color": "black",
          "dash": "dot",
          "width": 0.5
         },
         "marker": {
          "color": [
           "rgb(200,200,200)",
           "rgb(126, 197, 236)",
           "rgb(126, 197, 236)",
           "pink",
           "rgb(126, 197, 236)",
           "rgb(200,200,200)",
           "rgb(126, 197, 236)",
           "rgb(126, 197, 236)",
           "rgb(126, 197, 236)",
           "rgb(126, 197, 236)",
           "rgb(255, 49, 152)",
           "pink",
           "rgb(126, 197, 236)",
           "rgb(126, 197, 236)",
           "rgb(126, 197, 236)"
          ],
          "line": {
           "color": "grey",
           "width": 1.5
          },
          "opacity": 0.85,
          "size": [
           20,
           20,
           20,
           20,
           20,
           20,
           20,
           20,
           20,
           20,
           30,
           20,
           20,
           20,
           20
          ]
         },
         "mode": "lines+markers",
         "showlegend": false,
         "type": "scatter",
         "x": [
          0,
          20,
          40,
          60,
          80,
          82,
          84,
          104,
          144,
          164,
          166,
          168,
          170,
          190,
          192
         ],
         "xaxis": "x",
         "y": [
          "logs/exp_winter-21-23-41",
          "logs/exp_winter-21-23-41",
          "logs/exp_winter-21-23-41",
          "logs/exp_winter-21-23-41",
          "logs/exp_winter-21-23-41",
          "logs/exp_winter-21-23-41",
          "logs/exp_winter-21-23-41",
          "logs/exp_winter-21-23-41",
          "logs/exp_winter-21-23-41",
          "logs/exp_winter-21-23-41",
          "logs/exp_winter-21-23-41",
          "logs/exp_winter-21-23-41",
          "logs/exp_winter-21-23-41",
          "logs/exp_winter-21-23-41",
          "logs/exp_winter-21-23-41"
         ],
         "yaxis": "y"
        },
        {
         "legendgroup": "start",
         "marker": {
          "color": "rgba(255,255,255,.8)",
          "line": {
           "color": "#87c55f",
           "width": 4
          },
          "size": 40,
          "symbol": "circle"
         },
         "mode": "markers",
         "name": "Winter",
         "showlegend": false,
         "type": "scatter",
         "x": [
          0
         ],
         "xaxis": "x",
         "y": [
          "logs/exp_winter-21-32-00"
         ],
         "yaxis": "y"
        },
        {
         "line": {
          "color": "black",
          "dash": "dot",
          "width": 0.5
         },
         "marker": {
          "color": [
           "rgb(126, 197, 236)",
           "rgb(126, 197, 236)",
           "rgb(126, 197, 236)",
           "rgb(126, 197, 236)",
           "rgb(126, 197, 236)",
           "rgb(126, 197, 236)",
           "rgb(126, 197, 236)",
           "rgb(126, 197, 236)",
           "rgb(255, 49, 152)",
           "rgb(126, 197, 236)",
           "rgb(126, 197, 236)",
           "rgb(126, 197, 236)",
           "rgb(126, 197, 236)"
          ],
          "line": {
           "color": "grey",
           "width": 1.5
          },
          "opacity": 0.85,
          "size": [
           20,
           20,
           20,
           20,
           20,
           20,
           20,
           20,
           30,
           20,
           20,
           20,
           20
          ]
         },
         "mode": "lines+markers",
         "showlegend": false,
         "type": "scatter",
         "x": [
          0,
          10,
          30,
          50,
          52,
          92,
          112,
          152,
          154,
          184,
          186,
          190,
          192
         ],
         "xaxis": "x",
         "y": [
          "logs/exp_winter-21-32-00",
          "logs/exp_winter-21-32-00",
          "logs/exp_winter-21-32-00",
          "logs/exp_winter-21-32-00",
          "logs/exp_winter-21-32-00",
          "logs/exp_winter-21-32-00",
          "logs/exp_winter-21-32-00",
          "logs/exp_winter-21-32-00",
          "logs/exp_winter-21-32-00",
          "logs/exp_winter-21-32-00",
          "logs/exp_winter-21-32-00",
          "logs/exp_winter-21-32-00",
          "logs/exp_winter-21-32-00"
         ],
         "yaxis": "y"
        },
        {
         "legendgroup": "start",
         "marker": {
          "color": "rgba(255,255,255,.8)",
          "line": {
           "color": "#87c55f",
           "width": 4
          },
          "size": 40,
          "symbol": "circle"
         },
         "mode": "markers",
         "name": "Winter",
         "showlegend": false,
         "type": "scatter",
         "x": [
          0
         ],
         "xaxis": "x",
         "y": [
          "logs/exp_winter-21-52-07"
         ],
         "yaxis": "y"
        },
        {
         "line": {
          "color": "black",
          "dash": "dot",
          "width": 0.5
         },
         "marker": {
          "color": [
           "rgb(126, 197, 236)",
           "rgb(126, 197, 236)",
           "rgb(126, 197, 236)",
           "rgb(126, 197, 236)",
           "rgb(126, 197, 236)",
           "rgb(126, 197, 236)",
           "rgb(126, 197, 236)",
           "rgb(126, 197, 236)",
           "rgb(126, 197, 236)",
           "pink",
           "rgb(126, 197, 236)",
           "rgb(126, 197, 236)",
           "rgb(126, 197, 236)",
           "rgb(126, 197, 236)",
           "rgb(126, 197, 236)",
           "rgb(255, 49, 152)",
           "rgb(126, 197, 236)",
           "rgb(126, 197, 236)",
           "rgb(126, 197, 236)",
           "rgb(126, 197, 236)"
          ],
          "line": {
           "color": "grey",
           "width": 1.5
          },
          "opacity": 0.85,
          "size": [
           20,
           20,
           20,
           20,
           20,
           20,
           20,
           20,
           20,
           20,
           20,
           20,
           20,
           20,
           20,
           30,
           20,
           20,
           20,
           20
          ]
         },
         "mode": "lines+markers",
         "showlegend": false,
         "type": "scatter",
         "x": [
          0,
          10,
          12,
          28,
          48,
          50,
          90,
          92,
          94,
          96,
          106,
          126,
          146,
          166,
          196,
          198,
          200,
          202,
          210,
          220
         ],
         "xaxis": "x",
         "y": [
          "logs/exp_winter-21-52-07",
          "logs/exp_winter-21-52-07",
          "logs/exp_winter-21-52-07",
          "logs/exp_winter-21-52-07",
          "logs/exp_winter-21-52-07",
          "logs/exp_winter-21-52-07",
          "logs/exp_winter-21-52-07",
          "logs/exp_winter-21-52-07",
          "logs/exp_winter-21-52-07",
          "logs/exp_winter-21-52-07",
          "logs/exp_winter-21-52-07",
          "logs/exp_winter-21-52-07",
          "logs/exp_winter-21-52-07",
          "logs/exp_winter-21-52-07",
          "logs/exp_winter-21-52-07",
          "logs/exp_winter-21-52-07",
          "logs/exp_winter-21-52-07",
          "logs/exp_winter-21-52-07",
          "logs/exp_winter-21-52-07",
          "logs/exp_winter-21-52-07"
         ],
         "yaxis": "y"
        },
        {
         "legendgroup": "start",
         "marker": {
          "color": "rgba(255,255,255,.8)",
          "line": {
           "color": "#87c55f",
           "width": 4
          },
          "size": 40,
          "symbol": "circle"
         },
         "mode": "markers",
         "name": "Winter",
         "showlegend": false,
         "type": "scatter",
         "x": [
          0
         ],
         "xaxis": "x",
         "y": [
          "logs/exp_winter-21-57-42"
         ],
         "yaxis": "y"
        },
        {
         "line": {
          "color": "black",
          "dash": "dot",
          "width": 0.5
         },
         "marker": {
          "color": [
           "rgb(126, 197, 236)",
           "rgb(126, 197, 236)",
           "pink",
           "rgb(200,200,200)",
           "rgb(126, 197, 236)",
           "rgb(126, 197, 236)",
           "rgb(126, 197, 236)",
           "rgb(126, 197, 236)",
           "rgb(200,200,200)",
           "rgb(126, 197, 236)",
           "rgb(126, 197, 236)",
           "rgb(126, 197, 236)",
           "rgb(126, 197, 236)",
           "rgb(126, 197, 236)",
           "rgb(126, 197, 236)",
           "rgb(126, 197, 236)",
           "rgb(126, 197, 236)",
           "rgb(126, 197, 236)",
           "rgb(255, 49, 152)",
           "pink",
           "rgb(126, 197, 236)",
           "rgb(200,200,200)",
           "rgb(126, 197, 236)"
          ],
          "line": {
           "color": "grey",
           "width": 1.5
          },
          "opacity": 0.85,
          "size": [
           20,
           20,
           20,
           20,
           20,
           20,
           20,
           20,
           20,
           20,
           20,
           20,
           20,
           20,
           20,
           20,
           20,
           20,
           30,
           20,
           20,
           20,
           20
          ]
         },
         "mode": "lines+markers",
         "showlegend": false,
         "type": "scatter",
         "x": [
          0,
          2,
          12,
          32,
          34,
          36,
          70,
          72,
          74,
          88,
          98,
          100,
          102,
          122,
          162,
          172,
          182,
          192,
          194,
          196,
          198,
          200,
          202
         ],
         "xaxis": "x",
         "y": [
          "logs/exp_winter-21-57-42",
          "logs/exp_winter-21-57-42",
          "logs/exp_winter-21-57-42",
          "logs/exp_winter-21-57-42",
          "logs/exp_winter-21-57-42",
          "logs/exp_winter-21-57-42",
          "logs/exp_winter-21-57-42",
          "logs/exp_winter-21-57-42",
          "logs/exp_winter-21-57-42",
          "logs/exp_winter-21-57-42",
          "logs/exp_winter-21-57-42",
          "logs/exp_winter-21-57-42",
          "logs/exp_winter-21-57-42",
          "logs/exp_winter-21-57-42",
          "logs/exp_winter-21-57-42",
          "logs/exp_winter-21-57-42",
          "logs/exp_winter-21-57-42",
          "logs/exp_winter-21-57-42",
          "logs/exp_winter-21-57-42",
          "logs/exp_winter-21-57-42",
          "logs/exp_winter-21-57-42",
          "logs/exp_winter-21-57-42",
          "logs/exp_winter-21-57-42"
         ],
         "yaxis": "y"
        },
        {
         "legendgroup": "start",
         "marker": {
          "color": "rgba(255,255,255,.8)",
          "line": {
           "color": "#87c55f",
           "width": 4
          },
          "size": 40,
          "symbol": "circle"
         },
         "mode": "markers",
         "name": "Winter",
         "showlegend": false,
         "type": "scatter",
         "x": [
          0
         ],
         "xaxis": "x",
         "y": [
          "logs/exp_winter-22-04-09"
         ],
         "yaxis": "y"
        },
        {
         "line": {
          "color": "black",
          "dash": "dot",
          "width": 0.5
         },
         "marker": {
          "color": [
           "rgb(126, 197, 236)",
           "rgb(126, 197, 236)",
           "rgb(126, 197, 236)",
           "rgb(126, 197, 236)",
           "rgb(126, 197, 236)",
           "rgb(126, 197, 236)",
           "rgb(126, 197, 236)",
           "rgb(126, 197, 236)",
           "rgb(126, 197, 236)",
           "rgb(126, 197, 236)",
           "rgb(126, 197, 236)",
           "rgb(126, 197, 236)",
           "rgb(126, 197, 236)",
           "rgb(126, 197, 236)",
           "rgb(126, 197, 236)",
           "rgb(126, 197, 236)",
           "rgb(126, 197, 236)",
           "rgb(126, 197, 236)",
           "rgb(126, 197, 236)",
           "rgb(255, 49, 152)",
           "rgb(126, 197, 236)",
           "rgb(126, 197, 236)",
           "rgb(126, 197, 236)",
           "rgb(126, 197, 236)"
          ],
          "line": {
           "color": "grey",
           "width": 1.5
          },
          "opacity": 0.85,
          "size": [
           20,
           20,
           20,
           20,
           20,
           20,
           20,
           20,
           20,
           20,
           20,
           20,
           20,
           20,
           20,
           20,
           20,
           20,
           20,
           30,
           20,
           20,
           20,
           20
          ]
         },
         "mode": "lines+markers",
         "showlegend": false,
         "type": "scatter",
         "x": [
          0,
          10,
          30,
          32,
          34,
          44,
          46,
          52,
          54,
          56,
          60,
          66,
          68,
          70,
          82,
          87,
          93,
          117,
          150,
          152,
          162,
          172,
          192,
          212
         ],
         "xaxis": "x",
         "y": [
          "logs/exp_winter-22-04-09",
          "logs/exp_winter-22-04-09",
          "logs/exp_winter-22-04-09",
          "logs/exp_winter-22-04-09",
          "logs/exp_winter-22-04-09",
          "logs/exp_winter-22-04-09",
          "logs/exp_winter-22-04-09",
          "logs/exp_winter-22-04-09",
          "logs/exp_winter-22-04-09",
          "logs/exp_winter-22-04-09",
          "logs/exp_winter-22-04-09",
          "logs/exp_winter-22-04-09",
          "logs/exp_winter-22-04-09",
          "logs/exp_winter-22-04-09",
          "logs/exp_winter-22-04-09",
          "logs/exp_winter-22-04-09",
          "logs/exp_winter-22-04-09",
          "logs/exp_winter-22-04-09",
          "logs/exp_winter-22-04-09",
          "logs/exp_winter-22-04-09",
          "logs/exp_winter-22-04-09",
          "logs/exp_winter-22-04-09",
          "logs/exp_winter-22-04-09",
          "logs/exp_winter-22-04-09"
         ],
         "yaxis": "y"
        },
        {
         "legendgroup": "start",
         "marker": {
          "color": "rgba(255,255,255,.8)",
          "line": {
           "color": "#87c55f",
           "width": 4
          },
          "size": 40,
          "symbol": "circle"
         },
         "mode": "markers",
         "name": "Winter",
         "showlegend": false,
         "type": "scatter",
         "x": [
          0
         ],
         "xaxis": "x",
         "y": [
          "logs/exp_winter-22-10-30"
         ],
         "yaxis": "y"
        },
        {
         "line": {
          "color": "black",
          "dash": "dot",
          "width": 0.5
         },
         "marker": {
          "color": [
           "rgb(126, 197, 236)",
           "rgb(200,200,200)",
           "rgb(126, 197, 236)",
           "rgb(126, 197, 236)",
           "rgb(126, 197, 236)",
           "rgb(126, 197, 236)",
           "rgb(126, 197, 236)",
           "rgb(126, 197, 236)",
           "rgb(126, 197, 236)",
           "rgb(126, 197, 236)",
           "pink",
           "rgb(126, 197, 236)",
           "rgb(126, 197, 236)",
           "rgb(126, 197, 236)",
           "rgb(255, 49, 152)",
           "rgb(126, 197, 236)",
           "rgb(126, 197, 236)",
           "pink",
           "rgb(126, 197, 236)"
          ],
          "line": {
           "color": "grey",
           "width": 1.5
          },
          "opacity": 0.85,
          "size": [
           20,
           20,
           20,
           20,
           20,
           20,
           20,
           20,
           20,
           20,
           20,
           20,
           20,
           20,
           30,
           20,
           20,
           20,
           20
          ]
         },
         "mode": "lines+markers",
         "showlegend": false,
         "type": "scatter",
         "x": [
          0,
          10,
          12,
          32,
          34,
          54,
          74,
          76,
          78,
          118,
          120,
          122,
          162,
          182,
          184,
          187,
          189,
          192,
          195
         ],
         "xaxis": "x",
         "y": [
          "logs/exp_winter-22-10-30",
          "logs/exp_winter-22-10-30",
          "logs/exp_winter-22-10-30",
          "logs/exp_winter-22-10-30",
          "logs/exp_winter-22-10-30",
          "logs/exp_winter-22-10-30",
          "logs/exp_winter-22-10-30",
          "logs/exp_winter-22-10-30",
          "logs/exp_winter-22-10-30",
          "logs/exp_winter-22-10-30",
          "logs/exp_winter-22-10-30",
          "logs/exp_winter-22-10-30",
          "logs/exp_winter-22-10-30",
          "logs/exp_winter-22-10-30",
          "logs/exp_winter-22-10-30",
          "logs/exp_winter-22-10-30",
          "logs/exp_winter-22-10-30",
          "logs/exp_winter-22-10-30",
          "logs/exp_winter-22-10-30"
         ],
         "yaxis": "y"
        },
        {
         "legendgroup": "start",
         "marker": {
          "color": "rgba(255,255,255,.8)",
          "line": {
           "color": "#87c55f",
           "width": 4
          },
          "size": 40,
          "symbol": "circle"
         },
         "mode": "markers",
         "name": "Winter",
         "showlegend": false,
         "type": "scatter",
         "x": [
          0
         ],
         "xaxis": "x",
         "y": [
          "logs/exp_winter-22-15-26"
         ],
         "yaxis": "y"
        },
        {
         "line": {
          "color": "black",
          "dash": "dot",
          "width": 0.5
         },
         "marker": {
          "color": [
           "rgb(126, 197, 236)",
           "rgb(126, 197, 236)",
           "rgb(126, 197, 236)",
           "rgb(126, 197, 236)",
           "rgb(126, 197, 236)",
           "rgb(126, 197, 236)",
           "rgb(126, 197, 236)",
           "rgb(126, 197, 236)",
           "rgb(126, 197, 236)",
           "rgb(126, 197, 236)",
           "pink",
           "rgb(126, 197, 236)",
           "rgb(255, 49, 152)",
           "rgb(126, 197, 236)",
           "rgb(126, 197, 236)",
           "rgb(126, 197, 236)",
           "rgb(126, 197, 236)"
          ],
          "line": {
           "color": "grey",
           "width": 1.5
          },
          "opacity": 0.85,
          "size": [
           20,
           20,
           20,
           20,
           20,
           20,
           20,
           20,
           20,
           20,
           20,
           20,
           30,
           20,
           20,
           20,
           20
          ]
         },
         "mode": "lines+markers",
         "showlegend": false,
         "type": "scatter",
         "x": [
          0,
          12,
          48,
          58,
          88,
          90,
          110,
          140,
          150,
          152,
          172,
          192,
          194,
          204,
          206,
          212,
          214
         ],
         "xaxis": "x",
         "y": [
          "logs/exp_winter-22-15-26",
          "logs/exp_winter-22-15-26",
          "logs/exp_winter-22-15-26",
          "logs/exp_winter-22-15-26",
          "logs/exp_winter-22-15-26",
          "logs/exp_winter-22-15-26",
          "logs/exp_winter-22-15-26",
          "logs/exp_winter-22-15-26",
          "logs/exp_winter-22-15-26",
          "logs/exp_winter-22-15-26",
          "logs/exp_winter-22-15-26",
          "logs/exp_winter-22-15-26",
          "logs/exp_winter-22-15-26",
          "logs/exp_winter-22-15-26",
          "logs/exp_winter-22-15-26",
          "logs/exp_winter-22-15-26",
          "logs/exp_winter-22-15-26"
         ],
         "yaxis": "y"
        },
        {
         "legendgroup": "start",
         "marker": {
          "color": "rgba(255,255,255,.8)",
          "line": {
           "color": "#66c5cc",
           "width": 4
          },
          "size": 40,
          "symbol": "circle"
         },
         "mode": "markers",
         "name": "Base",
         "showlegend": false,
         "type": "scatter",
         "x": [
          0
         ],
         "xaxis": "x2",
         "y": [
          "logs/exp_base-15-02-11"
         ],
         "yaxis": "y2"
        },
        {
         "line": {
          "color": "black",
          "dash": "dot",
          "width": 0.5
         },
         "marker": {
          "color": [
           "rgb(126, 197, 236)",
           "rgb(126, 197, 236)",
           "rgb(126, 197, 236)",
           "pink",
           "pink",
           "rgb(200,200,200)",
           "rgb(126, 197, 236)",
           "rgb(126, 197, 236)",
           "rgb(126, 197, 236)",
           "rgb(126, 197, 236)",
           "rgb(126, 197, 236)",
           "rgb(126, 197, 236)",
           "rgb(126, 197, 236)",
           "rgb(126, 197, 236)",
           "pink",
           "rgb(126, 197, 236)",
           "rgb(126, 197, 236)",
           "rgb(126, 197, 236)",
           "rgb(126, 197, 236)",
           "rgb(126, 197, 236)"
          ],
          "line": {
           "color": "grey",
           "width": 1.5
          },
          "opacity": 0.85,
          "size": [
           20,
           20,
           20,
           20,
           20,
           20,
           20,
           20,
           20,
           20,
           20,
           20,
           20,
           20,
           20,
           20,
           20,
           20,
           20,
           20
          ]
         },
         "mode": "lines+markers",
         "showlegend": false,
         "type": "scatter",
         "x": [
          0,
          30,
          40,
          42,
          54,
          56,
          68,
          70,
          72,
          74,
          76,
          78,
          86,
          88,
          90,
          102,
          104,
          106,
          108,
          110
         ],
         "xaxis": "x2",
         "y": [
          "logs/exp_base-15-02-11",
          "logs/exp_base-15-02-11",
          "logs/exp_base-15-02-11",
          "logs/exp_base-15-02-11",
          "logs/exp_base-15-02-11",
          "logs/exp_base-15-02-11",
          "logs/exp_base-15-02-11",
          "logs/exp_base-15-02-11",
          "logs/exp_base-15-02-11",
          "logs/exp_base-15-02-11",
          "logs/exp_base-15-02-11",
          "logs/exp_base-15-02-11",
          "logs/exp_base-15-02-11",
          "logs/exp_base-15-02-11",
          "logs/exp_base-15-02-11",
          "logs/exp_base-15-02-11",
          "logs/exp_base-15-02-11",
          "logs/exp_base-15-02-11",
          "logs/exp_base-15-02-11",
          "logs/exp_base-15-02-11"
         ],
         "yaxis": "y2"
        },
        {
         "legendgroup": "start",
         "marker": {
          "color": "rgba(255,255,255,.8)",
          "line": {
           "color": "#66c5cc",
           "width": 4
          },
          "size": 40,
          "symbol": "circle"
         },
         "mode": "markers",
         "name": "Base",
         "showlegend": false,
         "type": "scatter",
         "x": [
          0
         ],
         "xaxis": "x2",
         "y": [
          "logs/exp_base-15-23-40"
         ],
         "yaxis": "y2"
        },
        {
         "line": {
          "color": "black",
          "dash": "dot",
          "width": 0.5
         },
         "marker": {
          "color": [
           "rgb(126, 197, 236)",
           "rgb(126, 197, 236)",
           "rgb(126, 197, 236)",
           "rgb(126, 197, 236)",
           "rgb(126, 197, 236)",
           "rgb(126, 197, 236)",
           "rgb(126, 197, 236)",
           "rgb(126, 197, 236)",
           "rgb(126, 197, 236)",
           "rgb(126, 197, 236)",
           "rgb(126, 197, 236)",
           "rgb(126, 197, 236)",
           "rgb(126, 197, 236)",
           "rgb(126, 197, 236)",
           "rgb(126, 197, 236)",
           "rgb(126, 197, 236)",
           "rgb(126, 197, 236)",
           "rgb(126, 197, 236)",
           "rgb(126, 197, 236)",
           "rgb(126, 197, 236)"
          ],
          "line": {
           "color": "grey",
           "width": 1.5
          },
          "opacity": 0.85,
          "size": [
           20,
           20,
           20,
           20,
           20,
           20,
           20,
           20,
           20,
           20,
           20,
           20,
           20,
           20,
           20,
           20,
           20,
           20,
           20,
           20
          ]
         },
         "mode": "lines+markers",
         "showlegend": false,
         "type": "scatter",
         "x": [
          0,
          20,
          40,
          60,
          62,
          75,
          77,
          79,
          81,
          83,
          85,
          87,
          89,
          91,
          93,
          116,
          118,
          120,
          122,
          124
         ],
         "xaxis": "x2",
         "y": [
          "logs/exp_base-15-23-40",
          "logs/exp_base-15-23-40",
          "logs/exp_base-15-23-40",
          "logs/exp_base-15-23-40",
          "logs/exp_base-15-23-40",
          "logs/exp_base-15-23-40",
          "logs/exp_base-15-23-40",
          "logs/exp_base-15-23-40",
          "logs/exp_base-15-23-40",
          "logs/exp_base-15-23-40",
          "logs/exp_base-15-23-40",
          "logs/exp_base-15-23-40",
          "logs/exp_base-15-23-40",
          "logs/exp_base-15-23-40",
          "logs/exp_base-15-23-40",
          "logs/exp_base-15-23-40",
          "logs/exp_base-15-23-40",
          "logs/exp_base-15-23-40",
          "logs/exp_base-15-23-40",
          "logs/exp_base-15-23-40"
         ],
         "yaxis": "y2"
        },
        {
         "legendgroup": "start",
         "marker": {
          "color": "rgba(255,255,255,.8)",
          "line": {
           "color": "#66c5cc",
           "width": 4
          },
          "size": 40,
          "symbol": "circle"
         },
         "mode": "markers",
         "name": "Base",
         "showlegend": false,
         "type": "scatter",
         "x": [
          0
         ],
         "xaxis": "x2",
         "y": [
          "logs/exp_base-16-01-18"
         ],
         "yaxis": "y2"
        },
        {
         "line": {
          "color": "black",
          "dash": "dot",
          "width": 0.5
         },
         "marker": {
          "color": [
           "rgb(126, 197, 236)",
           "rgb(126, 197, 236)",
           "rgb(126, 197, 236)",
           "pink",
           "pink",
           "rgb(126, 197, 236)",
           "pink",
           "pink",
           "rgb(126, 197, 236)",
           "rgb(126, 197, 236)",
           "rgb(126, 197, 236)",
           "rgb(126, 197, 236)",
           "rgb(126, 197, 236)",
           "rgb(126, 197, 236)",
           "rgb(126, 197, 236)",
           "rgb(126, 197, 236)",
           "rgb(126, 197, 236)",
           "rgb(126, 197, 236)",
           "rgb(126, 197, 236)",
           "rgb(126, 197, 236)"
          ],
          "line": {
           "color": "grey",
           "width": 1.5
          },
          "opacity": 0.85,
          "size": [
           20,
           20,
           20,
           20,
           20,
           20,
           20,
           20,
           20,
           20,
           20,
           20,
           20,
           20,
           20,
           20,
           20,
           20,
           20,
           20
          ]
         },
         "mode": "lines+markers",
         "showlegend": false,
         "type": "scatter",
         "x": [
          0,
          2,
          12,
          14,
          34,
          54,
          74,
          78,
          80,
          84,
          86,
          94,
          96,
          106,
          116,
          136,
          156,
          158,
          178,
          198
         ],
         "xaxis": "x2",
         "y": [
          "logs/exp_base-16-01-18",
          "logs/exp_base-16-01-18",
          "logs/exp_base-16-01-18",
          "logs/exp_base-16-01-18",
          "logs/exp_base-16-01-18",
          "logs/exp_base-16-01-18",
          "logs/exp_base-16-01-18",
          "logs/exp_base-16-01-18",
          "logs/exp_base-16-01-18",
          "logs/exp_base-16-01-18",
          "logs/exp_base-16-01-18",
          "logs/exp_base-16-01-18",
          "logs/exp_base-16-01-18",
          "logs/exp_base-16-01-18",
          "logs/exp_base-16-01-18",
          "logs/exp_base-16-01-18",
          "logs/exp_base-16-01-18",
          "logs/exp_base-16-01-18",
          "logs/exp_base-16-01-18",
          "logs/exp_base-16-01-18"
         ],
         "yaxis": "y2"
        },
        {
         "legendgroup": "start",
         "marker": {
          "color": "rgba(255,255,255,.8)",
          "line": {
           "color": "#66c5cc",
           "width": 4
          },
          "size": 40,
          "symbol": "circle"
         },
         "mode": "markers",
         "name": "Base",
         "showlegend": false,
         "type": "scatter",
         "x": [
          0
         ],
         "xaxis": "x2",
         "y": [
          "logs/exp_base-17-03-39"
         ],
         "yaxis": "y2"
        },
        {
         "line": {
          "color": "black",
          "dash": "dot",
          "width": 0.5
         },
         "marker": {
          "color": [
           "rgb(126, 197, 236)",
           "rgb(126, 197, 236)",
           "pink",
           "rgb(126, 197, 236)",
           "rgb(126, 197, 236)",
           "pink",
           "rgb(126, 197, 236)",
           "rgb(126, 197, 236)",
           "pink",
           "pink",
           "rgb(126, 197, 236)",
           "rgb(126, 197, 236)",
           "rgb(200,200,200)",
           "rgb(126, 197, 236)",
           "rgb(126, 197, 236)",
           "rgb(126, 197, 236)",
           "rgb(126, 197, 236)",
           "rgb(126, 197, 236)",
           "rgb(126, 197, 236)",
           "rgb(126, 197, 236)"
          ],
          "line": {
           "color": "grey",
           "width": 1.5
          },
          "opacity": 0.85,
          "size": [
           20,
           20,
           20,
           20,
           20,
           20,
           20,
           20,
           20,
           20,
           20,
           20,
           20,
           20,
           20,
           20,
           20,
           20,
           20,
           20
          ]
         },
         "mode": "lines+markers",
         "showlegend": false,
         "type": "scatter",
         "x": [
          0,
          16,
          32,
          58,
          60,
          63,
          65,
          67,
          69,
          71,
          76,
          78,
          80,
          90,
          92,
          94,
          96,
          98,
          102,
          104
         ],
         "xaxis": "x2",
         "y": [
          "logs/exp_base-17-03-39",
          "logs/exp_base-17-03-39",
          "logs/exp_base-17-03-39",
          "logs/exp_base-17-03-39",
          "logs/exp_base-17-03-39",
          "logs/exp_base-17-03-39",
          "logs/exp_base-17-03-39",
          "logs/exp_base-17-03-39",
          "logs/exp_base-17-03-39",
          "logs/exp_base-17-03-39",
          "logs/exp_base-17-03-39",
          "logs/exp_base-17-03-39",
          "logs/exp_base-17-03-39",
          "logs/exp_base-17-03-39",
          "logs/exp_base-17-03-39",
          "logs/exp_base-17-03-39",
          "logs/exp_base-17-03-39",
          "logs/exp_base-17-03-39",
          "logs/exp_base-17-03-39",
          "logs/exp_base-17-03-39"
         ],
         "yaxis": "y2"
        },
        {
         "legendgroup": "start",
         "marker": {
          "color": "rgba(255,255,255,.8)",
          "line": {
           "color": "#66c5cc",
           "width": 4
          },
          "size": 40,
          "symbol": "circle"
         },
         "mode": "markers",
         "name": "Base",
         "showlegend": false,
         "type": "scatter",
         "x": [
          0
         ],
         "xaxis": "x2",
         "y": [
          "logs/exp_base-17-33-41"
         ],
         "yaxis": "y2"
        },
        {
         "line": {
          "color": "black",
          "dash": "dot",
          "width": 0.5
         },
         "marker": {
          "color": [
           "rgb(126, 197, 236)",
           "rgb(126, 197, 236)",
           "rgb(126, 197, 236)"
          ],
          "line": {
           "color": "grey",
           "width": 1.5
          },
          "opacity": 0.85,
          "size": [
           20,
           20,
           20
          ]
         },
         "mode": "lines+markers",
         "showlegend": false,
         "type": "scatter",
         "x": [
          0,
          20,
          40
         ],
         "xaxis": "x2",
         "y": [
          "logs/exp_base-17-33-41",
          "logs/exp_base-17-33-41",
          "logs/exp_base-17-33-41"
         ],
         "yaxis": "y2"
        },
        {
         "legendgroup": "start",
         "marker": {
          "color": "rgba(255,255,255,.8)",
          "line": {
           "color": "#f6cf71",
           "width": 4
          },
          "size": 40,
          "symbol": "circle"
         },
         "mode": "markers",
         "name": "Male",
         "showlegend": false,
         "type": "scatter",
         "x": [
          0
         ],
         "xaxis": "x2",
         "y": [
          "logs/exp_male-09-23-21"
         ],
         "yaxis": "y2"
        },
        {
         "line": {
          "color": "black",
          "dash": "dot",
          "width": 0.5
         },
         "marker": {
          "color": [
           "pink",
           "pink",
           "pink",
           "rgb(126, 197, 236)",
           "rgb(126, 197, 236)",
           "rgb(126, 197, 236)",
           "pink",
           "pink",
           "pink",
           "pink",
           "pink",
           "rgb(126, 197, 236)",
           "pink",
           "rgb(126, 197, 236)",
           "pink",
           "rgb(126, 197, 236)",
           "rgb(126, 197, 236)",
           "rgb(126, 197, 236)",
           "rgb(126, 197, 236)",
           "pink"
          ],
          "line": {
           "color": "grey",
           "width": 1.5
          },
          "opacity": 0.85,
          "size": [
           20,
           20,
           20,
           20,
           20,
           20,
           20,
           20,
           20,
           20,
           20,
           20,
           20,
           20,
           20,
           20,
           20,
           20,
           20,
           20
          ]
         },
         "mode": "lines+markers",
         "showlegend": false,
         "type": "scatter",
         "x": [
          0,
          20,
          22,
          62,
          64,
          84,
          96,
          98,
          102,
          104,
          106,
          108,
          110,
          112,
          114,
          116,
          118,
          122,
          126,
          128
         ],
         "xaxis": "x2",
         "y": [
          "logs/exp_male-09-23-21",
          "logs/exp_male-09-23-21",
          "logs/exp_male-09-23-21",
          "logs/exp_male-09-23-21",
          "logs/exp_male-09-23-21",
          "logs/exp_male-09-23-21",
          "logs/exp_male-09-23-21",
          "logs/exp_male-09-23-21",
          "logs/exp_male-09-23-21",
          "logs/exp_male-09-23-21",
          "logs/exp_male-09-23-21",
          "logs/exp_male-09-23-21",
          "logs/exp_male-09-23-21",
          "logs/exp_male-09-23-21",
          "logs/exp_male-09-23-21",
          "logs/exp_male-09-23-21",
          "logs/exp_male-09-23-21",
          "logs/exp_male-09-23-21",
          "logs/exp_male-09-23-21",
          "logs/exp_male-09-23-21"
         ],
         "yaxis": "y2"
        },
        {
         "legendgroup": "start",
         "marker": {
          "color": "rgba(255,255,255,.8)",
          "line": {
           "color": "#f6cf71",
           "width": 4
          },
          "size": 40,
          "symbol": "circle"
         },
         "mode": "markers",
         "name": "Male",
         "showlegend": false,
         "type": "scatter",
         "x": [
          0
         ],
         "xaxis": "x2",
         "y": [
          "logs/exp_male-10-01-05"
         ],
         "yaxis": "y2"
        },
        {
         "line": {
          "color": "black",
          "dash": "dot",
          "width": 0.5
         },
         "marker": {
          "color": [
           "rgb(126, 197, 236)",
           "rgb(126, 197, 236)",
           "rgb(126, 197, 236)",
           "rgb(126, 197, 236)",
           "rgb(126, 197, 236)",
           "pink",
           "rgb(126, 197, 236)",
           "rgb(126, 197, 236)",
           "rgb(126, 197, 236)",
           "rgb(126, 197, 236)",
           "rgb(126, 197, 236)",
           "rgb(126, 197, 236)",
           "rgb(126, 197, 236)",
           "rgb(126, 197, 236)",
           "rgb(126, 197, 236)",
           "rgb(126, 197, 236)",
           "rgb(126, 197, 236)",
           "rgb(126, 197, 236)",
           "pink",
           "rgb(126, 197, 236)"
          ],
          "line": {
           "color": "grey",
           "width": 1.5
          },
          "opacity": 0.85,
          "size": [
           20,
           20,
           20,
           20,
           20,
           20,
           20,
           20,
           20,
           20,
           20,
           20,
           20,
           20,
           20,
           20,
           20,
           20,
           20,
           20
          ]
         },
         "mode": "lines+markers",
         "showlegend": false,
         "type": "scatter",
         "x": [
          0,
          2,
          22,
          24,
          58,
          60,
          62,
          64,
          66,
          68,
          71,
          73,
          75,
          78,
          81,
          84,
          86,
          90,
          92,
          94
         ],
         "xaxis": "x2",
         "y": [
          "logs/exp_male-10-01-05",
          "logs/exp_male-10-01-05",
          "logs/exp_male-10-01-05",
          "logs/exp_male-10-01-05",
          "logs/exp_male-10-01-05",
          "logs/exp_male-10-01-05",
          "logs/exp_male-10-01-05",
          "logs/exp_male-10-01-05",
          "logs/exp_male-10-01-05",
          "logs/exp_male-10-01-05",
          "logs/exp_male-10-01-05",
          "logs/exp_male-10-01-05",
          "logs/exp_male-10-01-05",
          "logs/exp_male-10-01-05",
          "logs/exp_male-10-01-05",
          "logs/exp_male-10-01-05",
          "logs/exp_male-10-01-05",
          "logs/exp_male-10-01-05",
          "logs/exp_male-10-01-05",
          "logs/exp_male-10-01-05"
         ],
         "yaxis": "y2"
        },
        {
         "legendgroup": "start",
         "marker": {
          "color": "rgba(255,255,255,.8)",
          "line": {
           "color": "#f6cf71",
           "width": 4
          },
          "size": 40,
          "symbol": "circle"
         },
         "mode": "markers",
         "name": "Male",
         "showlegend": false,
         "type": "scatter",
         "x": [
          0
         ],
         "xaxis": "x2",
         "y": [
          "logs/exp_male-10-19-38"
         ],
         "yaxis": "y2"
        },
        {
         "line": {
          "color": "black",
          "dash": "dot",
          "width": 0.5
         },
         "marker": {
          "color": [
           "rgb(126, 197, 236)",
           "rgb(126, 197, 236)",
           "rgb(126, 197, 236)",
           "rgb(126, 197, 236)",
           "rgb(126, 197, 236)",
           "rgb(126, 197, 236)",
           "rgb(126, 197, 236)",
           "pink",
           "pink",
           "pink",
           "rgb(126, 197, 236)",
           "rgb(126, 197, 236)",
           "pink",
           "rgb(126, 197, 236)",
           "pink",
           "rgb(126, 197, 236)",
           "pink",
           "rgb(126, 197, 236)",
           "rgb(126, 197, 236)",
           "rgb(126, 197, 236)"
          ],
          "line": {
           "color": "grey",
           "width": 1.5
          },
          "opacity": 0.85,
          "size": [
           20,
           20,
           20,
           20,
           20,
           20,
           20,
           20,
           20,
           20,
           20,
           20,
           20,
           20,
           20,
           20,
           20,
           20,
           20,
           20
          ]
         },
         "mode": "lines+markers",
         "showlegend": false,
         "type": "scatter",
         "x": [
          0,
          8,
          18,
          20,
          40,
          42,
          45,
          47,
          49,
          51,
          53,
          55,
          57,
          59,
          69,
          89,
          91,
          111,
          113,
          133
         ],
         "xaxis": "x2",
         "y": [
          "logs/exp_male-10-19-38",
          "logs/exp_male-10-19-38",
          "logs/exp_male-10-19-38",
          "logs/exp_male-10-19-38",
          "logs/exp_male-10-19-38",
          "logs/exp_male-10-19-38",
          "logs/exp_male-10-19-38",
          "logs/exp_male-10-19-38",
          "logs/exp_male-10-19-38",
          "logs/exp_male-10-19-38",
          "logs/exp_male-10-19-38",
          "logs/exp_male-10-19-38",
          "logs/exp_male-10-19-38",
          "logs/exp_male-10-19-38",
          "logs/exp_male-10-19-38",
          "logs/exp_male-10-19-38",
          "logs/exp_male-10-19-38",
          "logs/exp_male-10-19-38",
          "logs/exp_male-10-19-38",
          "logs/exp_male-10-19-38"
         ],
         "yaxis": "y2"
        },
        {
         "legendgroup": "start",
         "marker": {
          "color": "rgba(255,255,255,.8)",
          "line": {
           "color": "#f6cf71",
           "width": 4
          },
          "size": 40,
          "symbol": "circle"
         },
         "mode": "markers",
         "name": "Male",
         "showlegend": false,
         "type": "scatter",
         "x": [
          0
         ],
         "xaxis": "x2",
         "y": [
          "logs/exp_male-10-39-45"
         ],
         "yaxis": "y2"
        },
        {
         "line": {
          "color": "black",
          "dash": "dot",
          "width": 0.5
         },
         "marker": {
          "color": [
           "rgb(126, 197, 236)",
           "rgb(126, 197, 236)",
           "rgb(126, 197, 236)",
           "rgb(126, 197, 236)",
           "rgb(126, 197, 236)",
           "rgb(126, 197, 236)",
           "rgb(126, 197, 236)",
           "rgb(126, 197, 236)",
           "rgb(126, 197, 236)",
           "rgb(126, 197, 236)",
           "rgb(126, 197, 236)",
           "rgb(126, 197, 236)",
           "rgb(126, 197, 236)",
           "rgb(126, 197, 236)",
           "rgb(126, 197, 236)",
           "rgb(126, 197, 236)",
           "rgb(126, 197, 236)",
           "rgb(126, 197, 236)",
           "rgb(126, 197, 236)",
           "rgb(126, 197, 236)"
          ],
          "line": {
           "color": "grey",
           "width": 1.5
          },
          "opacity": 0.85,
          "size": [
           20,
           20,
           20,
           20,
           20,
           20,
           20,
           20,
           20,
           20,
           20,
           20,
           20,
           20,
           20,
           20,
           20,
           20,
           20,
           20
          ]
         },
         "mode": "lines+markers",
         "showlegend": false,
         "type": "scatter",
         "x": [
          0,
          6,
          18,
          22,
          28,
          48,
          68,
          70,
          83,
          85,
          98,
          100,
          102,
          106,
          110,
          118,
          134,
          150,
          160,
          170
         ],
         "xaxis": "x2",
         "y": [
          "logs/exp_male-10-39-45",
          "logs/exp_male-10-39-45",
          "logs/exp_male-10-39-45",
          "logs/exp_male-10-39-45",
          "logs/exp_male-10-39-45",
          "logs/exp_male-10-39-45",
          "logs/exp_male-10-39-45",
          "logs/exp_male-10-39-45",
          "logs/exp_male-10-39-45",
          "logs/exp_male-10-39-45",
          "logs/exp_male-10-39-45",
          "logs/exp_male-10-39-45",
          "logs/exp_male-10-39-45",
          "logs/exp_male-10-39-45",
          "logs/exp_male-10-39-45",
          "logs/exp_male-10-39-45",
          "logs/exp_male-10-39-45",
          "logs/exp_male-10-39-45",
          "logs/exp_male-10-39-45",
          "logs/exp_male-10-39-45"
         ],
         "yaxis": "y2"
        },
        {
         "legendgroup": "start",
         "marker": {
          "color": "rgba(255,255,255,.8)",
          "line": {
           "color": "#f6cf71",
           "width": 4
          },
          "size": 40,
          "symbol": "circle"
         },
         "mode": "markers",
         "name": "Male",
         "showlegend": false,
         "type": "scatter",
         "x": [
          0
         ],
         "xaxis": "x2",
         "y": [
          "logs/exp_male-10-52-07"
         ],
         "yaxis": "y2"
        },
        {
         "line": {
          "color": "black",
          "dash": "dot",
          "width": 0.5
         },
         "marker": {
          "color": [
           "rgb(126, 197, 236)",
           "rgb(126, 197, 236)",
           "rgb(126, 197, 236)",
           "rgb(126, 197, 236)",
           "rgb(126, 197, 236)",
           "rgb(126, 197, 236)",
           "rgb(126, 197, 236)",
           "rgb(126, 197, 236)",
           "rgb(126, 197, 236)",
           "pink",
           "rgb(126, 197, 236)",
           "rgb(126, 197, 236)",
           "rgb(126, 197, 236)",
           "rgb(126, 197, 236)",
           "rgb(126, 197, 236)",
           "rgb(126, 197, 236)",
           "rgb(126, 197, 236)",
           "rgb(126, 197, 236)",
           "rgb(126, 197, 236)",
           "pink"
          ],
          "line": {
           "color": "grey",
           "width": 1.5
          },
          "opacity": 0.85,
          "size": [
           20,
           20,
           20,
           20,
           20,
           20,
           20,
           20,
           20,
           20,
           20,
           20,
           20,
           20,
           20,
           20,
           20,
           20,
           20,
           20
          ]
         },
         "mode": "lines+markers",
         "showlegend": false,
         "type": "scatter",
         "x": [
          0,
          6,
          8,
          10,
          20,
          40,
          42,
          62,
          64,
          75,
          77,
          79,
          87,
          89,
          100,
          102,
          104,
          106,
          108,
          110
         ],
         "xaxis": "x2",
         "y": [
          "logs/exp_male-10-52-07",
          "logs/exp_male-10-52-07",
          "logs/exp_male-10-52-07",
          "logs/exp_male-10-52-07",
          "logs/exp_male-10-52-07",
          "logs/exp_male-10-52-07",
          "logs/exp_male-10-52-07",
          "logs/exp_male-10-52-07",
          "logs/exp_male-10-52-07",
          "logs/exp_male-10-52-07",
          "logs/exp_male-10-52-07",
          "logs/exp_male-10-52-07",
          "logs/exp_male-10-52-07",
          "logs/exp_male-10-52-07",
          "logs/exp_male-10-52-07",
          "logs/exp_male-10-52-07",
          "logs/exp_male-10-52-07",
          "logs/exp_male-10-52-07",
          "logs/exp_male-10-52-07",
          "logs/exp_male-10-52-07"
         ],
         "yaxis": "y2"
        },
        {
         "legendgroup": "start",
         "marker": {
          "color": "rgba(255,255,255,.8)",
          "line": {
           "color": "#f6cf71",
           "width": 4
          },
          "size": 40,
          "symbol": "circle"
         },
         "mode": "markers",
         "name": "Male",
         "showlegend": false,
         "type": "scatter",
         "x": [
          0
         ],
         "xaxis": "x2",
         "y": [
          "logs/exp_male-13-07-56"
         ],
         "yaxis": "y2"
        },
        {
         "line": {
          "color": "black",
          "dash": "dot",
          "width": 0.5
         },
         "marker": {
          "color": [
           "pink",
           "rgb(126, 197, 236)",
           "rgb(126, 197, 236)",
           "rgb(126, 197, 236)",
           "rgb(126, 197, 236)",
           "rgb(126, 197, 236)",
           "rgb(126, 197, 236)",
           "rgb(126, 197, 236)",
           "rgb(126, 197, 236)",
           "pink",
           "rgb(126, 197, 236)",
           "rgb(126, 197, 236)",
           "rgb(126, 197, 236)",
           "rgb(126, 197, 236)",
           "rgb(126, 197, 236)",
           "rgb(126, 197, 236)",
           "rgb(126, 197, 236)",
           "rgb(126, 197, 236)",
           "rgb(126, 197, 236)",
           "rgb(126, 197, 236)"
          ],
          "line": {
           "color": "grey",
           "width": 1.5
          },
          "opacity": 0.85,
          "size": [
           20,
           20,
           20,
           20,
           20,
           20,
           20,
           20,
           20,
           20,
           20,
           20,
           20,
           20,
           20,
           20,
           20,
           20,
           20,
           20
          ]
         },
         "mode": "lines+markers",
         "showlegend": false,
         "type": "scatter",
         "x": [
          0,
          20,
          30,
          32,
          62,
          64,
          66,
          68,
          75,
          77,
          79,
          81,
          83,
          85,
          87,
          89,
          91,
          93,
          95,
          97
         ],
         "xaxis": "x2",
         "y": [
          "logs/exp_male-13-07-56",
          "logs/exp_male-13-07-56",
          "logs/exp_male-13-07-56",
          "logs/exp_male-13-07-56",
          "logs/exp_male-13-07-56",
          "logs/exp_male-13-07-56",
          "logs/exp_male-13-07-56",
          "logs/exp_male-13-07-56",
          "logs/exp_male-13-07-56",
          "logs/exp_male-13-07-56",
          "logs/exp_male-13-07-56",
          "logs/exp_male-13-07-56",
          "logs/exp_male-13-07-56",
          "logs/exp_male-13-07-56",
          "logs/exp_male-13-07-56",
          "logs/exp_male-13-07-56",
          "logs/exp_male-13-07-56",
          "logs/exp_male-13-07-56",
          "logs/exp_male-13-07-56",
          "logs/exp_male-13-07-56"
         ],
         "yaxis": "y2"
        },
        {
         "legendgroup": "start",
         "marker": {
          "color": "rgba(255,255,255,.8)",
          "line": {
           "color": "#f89c74",
           "width": 4
          },
          "size": 40,
          "symbol": "circle"
         },
         "mode": "markers",
         "name": "Night",
         "showlegend": false,
         "type": "scatter",
         "x": [
          0
         ],
         "xaxis": "x2",
         "y": [
          "logs/exp_night-16-55-47"
         ],
         "yaxis": "y2"
        },
        {
         "line": {
          "color": "black",
          "dash": "dot",
          "width": 0.5
         },
         "marker": {
          "color": [
           "rgb(126, 197, 236)",
           "rgb(126, 197, 236)",
           "rgb(126, 197, 236)",
           "rgb(126, 197, 236)",
           "rgb(126, 197, 236)",
           "rgb(126, 197, 236)",
           "rgb(126, 197, 236)",
           "rgb(126, 197, 236)",
           "rgb(126, 197, 236)",
           "rgb(126, 197, 236)",
           "rgb(126, 197, 236)",
           "rgb(126, 197, 236)",
           "rgb(126, 197, 236)",
           "rgb(126, 197, 236)",
           "rgb(126, 197, 236)",
           "rgb(126, 197, 236)",
           "rgb(126, 197, 236)",
           "rgb(126, 197, 236)",
           "rgb(126, 197, 236)",
           "rgb(126, 197, 236)"
          ],
          "line": {
           "color": "grey",
           "width": 1.5
          },
          "opacity": 0.85,
          "size": [
           20,
           20,
           20,
           20,
           20,
           20,
           20,
           20,
           20,
           20,
           20,
           20,
           20,
           20,
           20,
           20,
           20,
           20,
           20,
           20
          ]
         },
         "mode": "lines+markers",
         "showlegend": false,
         "type": "scatter",
         "x": [
          0,
          20,
          22,
          42,
          52,
          54,
          56,
          76,
          78,
          98,
          100,
          130,
          133,
          148,
          150,
          152,
          162,
          164,
          184,
          204
         ],
         "xaxis": "x2",
         "y": [
          "logs/exp_night-16-55-47",
          "logs/exp_night-16-55-47",
          "logs/exp_night-16-55-47",
          "logs/exp_night-16-55-47",
          "logs/exp_night-16-55-47",
          "logs/exp_night-16-55-47",
          "logs/exp_night-16-55-47",
          "logs/exp_night-16-55-47",
          "logs/exp_night-16-55-47",
          "logs/exp_night-16-55-47",
          "logs/exp_night-16-55-47",
          "logs/exp_night-16-55-47",
          "logs/exp_night-16-55-47",
          "logs/exp_night-16-55-47",
          "logs/exp_night-16-55-47",
          "logs/exp_night-16-55-47",
          "logs/exp_night-16-55-47",
          "logs/exp_night-16-55-47",
          "logs/exp_night-16-55-47",
          "logs/exp_night-16-55-47"
         ],
         "yaxis": "y2"
        },
        {
         "legendgroup": "start",
         "marker": {
          "color": "rgba(255,255,255,.8)",
          "line": {
           "color": "#f89c74",
           "width": 4
          },
          "size": 40,
          "symbol": "circle"
         },
         "mode": "markers",
         "name": "Night",
         "showlegend": false,
         "type": "scatter",
         "x": [
          0
         ],
         "xaxis": "x2",
         "y": [
          "logs/exp_night-17-01-43"
         ],
         "yaxis": "y2"
        },
        {
         "line": {
          "color": "black",
          "dash": "dot",
          "width": 0.5
         },
         "marker": {
          "color": [
           "rgb(126, 197, 236)",
           "rgb(126, 197, 236)",
           "rgb(126, 197, 236)",
           "rgb(126, 197, 236)",
           "rgb(126, 197, 236)",
           "rgb(126, 197, 236)",
           "rgb(126, 197, 236)",
           "rgb(126, 197, 236)",
           "rgb(126, 197, 236)",
           "rgb(126, 197, 236)",
           "rgb(126, 197, 236)",
           "rgb(126, 197, 236)",
           "rgb(126, 197, 236)",
           "rgb(126, 197, 236)",
           "rgb(126, 197, 236)",
           "rgb(126, 197, 236)",
           "rgb(126, 197, 236)",
           "rgb(126, 197, 236)",
           "rgb(126, 197, 236)",
           "rgb(126, 197, 236)"
          ],
          "line": {
           "color": "grey",
           "width": 1.5
          },
          "opacity": 0.85,
          "size": [
           20,
           20,
           20,
           20,
           20,
           20,
           20,
           20,
           20,
           20,
           20,
           20,
           20,
           20,
           20,
           20,
           20,
           20,
           20,
           20
          ]
         },
         "mode": "lines+markers",
         "showlegend": false,
         "type": "scatter",
         "x": [
          0,
          20,
          50,
          52,
          64,
          66,
          68,
          70,
          72,
          74,
          76,
          78,
          80,
          82,
          84,
          86,
          88,
          90,
          92,
          94
         ],
         "xaxis": "x2",
         "y": [
          "logs/exp_night-17-01-43",
          "logs/exp_night-17-01-43",
          "logs/exp_night-17-01-43",
          "logs/exp_night-17-01-43",
          "logs/exp_night-17-01-43",
          "logs/exp_night-17-01-43",
          "logs/exp_night-17-01-43",
          "logs/exp_night-17-01-43",
          "logs/exp_night-17-01-43",
          "logs/exp_night-17-01-43",
          "logs/exp_night-17-01-43",
          "logs/exp_night-17-01-43",
          "logs/exp_night-17-01-43",
          "logs/exp_night-17-01-43",
          "logs/exp_night-17-01-43",
          "logs/exp_night-17-01-43",
          "logs/exp_night-17-01-43",
          "logs/exp_night-17-01-43",
          "logs/exp_night-17-01-43",
          "logs/exp_night-17-01-43"
         ],
         "yaxis": "y2"
        },
        {
         "legendgroup": "start",
         "marker": {
          "color": "rgba(255,255,255,.8)",
          "line": {
           "color": "#f89c74",
           "width": 4
          },
          "size": 40,
          "symbol": "circle"
         },
         "mode": "markers",
         "name": "Night",
         "showlegend": false,
         "type": "scatter",
         "x": [
          0
         ],
         "xaxis": "x2",
         "y": [
          "logs/exp_night-18-34-03"
         ],
         "yaxis": "y2"
        },
        {
         "line": {
          "color": "black",
          "dash": "dot",
          "width": 0.5
         },
         "marker": {
          "color": [
           "rgb(126, 197, 236)",
           "rgb(126, 197, 236)",
           "rgb(126, 197, 236)",
           "rgb(126, 197, 236)",
           "rgb(126, 197, 236)",
           "rgb(126, 197, 236)",
           "rgb(126, 197, 236)",
           "rgb(126, 197, 236)",
           "rgb(126, 197, 236)",
           "rgb(126, 197, 236)",
           "rgb(126, 197, 236)",
           "rgb(126, 197, 236)",
           "rgb(126, 197, 236)",
           "rgb(126, 197, 236)",
           "rgb(126, 197, 236)",
           "rgb(126, 197, 236)",
           "rgb(126, 197, 236)",
           "rgb(126, 197, 236)",
           "rgb(126, 197, 236)",
           "rgb(126, 197, 236)"
          ],
          "line": {
           "color": "grey",
           "width": 1.5
          },
          "opacity": 0.85,
          "size": [
           20,
           20,
           20,
           20,
           20,
           20,
           20,
           20,
           20,
           20,
           20,
           20,
           20,
           20,
           20,
           20,
           20,
           20,
           20,
           20
          ]
         },
         "mode": "lines+markers",
         "showlegend": false,
         "type": "scatter",
         "x": [
          0,
          4,
          10,
          15,
          25,
          45,
          85,
          125,
          127,
          147,
          149,
          169,
          189,
          191,
          231,
          233,
          235,
          255,
          257,
          277
         ],
         "xaxis": "x2",
         "y": [
          "logs/exp_night-18-34-03",
          "logs/exp_night-18-34-03",
          "logs/exp_night-18-34-03",
          "logs/exp_night-18-34-03",
          "logs/exp_night-18-34-03",
          "logs/exp_night-18-34-03",
          "logs/exp_night-18-34-03",
          "logs/exp_night-18-34-03",
          "logs/exp_night-18-34-03",
          "logs/exp_night-18-34-03",
          "logs/exp_night-18-34-03",
          "logs/exp_night-18-34-03",
          "logs/exp_night-18-34-03",
          "logs/exp_night-18-34-03",
          "logs/exp_night-18-34-03",
          "logs/exp_night-18-34-03",
          "logs/exp_night-18-34-03",
          "logs/exp_night-18-34-03",
          "logs/exp_night-18-34-03",
          "logs/exp_night-18-34-03"
         ],
         "yaxis": "y2"
        },
        {
         "legendgroup": "start",
         "marker": {
          "color": "rgba(255,255,255,.8)",
          "line": {
           "color": "#f89c74",
           "width": 4
          },
          "size": 40,
          "symbol": "circle"
         },
         "mode": "markers",
         "name": "Night",
         "showlegend": false,
         "type": "scatter",
         "x": [
          0
         ],
         "xaxis": "x2",
         "y": [
          "logs/exp_night-18-56-47"
         ],
         "yaxis": "y2"
        },
        {
         "line": {
          "color": "black",
          "dash": "dot",
          "width": 0.5
         },
         "marker": {
          "color": [
           "pink",
           "rgb(126, 197, 236)",
           "rgb(200,200,200)",
           "rgb(126, 197, 236)",
           "rgb(126, 197, 236)",
           "rgb(126, 197, 236)",
           "rgb(126, 197, 236)",
           "rgb(126, 197, 236)",
           "rgb(126, 197, 236)",
           "rgb(126, 197, 236)",
           "rgb(126, 197, 236)",
           "rgb(126, 197, 236)",
           "rgb(126, 197, 236)",
           "rgb(126, 197, 236)",
           "rgb(126, 197, 236)",
           "rgb(126, 197, 236)",
           "rgb(126, 197, 236)",
           "rgb(126, 197, 236)",
           "rgb(126, 197, 236)",
           "rgb(126, 197, 236)"
          ],
          "line": {
           "color": "grey",
           "width": 1.5
          },
          "opacity": 0.85,
          "size": [
           20,
           20,
           20,
           20,
           20,
           20,
           20,
           20,
           20,
           20,
           20,
           20,
           20,
           20,
           20,
           20,
           20,
           20,
           20,
           20
          ]
         },
         "mode": "lines+markers",
         "showlegend": false,
         "type": "scatter",
         "x": [
          0,
          20,
          40,
          60,
          62,
          82,
          92,
          102,
          106,
          108,
          128,
          130,
          132,
          134,
          138,
          140,
          141,
          143,
          147,
          155
         ],
         "xaxis": "x2",
         "y": [
          "logs/exp_night-18-56-47",
          "logs/exp_night-18-56-47",
          "logs/exp_night-18-56-47",
          "logs/exp_night-18-56-47",
          "logs/exp_night-18-56-47",
          "logs/exp_night-18-56-47",
          "logs/exp_night-18-56-47",
          "logs/exp_night-18-56-47",
          "logs/exp_night-18-56-47",
          "logs/exp_night-18-56-47",
          "logs/exp_night-18-56-47",
          "logs/exp_night-18-56-47",
          "logs/exp_night-18-56-47",
          "logs/exp_night-18-56-47",
          "logs/exp_night-18-56-47",
          "logs/exp_night-18-56-47",
          "logs/exp_night-18-56-47",
          "logs/exp_night-18-56-47",
          "logs/exp_night-18-56-47",
          "logs/exp_night-18-56-47"
         ],
         "yaxis": "y2"
        },
        {
         "legendgroup": "start",
         "marker": {
          "color": "rgba(255,255,255,.8)",
          "line": {
           "color": "#f89c74",
           "width": 4
          },
          "size": 40,
          "symbol": "circle"
         },
         "mode": "markers",
         "name": "Night",
         "showlegend": false,
         "type": "scatter",
         "x": [
          0
         ],
         "xaxis": "x2",
         "y": [
          "logs/exp_night-19-55-57"
         ],
         "yaxis": "y2"
        },
        {
         "line": {
          "color": "black",
          "dash": "dot",
          "width": 0.5
         },
         "marker": {
          "color": [
           "rgb(126, 197, 236)",
           "rgb(126, 197, 236)"
          ],
          "line": {
           "color": "grey",
           "width": 1.5
          },
          "opacity": 0.85,
          "size": [
           20,
           20
          ]
         },
         "mode": "lines+markers",
         "showlegend": false,
         "type": "scatter",
         "x": [
          0,
          12
         ],
         "xaxis": "x2",
         "y": [
          "logs/exp_night-19-55-57",
          "logs/exp_night-19-55-57"
         ],
         "yaxis": "y2"
        },
        {
         "legendgroup": "start",
         "marker": {
          "color": "rgba(255,255,255,.8)",
          "line": {
           "color": "#f89c74",
           "width": 4
          },
          "size": 40,
          "symbol": "circle"
         },
         "mode": "markers",
         "name": "Night",
         "showlegend": false,
         "type": "scatter",
         "x": [
          0
         ],
         "xaxis": "x2",
         "y": [
          "logs/exp_night-21-05-26"
         ],
         "yaxis": "y2"
        },
        {
         "line": {
          "color": "black",
          "dash": "dot",
          "width": 0.5
         },
         "marker": {
          "color": [
           "rgb(126, 197, 236)",
           "rgb(126, 197, 236)",
           "rgb(200,200,200)",
           "rgb(126, 197, 236)",
           "rgb(126, 197, 236)",
           "rgb(126, 197, 236)",
           "rgb(126, 197, 236)",
           "pink",
           "rgb(126, 197, 236)",
           "rgb(126, 197, 236)",
           "rgb(126, 197, 236)",
           "rgb(126, 197, 236)",
           "rgb(126, 197, 236)",
           "rgb(126, 197, 236)",
           "rgb(126, 197, 236)",
           "rgb(126, 197, 236)",
           "rgb(126, 197, 236)",
           "pink",
           "rgb(126, 197, 236)",
           "rgb(126, 197, 236)"
          ],
          "line": {
           "color": "grey",
           "width": 1.5
          },
          "opacity": 0.85,
          "size": [
           20,
           20,
           20,
           20,
           20,
           20,
           20,
           20,
           20,
           20,
           20,
           20,
           20,
           20,
           20,
           20,
           20,
           20,
           20,
           20
          ]
         },
         "mode": "lines+markers",
         "showlegend": false,
         "type": "scatter",
         "x": [
          0,
          2,
          8,
          18,
          52,
          54,
          56,
          59,
          61,
          63,
          66,
          68,
          73,
          75,
          77,
          79,
          87,
          89,
          91,
          93
         ],
         "xaxis": "x2",
         "y": [
          "logs/exp_night-21-05-26",
          "logs/exp_night-21-05-26",
          "logs/exp_night-21-05-26",
          "logs/exp_night-21-05-26",
          "logs/exp_night-21-05-26",
          "logs/exp_night-21-05-26",
          "logs/exp_night-21-05-26",
          "logs/exp_night-21-05-26",
          "logs/exp_night-21-05-26",
          "logs/exp_night-21-05-26",
          "logs/exp_night-21-05-26",
          "logs/exp_night-21-05-26",
          "logs/exp_night-21-05-26",
          "logs/exp_night-21-05-26",
          "logs/exp_night-21-05-26",
          "logs/exp_night-21-05-26",
          "logs/exp_night-21-05-26",
          "logs/exp_night-21-05-26",
          "logs/exp_night-21-05-26",
          "logs/exp_night-21-05-26"
         ],
         "yaxis": "y2"
        },
        {
         "legendgroup": "start",
         "marker": {
          "color": "rgba(255,255,255,.8)",
          "line": {
           "color": "#dcb0f2",
           "width": 4
          },
          "size": 40,
          "symbol": "circle"
         },
         "mode": "markers",
         "name": "Tokyo",
         "showlegend": false,
         "type": "scatter",
         "x": [
          0
         ],
         "xaxis": "x2",
         "y": [
          "logs/exp_tokyo-09-27-19"
         ],
         "yaxis": "y2"
        },
        {
         "line": {
          "color": "black",
          "dash": "dot",
          "width": 0.5
         },
         "marker": {
          "color": [
           "rgb(126, 197, 236)",
           "rgb(126, 197, 236)",
           "rgb(126, 197, 236)",
           "rgb(126, 197, 236)",
           "rgb(126, 197, 236)",
           "rgb(126, 197, 236)",
           "rgb(126, 197, 236)",
           "rgb(126, 197, 236)",
           "rgb(126, 197, 236)",
           "rgb(126, 197, 236)",
           "rgb(126, 197, 236)",
           "rgb(126, 197, 236)",
           "rgb(126, 197, 236)",
           "rgb(126, 197, 236)",
           "rgb(126, 197, 236)",
           "pink",
           "rgb(126, 197, 236)",
           "rgb(126, 197, 236)"
          ],
          "line": {
           "color": "grey",
           "width": 1.5
          },
          "opacity": 0.85,
          "size": [
           20,
           20,
           20,
           20,
           20,
           20,
           20,
           20,
           20,
           20,
           20,
           20,
           20,
           20,
           20,
           20,
           20,
           20
          ]
         },
         "mode": "lines+markers",
         "showlegend": false,
         "type": "scatter",
         "x": [
          0,
          2,
          10,
          30,
          34,
          44,
          54,
          56,
          58,
          68,
          88,
          90,
          110,
          130,
          132,
          134,
          154,
          156
         ],
         "xaxis": "x2",
         "y": [
          "logs/exp_tokyo-09-27-19",
          "logs/exp_tokyo-09-27-19",
          "logs/exp_tokyo-09-27-19",
          "logs/exp_tokyo-09-27-19",
          "logs/exp_tokyo-09-27-19",
          "logs/exp_tokyo-09-27-19",
          "logs/exp_tokyo-09-27-19",
          "logs/exp_tokyo-09-27-19",
          "logs/exp_tokyo-09-27-19",
          "logs/exp_tokyo-09-27-19",
          "logs/exp_tokyo-09-27-19",
          "logs/exp_tokyo-09-27-19",
          "logs/exp_tokyo-09-27-19",
          "logs/exp_tokyo-09-27-19",
          "logs/exp_tokyo-09-27-19",
          "logs/exp_tokyo-09-27-19",
          "logs/exp_tokyo-09-27-19",
          "logs/exp_tokyo-09-27-19"
         ],
         "yaxis": "y2"
        },
        {
         "legendgroup": "start",
         "marker": {
          "color": "rgba(255,255,255,.8)",
          "line": {
           "color": "#dcb0f2",
           "width": 4
          },
          "size": 40,
          "symbol": "circle"
         },
         "mode": "markers",
         "name": "Tokyo",
         "showlegend": false,
         "type": "scatter",
         "x": [
          0
         ],
         "xaxis": "x2",
         "y": [
          "logs/exp_tokyo-09-38-44"
         ],
         "yaxis": "y2"
        },
        {
         "line": {
          "color": "black",
          "dash": "dot",
          "width": 0.5
         },
         "marker": {
          "color": [
           "rgb(126, 197, 236)",
           "rgb(126, 197, 236)",
           "rgb(126, 197, 236)",
           "rgb(126, 197, 236)",
           "rgb(126, 197, 236)",
           "rgb(126, 197, 236)",
           "rgb(126, 197, 236)",
           "rgb(126, 197, 236)",
           "rgb(126, 197, 236)",
           "rgb(126, 197, 236)",
           "pink",
           "rgb(126, 197, 236)",
           "rgb(126, 197, 236)",
           "rgb(126, 197, 236)",
           "rgb(126, 197, 236)",
           "rgb(126, 197, 236)",
           "rgb(126, 197, 236)",
           "rgb(126, 197, 236)",
           "rgb(126, 197, 236)",
           "rgb(126, 197, 236)"
          ],
          "line": {
           "color": "grey",
           "width": 1.5
          },
          "opacity": 0.85,
          "size": [
           20,
           20,
           20,
           20,
           20,
           20,
           20,
           20,
           20,
           20,
           20,
           20,
           20,
           20,
           20,
           20,
           20,
           20,
           20,
           20
          ]
         },
         "mode": "lines+markers",
         "showlegend": false,
         "type": "scatter",
         "x": [
          0,
          10,
          30,
          50,
          70,
          72,
          82,
          102,
          142,
          152,
          154,
          183,
          212,
          215,
          243,
          245,
          273,
          275,
          285,
          288
         ],
         "xaxis": "x2",
         "y": [
          "logs/exp_tokyo-09-38-44",
          "logs/exp_tokyo-09-38-44",
          "logs/exp_tokyo-09-38-44",
          "logs/exp_tokyo-09-38-44",
          "logs/exp_tokyo-09-38-44",
          "logs/exp_tokyo-09-38-44",
          "logs/exp_tokyo-09-38-44",
          "logs/exp_tokyo-09-38-44",
          "logs/exp_tokyo-09-38-44",
          "logs/exp_tokyo-09-38-44",
          "logs/exp_tokyo-09-38-44",
          "logs/exp_tokyo-09-38-44",
          "logs/exp_tokyo-09-38-44",
          "logs/exp_tokyo-09-38-44",
          "logs/exp_tokyo-09-38-44",
          "logs/exp_tokyo-09-38-44",
          "logs/exp_tokyo-09-38-44",
          "logs/exp_tokyo-09-38-44",
          "logs/exp_tokyo-09-38-44",
          "logs/exp_tokyo-09-38-44"
         ],
         "yaxis": "y2"
        },
        {
         "legendgroup": "start",
         "marker": {
          "color": "rgba(255,255,255,.8)",
          "line": {
           "color": "#dcb0f2",
           "width": 4
          },
          "size": 40,
          "symbol": "circle"
         },
         "mode": "markers",
         "name": "Tokyo",
         "showlegend": false,
         "type": "scatter",
         "x": [
          0
         ],
         "xaxis": "x2",
         "y": [
          "logs/exp_tokyo-10-12-13"
         ],
         "yaxis": "y2"
        },
        {
         "line": {
          "color": "black",
          "dash": "dot",
          "width": 0.5
         },
         "marker": {
          "color": [
           "rgb(126, 197, 236)",
           "rgb(126, 197, 236)",
           "rgb(126, 197, 236)",
           "rgb(126, 197, 236)",
           "rgb(126, 197, 236)",
           "rgb(126, 197, 236)",
           "rgb(126, 197, 236)",
           "rgb(126, 197, 236)",
           "rgb(126, 197, 236)",
           "rgb(126, 197, 236)",
           "rgb(126, 197, 236)",
           "rgb(126, 197, 236)",
           "rgb(126, 197, 236)",
           "rgb(126, 197, 236)",
           "rgb(126, 197, 236)",
           "rgb(126, 197, 236)",
           "rgb(126, 197, 236)",
           "rgb(126, 197, 236)",
           "rgb(126, 197, 236)",
           "rgb(126, 197, 236)"
          ],
          "line": {
           "color": "grey",
           "width": 1.5
          },
          "opacity": 0.85,
          "size": [
           20,
           20,
           20,
           20,
           20,
           20,
           20,
           20,
           20,
           20,
           20,
           20,
           20,
           20,
           20,
           20,
           20,
           20,
           20,
           20
          ]
         },
         "mode": "lines+markers",
         "showlegend": false,
         "type": "scatter",
         "x": [
          0,
          20,
          40,
          80,
          82,
          84,
          86,
          88,
          90,
          92,
          94,
          96,
          98,
          100,
          102,
          104,
          106,
          108,
          110,
          112
         ],
         "xaxis": "x2",
         "y": [
          "logs/exp_tokyo-10-12-13",
          "logs/exp_tokyo-10-12-13",
          "logs/exp_tokyo-10-12-13",
          "logs/exp_tokyo-10-12-13",
          "logs/exp_tokyo-10-12-13",
          "logs/exp_tokyo-10-12-13",
          "logs/exp_tokyo-10-12-13",
          "logs/exp_tokyo-10-12-13",
          "logs/exp_tokyo-10-12-13",
          "logs/exp_tokyo-10-12-13",
          "logs/exp_tokyo-10-12-13",
          "logs/exp_tokyo-10-12-13",
          "logs/exp_tokyo-10-12-13",
          "logs/exp_tokyo-10-12-13",
          "logs/exp_tokyo-10-12-13",
          "logs/exp_tokyo-10-12-13",
          "logs/exp_tokyo-10-12-13",
          "logs/exp_tokyo-10-12-13",
          "logs/exp_tokyo-10-12-13",
          "logs/exp_tokyo-10-12-13"
         ],
         "yaxis": "y2"
        },
        {
         "legendgroup": "start",
         "marker": {
          "color": "rgba(255,255,255,.8)",
          "line": {
           "color": "#dcb0f2",
           "width": 4
          },
          "size": 40,
          "symbol": "circle"
         },
         "mode": "markers",
         "name": "Tokyo",
         "showlegend": false,
         "type": "scatter",
         "x": [
          0
         ],
         "xaxis": "x2",
         "y": [
          "logs/exp_tokyo-10-18-34"
         ],
         "yaxis": "y2"
        },
        {
         "line": {
          "color": "black",
          "dash": "dot",
          "width": 0.5
         },
         "marker": {
          "color": [
           "rgb(126, 197, 236)",
           "rgb(126, 197, 236)",
           "rgb(126, 197, 236)",
           "rgb(126, 197, 236)",
           "rgb(126, 197, 236)",
           "rgb(126, 197, 236)",
           "rgb(126, 197, 236)",
           "pink",
           "pink",
           "pink",
           "rgb(126, 197, 236)",
           "rgb(126, 197, 236)",
           "rgb(126, 197, 236)",
           "rgb(126, 197, 236)",
           "rgb(126, 197, 236)",
           "rgb(126, 197, 236)",
           "rgb(126, 197, 236)",
           "rgb(126, 197, 236)",
           "rgb(126, 197, 236)",
           "rgb(126, 197, 236)"
          ],
          "line": {
           "color": "grey",
           "width": 1.5
          },
          "opacity": 0.85,
          "size": [
           20,
           20,
           20,
           20,
           20,
           20,
           20,
           20,
           20,
           20,
           20,
           20,
           20,
           20,
           20,
           20,
           20,
           20,
           20,
           20
          ]
         },
         "mode": "lines+markers",
         "showlegend": false,
         "type": "scatter",
         "x": [
          0,
          20,
          60,
          62,
          72,
          80,
          82,
          84,
          86,
          88,
          90,
          92,
          94,
          96,
          98,
          102,
          104,
          124,
          126,
          128
         ],
         "xaxis": "x2",
         "y": [
          "logs/exp_tokyo-10-18-34",
          "logs/exp_tokyo-10-18-34",
          "logs/exp_tokyo-10-18-34",
          "logs/exp_tokyo-10-18-34",
          "logs/exp_tokyo-10-18-34",
          "logs/exp_tokyo-10-18-34",
          "logs/exp_tokyo-10-18-34",
          "logs/exp_tokyo-10-18-34",
          "logs/exp_tokyo-10-18-34",
          "logs/exp_tokyo-10-18-34",
          "logs/exp_tokyo-10-18-34",
          "logs/exp_tokyo-10-18-34",
          "logs/exp_tokyo-10-18-34",
          "logs/exp_tokyo-10-18-34",
          "logs/exp_tokyo-10-18-34",
          "logs/exp_tokyo-10-18-34",
          "logs/exp_tokyo-10-18-34",
          "logs/exp_tokyo-10-18-34",
          "logs/exp_tokyo-10-18-34",
          "logs/exp_tokyo-10-18-34"
         ],
         "yaxis": "y2"
        },
        {
         "legendgroup": "start",
         "marker": {
          "color": "rgba(255,255,255,.8)",
          "line": {
           "color": "#dcb0f2",
           "width": 4
          },
          "size": 40,
          "symbol": "circle"
         },
         "mode": "markers",
         "name": "Tokyo",
         "showlegend": false,
         "type": "scatter",
         "x": [
          0
         ],
         "xaxis": "x2",
         "y": [
          "logs/exp_tokyo-12-54-58"
         ],
         "yaxis": "y2"
        },
        {
         "line": {
          "color": "black",
          "dash": "dot",
          "width": 0.5
         },
         "marker": {
          "color": [
           "pink",
           "rgb(126, 197, 236)",
           "rgb(126, 197, 236)",
           "rgb(126, 197, 236)",
           "rgb(126, 197, 236)",
           "rgb(126, 197, 236)",
           "pink",
           "pink",
           "pink",
           "rgb(126, 197, 236)",
           "rgb(126, 197, 236)",
           "rgb(126, 197, 236)",
           "rgb(126, 197, 236)",
           "rgb(126, 197, 236)",
           "rgb(126, 197, 236)",
           "rgb(126, 197, 236)",
           "rgb(126, 197, 236)",
           "rgb(126, 197, 236)",
           "rgb(126, 197, 236)",
           "rgb(126, 197, 236)"
          ],
          "line": {
           "color": "grey",
           "width": 1.5
          },
          "opacity": 0.85,
          "size": [
           20,
           20,
           20,
           20,
           20,
           20,
           20,
           20,
           20,
           20,
           20,
           20,
           20,
           20,
           20,
           20,
           20,
           20,
           20,
           20
          ]
         },
         "mode": "lines+markers",
         "showlegend": false,
         "type": "scatter",
         "x": [
          0,
          2,
          18,
          24,
          54,
          61,
          63,
          65,
          69,
          71,
          79,
          95,
          97,
          99,
          101,
          103,
          105,
          107,
          109,
          111
         ],
         "xaxis": "x2",
         "y": [
          "logs/exp_tokyo-12-54-58",
          "logs/exp_tokyo-12-54-58",
          "logs/exp_tokyo-12-54-58",
          "logs/exp_tokyo-12-54-58",
          "logs/exp_tokyo-12-54-58",
          "logs/exp_tokyo-12-54-58",
          "logs/exp_tokyo-12-54-58",
          "logs/exp_tokyo-12-54-58",
          "logs/exp_tokyo-12-54-58",
          "logs/exp_tokyo-12-54-58",
          "logs/exp_tokyo-12-54-58",
          "logs/exp_tokyo-12-54-58",
          "logs/exp_tokyo-12-54-58",
          "logs/exp_tokyo-12-54-58",
          "logs/exp_tokyo-12-54-58",
          "logs/exp_tokyo-12-54-58",
          "logs/exp_tokyo-12-54-58",
          "logs/exp_tokyo-12-54-58",
          "logs/exp_tokyo-12-54-58",
          "logs/exp_tokyo-12-54-58"
         ],
         "yaxis": "y2"
        },
        {
         "legendgroup": "start",
         "marker": {
          "color": "rgba(255,255,255,.8)",
          "line": {
           "color": "#dcb0f2",
           "width": 4
          },
          "size": 40,
          "symbol": "circle"
         },
         "mode": "markers",
         "name": "Tokyo",
         "showlegend": false,
         "type": "scatter",
         "x": [
          0
         ],
         "xaxis": "x2",
         "y": [
          "logs/exp_tokyo-13-03-50"
         ],
         "yaxis": "y2"
        },
        {
         "line": {
          "color": "black",
          "dash": "dot",
          "width": 0.5
         },
         "marker": {
          "color": [
           "rgb(126, 197, 236)",
           "rgb(126, 197, 236)",
           "rgb(126, 197, 236)",
           "rgb(126, 197, 236)",
           "rgb(126, 197, 236)",
           "rgb(126, 197, 236)",
           "rgb(126, 197, 236)",
           "rgb(126, 197, 236)",
           "rgb(126, 197, 236)",
           "rgb(126, 197, 236)",
           "rgb(126, 197, 236)",
           "rgb(126, 197, 236)",
           "rgb(126, 197, 236)",
           "rgb(126, 197, 236)",
           "rgb(126, 197, 236)",
           "rgb(126, 197, 236)",
           "pink",
           "rgb(126, 197, 236)",
           "rgb(126, 197, 236)",
           "rgb(126, 197, 236)"
          ],
          "line": {
           "color": "grey",
           "width": 1.5
          },
          "opacity": 0.85,
          "size": [
           20,
           20,
           20,
           20,
           20,
           20,
           20,
           20,
           20,
           20,
           20,
           20,
           20,
           20,
           20,
           20,
           20,
           20,
           20,
           20
          ]
         },
         "mode": "lines+markers",
         "showlegend": false,
         "type": "scatter",
         "x": [
          0,
          2,
          4,
          24,
          27,
          29,
          31,
          37,
          47,
          49,
          61,
          87,
          89,
          91,
          117,
          143,
          145,
          171,
          173,
          177
         ],
         "xaxis": "x2",
         "y": [
          "logs/exp_tokyo-13-03-50",
          "logs/exp_tokyo-13-03-50",
          "logs/exp_tokyo-13-03-50",
          "logs/exp_tokyo-13-03-50",
          "logs/exp_tokyo-13-03-50",
          "logs/exp_tokyo-13-03-50",
          "logs/exp_tokyo-13-03-50",
          "logs/exp_tokyo-13-03-50",
          "logs/exp_tokyo-13-03-50",
          "logs/exp_tokyo-13-03-50",
          "logs/exp_tokyo-13-03-50",
          "logs/exp_tokyo-13-03-50",
          "logs/exp_tokyo-13-03-50",
          "logs/exp_tokyo-13-03-50",
          "logs/exp_tokyo-13-03-50",
          "logs/exp_tokyo-13-03-50",
          "logs/exp_tokyo-13-03-50",
          "logs/exp_tokyo-13-03-50",
          "logs/exp_tokyo-13-03-50",
          "logs/exp_tokyo-13-03-50"
         ],
         "yaxis": "y2"
        },
        {
         "legendgroup": "start",
         "marker": {
          "color": "rgba(255,255,255,.8)",
          "line": {
           "color": "#dcb0f2",
           "width": 4
          },
          "size": 40,
          "symbol": "circle"
         },
         "mode": "markers",
         "name": "Tokyo",
         "showlegend": false,
         "type": "scatter",
         "x": [
          0
         ],
         "xaxis": "x2",
         "y": [
          "logs/exp_tokyo-22-21-53"
         ],
         "yaxis": "y2"
        },
        {
         "line": {
          "color": "black",
          "dash": "dot",
          "width": 0.5
         },
         "marker": {
          "color": [
           "rgb(126, 197, 236)",
           "rgb(126, 197, 236)",
           "rgb(126, 197, 236)",
           "rgb(126, 197, 236)",
           "rgb(126, 197, 236)",
           "rgb(126, 197, 236)",
           "rgb(126, 197, 236)",
           "rgb(126, 197, 236)",
           "rgb(126, 197, 236)",
           "rgb(126, 197, 236)",
           "rgb(126, 197, 236)",
           "rgb(126, 197, 236)",
           "rgb(126, 197, 236)",
           "rgb(126, 197, 236)",
           "rgb(126, 197, 236)",
           "rgb(126, 197, 236)",
           "rgb(126, 197, 236)",
           "rgb(126, 197, 236)",
           "rgb(126, 197, 236)",
           "rgb(126, 197, 236)"
          ],
          "line": {
           "color": "grey",
           "width": 1.5
          },
          "opacity": 0.85,
          "size": [
           20,
           20,
           20,
           20,
           20,
           20,
           20,
           20,
           20,
           20,
           20,
           20,
           20,
           20,
           20,
           20,
           20,
           20,
           20,
           20
          ]
         },
         "mode": "lines+markers",
         "showlegend": false,
         "type": "scatter",
         "x": [
          0,
          20,
          40,
          60,
          100,
          102,
          104,
          106,
          108,
          110,
          120,
          122,
          124,
          134,
          136,
          138,
          140,
          150,
          160,
          170
         ],
         "xaxis": "x2",
         "y": [
          "logs/exp_tokyo-22-21-53",
          "logs/exp_tokyo-22-21-53",
          "logs/exp_tokyo-22-21-53",
          "logs/exp_tokyo-22-21-53",
          "logs/exp_tokyo-22-21-53",
          "logs/exp_tokyo-22-21-53",
          "logs/exp_tokyo-22-21-53",
          "logs/exp_tokyo-22-21-53",
          "logs/exp_tokyo-22-21-53",
          "logs/exp_tokyo-22-21-53",
          "logs/exp_tokyo-22-21-53",
          "logs/exp_tokyo-22-21-53",
          "logs/exp_tokyo-22-21-53",
          "logs/exp_tokyo-22-21-53",
          "logs/exp_tokyo-22-21-53",
          "logs/exp_tokyo-22-21-53",
          "logs/exp_tokyo-22-21-53",
          "logs/exp_tokyo-22-21-53",
          "logs/exp_tokyo-22-21-53",
          "logs/exp_tokyo-22-21-53"
         ],
         "yaxis": "y2"
        },
        {
         "legendgroup": "start",
         "marker": {
          "color": "rgba(255,255,255,.8)",
          "line": {
           "color": "#87c55f",
           "width": 4
          },
          "size": 40,
          "symbol": "circle"
         },
         "mode": "markers",
         "name": "Winter",
         "showlegend": false,
         "type": "scatter",
         "x": [
          0
         ],
         "xaxis": "x2",
         "y": [
          "logs/exp_winter-17-26-19"
         ],
         "yaxis": "y2"
        },
        {
         "line": {
          "color": "black",
          "dash": "dot",
          "width": 0.5
         },
         "marker": {
          "color": [
           "rgb(126, 197, 236)",
           "rgb(126, 197, 236)",
           "rgb(126, 197, 236)",
           "pink",
           "rgb(126, 197, 236)",
           "rgb(126, 197, 236)",
           "rgb(126, 197, 236)",
           "rgb(126, 197, 236)",
           "pink",
           "rgb(126, 197, 236)",
           "rgb(126, 197, 236)",
           "rgb(126, 197, 236)",
           "rgb(126, 197, 236)",
           "rgb(126, 197, 236)",
           "rgb(126, 197, 236)",
           "rgb(126, 197, 236)",
           "rgb(126, 197, 236)",
           "rgb(126, 197, 236)",
           "rgb(126, 197, 236)",
           "pink"
          ],
          "line": {
           "color": "grey",
           "width": 1.5
          },
          "opacity": 0.85,
          "size": [
           20,
           20,
           20,
           20,
           20,
           20,
           20,
           20,
           20,
           20,
           20,
           20,
           20,
           20,
           20,
           20,
           20,
           20,
           20,
           20
          ]
         },
         "mode": "lines+markers",
         "showlegend": false,
         "type": "scatter",
         "x": [
          0,
          10,
          12,
          42,
          52,
          54,
          59,
          61,
          63,
          66,
          68,
          70,
          73,
          75,
          77,
          80,
          82,
          84,
          86,
          88
         ],
         "xaxis": "x2",
         "y": [
          "logs/exp_winter-17-26-19",
          "logs/exp_winter-17-26-19",
          "logs/exp_winter-17-26-19",
          "logs/exp_winter-17-26-19",
          "logs/exp_winter-17-26-19",
          "logs/exp_winter-17-26-19",
          "logs/exp_winter-17-26-19",
          "logs/exp_winter-17-26-19",
          "logs/exp_winter-17-26-19",
          "logs/exp_winter-17-26-19",
          "logs/exp_winter-17-26-19",
          "logs/exp_winter-17-26-19",
          "logs/exp_winter-17-26-19",
          "logs/exp_winter-17-26-19",
          "logs/exp_winter-17-26-19",
          "logs/exp_winter-17-26-19",
          "logs/exp_winter-17-26-19",
          "logs/exp_winter-17-26-19",
          "logs/exp_winter-17-26-19",
          "logs/exp_winter-17-26-19"
         ],
         "yaxis": "y2"
        },
        {
         "legendgroup": "start",
         "marker": {
          "color": "rgba(255,255,255,.8)",
          "line": {
           "color": "#87c55f",
           "width": 4
          },
          "size": 40,
          "symbol": "circle"
         },
         "mode": "markers",
         "name": "Winter",
         "showlegend": false,
         "type": "scatter",
         "x": [
          0
         ],
         "xaxis": "x2",
         "y": [
          "logs/exp_winter-20-43-53"
         ],
         "yaxis": "y2"
        },
        {
         "line": {
          "color": "black",
          "dash": "dot",
          "width": 0.5
         },
         "marker": {
          "color": [
           "rgb(126, 197, 236)",
           "rgb(126, 197, 236)",
           "rgb(126, 197, 236)",
           "rgb(126, 197, 236)",
           "rgb(126, 197, 236)",
           "pink",
           "rgb(126, 197, 236)",
           "rgb(126, 197, 236)",
           "rgb(126, 197, 236)",
           "rgb(126, 197, 236)",
           "rgb(126, 197, 236)",
           "rgb(126, 197, 236)",
           "rgb(126, 197, 236)",
           "rgb(126, 197, 236)",
           "rgb(126, 197, 236)",
           "pink",
           "pink",
           "rgb(126, 197, 236)",
           "pink",
           "pink"
          ],
          "line": {
           "color": "grey",
           "width": 1.5
          },
          "opacity": 0.85,
          "size": [
           20,
           20,
           20,
           20,
           20,
           20,
           20,
           20,
           20,
           20,
           20,
           20,
           20,
           20,
           20,
           20,
           20,
           20,
           20,
           20
          ]
         },
         "mode": "lines+markers",
         "showlegend": false,
         "type": "scatter",
         "x": [
          0,
          20,
          22,
          50,
          52,
          102,
          104,
          106,
          109,
          111,
          116,
          128,
          140,
          158,
          188,
          190,
          210,
          212,
          232,
          242
         ],
         "xaxis": "x2",
         "y": [
          "logs/exp_winter-20-43-53",
          "logs/exp_winter-20-43-53",
          "logs/exp_winter-20-43-53",
          "logs/exp_winter-20-43-53",
          "logs/exp_winter-20-43-53",
          "logs/exp_winter-20-43-53",
          "logs/exp_winter-20-43-53",
          "logs/exp_winter-20-43-53",
          "logs/exp_winter-20-43-53",
          "logs/exp_winter-20-43-53",
          "logs/exp_winter-20-43-53",
          "logs/exp_winter-20-43-53",
          "logs/exp_winter-20-43-53",
          "logs/exp_winter-20-43-53",
          "logs/exp_winter-20-43-53",
          "logs/exp_winter-20-43-53",
          "logs/exp_winter-20-43-53",
          "logs/exp_winter-20-43-53",
          "logs/exp_winter-20-43-53",
          "logs/exp_winter-20-43-53"
         ],
         "yaxis": "y2"
        },
        {
         "legendgroup": "start",
         "marker": {
          "color": "rgba(255,255,255,.8)",
          "line": {
           "color": "#87c55f",
           "width": 4
          },
          "size": 40,
          "symbol": "circle"
         },
         "mode": "markers",
         "name": "Winter",
         "showlegend": false,
         "type": "scatter",
         "x": [
          0
         ],
         "xaxis": "x2",
         "y": [
          "logs/exp_winter-21-34-56"
         ],
         "yaxis": "y2"
        },
        {
         "line": {
          "color": "black",
          "dash": "dot",
          "width": 0.5
         },
         "marker": {
          "color": [
           "rgb(126, 197, 236)",
           "rgb(126, 197, 236)",
           "rgb(126, 197, 236)",
           "rgb(126, 197, 236)",
           "rgb(126, 197, 236)",
           "rgb(126, 197, 236)",
           "rgb(126, 197, 236)",
           "rgb(126, 197, 236)",
           "pink",
           "rgb(126, 197, 236)",
           "rgb(126, 197, 236)",
           "rgb(126, 197, 236)",
           "rgb(126, 197, 236)",
           "rgb(126, 197, 236)",
           "rgb(126, 197, 236)",
           "rgb(126, 197, 236)",
           "rgb(126, 197, 236)",
           "rgb(126, 197, 236)",
           "pink",
           "rgb(200,200,200)"
          ],
          "line": {
           "color": "grey",
           "width": 1.5
          },
          "opacity": 0.85,
          "size": [
           20,
           20,
           20,
           20,
           20,
           20,
           20,
           20,
           20,
           20,
           20,
           20,
           20,
           20,
           20,
           20,
           20,
           20,
           20,
           20
          ]
         },
         "mode": "lines+markers",
         "showlegend": false,
         "type": "scatter",
         "x": [
          0,
          2,
          4,
          6,
          16,
          36,
          56,
          96,
          98,
          100,
          140,
          160,
          180,
          182,
          184,
          218,
          220,
          222,
          224,
          226
         ],
         "xaxis": "x2",
         "y": [
          "logs/exp_winter-21-34-56",
          "logs/exp_winter-21-34-56",
          "logs/exp_winter-21-34-56",
          "logs/exp_winter-21-34-56",
          "logs/exp_winter-21-34-56",
          "logs/exp_winter-21-34-56",
          "logs/exp_winter-21-34-56",
          "logs/exp_winter-21-34-56",
          "logs/exp_winter-21-34-56",
          "logs/exp_winter-21-34-56",
          "logs/exp_winter-21-34-56",
          "logs/exp_winter-21-34-56",
          "logs/exp_winter-21-34-56",
          "logs/exp_winter-21-34-56",
          "logs/exp_winter-21-34-56",
          "logs/exp_winter-21-34-56",
          "logs/exp_winter-21-34-56",
          "logs/exp_winter-21-34-56",
          "logs/exp_winter-21-34-56",
          "logs/exp_winter-21-34-56"
         ],
         "yaxis": "y2"
        },
        {
         "legendgroup": "scenarios",
         "marker": {
          "color": "white",
          "line": {
           "color": "#66c5cc",
           "width": 6
          },
          "size": 40,
          "symbol": "circle"
         },
         "mode": "markers",
         "name": "Base",
         "type": "scatter",
         "x": [
          null
         ],
         "y": [
          null
         ]
        },
        {
         "legendgroup": "scenarios",
         "marker": {
          "color": "white",
          "line": {
           "color": "#f6cf71",
           "width": 6
          },
          "size": 40,
          "symbol": "circle"
         },
         "mode": "markers",
         "name": "Male",
         "type": "scatter",
         "x": [
          null
         ],
         "y": [
          null
         ]
        },
        {
         "legendgroup": "scenarios",
         "marker": {
          "color": "white",
          "line": {
           "color": "#f89c74",
           "width": 6
          },
          "size": 40,
          "symbol": "circle"
         },
         "mode": "markers",
         "name": "Night",
         "type": "scatter",
         "x": [
          null
         ],
         "y": [
          null
         ]
        },
        {
         "legendgroup": "scenarios",
         "marker": {
          "color": "white",
          "line": {
           "color": "#dcb0f2",
           "width": 6
          },
          "size": 40,
          "symbol": "circle"
         },
         "mode": "markers",
         "name": "Tokyo",
         "type": "scatter",
         "x": [
          null
         ],
         "y": [
          null
         ]
        },
        {
         "legendgroup": "scenarios",
         "marker": {
          "color": "white",
          "line": {
           "color": "#87c55f",
           "width": 6
          },
          "size": 40,
          "symbol": "circle"
         },
         "mode": "markers",
         "name": "Winter",
         "type": "scatter",
         "x": [
          null
         ],
         "y": [
          null
         ]
        },
        {
         "legendgroup": "reaction",
         "legendgrouptitle": {
          "text": "Reaction Types"
         },
         "marker": {
          "color": "rgb(255, 49, 152)",
          "size": 24
         },
         "mode": "markers",
         "name": "Finish",
         "type": "scatter",
         "x": [
          null
         ],
         "y": [
          null
         ]
        },
        {
         "legendgroup": "reaction",
         "legendgrouptitle": {
          "text": "Reaction Types"
         },
         "marker": {
          "color": "rgb(126, 197, 236)",
          "size": 24
         },
         "mode": "markers",
         "name": "Positive",
         "type": "scatter",
         "x": [
          null
         ],
         "y": [
          null
         ]
        },
        {
         "legendgroup": "reaction",
         "legendgrouptitle": {
          "text": "Reaction Types"
         },
         "marker": {
          "color": "pink",
          "size": 24
         },
         "mode": "markers",
         "name": "Negative",
         "type": "scatter",
         "x": [
          null
         ],
         "y": [
          null
         ]
        }
       ],
       "layout": {
        "annotations": [
         {
          "font": {
           "size": 40
          },
          "showarrow": false,
          "text": "Successful Experiments",
          "x": 0.5,
          "xanchor": "center",
          "xref": "paper",
          "y": 0.9999999999999999,
          "yanchor": "bottom",
          "yref": "paper"
         },
         {
          "font": {
           "size": 40
          },
          "showarrow": false,
          "text": "Failed Experiments",
          "x": 0.5,
          "xanchor": "center",
          "xref": "paper",
          "y": 0.2791414752116082,
          "yanchor": "bottom",
          "yref": "paper"
         }
        ],
        "font": {
         "size": 20
        },
        "height": 2000,
        "legend": {
         "font": {
          "size": 24
         },
         "title": {
          "text": "Scenario"
         },
         "x": 1.1,
         "xanchor": "left",
         "y": 1,
         "yanchor": "top"
        },
        "paper_bgcolor": "white",
        "plot_bgcolor": "rgba(255, 255, 255,1)",
        "template": {
         "data": {
          "bar": [
           {
            "error_x": {
             "color": "#2a3f5f"
            },
            "error_y": {
             "color": "#2a3f5f"
            },
            "marker": {
             "line": {
              "color": "#E5ECF6",
              "width": 0.5
             },
             "pattern": {
              "fillmode": "overlay",
              "size": 10,
              "solidity": 0.2
             }
            },
            "type": "bar"
           }
          ],
          "barpolar": [
           {
            "marker": {
             "line": {
              "color": "#E5ECF6",
              "width": 0.5
             },
             "pattern": {
              "fillmode": "overlay",
              "size": 10,
              "solidity": 0.2
             }
            },
            "type": "barpolar"
           }
          ],
          "carpet": [
           {
            "aaxis": {
             "endlinecolor": "#2a3f5f",
             "gridcolor": "white",
             "linecolor": "white",
             "minorgridcolor": "white",
             "startlinecolor": "#2a3f5f"
            },
            "baxis": {
             "endlinecolor": "#2a3f5f",
             "gridcolor": "white",
             "linecolor": "white",
             "minorgridcolor": "white",
             "startlinecolor": "#2a3f5f"
            },
            "type": "carpet"
           }
          ],
          "choropleth": [
           {
            "colorbar": {
             "outlinewidth": 0,
             "ticks": ""
            },
            "type": "choropleth"
           }
          ],
          "contour": [
           {
            "colorbar": {
             "outlinewidth": 0,
             "ticks": ""
            },
            "colorscale": [
             [
              0,
              "#0d0887"
             ],
             [
              0.1111111111111111,
              "#46039f"
             ],
             [
              0.2222222222222222,
              "#7201a8"
             ],
             [
              0.3333333333333333,
              "#9c179e"
             ],
             [
              0.4444444444444444,
              "#bd3786"
             ],
             [
              0.5555555555555556,
              "#d8576b"
             ],
             [
              0.6666666666666666,
              "#ed7953"
             ],
             [
              0.7777777777777778,
              "#fb9f3a"
             ],
             [
              0.8888888888888888,
              "#fdca26"
             ],
             [
              1,
              "#f0f921"
             ]
            ],
            "type": "contour"
           }
          ],
          "contourcarpet": [
           {
            "colorbar": {
             "outlinewidth": 0,
             "ticks": ""
            },
            "type": "contourcarpet"
           }
          ],
          "heatmap": [
           {
            "colorbar": {
             "outlinewidth": 0,
             "ticks": ""
            },
            "colorscale": [
             [
              0,
              "#0d0887"
             ],
             [
              0.1111111111111111,
              "#46039f"
             ],
             [
              0.2222222222222222,
              "#7201a8"
             ],
             [
              0.3333333333333333,
              "#9c179e"
             ],
             [
              0.4444444444444444,
              "#bd3786"
             ],
             [
              0.5555555555555556,
              "#d8576b"
             ],
             [
              0.6666666666666666,
              "#ed7953"
             ],
             [
              0.7777777777777778,
              "#fb9f3a"
             ],
             [
              0.8888888888888888,
              "#fdca26"
             ],
             [
              1,
              "#f0f921"
             ]
            ],
            "type": "heatmap"
           }
          ],
          "heatmapgl": [
           {
            "colorbar": {
             "outlinewidth": 0,
             "ticks": ""
            },
            "colorscale": [
             [
              0,
              "#0d0887"
             ],
             [
              0.1111111111111111,
              "#46039f"
             ],
             [
              0.2222222222222222,
              "#7201a8"
             ],
             [
              0.3333333333333333,
              "#9c179e"
             ],
             [
              0.4444444444444444,
              "#bd3786"
             ],
             [
              0.5555555555555556,
              "#d8576b"
             ],
             [
              0.6666666666666666,
              "#ed7953"
             ],
             [
              0.7777777777777778,
              "#fb9f3a"
             ],
             [
              0.8888888888888888,
              "#fdca26"
             ],
             [
              1,
              "#f0f921"
             ]
            ],
            "type": "heatmapgl"
           }
          ],
          "histogram": [
           {
            "marker": {
             "pattern": {
              "fillmode": "overlay",
              "size": 10,
              "solidity": 0.2
             }
            },
            "type": "histogram"
           }
          ],
          "histogram2d": [
           {
            "colorbar": {
             "outlinewidth": 0,
             "ticks": ""
            },
            "colorscale": [
             [
              0,
              "#0d0887"
             ],
             [
              0.1111111111111111,
              "#46039f"
             ],
             [
              0.2222222222222222,
              "#7201a8"
             ],
             [
              0.3333333333333333,
              "#9c179e"
             ],
             [
              0.4444444444444444,
              "#bd3786"
             ],
             [
              0.5555555555555556,
              "#d8576b"
             ],
             [
              0.6666666666666666,
              "#ed7953"
             ],
             [
              0.7777777777777778,
              "#fb9f3a"
             ],
             [
              0.8888888888888888,
              "#fdca26"
             ],
             [
              1,
              "#f0f921"
             ]
            ],
            "type": "histogram2d"
           }
          ],
          "histogram2dcontour": [
           {
            "colorbar": {
             "outlinewidth": 0,
             "ticks": ""
            },
            "colorscale": [
             [
              0,
              "#0d0887"
             ],
             [
              0.1111111111111111,
              "#46039f"
             ],
             [
              0.2222222222222222,
              "#7201a8"
             ],
             [
              0.3333333333333333,
              "#9c179e"
             ],
             [
              0.4444444444444444,
              "#bd3786"
             ],
             [
              0.5555555555555556,
              "#d8576b"
             ],
             [
              0.6666666666666666,
              "#ed7953"
             ],
             [
              0.7777777777777778,
              "#fb9f3a"
             ],
             [
              0.8888888888888888,
              "#fdca26"
             ],
             [
              1,
              "#f0f921"
             ]
            ],
            "type": "histogram2dcontour"
           }
          ],
          "mesh3d": [
           {
            "colorbar": {
             "outlinewidth": 0,
             "ticks": ""
            },
            "type": "mesh3d"
           }
          ],
          "parcoords": [
           {
            "line": {
             "colorbar": {
              "outlinewidth": 0,
              "ticks": ""
             }
            },
            "type": "parcoords"
           }
          ],
          "pie": [
           {
            "automargin": true,
            "type": "pie"
           }
          ],
          "scatter": [
           {
            "fillpattern": {
             "fillmode": "overlay",
             "size": 10,
             "solidity": 0.2
            },
            "type": "scatter"
           }
          ],
          "scatter3d": [
           {
            "line": {
             "colorbar": {
              "outlinewidth": 0,
              "ticks": ""
             }
            },
            "marker": {
             "colorbar": {
              "outlinewidth": 0,
              "ticks": ""
             }
            },
            "type": "scatter3d"
           }
          ],
          "scattercarpet": [
           {
            "marker": {
             "colorbar": {
              "outlinewidth": 0,
              "ticks": ""
             }
            },
            "type": "scattercarpet"
           }
          ],
          "scattergeo": [
           {
            "marker": {
             "colorbar": {
              "outlinewidth": 0,
              "ticks": ""
             }
            },
            "type": "scattergeo"
           }
          ],
          "scattergl": [
           {
            "marker": {
             "colorbar": {
              "outlinewidth": 0,
              "ticks": ""
             }
            },
            "type": "scattergl"
           }
          ],
          "scattermapbox": [
           {
            "marker": {
             "colorbar": {
              "outlinewidth": 0,
              "ticks": ""
             }
            },
            "type": "scattermapbox"
           }
          ],
          "scatterpolar": [
           {
            "marker": {
             "colorbar": {
              "outlinewidth": 0,
              "ticks": ""
             }
            },
            "type": "scatterpolar"
           }
          ],
          "scatterpolargl": [
           {
            "marker": {
             "colorbar": {
              "outlinewidth": 0,
              "ticks": ""
             }
            },
            "type": "scatterpolargl"
           }
          ],
          "scatterternary": [
           {
            "marker": {
             "colorbar": {
              "outlinewidth": 0,
              "ticks": ""
             }
            },
            "type": "scatterternary"
           }
          ],
          "surface": [
           {
            "colorbar": {
             "outlinewidth": 0,
             "ticks": ""
            },
            "colorscale": [
             [
              0,
              "#0d0887"
             ],
             [
              0.1111111111111111,
              "#46039f"
             ],
             [
              0.2222222222222222,
              "#7201a8"
             ],
             [
              0.3333333333333333,
              "#9c179e"
             ],
             [
              0.4444444444444444,
              "#bd3786"
             ],
             [
              0.5555555555555556,
              "#d8576b"
             ],
             [
              0.6666666666666666,
              "#ed7953"
             ],
             [
              0.7777777777777778,
              "#fb9f3a"
             ],
             [
              0.8888888888888888,
              "#fdca26"
             ],
             [
              1,
              "#f0f921"
             ]
            ],
            "type": "surface"
           }
          ],
          "table": [
           {
            "cells": {
             "fill": {
              "color": "#EBF0F8"
             },
             "line": {
              "color": "white"
             }
            },
            "header": {
             "fill": {
              "color": "#C8D4E3"
             },
             "line": {
              "color": "white"
             }
            },
            "type": "table"
           }
          ]
         },
         "layout": {
          "annotationdefaults": {
           "arrowcolor": "#2a3f5f",
           "arrowhead": 0,
           "arrowwidth": 1
          },
          "autotypenumbers": "strict",
          "coloraxis": {
           "colorbar": {
            "outlinewidth": 0,
            "ticks": ""
           }
          },
          "colorscale": {
           "diverging": [
            [
             0,
             "#8e0152"
            ],
            [
             0.1,
             "#c51b7d"
            ],
            [
             0.2,
             "#de77ae"
            ],
            [
             0.3,
             "#f1b6da"
            ],
            [
             0.4,
             "#fde0ef"
            ],
            [
             0.5,
             "#f7f7f7"
            ],
            [
             0.6,
             "#e6f5d0"
            ],
            [
             0.7,
             "#b8e186"
            ],
            [
             0.8,
             "#7fbc41"
            ],
            [
             0.9,
             "#4d9221"
            ],
            [
             1,
             "#276419"
            ]
           ],
           "sequential": [
            [
             0,
             "#0d0887"
            ],
            [
             0.1111111111111111,
             "#46039f"
            ],
            [
             0.2222222222222222,
             "#7201a8"
            ],
            [
             0.3333333333333333,
             "#9c179e"
            ],
            [
             0.4444444444444444,
             "#bd3786"
            ],
            [
             0.5555555555555556,
             "#d8576b"
            ],
            [
             0.6666666666666666,
             "#ed7953"
            ],
            [
             0.7777777777777778,
             "#fb9f3a"
            ],
            [
             0.8888888888888888,
             "#fdca26"
            ],
            [
             1,
             "#f0f921"
            ]
           ],
           "sequentialminus": [
            [
             0,
             "#0d0887"
            ],
            [
             0.1111111111111111,
             "#46039f"
            ],
            [
             0.2222222222222222,
             "#7201a8"
            ],
            [
             0.3333333333333333,
             "#9c179e"
            ],
            [
             0.4444444444444444,
             "#bd3786"
            ],
            [
             0.5555555555555556,
             "#d8576b"
            ],
            [
             0.6666666666666666,
             "#ed7953"
            ],
            [
             0.7777777777777778,
             "#fb9f3a"
            ],
            [
             0.8888888888888888,
             "#fdca26"
            ],
            [
             1,
             "#f0f921"
            ]
           ]
          },
          "colorway": [
           "#636efa",
           "#EF553B",
           "#00cc96",
           "#ab63fa",
           "#FFA15A",
           "#19d3f3",
           "#FF6692",
           "#B6E880",
           "#FF97FF",
           "#FECB52"
          ],
          "font": {
           "color": "#2a3f5f"
          },
          "geo": {
           "bgcolor": "white",
           "lakecolor": "white",
           "landcolor": "#E5ECF6",
           "showlakes": true,
           "showland": true,
           "subunitcolor": "white"
          },
          "hoverlabel": {
           "align": "left"
          },
          "hovermode": "closest",
          "mapbox": {
           "style": "light"
          },
          "paper_bgcolor": "white",
          "plot_bgcolor": "#E5ECF6",
          "polar": {
           "angularaxis": {
            "gridcolor": "white",
            "linecolor": "white",
            "ticks": ""
           },
           "bgcolor": "#E5ECF6",
           "radialaxis": {
            "gridcolor": "white",
            "linecolor": "white",
            "ticks": ""
           }
          },
          "scene": {
           "xaxis": {
            "backgroundcolor": "#E5ECF6",
            "gridcolor": "white",
            "gridwidth": 2,
            "linecolor": "white",
            "showbackground": true,
            "ticks": "",
            "zerolinecolor": "white"
           },
           "yaxis": {
            "backgroundcolor": "#E5ECF6",
            "gridcolor": "white",
            "gridwidth": 2,
            "linecolor": "white",
            "showbackground": true,
            "ticks": "",
            "zerolinecolor": "white"
           },
           "zaxis": {
            "backgroundcolor": "#E5ECF6",
            "gridcolor": "white",
            "gridwidth": 2,
            "linecolor": "white",
            "showbackground": true,
            "ticks": "",
            "zerolinecolor": "white"
           }
          },
          "shapedefaults": {
           "line": {
            "color": "#2a3f5f"
           }
          },
          "ternary": {
           "aaxis": {
            "gridcolor": "white",
            "linecolor": "white",
            "ticks": ""
           },
           "baxis": {
            "gridcolor": "white",
            "linecolor": "white",
            "ticks": ""
           },
           "bgcolor": "#E5ECF6",
           "caxis": {
            "gridcolor": "white",
            "linecolor": "white",
            "ticks": ""
           }
          },
          "title": {
           "x": 0.05
          },
          "xaxis": {
           "automargin": true,
           "gridcolor": "white",
           "linecolor": "white",
           "ticks": "",
           "title": {
            "standoff": 15
           },
           "zerolinecolor": "white",
           "zerolinewidth": 2
          },
          "yaxis": {
           "automargin": true,
           "gridcolor": "white",
           "linecolor": "white",
           "ticks": "",
           "title": {
            "standoff": 15
           },
           "zerolinecolor": "white",
           "zerolinewidth": 2
          }
         }
        },
        "width": 3000,
        "xaxis": {
         "anchor": "y",
         "domain": [
          0,
          1
         ],
         "matches": "x2",
         "showticklabels": false
        },
        "xaxis2": {
         "anchor": "y2",
         "domain": [
          0,
          1
         ]
        },
        "yaxis": {
         "anchor": "x",
         "domain": [
          0.3291414752116082,
          0.9999999999999999
         ],
         "tickfont": {
          "size": 10
         }
        },
        "yaxis2": {
         "anchor": "x2",
         "domain": [
          0,
          0.2791414752116082
         ],
         "tickfont": {
          "size": 10
         }
        }
       }
      }
     },
     "metadata": {},
     "output_type": "display_data"
    }
   ],
   "source": [
    "# Define colors for start points and reactions\n",
    "start_colors = {\n",
    "    \"base\": \"#66c5cc\", \"male\": \"#f6cf71\", \"night\": \"#f89c74\",\n",
    "    \"tokyo\": \"#dcb0f2\", \"winter\": \"#87c55f\"\n",
    "}\n",
    "reaction_colors = {\n",
    "    \"Finish\": \"rgb(255, 49, 152)\",\n",
    "    \"Positive\": \"rgb(126, 197, 236)\",\n",
    "    \"Negative\": \"pink\"\n",
    "}\n",
    "\n",
    "\n",
    "def add_traces_with_lines(df, fig, row, col):\n",
    "    for exp_name in df['exp_name'].unique():\n",
    "        df_exp = df[df['exp_name'] == exp_name]\n",
    "\n",
    "        x_values = df_exp.apply(\n",
    "            lambda x: x[\"action_value\"] if x[\"action_type\"] == \"forward\" else 2,\n",
    "            axis=1\n",
    "        ).cumsum()\n",
    "        x_values -= x_values.iloc[0]\n",
    "\n",
    "        cleaned_name = exp_name.split(\"/logs/\")[-1]\n",
    "        exp_type = next((key for key in start_colors.keys()\n",
    "                        if key in cleaned_name), None)\n",
    "        start_color = start_colors.get(exp_type, \"gray\")\n",
    "\n",
    "        colors = [\n",
    "            'rgb(126, 197, 236)' if sentiment == 'positive' else\n",
    "            'rgb(200,200,200)' if sentiment == 'neutral' else 'pink'\n",
    "            for sentiment in df_exp['sentiment']\n",
    "        ]\n",
    "        colors = ['rgb(255, 49, 152)' if action == 'finish' else color\n",
    "                  for action, color in zip(df_exp['action_type'], colors)]\n",
    "\n",
    "        y_values = [cleaned_name] * len(df_exp)\n",
    "\n",
    "        # Add starting point marker\n",
    "        fig.add_trace(go.Scatter(\n",
    "            x=[x_values.iloc[0]], y=[cleaned_name],\n",
    "            mode='markers',\n",
    "            marker=dict(size=40, symbol='circle', color='rgba(255,255,255,.8)',\n",
    "                        line=dict(width=4, color=start_color)),\n",
    "            name=exp_type.capitalize() if exp_type else \"Unknown\",\n",
    "            legendgroup=\"start\",\n",
    "            showlegend=False,\n",
    "        ), row=row, col=col)\n",
    "\n",
    "        # Add main line and markers\n",
    "        fig.add_trace(go.Scatter(\n",
    "            x=x_values, y=y_values,\n",
    "            mode='lines+markers',\n",
    "            marker=dict(\n",
    "                line=dict(width=1.5, color='grey'),\n",
    "                color=colors,\n",
    "                size=[20 if action !=\n",
    "                      'finish' else 30 for action in df_exp['action_type']],\n",
    "                opacity=.85\n",
    "            ),\n",
    "            line=dict(color='black', width=0.5, dash='dot'),\n",
    "            showlegend=False\n",
    "        ), row=row, col=col)\n",
    "\n",
    "\n",
    "# Calculate subplot heights\n",
    "successful_height = 40 * len(df_successful_exp['exp_name'].unique())\n",
    "failed_height = 45 * len(df_failed_exp['exp_name'].unique())\n",
    "total_height = successful_height + failed_height\n",
    "row_heights = [successful_height / total_height, failed_height / total_height]\n",
    "\n",
    "# Create subplot figure\n",
    "fig = make_subplots(\n",
    "    rows=2, cols=1,\n",
    "    shared_xaxes=True,\n",
    "    row_heights=row_heights,\n",
    "    vertical_spacing=0.05,\n",
    "    subplot_titles=[\"Successful Experiments\", \"Failed Experiments\"],\n",
    ")\n",
    "\n",
    "# Add traces for successful and failed experiments\n",
    "add_traces_with_lines(df_successful_exp, fig, row=1, col=1)\n",
    "add_traces_with_lines(df_failed_exp, fig, row=2, col=1)\n",
    "\n",
    "# Update layout\n",
    "fig.update_layout(\n",
    "    height=resolution_y,\n",
    "    width=resolution_x,\n",
    "    font=dict(size=20),\n",
    "    plot_bgcolor='rgba(255, 255, 255,1)',\n",
    "    paper_bgcolor='white',\n",
    "    legend=dict(\n",
    "        title=\"Scenario\",\n",
    "        # itemsizing=\"constant\",\n",
    "        font=dict(size=24),\n",
    "        x=1.1, y=1,\n",
    "        xanchor='left', yanchor='top',\n",
    "\n",
    "    ),\n",
    "    yaxis=dict(tickfont=dict(size=10)),\n",
    "    yaxis2=dict(tickfont=dict(size=10)),\n",
    "    annotations=[dict(font=dict(size=40))]\n",
    "    \n",
    ")\n",
    "\n",
    "# Add scenario types to legend\n",
    "for scenario, color in start_colors.items():\n",
    "    fig.add_trace(go.Scatter(\n",
    "        x=[None], y=[None],\n",
    "        mode='markers',\n",
    "        marker=dict(size=40, symbol='circle', color='white',\n",
    "                    line=dict(width=6, color=color)),\n",
    "        name=scenario.capitalize(),\n",
    "        legendgroup=\"scenarios\"\n",
    "    ))\n",
    "\n",
    "# Add reaction types to legend\n",
    "for name, color in reaction_colors.items():\n",
    "    fig.add_trace(go.Scatter(\n",
    "        x=[None], y=[None],\n",
    "        mode='markers',\n",
    "        marker=dict(color=color, size=24),\n",
    "        name=name,\n",
    "        legendgroup=\"reaction\",\n",
    "        legendgrouptitle_text='Reaction Types',\n",
    "        \n",
    "    ))\n",
    "\n",
    "# Show and save figure\n",
    "fig.show()\n",
    "fig.write_image(\"ta-sentiment.png\",\n",
    "                width=resolution_x, height=resolution_y, engine=\"kaleido\")"
   ]
  },
  {
   "cell_type": "code",
   "execution_count": null,
   "metadata": {},
   "outputs": [],
   "source": []
  }
 ],
 "metadata": {
  "kernelspec": {
   "display_name": "travelagent",
   "language": "python",
   "name": "python3"
  },
  "language_info": {
   "codemirror_mode": {
    "name": "ipython",
    "version": 3
   },
   "file_extension": ".py",
   "mimetype": "text/x-python",
   "name": "python",
   "nbconvert_exporter": "python",
   "pygments_lexer": "ipython3",
   "version": "3.10.16"
  }
 },
 "nbformat": 4,
 "nbformat_minor": 2
}
